{
  "nbformat": 4,
  "nbformat_minor": 0,
  "metadata": {
    "orig_nbformat": 4,
    "language_info": {
      "name": "python",
      "version": "3.8.5",
      "mimetype": "text/x-python",
      "codemirror_mode": {
        "name": "ipython",
        "version": 3
      },
      "pygments_lexer": "ipython3",
      "nbconvert_exporter": "python",
      "file_extension": ".py"
    },
    "kernelspec": {
      "name": "python3",
      "display_name": "Python 3.8.5 64-bit ('base': conda)"
    },
    "interpreter": {
      "hash": "524d636d59c6b2112627e6c30b816bd1b3aeade150146fdc441a08affc9a3198"
    },
    "colab": {
      "name": "Lista11.ipynb",
      "provenance": [],
      "collapsed_sections": []
    }
  },
  "cells": [
    {
      "cell_type": "markdown",
      "metadata": {
        "id": "fGYbZAKV-NUP"
      },
      "source": [
        "# Lista 11 - Aprendizado de Máquina\n",
        "\n",
        "## Aluno: Ruan Felipe de Almeida Silva - 397048"
      ]
    },
    {
      "cell_type": "code",
      "metadata": {
        "colab": {
          "base_uri": "https://localhost:8080/"
        },
        "id": "g4nenDGQ0hkd",
        "outputId": "4e261d3a-254b-4c97-8559-7deed626890a"
      },
      "source": [
        "from google.colab import drive\n",
        "drive.mount('/content/drive')"
      ],
      "execution_count": 243,
      "outputs": [
        {
          "output_type": "stream",
          "text": [
            "Drive already mounted at /content/drive; to attempt to forcibly remount, call drive.mount(\"/content/drive\", force_remount=True).\n"
          ],
          "name": "stdout"
        }
      ]
    },
    {
      "cell_type": "code",
      "metadata": {
        "id": "cerjO3P0-NUU"
      },
      "source": [
        "import pandas as pd\n",
        "import numpy as np\n",
        "from sklearn import metrics\n",
        "import matplotlib.pyplot as plt\n",
        "from sklearn import model_selection\n",
        "\n",
        "from sklearn import ensemble\n",
        "from xgboost import XGBClassifier \n",
        "from lightgbm import LGBMClassifier\n",
        "from catboost import CatBoostClassifier\n",
        "from sklearn import linear_model\n",
        "from sklearn import neural_network"
      ],
      "execution_count": 244,
      "outputs": []
    },
    {
      "cell_type": "markdown",
      "metadata": {
        "id": "rur7UOng-NUX"
      },
      "source": [
        "### Resolva o problema de classificação binária sobre o dataset \"Pima Indians Diabetes Database\". \n"
      ]
    },
    {
      "cell_type": "markdown",
      "metadata": {
        "id": "UWhZD8Ps-NUY"
      },
      "source": [
        "#### Importação dos dados."
      ]
    },
    {
      "cell_type": "code",
      "metadata": {
        "id": "no11vPzZ-NUZ",
        "colab": {
          "base_uri": "https://localhost:8080/",
          "height": 419
        },
        "outputId": "e963c8b1-2cfd-46f2-ea20-a54861028d32"
      },
      "source": [
        "# dataframe = pd.read_csv('diabetes.csv', delimiter=',')\n",
        "dataframe = pd.read_csv('/content/drive/MyDrive/ufc - ec/Aprend_Maquina/datasets/diabetes.csv', delimiter=',')\n",
        "dataframe"
      ],
      "execution_count": 245,
      "outputs": [
        {
          "output_type": "execute_result",
          "data": {
            "text/html": [
              "<div>\n",
              "<style scoped>\n",
              "    .dataframe tbody tr th:only-of-type {\n",
              "        vertical-align: middle;\n",
              "    }\n",
              "\n",
              "    .dataframe tbody tr th {\n",
              "        vertical-align: top;\n",
              "    }\n",
              "\n",
              "    .dataframe thead th {\n",
              "        text-align: right;\n",
              "    }\n",
              "</style>\n",
              "<table border=\"1\" class=\"dataframe\">\n",
              "  <thead>\n",
              "    <tr style=\"text-align: right;\">\n",
              "      <th></th>\n",
              "      <th>Pregnancies</th>\n",
              "      <th>Glucose</th>\n",
              "      <th>BloodPressure</th>\n",
              "      <th>SkinThickness</th>\n",
              "      <th>Insulin</th>\n",
              "      <th>BMI</th>\n",
              "      <th>DiabetesPedigreeFunction</th>\n",
              "      <th>Age</th>\n",
              "      <th>Outcome</th>\n",
              "    </tr>\n",
              "  </thead>\n",
              "  <tbody>\n",
              "    <tr>\n",
              "      <th>0</th>\n",
              "      <td>6</td>\n",
              "      <td>148</td>\n",
              "      <td>72</td>\n",
              "      <td>35</td>\n",
              "      <td>0</td>\n",
              "      <td>33.6</td>\n",
              "      <td>0.627</td>\n",
              "      <td>50</td>\n",
              "      <td>1</td>\n",
              "    </tr>\n",
              "    <tr>\n",
              "      <th>1</th>\n",
              "      <td>1</td>\n",
              "      <td>85</td>\n",
              "      <td>66</td>\n",
              "      <td>29</td>\n",
              "      <td>0</td>\n",
              "      <td>26.6</td>\n",
              "      <td>0.351</td>\n",
              "      <td>31</td>\n",
              "      <td>0</td>\n",
              "    </tr>\n",
              "    <tr>\n",
              "      <th>2</th>\n",
              "      <td>8</td>\n",
              "      <td>183</td>\n",
              "      <td>64</td>\n",
              "      <td>0</td>\n",
              "      <td>0</td>\n",
              "      <td>23.3</td>\n",
              "      <td>0.672</td>\n",
              "      <td>32</td>\n",
              "      <td>1</td>\n",
              "    </tr>\n",
              "    <tr>\n",
              "      <th>3</th>\n",
              "      <td>1</td>\n",
              "      <td>89</td>\n",
              "      <td>66</td>\n",
              "      <td>23</td>\n",
              "      <td>94</td>\n",
              "      <td>28.1</td>\n",
              "      <td>0.167</td>\n",
              "      <td>21</td>\n",
              "      <td>0</td>\n",
              "    </tr>\n",
              "    <tr>\n",
              "      <th>4</th>\n",
              "      <td>0</td>\n",
              "      <td>137</td>\n",
              "      <td>40</td>\n",
              "      <td>35</td>\n",
              "      <td>168</td>\n",
              "      <td>43.1</td>\n",
              "      <td>2.288</td>\n",
              "      <td>33</td>\n",
              "      <td>1</td>\n",
              "    </tr>\n",
              "    <tr>\n",
              "      <th>...</th>\n",
              "      <td>...</td>\n",
              "      <td>...</td>\n",
              "      <td>...</td>\n",
              "      <td>...</td>\n",
              "      <td>...</td>\n",
              "      <td>...</td>\n",
              "      <td>...</td>\n",
              "      <td>...</td>\n",
              "      <td>...</td>\n",
              "    </tr>\n",
              "    <tr>\n",
              "      <th>763</th>\n",
              "      <td>10</td>\n",
              "      <td>101</td>\n",
              "      <td>76</td>\n",
              "      <td>48</td>\n",
              "      <td>180</td>\n",
              "      <td>32.9</td>\n",
              "      <td>0.171</td>\n",
              "      <td>63</td>\n",
              "      <td>0</td>\n",
              "    </tr>\n",
              "    <tr>\n",
              "      <th>764</th>\n",
              "      <td>2</td>\n",
              "      <td>122</td>\n",
              "      <td>70</td>\n",
              "      <td>27</td>\n",
              "      <td>0</td>\n",
              "      <td>36.8</td>\n",
              "      <td>0.340</td>\n",
              "      <td>27</td>\n",
              "      <td>0</td>\n",
              "    </tr>\n",
              "    <tr>\n",
              "      <th>765</th>\n",
              "      <td>5</td>\n",
              "      <td>121</td>\n",
              "      <td>72</td>\n",
              "      <td>23</td>\n",
              "      <td>112</td>\n",
              "      <td>26.2</td>\n",
              "      <td>0.245</td>\n",
              "      <td>30</td>\n",
              "      <td>0</td>\n",
              "    </tr>\n",
              "    <tr>\n",
              "      <th>766</th>\n",
              "      <td>1</td>\n",
              "      <td>126</td>\n",
              "      <td>60</td>\n",
              "      <td>0</td>\n",
              "      <td>0</td>\n",
              "      <td>30.1</td>\n",
              "      <td>0.349</td>\n",
              "      <td>47</td>\n",
              "      <td>1</td>\n",
              "    </tr>\n",
              "    <tr>\n",
              "      <th>767</th>\n",
              "      <td>1</td>\n",
              "      <td>93</td>\n",
              "      <td>70</td>\n",
              "      <td>31</td>\n",
              "      <td>0</td>\n",
              "      <td>30.4</td>\n",
              "      <td>0.315</td>\n",
              "      <td>23</td>\n",
              "      <td>0</td>\n",
              "    </tr>\n",
              "  </tbody>\n",
              "</table>\n",
              "<p>768 rows × 9 columns</p>\n",
              "</div>"
            ],
            "text/plain": [
              "     Pregnancies  Glucose  ...  Age  Outcome\n",
              "0              6      148  ...   50        1\n",
              "1              1       85  ...   31        0\n",
              "2              8      183  ...   32        1\n",
              "3              1       89  ...   21        0\n",
              "4              0      137  ...   33        1\n",
              "..           ...      ...  ...  ...      ...\n",
              "763           10      101  ...   63        0\n",
              "764            2      122  ...   27        0\n",
              "765            5      121  ...   30        0\n",
              "766            1      126  ...   47        1\n",
              "767            1       93  ...   23        0\n",
              "\n",
              "[768 rows x 9 columns]"
            ]
          },
          "metadata": {
            "tags": []
          },
          "execution_count": 245
        }
      ]
    },
    {
      "cell_type": "markdown",
      "metadata": {
        "id": "srWOq5-D-NUa"
      },
      "source": [
        "#### Verificando os tipos de dados do dataset.\n",
        "\n"
      ]
    },
    {
      "cell_type": "code",
      "metadata": {
        "id": "7FVIUcr9-NUb",
        "colab": {
          "base_uri": "https://localhost:8080/"
        },
        "outputId": "3ccad220-5844-407c-b80d-c1eb4543b80c"
      },
      "source": [
        "dataframe.dtypes"
      ],
      "execution_count": 246,
      "outputs": [
        {
          "output_type": "execute_result",
          "data": {
            "text/plain": [
              "Pregnancies                   int64\n",
              "Glucose                       int64\n",
              "BloodPressure                 int64\n",
              "SkinThickness                 int64\n",
              "Insulin                       int64\n",
              "BMI                         float64\n",
              "DiabetesPedigreeFunction    float64\n",
              "Age                           int64\n",
              "Outcome                       int64\n",
              "dtype: object"
            ]
          },
          "metadata": {
            "tags": []
          },
          "execution_count": 246
        }
      ]
    },
    {
      "cell_type": "markdown",
      "metadata": {
        "id": "s0utzUN6-NUc"
      },
      "source": [
        "#### Verificando se existem valores faltantes no conjunto de dados."
      ]
    },
    {
      "cell_type": "code",
      "metadata": {
        "id": "FuVl0WT_-NUd",
        "colab": {
          "base_uri": "https://localhost:8080/"
        },
        "outputId": "9f126f0a-3c01-42be-a0d6-89fe98e84171"
      },
      "source": [
        "dataframe.isna().sum()"
      ],
      "execution_count": 247,
      "outputs": [
        {
          "output_type": "execute_result",
          "data": {
            "text/plain": [
              "Pregnancies                 0\n",
              "Glucose                     0\n",
              "BloodPressure               0\n",
              "SkinThickness               0\n",
              "Insulin                     0\n",
              "BMI                         0\n",
              "DiabetesPedigreeFunction    0\n",
              "Age                         0\n",
              "Outcome                     0\n",
              "dtype: int64"
            ]
          },
          "metadata": {
            "tags": []
          },
          "execution_count": 247
        }
      ]
    },
    {
      "cell_type": "markdown",
      "metadata": {
        "id": "JLcmbNwoyWej"
      },
      "source": [
        "#### Exibindo algumas informações sobre os dados do dataset."
      ]
    },
    {
      "cell_type": "code",
      "metadata": {
        "colab": {
          "base_uri": "https://localhost:8080/",
          "height": 297
        },
        "id": "G7lgvzYsyRxf",
        "outputId": "7946a235-659e-4412-d439-6672b2dc7b02"
      },
      "source": [
        "dataframe.describe()"
      ],
      "execution_count": 248,
      "outputs": [
        {
          "output_type": "execute_result",
          "data": {
            "text/html": [
              "<div>\n",
              "<style scoped>\n",
              "    .dataframe tbody tr th:only-of-type {\n",
              "        vertical-align: middle;\n",
              "    }\n",
              "\n",
              "    .dataframe tbody tr th {\n",
              "        vertical-align: top;\n",
              "    }\n",
              "\n",
              "    .dataframe thead th {\n",
              "        text-align: right;\n",
              "    }\n",
              "</style>\n",
              "<table border=\"1\" class=\"dataframe\">\n",
              "  <thead>\n",
              "    <tr style=\"text-align: right;\">\n",
              "      <th></th>\n",
              "      <th>Pregnancies</th>\n",
              "      <th>Glucose</th>\n",
              "      <th>BloodPressure</th>\n",
              "      <th>SkinThickness</th>\n",
              "      <th>Insulin</th>\n",
              "      <th>BMI</th>\n",
              "      <th>DiabetesPedigreeFunction</th>\n",
              "      <th>Age</th>\n",
              "      <th>Outcome</th>\n",
              "    </tr>\n",
              "  </thead>\n",
              "  <tbody>\n",
              "    <tr>\n",
              "      <th>count</th>\n",
              "      <td>768.000000</td>\n",
              "      <td>768.000000</td>\n",
              "      <td>768.000000</td>\n",
              "      <td>768.000000</td>\n",
              "      <td>768.000000</td>\n",
              "      <td>768.000000</td>\n",
              "      <td>768.000000</td>\n",
              "      <td>768.000000</td>\n",
              "      <td>768.000000</td>\n",
              "    </tr>\n",
              "    <tr>\n",
              "      <th>mean</th>\n",
              "      <td>3.845052</td>\n",
              "      <td>120.894531</td>\n",
              "      <td>69.105469</td>\n",
              "      <td>20.536458</td>\n",
              "      <td>79.799479</td>\n",
              "      <td>31.992578</td>\n",
              "      <td>0.471876</td>\n",
              "      <td>33.240885</td>\n",
              "      <td>0.348958</td>\n",
              "    </tr>\n",
              "    <tr>\n",
              "      <th>std</th>\n",
              "      <td>3.369578</td>\n",
              "      <td>31.972618</td>\n",
              "      <td>19.355807</td>\n",
              "      <td>15.952218</td>\n",
              "      <td>115.244002</td>\n",
              "      <td>7.884160</td>\n",
              "      <td>0.331329</td>\n",
              "      <td>11.760232</td>\n",
              "      <td>0.476951</td>\n",
              "    </tr>\n",
              "    <tr>\n",
              "      <th>min</th>\n",
              "      <td>0.000000</td>\n",
              "      <td>0.000000</td>\n",
              "      <td>0.000000</td>\n",
              "      <td>0.000000</td>\n",
              "      <td>0.000000</td>\n",
              "      <td>0.000000</td>\n",
              "      <td>0.078000</td>\n",
              "      <td>21.000000</td>\n",
              "      <td>0.000000</td>\n",
              "    </tr>\n",
              "    <tr>\n",
              "      <th>25%</th>\n",
              "      <td>1.000000</td>\n",
              "      <td>99.000000</td>\n",
              "      <td>62.000000</td>\n",
              "      <td>0.000000</td>\n",
              "      <td>0.000000</td>\n",
              "      <td>27.300000</td>\n",
              "      <td>0.243750</td>\n",
              "      <td>24.000000</td>\n",
              "      <td>0.000000</td>\n",
              "    </tr>\n",
              "    <tr>\n",
              "      <th>50%</th>\n",
              "      <td>3.000000</td>\n",
              "      <td>117.000000</td>\n",
              "      <td>72.000000</td>\n",
              "      <td>23.000000</td>\n",
              "      <td>30.500000</td>\n",
              "      <td>32.000000</td>\n",
              "      <td>0.372500</td>\n",
              "      <td>29.000000</td>\n",
              "      <td>0.000000</td>\n",
              "    </tr>\n",
              "    <tr>\n",
              "      <th>75%</th>\n",
              "      <td>6.000000</td>\n",
              "      <td>140.250000</td>\n",
              "      <td>80.000000</td>\n",
              "      <td>32.000000</td>\n",
              "      <td>127.250000</td>\n",
              "      <td>36.600000</td>\n",
              "      <td>0.626250</td>\n",
              "      <td>41.000000</td>\n",
              "      <td>1.000000</td>\n",
              "    </tr>\n",
              "    <tr>\n",
              "      <th>max</th>\n",
              "      <td>17.000000</td>\n",
              "      <td>199.000000</td>\n",
              "      <td>122.000000</td>\n",
              "      <td>99.000000</td>\n",
              "      <td>846.000000</td>\n",
              "      <td>67.100000</td>\n",
              "      <td>2.420000</td>\n",
              "      <td>81.000000</td>\n",
              "      <td>1.000000</td>\n",
              "    </tr>\n",
              "  </tbody>\n",
              "</table>\n",
              "</div>"
            ],
            "text/plain": [
              "       Pregnancies     Glucose  ...         Age     Outcome\n",
              "count   768.000000  768.000000  ...  768.000000  768.000000\n",
              "mean      3.845052  120.894531  ...   33.240885    0.348958\n",
              "std       3.369578   31.972618  ...   11.760232    0.476951\n",
              "min       0.000000    0.000000  ...   21.000000    0.000000\n",
              "25%       1.000000   99.000000  ...   24.000000    0.000000\n",
              "50%       3.000000  117.000000  ...   29.000000    0.000000\n",
              "75%       6.000000  140.250000  ...   41.000000    1.000000\n",
              "max      17.000000  199.000000  ...   81.000000    1.000000\n",
              "\n",
              "[8 rows x 9 columns]"
            ]
          },
          "metadata": {
            "tags": []
          },
          "execution_count": 248
        }
      ]
    },
    {
      "cell_type": "markdown",
      "metadata": {
        "id": "aD2wu9yv-NUf"
      },
      "source": [
        "#### Dividindo o dataset nas features e no target e verificando os valores de target desse dataset."
      ]
    },
    {
      "cell_type": "code",
      "metadata": {
        "id": "etbbQaID-NUf",
        "colab": {
          "base_uri": "https://localhost:8080/"
        },
        "outputId": "4050f84c-2749-4824-d09e-e694ba8100bc"
      },
      "source": [
        "X = dataframe.drop('Outcome', axis=1)\n",
        "y = dataframe['Outcome']\n",
        "np.unique(y)"
      ],
      "execution_count": 249,
      "outputs": [
        {
          "output_type": "execute_result",
          "data": {
            "text/plain": [
              "array([0, 1])"
            ]
          },
          "metadata": {
            "tags": []
          },
          "execution_count": 249
        }
      ]
    },
    {
      "cell_type": "markdown",
      "metadata": {
        "id": "7tzaRJsc-NUg"
      },
      "source": [
        "#### Exibindo a quantidade de amostras existente em cada classe."
      ]
    },
    {
      "cell_type": "code",
      "metadata": {
        "id": "AWw0ZNFB-NUh",
        "colab": {
          "base_uri": "https://localhost:8080/"
        },
        "outputId": "1dfb9b3d-aa67-4413-a720-91a821634f08"
      },
      "source": [
        "y.value_counts()"
      ],
      "execution_count": 250,
      "outputs": [
        {
          "output_type": "execute_result",
          "data": {
            "text/plain": [
              "0    500\n",
              "1    268\n",
              "Name: Outcome, dtype: int64"
            ]
          },
          "metadata": {
            "tags": []
          },
          "execution_count": 250
        }
      ]
    },
    {
      "cell_type": "markdown",
      "metadata": {
        "id": "x7xDcs9syzKE"
      },
      "source": [
        "#### Exibindo os percentuais de amostras existentes em cada classe."
      ]
    },
    {
      "cell_type": "code",
      "metadata": {
        "colab": {
          "base_uri": "https://localhost:8080/"
        },
        "id": "O5TEkUgnywnz",
        "outputId": "cc619fa8-7acb-4a89-8145-5fac93dc5096"
      },
      "source": [
        "y.value_counts(normalize=True)"
      ],
      "execution_count": 251,
      "outputs": [
        {
          "output_type": "execute_result",
          "data": {
            "text/plain": [
              "0    0.651042\n",
              "1    0.348958\n",
              "Name: Outcome, dtype: float64"
            ]
          },
          "metadata": {
            "tags": []
          },
          "execution_count": 251
        }
      ]
    },
    {
      "cell_type": "markdown",
      "metadata": {
        "id": "QInutcVX-NUi"
      },
      "source": [
        "### 1. Separe os dados em treino (80%) e teste (20%)."
      ]
    },
    {
      "cell_type": "code",
      "metadata": {
        "id": "ptWjuy3w-NUi",
        "colab": {
          "base_uri": "https://localhost:8080/"
        },
        "outputId": "6bbeeaa8-5fda-4295-9208-ab8da7d7a242"
      },
      "source": [
        "X_values = X.values\n",
        "y_values = y.values\n",
        "X_train, X_test, y_train, y_test = model_selection.train_test_split(X_values, y_values, test_size=0.2, random_state=742, stratify=y_values)\n",
        "print(\"Conjunto x de treino:\", X_train.shape[0])\n",
        "print(\"Conjunto x de teste:\", X_test.shape[0])\n",
        "print(\"Conjunto y de treino:\", y_train.shape[0])\n",
        "print(\"Conjunto y de teste:\", y_test.shape[0])"
      ],
      "execution_count": 252,
      "outputs": [
        {
          "output_type": "stream",
          "text": [
            "Conjunto x de treino: 614\n",
            "Conjunto x de teste: 154\n",
            "Conjunto y de treino: 614\n",
            "Conjunto y de teste: 154\n"
          ],
          "name": "stdout"
        }
      ]
    },
    {
      "cell_type": "markdown",
      "metadata": {
        "id": "rAHTPPFK-NUj"
      },
      "source": [
        "### 2. Crie os modelos a seguir sobre o conjunto de treino e calcule F1-Score sobre os dados de treino e de teste usando:\n",
        "\n",
        "1. Random Forest.\n",
        "2. Gradient Boosting do Scikit Learn\n",
        "3. XGBoost - https://xgboost.readthedocs.io/\n",
        "4. LightGBM - https://lightgbm.readthedocs.io/\n",
        "5. CatBoost - https://catboost.ai/\n",
        "6. Perceptron - https://scikit-learn.org/stable/modules/generated/sklearn.linear_model.Perceptron.html\n",
        "7. Multi-layer Perceptron - https://scikit-learn.org/stable/modules/generated/sklearn.neural_network.MLPClassifier.html"
      ]
    },
    {
      "cell_type": "markdown",
      "metadata": {
        "id": "2STiXjT0BjYh"
      },
      "source": [
        "#### Instalação das bibliotecas."
      ]
    },
    {
      "cell_type": "code",
      "metadata": {
        "id": "c9JkPxIK0jwZ"
      },
      "source": [
        "#!pip install xgboost\n",
        "#!pip install lightgbm\n",
        "#!pip install catboost"
      ],
      "execution_count": 253,
      "outputs": []
    },
    {
      "cell_type": "markdown",
      "metadata": {
        "id": "tI_j6px2BqfB"
      },
      "source": [
        "#### Criação dos modelos de classificadores."
      ]
    },
    {
      "cell_type": "code",
      "metadata": {
        "id": "pFboUUEeB1me"
      },
      "source": [
        "rf = ensemble.RandomForestClassifier(random_state=42, n_estimators=400, criterion='gini', max_depth=4, min_samples_leaf=30)\n",
        "gb = ensemble.GradientBoostingClassifier(random_state=42, n_estimators=100, learning_rate=0.01, max_depth=4, min_samples_leaf=20)\n",
        "xgb = XGBClassifier(random_state=42, max_depth=7, learning_rate=0.01, n_estimators=250)\n",
        "lgbm = LGBMClassifier(random_state=42, learning_rate=0.01, n_estimators=250)\n",
        "cb = CatBoostClassifier(random_state=42, verbose=False, learning_rate=0.01, iterations=350)\n",
        "percep = linear_model.Perceptron(random_state=42)\n",
        "mlp = neural_network.MLPClassifier(random_state=42, max_iter=200, learning_rate='adaptive', learning_rate_init=0.01, activation='relu')\n",
        "\n",
        "models = [rf, gb, xgb, lgbm, cb, percep, mlp]\n",
        "labels = ['Random Forest', 'Gardient Boosting', 'XGBoost', 'LightGBM', 'CatBoost', 'Perceptron', 'Multi-layer Perceptron']\n"
      ],
      "execution_count": 254,
      "outputs": []
    },
    {
      "cell_type": "markdown",
      "metadata": {
        "id": "-n_Wu7VhCz_R"
      },
      "source": [
        "#### Treinando os modelos criados e observando a métrica f1-score atingida por cada um ao aplicar os dados de treino e os dados de teste.\n"
      ]
    },
    {
      "cell_type": "code",
      "metadata": {
        "colab": {
          "base_uri": "https://localhost:8080/"
        },
        "id": "T1EVNhM5DMVj",
        "outputId": "f012cdc6-f990-43ec-a2cc-3b84b5d0d274"
      },
      "source": [
        "results = []\n",
        "\n",
        "for model, label in zip(models, labels):\n",
        "    model.fit(X_train, y_train)\n",
        "    y_pred_train = model.predict(X_train)\n",
        "    y_pred_test = model.predict(X_test)\n",
        "\n",
        "    f1score_train = metrics.f1_score(y_train, y_pred_train, average='weighted')\n",
        "    f1score_test = metrics.f1_score(y_test, y_pred_test, average='weighted')\n",
        "    \n",
        "    print(f'Model: {label}')\n",
        "    print(f'F1-Score: Train: {f1score_train}')\n",
        "    print(f'F1-Score Test: {f1score_test}')\n",
        "    print(\"--------------------------------------------------\\n\")\n",
        "\n",
        "    results.append({'Model': label, 'F1-Score Train': f1score_train, 'F1-Score Test': f1score_test})\n",
        "    "
      ],
      "execution_count": 255,
      "outputs": [
        {
          "output_type": "stream",
          "text": [
            "Model: Random Forest\n",
            "F1-Score: Train: 0.7681713835908348\n",
            "F1-Score Test: 0.8059194433357721\n",
            "--------------------------------------------------\n",
            "\n",
            "Model: Gardient Boosting\n",
            "F1-Score: Train: 0.7999565268938397\n",
            "F1-Score Test: 0.7791497113820854\n",
            "--------------------------------------------------\n",
            "\n",
            "Model: XGBoost\n",
            "F1-Score: Train: 0.9541334059877978\n",
            "F1-Score Test: 0.7711598746081505\n",
            "--------------------------------------------------\n",
            "\n",
            "Model: LightGBM\n",
            "F1-Score: Train: 0.9020622717645257\n",
            "F1-Score Test: 0.765185682988784\n",
            "--------------------------------------------------\n",
            "\n",
            "Model: CatBoost\n",
            "F1-Score: Train: 0.8749709472816557\n",
            "F1-Score Test: 0.7925345773589287\n",
            "--------------------------------------------------\n",
            "\n",
            "Model: Perceptron\n",
            "F1-Score: Train: 0.6394671447868538\n",
            "F1-Score Test: 0.6573238297967025\n",
            "--------------------------------------------------\n",
            "\n",
            "Model: Multi-layer Perceptron\n",
            "F1-Score: Train: 0.6961297285252942\n",
            "F1-Score Test: 0.6993530030179245\n",
            "--------------------------------------------------\n",
            "\n"
          ],
          "name": "stdout"
        }
      ]
    },
    {
      "cell_type": "markdown",
      "metadata": {
        "id": "Dw7xPIRgYIMQ"
      },
      "source": [
        "#### Criando um dataframe com os resultados de F1-Scores obtidos em cada modelo e exibindo esse dataframe ordenando decrescentemente pelo F1-Score do conjunto de teste.\n"
      ]
    },
    {
      "cell_type": "code",
      "metadata": {
        "colab": {
          "base_uri": "https://localhost:8080/",
          "height": 266
        },
        "id": "o0pYtxvAHdP3",
        "outputId": "52b67e00-98e6-43eb-9137-7317ffdd6a72"
      },
      "source": [
        "df_models = pd.DataFrame(results)\n",
        "df_models_ord = df_models.sort_values(by='F1-Score Test', ascending=False)\n",
        "df_models_ord"
      ],
      "execution_count": 256,
      "outputs": [
        {
          "output_type": "execute_result",
          "data": {
            "text/html": [
              "<div>\n",
              "<style scoped>\n",
              "    .dataframe tbody tr th:only-of-type {\n",
              "        vertical-align: middle;\n",
              "    }\n",
              "\n",
              "    .dataframe tbody tr th {\n",
              "        vertical-align: top;\n",
              "    }\n",
              "\n",
              "    .dataframe thead th {\n",
              "        text-align: right;\n",
              "    }\n",
              "</style>\n",
              "<table border=\"1\" class=\"dataframe\">\n",
              "  <thead>\n",
              "    <tr style=\"text-align: right;\">\n",
              "      <th></th>\n",
              "      <th>Model</th>\n",
              "      <th>F1-Score Train</th>\n",
              "      <th>F1-Score Test</th>\n",
              "    </tr>\n",
              "  </thead>\n",
              "  <tbody>\n",
              "    <tr>\n",
              "      <th>0</th>\n",
              "      <td>Random Forest</td>\n",
              "      <td>0.768171</td>\n",
              "      <td>0.805919</td>\n",
              "    </tr>\n",
              "    <tr>\n",
              "      <th>4</th>\n",
              "      <td>CatBoost</td>\n",
              "      <td>0.874971</td>\n",
              "      <td>0.792535</td>\n",
              "    </tr>\n",
              "    <tr>\n",
              "      <th>1</th>\n",
              "      <td>Gardient Boosting</td>\n",
              "      <td>0.799957</td>\n",
              "      <td>0.779150</td>\n",
              "    </tr>\n",
              "    <tr>\n",
              "      <th>2</th>\n",
              "      <td>XGBoost</td>\n",
              "      <td>0.954133</td>\n",
              "      <td>0.771160</td>\n",
              "    </tr>\n",
              "    <tr>\n",
              "      <th>3</th>\n",
              "      <td>LightGBM</td>\n",
              "      <td>0.902062</td>\n",
              "      <td>0.765186</td>\n",
              "    </tr>\n",
              "    <tr>\n",
              "      <th>6</th>\n",
              "      <td>Multi-layer Perceptron</td>\n",
              "      <td>0.696130</td>\n",
              "      <td>0.699353</td>\n",
              "    </tr>\n",
              "    <tr>\n",
              "      <th>5</th>\n",
              "      <td>Perceptron</td>\n",
              "      <td>0.639467</td>\n",
              "      <td>0.657324</td>\n",
              "    </tr>\n",
              "  </tbody>\n",
              "</table>\n",
              "</div>"
            ],
            "text/plain": [
              "                    Model  F1-Score Train  F1-Score Test\n",
              "0           Random Forest        0.768171       0.805919\n",
              "4                CatBoost        0.874971       0.792535\n",
              "1       Gardient Boosting        0.799957       0.779150\n",
              "2                 XGBoost        0.954133       0.771160\n",
              "3                LightGBM        0.902062       0.765186\n",
              "6  Multi-layer Perceptron        0.696130       0.699353\n",
              "5              Perceptron        0.639467       0.657324"
            ]
          },
          "metadata": {
            "tags": []
          },
          "execution_count": 256
        }
      ]
    },
    {
      "cell_type": "markdown",
      "metadata": {
        "id": "Ej3y3UAEYZOC"
      },
      "source": [
        "#### Plotando um gráfico de barras com os valores de F1-Score de treino e teste alcançados em cada modelo."
      ]
    },
    {
      "cell_type": "code",
      "metadata": {
        "colab": {
          "base_uri": "https://localhost:8080/",
          "height": 350
        },
        "id": "8OyZ9iK_QF9R",
        "outputId": "bda17db7-072e-4785-b902-937a4e31865d"
      },
      "source": [
        "plt.figure(figsize = (14, 5))\n",
        "\n",
        "barWidth = 0.35\n",
        "\n",
        "df_models_ord_train = df_models.sort_values(by='F1-Score Train', ascending=False)\n",
        "\n",
        "p1 = np.arange(df_models_ord_train.shape[0])\n",
        "p2 = [p + barWidth for p in p1]\n",
        "\n",
        "plt.bar(p1, df_models_ord_train['F1-Score Train'], color='green', width=barWidth, label='F1-Score Train')\n",
        "plt.bar(p2, df_models_ord_train['F1-Score Test'], color='red', width=barWidth, label='F1-Score Test')\n",
        "\n",
        "for value, position in zip(df_models_ord_train['F1-Score Train'], p1):\n",
        "    plt.annotate(f'{round(value, 3)}', xy=(position, value), va='bottom', ha='center', color='green')\n",
        "\n",
        "for value, position in zip(df_models_ord_train['F1-Score Test'], p2):\n",
        "    plt.annotate(f'{round(value, 3)}', xy=(position, value), va='bottom', ha='center', color='red')\n",
        "\n",
        "plt.legend()\n",
        "plt.xlabel('Models')\n",
        "plt.ylabel('F1-Score Values')\n",
        "plt.title('Métrica F1-Score dos modelos utilizados')\n",
        "plt.xticks((p1+p2)/2, df_models_ord_train['Model'])\n",
        "plt.show()"
      ],
      "execution_count": 257,
      "outputs": [
        {
          "output_type": "display_data",
          "data": {
            "image/png": "[encoded data removed]",
            "text/plain": [
              "<Figure size 1008x360 with 1 Axes>"
            ]
          },
          "metadata": {
            "tags": [],
            "needs_background": "light"
          }
        }
      ]
    }
  ]
}