{
 "cells": [
  {
   "cell_type": "markdown",
   "metadata": {
    "id": "lgW3QwJa_Lc7"
   },
   "source": [
    "# Lista 06 - Aprendizado de Máquina\n",
    "\n",
    "## Aluno: Ruan Felipe de Almeida Silva - 397048"
   ]
  },
  {
   "cell_type": "code",
   "execution_count": 1,
   "metadata": {
    "id": "aD-fWOVSA_uf"
   },
   "outputs": [],
   "source": [
    "import pandas as pd\n",
    "import numpy as np\n",
    "from sklearn import metrics\n",
    "from sklearn.neighbors import KNeighborsClassifier\n",
    "from sklearn.model_selection import train_test_split\n"
   ]
  },
  {
   "cell_type": "markdown",
   "metadata": {
    "id": "Q3G4mD9bAPBj"
   },
   "source": [
    "#### 1. Implemente diferentes funções em Python, usando o NumPy, para calcular:\n"
   ]
  },
  {
   "cell_type": "markdown",
   "metadata": {
    "id": "LELaz6LW1-vc"
   },
   "source": [
    "#### a) Acurácia"
   ]
  },
  {
   "cell_type": "code",
   "execution_count": 3,
   "metadata": {
    "id": "cTAVKYNw2rS3"
   },
   "outputs": [],
   "source": [
    "def metricsAccuracy(y_true, y_pred):\n",
    "    matrizConfusao = metrics.confusion_matrix(y_true, y_pred)\n",
    "    accuracy = np.sum(np.diagonal(matrizConfusao)) / np.sum(matrizConfusao)\n",
    "    return accuracy"
   ]
  },
  {
   "cell_type": "markdown",
   "metadata": {
    "id": "u_57kiNv2JFb"
   },
   "source": [
    "#### b) Precisão"
   ]
  },
  {
   "cell_type": "code",
   "execution_count": 4,
   "metadata": {
    "id": "HXi0Wa424Z9f"
   },
   "outputs": [],
   "source": [
    "def metricsPrecision(y_true, y_pred):\n",
    "     matrizConfusao = metrics.confusion_matrix(y_true, y_pred)\n",
    "     qtdLabels = matrizConfusao.shape[0]\n",
    "     precisions, totalLabel = [], []\n",
    "     for i in range(0, qtdLabels):\n",
    "         totalLabel.append(np.sum(matrizConfusao[i,:]))\n",
    "         if (np.sum(matrizConfusao[:,i]) == 0):\n",
    "            precision = 0\n",
    "         else:\n",
    "            precision = matrizConfusao[i,i] / np.sum(matrizConfusao[:,i])   \n",
    "         precisions.append(precision)\n",
    "     avg = np.average(precisions, weights=totalLabel)\n",
    "     return avg"
   ]
  },
  {
   "cell_type": "markdown",
   "metadata": {
    "id": "MKqXUys_2JX8"
   },
   "source": [
    "#### c) Recall"
   ]
  },
  {
   "cell_type": "code",
   "execution_count": 5,
   "metadata": {
    "id": "-3_aFm96KNla"
   },
   "outputs": [],
   "source": [
    "def metricsRecall(y_true, y_pred):\n",
    "     matrizConfusao = metrics.confusion_matrix(y_true, y_pred)\n",
    "     qtdLabels = matrizConfusao.shape[0]\n",
    "     recalls, totalLabel = [], []\n",
    "     for i in range(0, qtdLabels):\n",
    "         totalLabel.append(np.sum(matrizConfusao[i,:]))\n",
    "         if (np.sum(matrizConfusao[i,:]) == 0):\n",
    "            recall = 0\n",
    "         else:\n",
    "            recall = matrizConfusao[i,i] / np.sum(matrizConfusao[i,:])   \n",
    "         recalls.append(recall)\n",
    "     avg = np.average(recalls, weights=totalLabel)\n",
    "     return avg"
   ]
  },
  {
   "cell_type": "markdown",
   "metadata": {
    "id": "SexpylwP2JeL"
   },
   "source": [
    "#### d) F1-Measure"
   ]
  },
  {
   "cell_type": "code",
   "execution_count": 6,
   "metadata": {
    "id": "60QLqFj1SZ65"
   },
   "outputs": [],
   "source": [
    "def metricsF1Measure(y_true, y_pred):\n",
    "     matrizConfusao = metrics.confusion_matrix(y_true, y_pred)\n",
    "     qtdLabels = matrizConfusao.shape[0]\n",
    "     f1Measures, totalLabel = [], []\n",
    "     for i in range(0, qtdLabels):\n",
    "         totalLabel.append(np.sum(matrizConfusao[i,:]))\n",
    "         if (np.sum(matrizConfusao[:,i]) == 0):\n",
    "            precision = 0\n",
    "         else:\n",
    "            precision = matrizConfusao[i,i] / np.sum(matrizConfusao[:,i])\n",
    "         if (np.sum(matrizConfusao[i,:]) == 0):\n",
    "            recall = 0\n",
    "         else:\n",
    "            recall = matrizConfusao[i,i] / np.sum(matrizConfusao[i,:])   \n",
    "         if (precision == 0 and recall == 0) :\n",
    "            f1Measure = 0\n",
    "         else:\n",
    "            f1Measure = 2 * precision * recall / (precision + recall)\n",
    "         f1Measures.append(f1Measure)\n",
    "     avg = np.average(f1Measures, weights=totalLabel)\n",
    "     return avg"
   ]
  },
  {
   "cell_type": "markdown",
   "metadata": {
    "id": "nVtzPvN82JiH"
   },
   "source": [
    "#### e) MAE"
   ]
  },
  {
   "cell_type": "code",
   "execution_count": 7,
   "metadata": {
    "id": "Bizsg3pOYIuq"
   },
   "outputs": [],
   "source": [
    "def metricsMAE(y_true, y_pred):\n",
    "    errors = np.abs(y_true - y_pred)\n",
    "    mean = np.mean(errors)\n",
    "    return mean"
   ]
  },
  {
   "cell_type": "markdown",
   "metadata": {
    "id": "ct-_c8s22JrK"
   },
   "source": [
    "#### f) RMSE"
   ]
  },
  {
   "cell_type": "code",
   "execution_count": 8,
   "metadata": {
    "id": "mMhpmGRDaxNH"
   },
   "outputs": [],
   "source": [
    "def metricsRMSE(y_true, y_pred):\n",
    "    errorsSquared = (y_true - y_pred) ** 2\n",
    "    mean = np.mean(errorsSquared)\n",
    "    rootMse = np.sqrt(mean)\n",
    "    return rootMse"
   ]
  },
  {
   "cell_type": "markdown",
   "metadata": {
    "id": "JjCYtIihcG-n"
   },
   "source": [
    "#### 2. Calcule Acurácia, Precisão, Recall e F1-Measure para sua solução da questão 2 da Lista 04. Caso não tenha feito a questão 2 da Lista 04 terá que fazê-la agora."
   ]
  },
  {
   "cell_type": "code",
   "execution_count": 9,
   "metadata": {
    "colab": {
     "base_uri": "https://localhost:8080/",
     "height": 453
    },
    "id": "1Mz0EGmyJ85c",
    "outputId": "93d83cf4-2008-4de3-90bd-ac6c9fedd9e7"
   },
   "outputs": [
    {
     "output_type": "execute_result",
     "data": {
      "text/plain": [
       "      fixed acidity  volatile acidity  citric acid  residual sugar  chlorides  \\\n",
       "0               7.0              0.27         0.36            20.7      0.045   \n",
       "1               6.3              0.30         0.34             1.6      0.049   \n",
       "2               8.1              0.28         0.40             6.9      0.050   \n",
       "3               7.2              0.23         0.32             8.5      0.058   \n",
       "4               7.2              0.23         0.32             8.5      0.058   \n",
       "...             ...               ...          ...             ...        ...   \n",
       "4893            6.2              0.21         0.29             1.6      0.039   \n",
       "4894            6.6              0.32         0.36             8.0      0.047   \n",
       "4895            6.5              0.24         0.19             1.2      0.041   \n",
       "4896            5.5              0.29         0.30             1.1      0.022   \n",
       "4897            6.0              0.21         0.38             0.8      0.020   \n",
       "\n",
       "      free sulfur dioxide  total sulfur dioxide  density    pH  sulphates  \\\n",
       "0                    45.0                 170.0  1.00100  3.00       0.45   \n",
       "1                    14.0                 132.0  0.99400  3.30       0.49   \n",
       "2                    30.0                  97.0  0.99510  3.26       0.44   \n",
       "3                    47.0                 186.0  0.99560  3.19       0.40   \n",
       "4                    47.0                 186.0  0.99560  3.19       0.40   \n",
       "...                   ...                   ...      ...   ...        ...   \n",
       "4893                 24.0                  92.0  0.99114  3.27       0.50   \n",
       "4894                 57.0                 168.0  0.99490  3.15       0.46   \n",
       "4895                 30.0                 111.0  0.99254  2.99       0.46   \n",
       "4896                 20.0                 110.0  0.98869  3.34       0.38   \n",
       "4897                 22.0                  98.0  0.98941  3.26       0.32   \n",
       "\n",
       "      alcohol  quality  \n",
       "0         8.8        6  \n",
       "1         9.5        6  \n",
       "2        10.1        6  \n",
       "3         9.9        6  \n",
       "4         9.9        6  \n",
       "...       ...      ...  \n",
       "4893     11.2        6  \n",
       "4894      9.6        5  \n",
       "4895      9.4        6  \n",
       "4896     12.8        7  \n",
       "4897     11.8        6  \n",
       "\n",
       "[4898 rows x 12 columns]"
      ],
      "text/html": "<div>\n<style scoped>\n    .dataframe tbody tr th:only-of-type {\n        vertical-align: middle;\n    }\n\n    .dataframe tbody tr th {\n        vertical-align: top;\n    }\n\n    .dataframe thead th {\n        text-align: right;\n    }\n</style>\n<table border=\"1\" class=\"dataframe\">\n  <thead>\n    <tr style=\"text-align: right;\">\n      <th></th>\n      <th>fixed acidity</th>\n      <th>volatile acidity</th>\n      <th>citric acid</th>\n      <th>residual sugar</th>\n      <th>chlorides</th>\n      <th>free sulfur dioxide</th>\n      <th>total sulfur dioxide</th>\n      <th>density</th>\n      <th>pH</th>\n      <th>sulphates</th>\n      <th>alcohol</th>\n      <th>quality</th>\n    </tr>\n  </thead>\n  <tbody>\n    <tr>\n      <th>0</th>\n      <td>7.0</td>\n      <td>0.27</td>\n      <td>0.36</td>\n      <td>20.7</td>\n      <td>0.045</td>\n      <td>45.0</td>\n      <td>170.0</td>\n      <td>1.00100</td>\n      <td>3.00</td>\n      <td>0.45</td>\n      <td>8.8</td>\n      <td>6</td>\n    </tr>\n    <tr>\n      <th>1</th>\n      <td>6.3</td>\n      <td>0.30</td>\n      <td>0.34</td>\n      <td>1.6</td>\n      <td>0.049</td>\n      <td>14.0</td>\n      <td>132.0</td>\n      <td>0.99400</td>\n      <td>3.30</td>\n      <td>0.49</td>\n      <td>9.5</td>\n      <td>6</td>\n    </tr>\n    <tr>\n      <th>2</th>\n      <td>8.1</td>\n      <td>0.28</td>\n      <td>0.40</td>\n      <td>6.9</td>\n      <td>0.050</td>\n      <td>30.0</td>\n      <td>97.0</td>\n      <td>0.99510</td>\n      <td>3.26</td>\n      <td>0.44</td>\n      <td>10.1</td>\n      <td>6</td>\n    </tr>\n    <tr>\n      <th>3</th>\n      <td>7.2</td>\n      <td>0.23</td>\n      <td>0.32</td>\n      <td>8.5</td>\n      <td>0.058</td>\n      <td>47.0</td>\n      <td>186.0</td>\n      <td>0.99560</td>\n      <td>3.19</td>\n      <td>0.40</td>\n      <td>9.9</td>\n      <td>6</td>\n    </tr>\n    <tr>\n      <th>4</th>\n      <td>7.2</td>\n      <td>0.23</td>\n      <td>0.32</td>\n      <td>8.5</td>\n      <td>0.058</td>\n      <td>47.0</td>\n      <td>186.0</td>\n      <td>0.99560</td>\n      <td>3.19</td>\n      <td>0.40</td>\n      <td>9.9</td>\n      <td>6</td>\n    </tr>\n    <tr>\n      <th>...</th>\n      <td>...</td>\n      <td>...</td>\n      <td>...</td>\n      <td>...</td>\n      <td>...</td>\n      <td>...</td>\n      <td>...</td>\n      <td>...</td>\n      <td>...</td>\n      <td>...</td>\n      <td>...</td>\n      <td>...</td>\n    </tr>\n    <tr>\n      <th>4893</th>\n      <td>6.2</td>\n      <td>0.21</td>\n      <td>0.29</td>\n      <td>1.6</td>\n      <td>0.039</td>\n      <td>24.0</td>\n      <td>92.0</td>\n      <td>0.99114</td>\n      <td>3.27</td>\n      <td>0.50</td>\n      <td>11.2</td>\n      <td>6</td>\n    </tr>\n    <tr>\n      <th>4894</th>\n      <td>6.6</td>\n      <td>0.32</td>\n      <td>0.36</td>\n      <td>8.0</td>\n      <td>0.047</td>\n      <td>57.0</td>\n      <td>168.0</td>\n      <td>0.99490</td>\n      <td>3.15</td>\n      <td>0.46</td>\n      <td>9.6</td>\n      <td>5</td>\n    </tr>\n    <tr>\n      <th>4895</th>\n      <td>6.5</td>\n      <td>0.24</td>\n      <td>0.19</td>\n      <td>1.2</td>\n      <td>0.041</td>\n      <td>30.0</td>\n      <td>111.0</td>\n      <td>0.99254</td>\n      <td>2.99</td>\n      <td>0.46</td>\n      <td>9.4</td>\n      <td>6</td>\n    </tr>\n    <tr>\n      <th>4896</th>\n      <td>5.5</td>\n      <td>0.29</td>\n      <td>0.30</td>\n      <td>1.1</td>\n      <td>0.022</td>\n      <td>20.0</td>\n      <td>110.0</td>\n      <td>0.98869</td>\n      <td>3.34</td>\n      <td>0.38</td>\n      <td>12.8</td>\n      <td>7</td>\n    </tr>\n    <tr>\n      <th>4897</th>\n      <td>6.0</td>\n      <td>0.21</td>\n      <td>0.38</td>\n      <td>0.8</td>\n      <td>0.020</td>\n      <td>22.0</td>\n      <td>98.0</td>\n      <td>0.98941</td>\n      <td>3.26</td>\n      <td>0.32</td>\n      <td>11.8</td>\n      <td>6</td>\n    </tr>\n  </tbody>\n</table>\n<p>4898 rows × 12 columns</p>\n</div>"
     },
     "metadata": {},
     "execution_count": 9
    }
   ],
   "source": [
    "#dataframe = pd.read_csv('/content/drive/MyDrive/ufc - ec/Aprend_Maquina/datasets/winequality-white.csv', delimiter=';')\n",
    "dataframe = pd.read_csv('winequality-white.csv', delimiter=';')\n",
    "dataframe"
   ]
  },
  {
   "cell_type": "code",
   "execution_count": 10,
   "metadata": {
    "colab": {
     "base_uri": "https://localhost:8080/"
    },
    "id": "Z6duatDGK-N1",
    "outputId": "8771699f-a612-40e4-fd29-887973af5e97"
   },
   "outputs": [
    {
     "output_type": "stream",
     "name": "stdout",
     "text": [
      "Conjunto x de treino: 3428\nConjunto x de teste: 1470\nConjunto y de treino: 3428\nConjunto y de teste: 1470\n"
     ]
    }
   ],
   "source": [
    "X = dataframe.drop('quality', axis=1).values\n",
    "y = dataframe['quality'].values\n",
    "X_train, X_test, y_train, y_test = train_test_split(X, y, test_size=0.3, random_state=90, stratify=y)\n",
    "print(\"Conjunto x de treino:\", len(X_train))\n",
    "print(\"Conjunto x de teste:\", len(X_test))\n",
    "print(\"Conjunto y de treino:\", len(y_train))\n",
    "print(\"Conjunto y de teste:\", len(y_test))"
   ]
  },
  {
   "cell_type": "code",
   "execution_count": 11,
   "metadata": {
    "colab": {
     "base_uri": "https://localhost:8080/"
    },
    "id": "NgNEQHyqL1zA",
    "outputId": "d064e2fa-c917-46ee-89d6-ae47543c45d7"
   },
   "outputs": [
    {
     "output_type": "stream",
     "name": "stdout",
     "text": [
      "Predições para k = 1: [7 7 7 ... 7 6 7]\n",
      "Acurácia: 0.56463\n",
      "Precisão: 0.56366\n",
      "Recall: 0.56463\n",
      "F1-Measure: 0.56243\n",
      "\n",
      "***********************************************************************\n",
      "\n",
      "Utilizando as funções do sklearn para comparação com as funções criadas\n",
      "Acurácia: 0.56463\n",
      "Precisão: 0.56366\n",
      "Recall: 0.56463\n",
      "F1-Measure: 0.56243\n",
      "--------------------------------------------\n",
      "\n",
      "Predições para k = 3: [7 6 6 ... 7 5 5]\n",
      "Acurácia: 0.49116\n",
      "Precisão: 0.49606\n",
      "Recall: 0.49116\n",
      "F1-Measure: 0.48819\n",
      "\n",
      "***********************************************************************\n",
      "\n",
      "Utilizando as funções do sklearn para comparação com as funções criadas\n",
      "Acurácia: 0.49116\n",
      "Precisão: 0.49606\n",
      "Recall: 0.49116\n",
      "F1-Measure: 0.48819\n",
      "--------------------------------------------\n",
      "\n",
      "Predições para k = 4: [5 6 6 ... 7 5 7]\n",
      "Acurácia: 0.48027\n",
      "Precisão: 0.47013\n",
      "Recall: 0.48027\n",
      "F1-Measure: 0.46903\n",
      "\n",
      "***********************************************************************\n",
      "\n",
      "Utilizando as funções do sklearn para comparação com as funções criadas\n",
      "Acurácia: 0.48027\n",
      "Precisão: 0.47013\n",
      "Recall: 0.48027\n",
      "F1-Measure: 0.46903\n",
      "--------------------------------------------\n",
      "\n",
      "Predições para k = 5: [5 6 6 ... 7 6 7]\n",
      "Acurácia: 0.46463\n",
      "Precisão: 0.44878\n",
      "Recall: 0.46463\n",
      "F1-Measure: 0.44812\n",
      "\n",
      "***********************************************************************\n",
      "\n",
      "Utilizando as funções do sklearn para comparação com as funções criadas\n",
      "Acurácia: 0.46463\n",
      "Precisão: 0.44878\n",
      "Recall: 0.46463\n",
      "F1-Measure: 0.44812\n",
      "--------------------------------------------\n",
      "\n",
      "Predições para k = 7: [5 6 6 ... 5 5 5]\n",
      "Acurácia: 0.46667\n",
      "Precisão: 0.45162\n",
      "Recall: 0.46667\n",
      "F1-Measure: 0.44698\n",
      "\n",
      "***********************************************************************\n",
      "\n",
      "Utilizando as funções do sklearn para comparação com as funções criadas\n",
      "Acurácia: 0.46667\n",
      "Precisão: 0.45162\n",
      "Recall: 0.46667\n",
      "F1-Measure: 0.44698\n",
      "--------------------------------------------\n",
      "\n",
      "Predições para k = 8: [5 6 6 ... 5 5 5]\n",
      "Acurácia: 0.47143\n",
      "Precisão: 0.45055\n",
      "Recall: 0.47143\n",
      "F1-Measure: 0.44997\n",
      "\n",
      "***********************************************************************\n",
      "\n",
      "Utilizando as funções do sklearn para comparação com as funções criadas\n",
      "Acurácia: 0.47143\n",
      "Precisão: 0.45055\n",
      "Recall: 0.47143\n",
      "F1-Measure: 0.44997\n",
      "--------------------------------------------\n",
      "\n",
      "Predições para k = 9: [5 6 6 ... 5 5 5]\n",
      "Acurácia: 0.48435\n",
      "Precisão: 0.46056\n",
      "Recall: 0.48435\n",
      "F1-Measure: 0.46191\n",
      "\n",
      "***********************************************************************\n",
      "\n",
      "Utilizando as funções do sklearn para comparação com as funções criadas\n",
      "Acurácia: 0.48435\n",
      "Precisão: 0.46056\n",
      "Recall: 0.48435\n",
      "F1-Measure: 0.46191\n",
      "--------------------------------------------\n",
      "\n",
      "Predições para k = 10: [5 6 6 ... 6 5 5]\n",
      "Acurácia: 0.47687\n",
      "Precisão: 0.45160\n",
      "Recall: 0.47687\n",
      "F1-Measure: 0.45270\n",
      "\n",
      "***********************************************************************\n",
      "\n",
      "Utilizando as funções do sklearn para comparação com as funções criadas\n",
      "Acurácia: 0.47687\n",
      "Precisão: 0.45160\n",
      "Recall: 0.47687\n",
      "F1-Measure: 0.45270\n",
      "--------------------------------------------\n",
      "\n"
     ]
    }
   ],
   "source": [
    "array_k = [1, 3, 4, 5, 7, 8, 9, 10]\n",
    "for k in array_k:\n",
    "    knn = KNeighborsClassifier(n_neighbors=k)\n",
    "    knn.fit(X_train, y_train)\n",
    "    y_pred = knn.predict(X_test)\n",
    "    print(\"Predições para k = \" + str(k) + \":\", y_pred) \n",
    "    accuracy = metricsAccuracy(y_test, y_pred)\n",
    "    precision = metricsPrecision(y_test, y_pred)\n",
    "    recall = metricsRecall(y_test, y_pred)\n",
    "    f1measure = metricsF1Measure(y_test, y_pred)\n",
    "    print('Acurácia: {:.5f}'.format(accuracy))\n",
    "    print('Precisão: {:.5f}'.format(precision))\n",
    "    print('Recall: {:.5f}'.format(recall))\n",
    "    print('F1-Measure: {:.5f}'.format(f1measure))\n",
    "    print(\"\\n***********************************************************************\\n\")\n",
    "\n",
    "    print(\"Utilizando as funções do sklearn para comparação com as funções criadas\")\n",
    "    accuracy = metrics.accuracy_score(y_test, y_pred)\n",
    "    precision = metrics.precision_score(y_test, y_pred, average='weighted', zero_division=0)\n",
    "    recall = metrics.recall_score(y_test, y_pred, average='weighted', zero_division=0)\n",
    "    f1measure = metrics.f1_score(y_test, y_pred, average='weighted', zero_division=0)\n",
    "    print('Acurácia: {:.5f}'.format(accuracy))\n",
    "    print('Precisão: {:.5f}'.format(precision))\n",
    "    print('Recall: {:.5f}'.format(recall))\n",
    "    print('F1-Measure: {:.5f}'.format(f1measure))\n",
    "    print(\"--------------------------------------------\\n\")       "
   ]
  },
  {
   "cell_type": "markdown",
   "metadata": {
    "id": "TfB_JCiafqiT"
   },
   "source": [
    "#### 3. Calcule MAE e RMSE para sua solução da questão 3.3 da Lista 05. Caso não tenha feito a questão 3.3 da Lista 05 terá que fazê-la agora."
   ]
  },
  {
   "cell_type": "code",
   "execution_count": 12,
   "metadata": {
    "colab": {
     "base_uri": "https://localhost:8080/"
    },
    "id": "jvwasYvigHvR",
    "outputId": "568365b5-6b0a-4af7-fd0a-446f0e79f18c"
   },
   "outputs": [
    {
     "output_type": "stream",
     "name": "stdout",
     "text": [
      "Conjunto x de treino: 3428\nConjunto x de teste: 1470\nConjunto y de treino: 3428\nConjunto y de teste: 1470\n"
     ]
    }
   ],
   "source": [
    "X = dataframe.drop('quality', axis=1).values\n",
    "y = dataframe['quality'].values\n",
    "X_train, X_test, y_train, y_test = train_test_split(X, y, test_size=0.3, random_state=342, stratify=y)\n",
    "print(\"Conjunto x de treino:\", len(X_train))\n",
    "print(\"Conjunto x de teste:\", len(X_test))\n",
    "print(\"Conjunto y de treino:\", len(y_train))\n",
    "print(\"Conjunto y de teste:\", len(y_test))"
   ]
  },
  {
   "cell_type": "code",
   "execution_count": 13,
   "metadata": {
    "colab": {
     "base_uri": "https://localhost:8080/"
    },
    "id": "1yxj7wzfgLa9",
    "outputId": "b37d6b85-3936-492d-d2f0-8b13647a38ee"
   },
   "outputs": [
    {
     "output_type": "execute_result",
     "data": {
      "text/plain": [
       "array([5.6, 5. , 7. , ..., 7. , 6.4, 6.2])"
      ]
     },
     "metadata": {},
     "execution_count": 13
    }
   ],
   "source": [
    "k = 5\n",
    "knn = KNeighborsRegressor(n_neighbors=k)\n",
    "knn.fit(X_train, y_train)\n",
    "y_pred = knn.predict(X_test)\n",
    "y_pred"
   ]
  },
  {
   "cell_type": "code",
   "execution_count": 14,
   "metadata": {
    "colab": {
     "base_uri": "https://localhost:8080/"
    },
    "id": "yzVwclKPgc_h",
    "outputId": "9026deb8-7ebc-46e8-db7f-36e3e9221dcc"
   },
   "outputs": [
    {
     "output_type": "stream",
     "name": "stdout",
     "text": [
      "Erro Médio Absoluto: 0.63891\nRaiz Quadrada do Erro Médio Quadrático: 0.81633\n\n***********************************************************************\n\nUtilizando as funções do sklearn para comparação com as funções criadas \n\nErro Médio Absoluto: 0.63891\nRaiz Quadrada do Erro Médio Quadrático: 0.81633\n"
     ]
    }
   ],
   "source": [
    "meanAbsoluteError = metricsMAE(y_test, y_pred)\n",
    "rootMeanSquaredError = metricsRMSE(y_test, y_pred)\n",
    "\n",
    "print('Erro Médio Absoluto: {:.5f}'.format(meanAbsoluteError))\n",
    "print('Raiz Quadrada do Erro Médio Quadrático: {:.5f}'.format(rootMeanSquaredError))\n",
    "print(\"\\n***********************************************************************\\n\")\n",
    "\n",
    "print(\"Utilizando as funções do sklearn para comparação com as funções criadas \\n\")\n",
    "meanAbsoluteError = metrics.mean_absolute_error(y_test, y_pred)\n",
    "rootMeanSquaredError = metrics.mean_squared_error(y_test, y_pred, squared=False)\n",
    "\n",
    "print('Erro Médio Absoluto: {:.5f}'.format(meanAbsoluteError))\n",
    "print('Raiz Quadrada do Erro Médio Quadrático: {:.5f}'.format(rootMeanSquaredError))"
   ]
  }
 ],
 "metadata": {
  "colab": {
   "collapsed_sections": [],
   "name": "Lista 06.ipynb",
   "provenance": []
  },
  "kernelspec": {
   "name": "python3",
   "display_name": "Python 3.8.5 64-bit ('base': conda)"
  },
  "language_info": {
   "codemirror_mode": {
    "name": "ipython",
    "version": 3
   },
   "file_extension": ".py",
   "mimetype": "text/x-python",
   "name": "python",
   "nbconvert_exporter": "python",
   "pygments_lexer": "ipython3",
   "version": "3.8.5"
  },
  "interpreter": {
   "hash": "524d636d59c6b2112627e6c30b816bd1b3aeade150146fdc441a08affc9a3198"
  }
 },
 "nbformat": 4,
 "nbformat_minor": 1
}