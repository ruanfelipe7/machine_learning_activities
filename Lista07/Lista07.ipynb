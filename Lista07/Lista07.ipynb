{
  "nbformat": 4,
  "nbformat_minor": 0,
  "metadata": {
    "colab": {
      "name": "Lista07.ipynb",
      "provenance": []
    },
    "kernelspec": {
      "name": "python3",
      "display_name": "Python 3.8.5 64-bit ('base': conda)"
    },
    "language_info": {
      "name": "python",
      "version": "3.8.5"
    },
    "interpreter": {
      "hash": "524d636d59c6b2112627e6c30b816bd1b3aeade150146fdc441a08affc9a3198"
    }
  },
  "cells": [
    {
      "cell_type": "markdown",
      "metadata": {
        "id": "ULRm54jUET6U"
      },
      "source": [
        "# Lista 07 - Aprendizado de Máquina\n",
        "\n",
        "## Aluno: Ruan Felipe de Almeida Silva - 397048"
      ]
    },
    {
      "cell_type": "code",
      "metadata": {
        "id": "ZJ6n0UKJEMGi"
      },
      "source": [
        "import pandas as pd\n",
        "import numpy as np\n",
        "from sklearn import metrics\n",
        "from sklearn.neighbors import KNeighborsClassifier\n",
        "from sklearn import model_selection\n",
        "from sklearn.pipeline import Pipeline\n",
        "from sklearn import preprocessing\n",
        "from sklearn import pipeline\n",
        "from sklearn import datasets"
      ],
      "execution_count": 1,
      "outputs": []
    },
    {
      "cell_type": "markdown",
      "metadata": {
        "id": "1NAswfbhEmSl"
      },
      "source": [
        "### Avalie o desempenho do algoritmo kNN para o dataset \"Pima Indians Diabetes Database\". Separe os dados em treino (80%) e teste (20%).\n"
      ]
    },
    {
      "source": [
        "#### Importação dos dados"
      ],
      "cell_type": "markdown",
      "metadata": {}
    },
    {
      "cell_type": "code",
      "metadata": {
        "colab": {
          "base_uri": "https://localhost:8080/",
          "height": 204
        },
        "id": "FOcygcE0EplM",
        "outputId": "1a4e60a3-7767-413b-eb12-8ae9165accf7"
      },
      "source": [
        "# dataframe = pd.read_csv('/content/drive/MyDrive/ufc - ec/Aprend_Maquina/datasets/diabetes.csv', delimiter=',')\n",
        "dataframe = pd.read_csv('diabetes.csv', delimiter=',')\n",
        "dataframe.head()"
      ],
      "execution_count": 2,
      "outputs": [
        {
          "output_type": "execute_result",
          "data": {
            "text/plain": [
              "   Pregnancies  Glucose  BloodPressure  SkinThickness  Insulin   BMI  \\\n",
              "0            6      148             72             35        0  33.6   \n",
              "1            1       85             66             29        0  26.6   \n",
              "2            8      183             64              0        0  23.3   \n",
              "3            1       89             66             23       94  28.1   \n",
              "4            0      137             40             35      168  43.1   \n",
              "\n",
              "   DiabetesPedigreeFunction  Age  Outcome  \n",
              "0                     0.627   50        1  \n",
              "1                     0.351   31        0  \n",
              "2                     0.672   32        1  \n",
              "3                     0.167   21        0  \n",
              "4                     2.288   33        1  "
            ],
            "text/html": "<div>\n<style scoped>\n    .dataframe tbody tr th:only-of-type {\n        vertical-align: middle;\n    }\n\n    .dataframe tbody tr th {\n        vertical-align: top;\n    }\n\n    .dataframe thead th {\n        text-align: right;\n    }\n</style>\n<table border=\"1\" class=\"dataframe\">\n  <thead>\n    <tr style=\"text-align: right;\">\n      <th></th>\n      <th>Pregnancies</th>\n      <th>Glucose</th>\n      <th>BloodPressure</th>\n      <th>SkinThickness</th>\n      <th>Insulin</th>\n      <th>BMI</th>\n      <th>DiabetesPedigreeFunction</th>\n      <th>Age</th>\n      <th>Outcome</th>\n    </tr>\n  </thead>\n  <tbody>\n    <tr>\n      <th>0</th>\n      <td>6</td>\n      <td>148</td>\n      <td>72</td>\n      <td>35</td>\n      <td>0</td>\n      <td>33.6</td>\n      <td>0.627</td>\n      <td>50</td>\n      <td>1</td>\n    </tr>\n    <tr>\n      <th>1</th>\n      <td>1</td>\n      <td>85</td>\n      <td>66</td>\n      <td>29</td>\n      <td>0</td>\n      <td>26.6</td>\n      <td>0.351</td>\n      <td>31</td>\n      <td>0</td>\n    </tr>\n    <tr>\n      <th>2</th>\n      <td>8</td>\n      <td>183</td>\n      <td>64</td>\n      <td>0</td>\n      <td>0</td>\n      <td>23.3</td>\n      <td>0.672</td>\n      <td>32</td>\n      <td>1</td>\n    </tr>\n    <tr>\n      <th>3</th>\n      <td>1</td>\n      <td>89</td>\n      <td>66</td>\n      <td>23</td>\n      <td>94</td>\n      <td>28.1</td>\n      <td>0.167</td>\n      <td>21</td>\n      <td>0</td>\n    </tr>\n    <tr>\n      <th>4</th>\n      <td>0</td>\n      <td>137</td>\n      <td>40</td>\n      <td>35</td>\n      <td>168</td>\n      <td>43.1</td>\n      <td>2.288</td>\n      <td>33</td>\n      <td>1</td>\n    </tr>\n  </tbody>\n</table>\n</div>"
          },
          "metadata": {},
          "execution_count": 2
        }
      ]
    },
    {
      "source": [
        "#### Verificando a quantidade de linhas e colunas"
      ],
      "cell_type": "markdown",
      "metadata": {}
    },
    {
      "cell_type": "code",
      "metadata": {
        "colab": {
          "base_uri": "https://localhost:8080/"
        },
        "id": "OT6V00FJFnjY",
        "outputId": "c1d33d46-1712-4ebb-bf94-eea3a38eede3"
      },
      "source": [
        "dataframe.shape"
      ],
      "execution_count": 3,
      "outputs": [
        {
          "output_type": "execute_result",
          "data": {
            "text/plain": [
              "(768, 9)"
            ]
          },
          "metadata": {},
          "execution_count": 3
        }
      ]
    },
    {
      "source": [
        "#### Verificando os tipos de dados do dataset"
      ],
      "cell_type": "markdown",
      "metadata": {}
    },
    {
      "cell_type": "code",
      "metadata": {
        "colab": {
          "base_uri": "https://localhost:8080/"
        },
        "id": "oqd69sPUFrcn",
        "outputId": "b886b75e-5c9b-4192-bb11-5e8d9679ff75"
      },
      "source": [
        "dataframe.dtypes"
      ],
      "execution_count": 4,
      "outputs": [
        {
          "output_type": "execute_result",
          "data": {
            "text/plain": [
              "Pregnancies                   int64\n",
              "Glucose                       int64\n",
              "BloodPressure                 int64\n",
              "SkinThickness                 int64\n",
              "Insulin                       int64\n",
              "BMI                         float64\n",
              "DiabetesPedigreeFunction    float64\n",
              "Age                           int64\n",
              "Outcome                       int64\n",
              "dtype: object"
            ]
          },
          "metadata": {},
          "execution_count": 4
        }
      ]
    },
    {
      "source": [
        "#### Verificando se existem valores faltantes no conjunto de dados"
      ],
      "cell_type": "markdown",
      "metadata": {}
    },
    {
      "cell_type": "code",
      "metadata": {
        "colab": {
          "base_uri": "https://localhost:8080/"
        },
        "id": "_P3gD0IOF0Wn",
        "outputId": "06344243-edc5-4c8e-d78d-a78ed069f99d"
      },
      "source": [
        "dataframe.isna().sum()"
      ],
      "execution_count": 5,
      "outputs": [
        {
          "output_type": "execute_result",
          "data": {
            "text/plain": [
              "Pregnancies                 0\n",
              "Glucose                     0\n",
              "BloodPressure               0\n",
              "SkinThickness               0\n",
              "Insulin                     0\n",
              "BMI                         0\n",
              "DiabetesPedigreeFunction    0\n",
              "Age                         0\n",
              "Outcome                     0\n",
              "dtype: int64"
            ]
          },
          "metadata": {},
          "execution_count": 5
        }
      ]
    },
    {
      "source": [
        "#### Analisando algumas informações sobre os dados para cada coluna"
      ],
      "cell_type": "markdown",
      "metadata": {}
    },
    {
      "cell_type": "code",
      "metadata": {
        "colab": {
          "base_uri": "https://localhost:8080/",
          "height": 297
        },
        "id": "V7yWu9BFGdsl",
        "outputId": "5ff082bc-649b-453a-d3d3-a82bf647951d"
      },
      "source": [
        "dataframe.describe()"
      ],
      "execution_count": 6,
      "outputs": [
        {
          "output_type": "execute_result",
          "data": {
            "text/plain": [
              "       Pregnancies     Glucose  BloodPressure  SkinThickness     Insulin  \\\n",
              "count   768.000000  768.000000     768.000000     768.000000  768.000000   \n",
              "mean      3.845052  120.894531      69.105469      20.536458   79.799479   \n",
              "std       3.369578   31.972618      19.355807      15.952218  115.244002   \n",
              "min       0.000000    0.000000       0.000000       0.000000    0.000000   \n",
              "25%       1.000000   99.000000      62.000000       0.000000    0.000000   \n",
              "50%       3.000000  117.000000      72.000000      23.000000   30.500000   \n",
              "75%       6.000000  140.250000      80.000000      32.000000  127.250000   \n",
              "max      17.000000  199.000000     122.000000      99.000000  846.000000   \n",
              "\n",
              "              BMI  DiabetesPedigreeFunction         Age     Outcome  \n",
              "count  768.000000                768.000000  768.000000  768.000000  \n",
              "mean    31.992578                  0.471876   33.240885    0.348958  \n",
              "std      7.884160                  0.331329   11.760232    0.476951  \n",
              "min      0.000000                  0.078000   21.000000    0.000000  \n",
              "25%     27.300000                  0.243750   24.000000    0.000000  \n",
              "50%     32.000000                  0.372500   29.000000    0.000000  \n",
              "75%     36.600000                  0.626250   41.000000    1.000000  \n",
              "max     67.100000                  2.420000   81.000000    1.000000  "
            ],
            "text/html": "<div>\n<style scoped>\n    .dataframe tbody tr th:only-of-type {\n        vertical-align: middle;\n    }\n\n    .dataframe tbody tr th {\n        vertical-align: top;\n    }\n\n    .dataframe thead th {\n        text-align: right;\n    }\n</style>\n<table border=\"1\" class=\"dataframe\">\n  <thead>\n    <tr style=\"text-align: right;\">\n      <th></th>\n      <th>Pregnancies</th>\n      <th>Glucose</th>\n      <th>BloodPressure</th>\n      <th>SkinThickness</th>\n      <th>Insulin</th>\n      <th>BMI</th>\n      <th>DiabetesPedigreeFunction</th>\n      <th>Age</th>\n      <th>Outcome</th>\n    </tr>\n  </thead>\n  <tbody>\n    <tr>\n      <th>count</th>\n      <td>768.000000</td>\n      <td>768.000000</td>\n      <td>768.000000</td>\n      <td>768.000000</td>\n      <td>768.000000</td>\n      <td>768.000000</td>\n      <td>768.000000</td>\n      <td>768.000000</td>\n      <td>768.000000</td>\n    </tr>\n    <tr>\n      <th>mean</th>\n      <td>3.845052</td>\n      <td>120.894531</td>\n      <td>69.105469</td>\n      <td>20.536458</td>\n      <td>79.799479</td>\n      <td>31.992578</td>\n      <td>0.471876</td>\n      <td>33.240885</td>\n      <td>0.348958</td>\n    </tr>\n    <tr>\n      <th>std</th>\n      <td>3.369578</td>\n      <td>31.972618</td>\n      <td>19.355807</td>\n      <td>15.952218</td>\n      <td>115.244002</td>\n      <td>7.884160</td>\n      <td>0.331329</td>\n      <td>11.760232</td>\n      <td>0.476951</td>\n    </tr>\n    <tr>\n      <th>min</th>\n      <td>0.000000</td>\n      <td>0.000000</td>\n      <td>0.000000</td>\n      <td>0.000000</td>\n      <td>0.000000</td>\n      <td>0.000000</td>\n      <td>0.078000</td>\n      <td>21.000000</td>\n      <td>0.000000</td>\n    </tr>\n    <tr>\n      <th>25%</th>\n      <td>1.000000</td>\n      <td>99.000000</td>\n      <td>62.000000</td>\n      <td>0.000000</td>\n      <td>0.000000</td>\n      <td>27.300000</td>\n      <td>0.243750</td>\n      <td>24.000000</td>\n      <td>0.000000</td>\n    </tr>\n    <tr>\n      <th>50%</th>\n      <td>3.000000</td>\n      <td>117.000000</td>\n      <td>72.000000</td>\n      <td>23.000000</td>\n      <td>30.500000</td>\n      <td>32.000000</td>\n      <td>0.372500</td>\n      <td>29.000000</td>\n      <td>0.000000</td>\n    </tr>\n    <tr>\n      <th>75%</th>\n      <td>6.000000</td>\n      <td>140.250000</td>\n      <td>80.000000</td>\n      <td>32.000000</td>\n      <td>127.250000</td>\n      <td>36.600000</td>\n      <td>0.626250</td>\n      <td>41.000000</td>\n      <td>1.000000</td>\n    </tr>\n    <tr>\n      <th>max</th>\n      <td>17.000000</td>\n      <td>199.000000</td>\n      <td>122.000000</td>\n      <td>99.000000</td>\n      <td>846.000000</td>\n      <td>67.100000</td>\n      <td>2.420000</td>\n      <td>81.000000</td>\n      <td>1.000000</td>\n    </tr>\n  </tbody>\n</table>\n</div>"
          },
          "metadata": {},
          "execution_count": 6
        }
      ]
    },
    {
      "source": [
        "#### Separando as features do target e listando os possíveis valores para o target"
      ],
      "cell_type": "markdown",
      "metadata": {}
    },
    {
      "cell_type": "code",
      "metadata": {
        "colab": {
          "base_uri": "https://localhost:8080/"
        },
        "id": "GeAOgafDF4FG",
        "outputId": "7350db9d-bbed-46e8-c017-f86c1c406cfd"
      },
      "source": [
        "X = dataframe.iloc[:,:-1]\n",
        "y = dataframe.iloc[:,-1]\n",
        "np.unique(y)"
      ],
      "execution_count": 7,
      "outputs": [
        {
          "output_type": "execute_result",
          "data": {
            "text/plain": [
              "array([0, 1])"
            ]
          },
          "metadata": {},
          "execution_count": 7
        }
      ]
    },
    {
      "source": [
        "#### Verificando a quantidade de amostras para cada classe do target"
      ],
      "cell_type": "markdown",
      "metadata": {}
    },
    {
      "cell_type": "code",
      "metadata": {
        "colab": {
          "base_uri": "https://localhost:8080/"
        },
        "id": "28SZyhCcGX9d",
        "outputId": "e72a6a08-5bfc-4995-9b79-6de0a22711f0"
      },
      "source": [
        "y.value_counts()"
      ],
      "execution_count": 8,
      "outputs": [
        {
          "output_type": "execute_result",
          "data": {
            "text/plain": [
              "0    500\n",
              "1    268\n",
              "Name: Outcome, dtype: int64"
            ]
          },
          "metadata": {},
          "execution_count": 8
        }
      ]
    },
    {
      "source": [
        "#### Dividindo os dados em 80% para o conjunto de treino e 20% para o conjunto de teste"
      ],
      "cell_type": "markdown",
      "metadata": {}
    },
    {
      "cell_type": "code",
      "metadata": {
        "colab": {
          "base_uri": "https://localhost:8080/"
        },
        "id": "_kexJGdNGpMP",
        "outputId": "678c6044-5f28-4259-eb26-1c227f75bd78"
      },
      "source": [
        "X_values = X.values\n",
        "y_values = y.values\n",
        "X_train, X_test, y_train, y_test = model_selection.train_test_split(X_values, y_values, test_size=0.2, random_state=142, stratify=y_values)\n",
        "print(\"Conjunto x de treino:\", len(X_train))\n",
        "print(\"Conjunto x de teste:\", len(X_test))\n",
        "print(\"Conjunto y de treino:\", len(y_train))\n",
        "print(\"Conjunto y de teste:\", len(y_test))"
      ],
      "execution_count": 9,
      "outputs": [
        {
          "output_type": "stream",
          "name": "stdout",
          "text": [
            "Conjunto x de treino: 614\nConjunto x de teste: 154\nConjunto y de treino: 614\nConjunto y de teste: 154\n"
          ]
        }
      ]
    },
    {
      "cell_type": "markdown",
      "metadata": {
        "id": "ChcrmWCPHNOU"
      },
      "source": [
        "### 1. Use validação holdout para obter o melhor valor de k para o kNN com e sem escalonamento de features. Para isso, divida o conjunto de treino (80%) entre treino_holdout (70% do conjunto de treino) e validacao_holdout (30% do conjunto de treino). Use a métrica F1-Score para obtenção do melhor resultado. Armazene os resultados e faça um ranking deles (Grid Search manual). Mostre os resultados do melhor até o pior valor para o conjunto de validação (validacao_holdout). Agora treine um modelo com o melhor valor de k com todos os dados de treino (80%). Avalie o modelo final com os dados de teste (20%).\n",
        "\n",
        "* Dicas: (1) use o Pipeline do scikit learn para realizar o escalonamento de features. (2) Não use nessa questão nem o cross_val_score, nem o GridSearchCV do scikit learn."
      ]
    },
    {
      "source": [
        "#### Dividindo o conjunto de treino em 70% para treino_holdout e 30% para validação_holdout"
      ],
      "cell_type": "markdown",
      "metadata": {}
    },
    {
      "cell_type": "code",
      "metadata": {
        "colab": {
          "base_uri": "https://localhost:8080/"
        },
        "id": "ShyfA96jHSXR",
        "outputId": "17b6439c-4e24-4b4c-d62c-34e82793b745"
      },
      "source": [
        "X_train_holdout, X_validacao_holdout, y_train_holdout, y_validacao_holdout = model_selection.train_test_split(X_train, y_train, test_size=0.3, random_state=142, stratify=y_train)\n",
        "print(\"Conjunto x de treino holdout:\", len(X_train_holdout))\n",
        "print(\"Conjunto x de validação holdout:\", len(X_validacao_holdout))\n",
        "print(\"Conjunto y de treino holdout:\", len(y_train_holdout))\n",
        "print(\"Conjunto y de validação holdout\", len(y_validacao_holdout))"
      ],
      "execution_count": 10,
      "outputs": [
        {
          "output_type": "stream",
          "name": "stdout",
          "text": [
            "Conjunto x de treino holdout: 429\nConjunto x de validação holdout: 185\nConjunto y de treino holdout: 429\nConjunto y de validação holdout 185\n"
          ]
        }
      ]
    },
    {
      "source": [
        "#### Treinando modelos de KNN com o conjunto de dados treino_holdout, para k variando de 1 a 20. Os modelos são testados com os dados de validação_holdout e as métricas, f1-score e acurácia são analisadas. "
      ],
      "cell_type": "markdown",
      "metadata": {}
    },
    {
      "cell_type": "code",
      "metadata": {
        "colab": {
          "base_uri": "https://localhost:8080/"
        },
        "id": "9AOFqIVcTQ7C",
        "outputId": "72955464-81c3-475c-f0d3-6502613d554e"
      },
      "source": [
        "array_k = np.arange(1, 21)\n",
        "\n",
        "std = preprocessing.StandardScaler()\n",
        "norm = preprocessing.MinMaxScaler()\n",
        "\n",
        "scalers = ['no scaler', std, norm]\n",
        "results = []\n",
        "\n",
        "for k in array_k:\n",
        "    for scaler in scalers:\n",
        "        knn = KNeighborsClassifier(n_neighbors=k)\n",
        "        if scaler == 'no scaler':\n",
        "            pipe = Pipeline([('estimator', knn)])\n",
        "            scl = 'No Scaler'\n",
        "        else:\n",
        "            pipe = Pipeline([('transformer', scaler), ('estimator', knn)])\n",
        "            s = str(scaler)\n",
        "            ind_parenteses = s.find('(')\n",
        "            scl = s[:ind_parenteses]\n",
        "            \n",
        "\n",
        "        pipe.fit(X_train_holdout, y_train_holdout)\n",
        "        y_pred = pipe.predict(X_validacao_holdout)\n",
        "        accuracy = metrics.accuracy_score(y_validacao_holdout, y_pred)\n",
        "        f1score = metrics.f1_score(y_validacao_holdout, y_pred, average='weighted', zero_division=0)\n",
        "        \n",
        "        print(f'Escalonamento: {scl}')\n",
        "        print(f'kNN: k = {k}')\n",
        "        print('Acurácia: {:.5f}'.format(accuracy))\n",
        "        print('F1-Score: {:.5f}'.format(f1score))        \n",
        "        print(\"\\n---------------------------------------------------------------------------------\\n\")\n",
        "\n",
        "        \n",
        "        resultado = {'Value of k':k, 'Scaler':scl, 'Accuracy':accuracy, 'F1-Score':f1score}\n",
        "        results.append(resultado)"
      ],
      "execution_count": 11,
      "outputs": [
        {
          "output_type": "stream",
          "name": "stdout",
          "text": [
            "Escalonamento: No Scaler\n",
            "kNN: k = 1\n",
            "Acurácia: 0.69189\n",
            "F1-Score: 0.69349\n",
            "\n",
            "---------------------------------------------------------------------------------\n",
            "\n",
            "Escalonamento: StandardScaler\n",
            "kNN: k = 1\n",
            "Acurácia: 0.74054\n",
            "F1-Score: 0.73325\n",
            "\n",
            "---------------------------------------------------------------------------------\n",
            "\n",
            "Escalonamento: MinMaxScaler\n",
            "kNN: k = 1\n",
            "Acurácia: 0.72432\n",
            "F1-Score: 0.71884\n",
            "\n",
            "---------------------------------------------------------------------------------\n",
            "\n",
            "Escalonamento: No Scaler\n",
            "kNN: k = 2\n",
            "Acurácia: 0.72432\n",
            "F1-Score: 0.68987\n",
            "\n",
            "---------------------------------------------------------------------------------\n",
            "\n",
            "Escalonamento: StandardScaler\n",
            "kNN: k = 2\n",
            "Acurácia: 0.71892\n",
            "F1-Score: 0.67497\n",
            "\n",
            "---------------------------------------------------------------------------------\n",
            "\n",
            "Escalonamento: MinMaxScaler\n",
            "kNN: k = 2\n",
            "Acurácia: 0.70270\n",
            "F1-Score: 0.66554\n",
            "\n",
            "---------------------------------------------------------------------------------\n",
            "\n",
            "Escalonamento: No Scaler\n",
            "kNN: k = 3\n",
            "Acurácia: 0.70270\n",
            "F1-Score: 0.70214\n",
            "\n",
            "---------------------------------------------------------------------------------\n",
            "\n",
            "Escalonamento: StandardScaler\n",
            "kNN: k = 3\n",
            "Acurácia: 0.73514\n",
            "F1-Score: 0.72529\n",
            "\n",
            "---------------------------------------------------------------------------------\n",
            "\n",
            "Escalonamento: MinMaxScaler\n",
            "kNN: k = 3\n",
            "Acurácia: 0.74054\n",
            "F1-Score: 0.73325\n",
            "\n",
            "---------------------------------------------------------------------------------\n",
            "\n",
            "Escalonamento: No Scaler\n",
            "kNN: k = 4\n",
            "Acurácia: 0.70270\n",
            "F1-Score: 0.68540\n",
            "\n",
            "---------------------------------------------------------------------------------\n",
            "\n",
            "Escalonamento: StandardScaler\n",
            "kNN: k = 4\n",
            "Acurácia: 0.72432\n",
            "F1-Score: 0.68987\n",
            "\n",
            "---------------------------------------------------------------------------------\n",
            "\n",
            "Escalonamento: MinMaxScaler\n",
            "kNN: k = 4\n",
            "Acurácia: 0.72432\n",
            "F1-Score: 0.69298\n",
            "\n",
            "---------------------------------------------------------------------------------\n",
            "\n",
            "Escalonamento: No Scaler\n",
            "kNN: k = 5\n",
            "Acurácia: 0.72432\n",
            "F1-Score: 0.72270\n",
            "\n",
            "---------------------------------------------------------------------------------\n",
            "\n",
            "Escalonamento: StandardScaler\n",
            "kNN: k = 5\n",
            "Acurácia: 0.76216\n",
            "F1-Score: 0.75406\n",
            "\n",
            "---------------------------------------------------------------------------------\n",
            "\n",
            "Escalonamento: MinMaxScaler\n",
            "kNN: k = 5\n",
            "Acurácia: 0.80000\n",
            "F1-Score: 0.79379\n",
            "\n",
            "---------------------------------------------------------------------------------\n",
            "\n",
            "Escalonamento: No Scaler\n",
            "kNN: k = 6\n",
            "Acurácia: 0.74054\n",
            "F1-Score: 0.73170\n",
            "\n",
            "---------------------------------------------------------------------------------\n",
            "\n",
            "Escalonamento: StandardScaler\n",
            "kNN: k = 6\n",
            "Acurácia: 0.77838\n",
            "F1-Score: 0.76186\n",
            "\n",
            "---------------------------------------------------------------------------------\n",
            "\n",
            "Escalonamento: MinMaxScaler\n",
            "kNN: k = 6\n",
            "Acurácia: 0.75676\n",
            "F1-Score: 0.73645\n",
            "\n",
            "---------------------------------------------------------------------------------\n",
            "\n",
            "Escalonamento: No Scaler\n",
            "kNN: k = 7\n",
            "Acurácia: 0.75676\n",
            "F1-Score: 0.75427\n",
            "\n",
            "---------------------------------------------------------------------------------\n",
            "\n",
            "Escalonamento: StandardScaler\n",
            "kNN: k = 7\n",
            "Acurácia: 0.76216\n",
            "F1-Score: 0.75548\n",
            "\n",
            "---------------------------------------------------------------------------------\n",
            "\n",
            "Escalonamento: MinMaxScaler\n",
            "kNN: k = 7\n",
            "Acurácia: 0.76216\n",
            "F1-Score: 0.75680\n",
            "\n",
            "---------------------------------------------------------------------------------\n",
            "\n",
            "Escalonamento: No Scaler\n",
            "kNN: k = 8\n",
            "Acurácia: 0.76757\n",
            "F1-Score: 0.75740\n",
            "\n",
            "---------------------------------------------------------------------------------\n",
            "\n",
            "Escalonamento: StandardScaler\n",
            "kNN: k = 8\n",
            "Acurácia: 0.75676\n",
            "F1-Score: 0.74260\n",
            "\n",
            "---------------------------------------------------------------------------------\n",
            "\n",
            "Escalonamento: MinMaxScaler\n",
            "kNN: k = 8\n",
            "Acurácia: 0.76757\n",
            "F1-Score: 0.75404\n",
            "\n",
            "---------------------------------------------------------------------------------\n",
            "\n",
            "Escalonamento: No Scaler\n",
            "kNN: k = 9\n",
            "Acurácia: 0.76216\n",
            "F1-Score: 0.75680\n",
            "\n",
            "---------------------------------------------------------------------------------\n",
            "\n",
            "Escalonamento: StandardScaler\n",
            "kNN: k = 9\n",
            "Acurácia: 0.76757\n",
            "F1-Score: 0.76035\n",
            "\n",
            "---------------------------------------------------------------------------------\n",
            "\n",
            "Escalonamento: MinMaxScaler\n",
            "kNN: k = 9\n",
            "Acurácia: 0.77838\n",
            "F1-Score: 0.77150\n",
            "\n",
            "---------------------------------------------------------------------------------\n",
            "\n",
            "Escalonamento: No Scaler\n",
            "kNN: k = 10\n",
            "Acurácia: 0.75676\n",
            "F1-Score: 0.74441\n",
            "\n",
            "---------------------------------------------------------------------------------\n",
            "\n",
            "Escalonamento: StandardScaler\n",
            "kNN: k = 10\n",
            "Acurácia: 0.75135\n",
            "F1-Score: 0.73782\n",
            "\n",
            "---------------------------------------------------------------------------------\n",
            "\n",
            "Escalonamento: MinMaxScaler\n",
            "kNN: k = 10\n",
            "Acurácia: 0.75135\n",
            "F1-Score: 0.73782\n",
            "\n",
            "---------------------------------------------------------------------------------\n",
            "\n",
            "Escalonamento: No Scaler\n",
            "kNN: k = 11\n",
            "Acurácia: 0.77297\n",
            "F1-Score: 0.76524\n",
            "\n",
            "---------------------------------------------------------------------------------\n",
            "\n",
            "Escalonamento: StandardScaler\n",
            "kNN: k = 11\n",
            "Acurácia: 0.76216\n",
            "F1-Score: 0.75406\n",
            "\n",
            "---------------------------------------------------------------------------------\n",
            "\n",
            "Escalonamento: MinMaxScaler\n",
            "kNN: k = 11\n",
            "Acurácia: 0.77838\n",
            "F1-Score: 0.77150\n",
            "\n",
            "---------------------------------------------------------------------------------\n",
            "\n",
            "Escalonamento: No Scaler\n",
            "kNN: k = 12\n",
            "Acurácia: 0.72432\n",
            "F1-Score: 0.70131\n",
            "\n",
            "---------------------------------------------------------------------------------\n",
            "\n",
            "Escalonamento: StandardScaler\n",
            "kNN: k = 12\n",
            "Acurácia: 0.75135\n",
            "F1-Score: 0.73591\n",
            "\n",
            "---------------------------------------------------------------------------------\n",
            "\n",
            "Escalonamento: MinMaxScaler\n",
            "kNN: k = 12\n",
            "Acurácia: 0.76216\n",
            "F1-Score: 0.74922\n",
            "\n",
            "---------------------------------------------------------------------------------\n",
            "\n",
            "Escalonamento: No Scaler\n",
            "kNN: k = 13\n",
            "Acurácia: 0.75676\n",
            "F1-Score: 0.74771\n",
            "\n",
            "---------------------------------------------------------------------------------\n",
            "\n",
            "Escalonamento: StandardScaler\n",
            "kNN: k = 13\n",
            "Acurácia: 0.76216\n",
            "F1-Score: 0.75255\n",
            "\n",
            "---------------------------------------------------------------------------------\n",
            "\n",
            "Escalonamento: MinMaxScaler\n",
            "kNN: k = 13\n",
            "Acurácia: 0.79459\n",
            "F1-Score: 0.78760\n",
            "\n",
            "---------------------------------------------------------------------------------\n",
            "\n",
            "Escalonamento: No Scaler\n",
            "kNN: k = 14\n",
            "Acurácia: 0.74054\n",
            "F1-Score: 0.72443\n",
            "\n",
            "---------------------------------------------------------------------------------\n",
            "\n",
            "Escalonamento: StandardScaler\n",
            "kNN: k = 14\n",
            "Acurácia: 0.75676\n",
            "F1-Score: 0.74067\n",
            "\n",
            "---------------------------------------------------------------------------------\n",
            "\n",
            "Escalonamento: MinMaxScaler\n",
            "kNN: k = 14\n",
            "Acurácia: 0.75676\n",
            "F1-Score: 0.73862\n",
            "\n",
            "---------------------------------------------------------------------------------\n",
            "\n",
            "Escalonamento: No Scaler\n",
            "kNN: k = 15\n",
            "Acurácia: 0.75676\n",
            "F1-Score: 0.74771\n",
            "\n",
            "---------------------------------------------------------------------------------\n",
            "\n",
            "Escalonamento: StandardScaler\n",
            "kNN: k = 15\n",
            "Acurácia: 0.76216\n",
            "F1-Score: 0.74922\n",
            "\n",
            "---------------------------------------------------------------------------------\n",
            "\n",
            "Escalonamento: MinMaxScaler\n",
            "kNN: k = 15\n",
            "Acurácia: 0.76757\n",
            "F1-Score: 0.75740\n",
            "\n",
            "---------------------------------------------------------------------------------\n",
            "\n",
            "Escalonamento: No Scaler\n",
            "kNN: k = 16\n",
            "Acurácia: 0.72432\n",
            "F1-Score: 0.70377\n",
            "\n",
            "---------------------------------------------------------------------------------\n",
            "\n",
            "Escalonamento: StandardScaler\n",
            "kNN: k = 16\n",
            "Acurácia: 0.76757\n",
            "F1-Score: 0.75024\n",
            "\n",
            "---------------------------------------------------------------------------------\n",
            "\n",
            "Escalonamento: MinMaxScaler\n",
            "kNN: k = 16\n",
            "Acurácia: 0.75135\n",
            "F1-Score: 0.73388\n",
            "\n",
            "---------------------------------------------------------------------------------\n",
            "\n",
            "Escalonamento: No Scaler\n",
            "kNN: k = 17\n",
            "Acurácia: 0.74595\n",
            "F1-Score: 0.73483\n",
            "\n",
            "---------------------------------------------------------------------------------\n",
            "\n",
            "Escalonamento: StandardScaler\n",
            "kNN: k = 17\n",
            "Acurácia: 0.77297\n",
            "F1-Score: 0.76062\n",
            "\n",
            "---------------------------------------------------------------------------------\n",
            "\n",
            "Escalonamento: MinMaxScaler\n",
            "kNN: k = 17\n",
            "Acurácia: 0.76757\n",
            "F1-Score: 0.75577\n",
            "\n",
            "---------------------------------------------------------------------------------\n",
            "\n",
            "Escalonamento: No Scaler\n",
            "kNN: k = 18\n",
            "Acurácia: 0.72432\n",
            "F1-Score: 0.70609\n",
            "\n",
            "---------------------------------------------------------------------------------\n",
            "\n",
            "Escalonamento: StandardScaler\n",
            "kNN: k = 18\n",
            "Acurácia: 0.76757\n",
            "F1-Score: 0.75024\n",
            "\n",
            "---------------------------------------------------------------------------------\n",
            "\n",
            "Escalonamento: MinMaxScaler\n",
            "kNN: k = 18\n",
            "Acurácia: 0.76757\n",
            "F1-Score: 0.75220\n",
            "\n",
            "---------------------------------------------------------------------------------\n",
            "\n",
            "Escalonamento: No Scaler\n",
            "kNN: k = 19\n",
            "Acurácia: 0.72973\n",
            "F1-Score: 0.71881\n",
            "\n",
            "---------------------------------------------------------------------------------\n",
            "\n",
            "Escalonamento: StandardScaler\n",
            "kNN: k = 19\n",
            "Acurácia: 0.76757\n",
            "F1-Score: 0.75220\n",
            "\n",
            "---------------------------------------------------------------------------------\n",
            "\n",
            "Escalonamento: MinMaxScaler\n",
            "kNN: k = 19\n",
            "Acurácia: 0.78378\n",
            "F1-Score: 0.77202\n",
            "\n",
            "---------------------------------------------------------------------------------\n",
            "\n",
            "Escalonamento: No Scaler\n",
            "kNN: k = 20\n",
            "Acurácia: 0.71351\n",
            "F1-Score: 0.69457\n",
            "\n",
            "---------------------------------------------------------------------------------\n",
            "\n",
            "Escalonamento: StandardScaler\n",
            "kNN: k = 20\n",
            "Acurácia: 0.75676\n",
            "F1-Score: 0.73415\n",
            "\n",
            "---------------------------------------------------------------------------------\n",
            "\n",
            "Escalonamento: MinMaxScaler\n",
            "kNN: k = 20\n",
            "Acurácia: 0.76757\n",
            "F1-Score: 0.74816\n",
            "\n",
            "---------------------------------------------------------------------------------\n",
            "\n"
          ]
        }
      ]
    },
    {
      "source": [
        "#### Montando um dataframe com os resultados das métricas de cada modelo"
      ],
      "cell_type": "markdown",
      "metadata": {}
    },
    {
      "cell_type": "code",
      "metadata": {
        "colab": {
          "base_uri": "https://localhost:8080/",
          "height": 419
        },
        "id": "KtvYvr1sWZz_",
        "outputId": "ae135b1f-b247-4c0b-8026-60521f725975"
      },
      "source": [
        "df_results = pd.DataFrame(results)\n",
        "df_results.sort_values(by='F1-Score', ascending=False)"
      ],
      "execution_count": 12,
      "outputs": [
        {
          "output_type": "execute_result",
          "data": {
            "text/plain": [
              "    Value of k          Scaler  Accuracy  F1-Score\n",
              "14           5    MinMaxScaler  0.800000  0.793794\n",
              "38          13    MinMaxScaler  0.794595  0.787599\n",
              "56          19    MinMaxScaler  0.783784  0.772016\n",
              "32          11    MinMaxScaler  0.778378  0.771501\n",
              "26           9    MinMaxScaler  0.778378  0.771501\n",
              "30          11       No Scaler  0.772973  0.765240\n",
              "16           6  StandardScaler  0.778378  0.761858\n",
              "49          17  StandardScaler  0.772973  0.760617\n",
              "25           9  StandardScaler  0.767568  0.760355\n",
              "44          15    MinMaxScaler  0.767568  0.757397\n",
              "21           8       No Scaler  0.767568  0.757397\n",
              "24           9       No Scaler  0.762162  0.756803\n",
              "20           7    MinMaxScaler  0.762162  0.756803\n",
              "50          17    MinMaxScaler  0.767568  0.755770\n",
              "19           7  StandardScaler  0.762162  0.755478\n",
              "18           7       No Scaler  0.756757  0.754275\n",
              "31          11  StandardScaler  0.762162  0.754061\n",
              "13           5  StandardScaler  0.762162  0.754061\n",
              "23           8    MinMaxScaler  0.767568  0.754038\n",
              "37          13  StandardScaler  0.762162  0.752549\n",
              "53          18    MinMaxScaler  0.767568  0.752197\n",
              "55          19  StandardScaler  0.767568  0.752197\n",
              "52          18  StandardScaler  0.767568  0.750241\n",
              "46          16  StandardScaler  0.767568  0.750241\n",
              "43          15  StandardScaler  0.762162  0.749218\n",
              "35          12    MinMaxScaler  0.762162  0.749218\n",
              "59          20    MinMaxScaler  0.767568  0.748165\n",
              "42          15       No Scaler  0.756757  0.747711\n",
              "36          13       No Scaler  0.756757  0.747711\n",
              "27          10       No Scaler  0.756757  0.744410\n",
              "22           8  StandardScaler  0.756757  0.742598\n",
              "40          14  StandardScaler  0.756757  0.740672\n",
              "41          14    MinMaxScaler  0.756757  0.738625\n",
              "29          10    MinMaxScaler  0.751351  0.737819\n",
              "28          10  StandardScaler  0.751351  0.737819\n",
              "17           6    MinMaxScaler  0.756757  0.736451\n",
              "34          12  StandardScaler  0.751351  0.735909\n",
              "48          17       No Scaler  0.745946  0.734829\n",
              "58          20  StandardScaler  0.756757  0.734145\n",
              "47          16    MinMaxScaler  0.751351  0.733878\n",
              "1            1  StandardScaler  0.740541  0.733249\n",
              "8            3    MinMaxScaler  0.740541  0.733249\n",
              "15           6       No Scaler  0.740541  0.731703\n",
              "7            3  StandardScaler  0.735135  0.725285\n",
              "39          14       No Scaler  0.740541  0.724426\n",
              "12           5       No Scaler  0.724324  0.722704\n",
              "2            1    MinMaxScaler  0.724324  0.718842\n",
              "54          19       No Scaler  0.729730  0.718805\n",
              "51          18       No Scaler  0.724324  0.706095\n",
              "45          16       No Scaler  0.724324  0.703775\n",
              "6            3       No Scaler  0.702703  0.702144\n",
              "33          12       No Scaler  0.724324  0.701312\n",
              "57          20       No Scaler  0.713514  0.694569\n",
              "0            1       No Scaler  0.691892  0.693486\n",
              "11           4    MinMaxScaler  0.724324  0.692984\n",
              "3            2       No Scaler  0.724324  0.689866\n",
              "10           4  StandardScaler  0.724324  0.689866\n",
              "9            4       No Scaler  0.702703  0.685398\n",
              "4            2  StandardScaler  0.718919  0.674972\n",
              "5            2    MinMaxScaler  0.702703  0.665542"
            ],
            "text/html": "<div>\n<style scoped>\n    .dataframe tbody tr th:only-of-type {\n        vertical-align: middle;\n    }\n\n    .dataframe tbody tr th {\n        vertical-align: top;\n    }\n\n    .dataframe thead th {\n        text-align: right;\n    }\n</style>\n<table border=\"1\" class=\"dataframe\">\n  <thead>\n    <tr style=\"text-align: right;\">\n      <th></th>\n      <th>Value of k</th>\n      <th>Scaler</th>\n      <th>Accuracy</th>\n      <th>F1-Score</th>\n    </tr>\n  </thead>\n  <tbody>\n    <tr>\n      <th>14</th>\n      <td>5</td>\n      <td>MinMaxScaler</td>\n      <td>0.800000</td>\n      <td>0.793794</td>\n    </tr>\n    <tr>\n      <th>38</th>\n      <td>13</td>\n      <td>MinMaxScaler</td>\n      <td>0.794595</td>\n      <td>0.787599</td>\n    </tr>\n    <tr>\n      <th>56</th>\n      <td>19</td>\n      <td>MinMaxScaler</td>\n      <td>0.783784</td>\n      <td>0.772016</td>\n    </tr>\n    <tr>\n      <th>32</th>\n      <td>11</td>\n      <td>MinMaxScaler</td>\n      <td>0.778378</td>\n      <td>0.771501</td>\n    </tr>\n    <tr>\n      <th>26</th>\n      <td>9</td>\n      <td>MinMaxScaler</td>\n      <td>0.778378</td>\n      <td>0.771501</td>\n    </tr>\n    <tr>\n      <th>30</th>\n      <td>11</td>\n      <td>No Scaler</td>\n      <td>0.772973</td>\n      <td>0.765240</td>\n    </tr>\n    <tr>\n      <th>16</th>\n      <td>6</td>\n      <td>StandardScaler</td>\n      <td>0.778378</td>\n      <td>0.761858</td>\n    </tr>\n    <tr>\n      <th>49</th>\n      <td>17</td>\n      <td>StandardScaler</td>\n      <td>0.772973</td>\n      <td>0.760617</td>\n    </tr>\n    <tr>\n      <th>25</th>\n      <td>9</td>\n      <td>StandardScaler</td>\n      <td>0.767568</td>\n      <td>0.760355</td>\n    </tr>\n    <tr>\n      <th>44</th>\n      <td>15</td>\n      <td>MinMaxScaler</td>\n      <td>0.767568</td>\n      <td>0.757397</td>\n    </tr>\n    <tr>\n      <th>21</th>\n      <td>8</td>\n      <td>No Scaler</td>\n      <td>0.767568</td>\n      <td>0.757397</td>\n    </tr>\n    <tr>\n      <th>24</th>\n      <td>9</td>\n      <td>No Scaler</td>\n      <td>0.762162</td>\n      <td>0.756803</td>\n    </tr>\n    <tr>\n      <th>20</th>\n      <td>7</td>\n      <td>MinMaxScaler</td>\n      <td>0.762162</td>\n      <td>0.756803</td>\n    </tr>\n    <tr>\n      <th>50</th>\n      <td>17</td>\n      <td>MinMaxScaler</td>\n      <td>0.767568</td>\n      <td>0.755770</td>\n    </tr>\n    <tr>\n      <th>19</th>\n      <td>7</td>\n      <td>StandardScaler</td>\n      <td>0.762162</td>\n      <td>0.755478</td>\n    </tr>\n    <tr>\n      <th>18</th>\n      <td>7</td>\n      <td>No Scaler</td>\n      <td>0.756757</td>\n      <td>0.754275</td>\n    </tr>\n    <tr>\n      <th>31</th>\n      <td>11</td>\n      <td>StandardScaler</td>\n      <td>0.762162</td>\n      <td>0.754061</td>\n    </tr>\n    <tr>\n      <th>13</th>\n      <td>5</td>\n      <td>StandardScaler</td>\n      <td>0.762162</td>\n      <td>0.754061</td>\n    </tr>\n    <tr>\n      <th>23</th>\n      <td>8</td>\n      <td>MinMaxScaler</td>\n      <td>0.767568</td>\n      <td>0.754038</td>\n    </tr>\n    <tr>\n      <th>37</th>\n      <td>13</td>\n      <td>StandardScaler</td>\n      <td>0.762162</td>\n      <td>0.752549</td>\n    </tr>\n    <tr>\n      <th>53</th>\n      <td>18</td>\n      <td>MinMaxScaler</td>\n      <td>0.767568</td>\n      <td>0.752197</td>\n    </tr>\n    <tr>\n      <th>55</th>\n      <td>19</td>\n      <td>StandardScaler</td>\n      <td>0.767568</td>\n      <td>0.752197</td>\n    </tr>\n    <tr>\n      <th>52</th>\n      <td>18</td>\n      <td>StandardScaler</td>\n      <td>0.767568</td>\n      <td>0.750241</td>\n    </tr>\n    <tr>\n      <th>46</th>\n      <td>16</td>\n      <td>StandardScaler</td>\n      <td>0.767568</td>\n      <td>0.750241</td>\n    </tr>\n    <tr>\n      <th>43</th>\n      <td>15</td>\n      <td>StandardScaler</td>\n      <td>0.762162</td>\n      <td>0.749218</td>\n    </tr>\n    <tr>\n      <th>35</th>\n      <td>12</td>\n      <td>MinMaxScaler</td>\n      <td>0.762162</td>\n      <td>0.749218</td>\n    </tr>\n    <tr>\n      <th>59</th>\n      <td>20</td>\n      <td>MinMaxScaler</td>\n      <td>0.767568</td>\n      <td>0.748165</td>\n    </tr>\n    <tr>\n      <th>42</th>\n      <td>15</td>\n      <td>No Scaler</td>\n      <td>0.756757</td>\n      <td>0.747711</td>\n    </tr>\n    <tr>\n      <th>36</th>\n      <td>13</td>\n      <td>No Scaler</td>\n      <td>0.756757</td>\n      <td>0.747711</td>\n    </tr>\n    <tr>\n      <th>27</th>\n      <td>10</td>\n      <td>No Scaler</td>\n      <td>0.756757</td>\n      <td>0.744410</td>\n    </tr>\n    <tr>\n      <th>22</th>\n      <td>8</td>\n      <td>StandardScaler</td>\n      <td>0.756757</td>\n      <td>0.742598</td>\n    </tr>\n    <tr>\n      <th>40</th>\n      <td>14</td>\n      <td>StandardScaler</td>\n      <td>0.756757</td>\n      <td>0.740672</td>\n    </tr>\n    <tr>\n      <th>41</th>\n      <td>14</td>\n      <td>MinMaxScaler</td>\n      <td>0.756757</td>\n      <td>0.738625</td>\n    </tr>\n    <tr>\n      <th>29</th>\n      <td>10</td>\n      <td>MinMaxScaler</td>\n      <td>0.751351</td>\n      <td>0.737819</td>\n    </tr>\n    <tr>\n      <th>28</th>\n      <td>10</td>\n      <td>StandardScaler</td>\n      <td>0.751351</td>\n      <td>0.737819</td>\n    </tr>\n    <tr>\n      <th>17</th>\n      <td>6</td>\n      <td>MinMaxScaler</td>\n      <td>0.756757</td>\n      <td>0.736451</td>\n    </tr>\n    <tr>\n      <th>34</th>\n      <td>12</td>\n      <td>StandardScaler</td>\n      <td>0.751351</td>\n      <td>0.735909</td>\n    </tr>\n    <tr>\n      <th>48</th>\n      <td>17</td>\n      <td>No Scaler</td>\n      <td>0.745946</td>\n      <td>0.734829</td>\n    </tr>\n    <tr>\n      <th>58</th>\n      <td>20</td>\n      <td>StandardScaler</td>\n      <td>0.756757</td>\n      <td>0.734145</td>\n    </tr>\n    <tr>\n      <th>47</th>\n      <td>16</td>\n      <td>MinMaxScaler</td>\n      <td>0.751351</td>\n      <td>0.733878</td>\n    </tr>\n    <tr>\n      <th>1</th>\n      <td>1</td>\n      <td>StandardScaler</td>\n      <td>0.740541</td>\n      <td>0.733249</td>\n    </tr>\n    <tr>\n      <th>8</th>\n      <td>3</td>\n      <td>MinMaxScaler</td>\n      <td>0.740541</td>\n      <td>0.733249</td>\n    </tr>\n    <tr>\n      <th>15</th>\n      <td>6</td>\n      <td>No Scaler</td>\n      <td>0.740541</td>\n      <td>0.731703</td>\n    </tr>\n    <tr>\n      <th>7</th>\n      <td>3</td>\n      <td>StandardScaler</td>\n      <td>0.735135</td>\n      <td>0.725285</td>\n    </tr>\n    <tr>\n      <th>39</th>\n      <td>14</td>\n      <td>No Scaler</td>\n      <td>0.740541</td>\n      <td>0.724426</td>\n    </tr>\n    <tr>\n      <th>12</th>\n      <td>5</td>\n      <td>No Scaler</td>\n      <td>0.724324</td>\n      <td>0.722704</td>\n    </tr>\n    <tr>\n      <th>2</th>\n      <td>1</td>\n      <td>MinMaxScaler</td>\n      <td>0.724324</td>\n      <td>0.718842</td>\n    </tr>\n    <tr>\n      <th>54</th>\n      <td>19</td>\n      <td>No Scaler</td>\n      <td>0.729730</td>\n      <td>0.718805</td>\n    </tr>\n    <tr>\n      <th>51</th>\n      <td>18</td>\n      <td>No Scaler</td>\n      <td>0.724324</td>\n      <td>0.706095</td>\n    </tr>\n    <tr>\n      <th>45</th>\n      <td>16</td>\n      <td>No Scaler</td>\n      <td>0.724324</td>\n      <td>0.703775</td>\n    </tr>\n    <tr>\n      <th>6</th>\n      <td>3</td>\n      <td>No Scaler</td>\n      <td>0.702703</td>\n      <td>0.702144</td>\n    </tr>\n    <tr>\n      <th>33</th>\n      <td>12</td>\n      <td>No Scaler</td>\n      <td>0.724324</td>\n      <td>0.701312</td>\n    </tr>\n    <tr>\n      <th>57</th>\n      <td>20</td>\n      <td>No Scaler</td>\n      <td>0.713514</td>\n      <td>0.694569</td>\n    </tr>\n    <tr>\n      <th>0</th>\n      <td>1</td>\n      <td>No Scaler</td>\n      <td>0.691892</td>\n      <td>0.693486</td>\n    </tr>\n    <tr>\n      <th>11</th>\n      <td>4</td>\n      <td>MinMaxScaler</td>\n      <td>0.724324</td>\n      <td>0.692984</td>\n    </tr>\n    <tr>\n      <th>3</th>\n      <td>2</td>\n      <td>No Scaler</td>\n      <td>0.724324</td>\n      <td>0.689866</td>\n    </tr>\n    <tr>\n      <th>10</th>\n      <td>4</td>\n      <td>StandardScaler</td>\n      <td>0.724324</td>\n      <td>0.689866</td>\n    </tr>\n    <tr>\n      <th>9</th>\n      <td>4</td>\n      <td>No Scaler</td>\n      <td>0.702703</td>\n      <td>0.685398</td>\n    </tr>\n    <tr>\n      <th>4</th>\n      <td>2</td>\n      <td>StandardScaler</td>\n      <td>0.718919</td>\n      <td>0.674972</td>\n    </tr>\n    <tr>\n      <th>5</th>\n      <td>2</td>\n      <td>MinMaxScaler</td>\n      <td>0.702703</td>\n      <td>0.665542</td>\n    </tr>\n  </tbody>\n</table>\n</div>"
          },
          "metadata": {},
          "execution_count": 12
        }
      ]
    },
    {
      "source": [
        "#### Escolhendo os parâmetros do modelo que conseguiu o melhor f1-score"
      ],
      "cell_type": "markdown",
      "metadata": {}
    },
    {
      "cell_type": "code",
      "metadata": {
        "colab": {
          "base_uri": "https://localhost:8080/"
        },
        "id": "h75fdbM5fKRV",
        "outputId": "a6723d5d-2719-408e-c974-81352f208758"
      },
      "source": [
        "best_params = df_results.sort_values(by='F1-Score', ascending=False).iloc[0, :]\n",
        "best_params"
      ],
      "execution_count": 13,
      "outputs": [
        {
          "output_type": "execute_result",
          "data": {
            "text/plain": [
              "Value of k               5\n",
              "Scaler        MinMaxScaler\n",
              "Accuracy               0.8\n",
              "F1-Score          0.793794\n",
              "Name: 14, dtype: object"
            ]
          },
          "metadata": {},
          "execution_count": 13
        }
      ]
    },
    {
      "source": [
        "#### Criando o modelo com os melhores parâmetros. Treinando o modelo agora com todo o conjunto de treino e validando-o com o conjunto de teste. Analisando as métricas f1-score e acurácia pra esse novo modelo de kNN."
      ],
      "cell_type": "markdown",
      "metadata": {}
    },
    {
      "cell_type": "code",
      "metadata": {
        "colab": {
          "base_uri": "https://localhost:8080/"
        },
        "id": "v_cbbPnyg50x",
        "outputId": "a1240a5c-dac4-4e65-d902-b396eebc1d2e"
      },
      "source": [
        "norm = preprocessing.MinMaxScaler()\n",
        "\n",
        "value_k = best_params['Value of k']\n",
        "scaler = best_params['Scaler']\n",
        "\n",
        "\n",
        "knn_melhor = KNeighborsClassifier(n_neighbors=value_k)\n",
        "pipe = Pipeline([('transformer', norm), ('estimator', knn_melhor)])\n",
        "pipe.fit(X_train, y_train)\n",
        "\n",
        "\n",
        "y_pred = pipe.predict(X_test)\n",
        "accuracy = metrics.accuracy_score(y_test, y_pred)\n",
        "f1score = metrics.f1_score(y_test, y_pred, average='weighted', zero_division=0)\n",
        "\n",
        "print(f'Escalonamento: {scaler}')\n",
        "print(f'kNN: k = {value_k}')\n",
        "print('Acurácia: {:.5f}'.format(accuracy))\n",
        "print('F1-Score: {:.5f}'.format(f1score))        \n"
      ],
      "execution_count": 14,
      "outputs": [
        {
          "output_type": "stream",
          "name": "stdout",
          "text": [
            "Escalonamento: MinMaxScaler\nkNN: k = 5\nAcurácia: 0.69481\nF1-Score: 0.69661\n"
          ]
        }
      ]
    },
    {
      "source": [
        "#### Montando um dataframe com apenas os modelos que não utilizaram escalonamento. Ordenando em ordem decrescente da métrica F1-Score"
      ],
      "cell_type": "markdown",
      "metadata": {}
    },
    {
      "cell_type": "code",
      "metadata": {
        "colab": {
          "base_uri": "https://localhost:8080/",
          "height": 359
        },
        "id": "BlKJLdPOd2H0",
        "outputId": "02f2e17c-8f15-4d69-99bd-81a982428810"
      },
      "source": [
        "df_noScaler = df_results[df_results['Scaler'] == 'No Scaler']\n",
        "df_noScaler.sort_values(by='F1-Score', ascending=False).head(10)"
      ],
      "execution_count": 15,
      "outputs": [
        {
          "output_type": "execute_result",
          "data": {
            "text/plain": [
              "    Value of k     Scaler  Accuracy  F1-Score\n",
              "30          11  No Scaler  0.772973  0.765240\n",
              "21           8  No Scaler  0.767568  0.757397\n",
              "24           9  No Scaler  0.762162  0.756803\n",
              "18           7  No Scaler  0.756757  0.754275\n",
              "36          13  No Scaler  0.756757  0.747711\n",
              "42          15  No Scaler  0.756757  0.747711\n",
              "27          10  No Scaler  0.756757  0.744410\n",
              "48          17  No Scaler  0.745946  0.734829\n",
              "15           6  No Scaler  0.740541  0.731703\n",
              "39          14  No Scaler  0.740541  0.724426"
            ],
            "text/html": "<div>\n<style scoped>\n    .dataframe tbody tr th:only-of-type {\n        vertical-align: middle;\n    }\n\n    .dataframe tbody tr th {\n        vertical-align: top;\n    }\n\n    .dataframe thead th {\n        text-align: right;\n    }\n</style>\n<table border=\"1\" class=\"dataframe\">\n  <thead>\n    <tr style=\"text-align: right;\">\n      <th></th>\n      <th>Value of k</th>\n      <th>Scaler</th>\n      <th>Accuracy</th>\n      <th>F1-Score</th>\n    </tr>\n  </thead>\n  <tbody>\n    <tr>\n      <th>30</th>\n      <td>11</td>\n      <td>No Scaler</td>\n      <td>0.772973</td>\n      <td>0.765240</td>\n    </tr>\n    <tr>\n      <th>21</th>\n      <td>8</td>\n      <td>No Scaler</td>\n      <td>0.767568</td>\n      <td>0.757397</td>\n    </tr>\n    <tr>\n      <th>24</th>\n      <td>9</td>\n      <td>No Scaler</td>\n      <td>0.762162</td>\n      <td>0.756803</td>\n    </tr>\n    <tr>\n      <th>18</th>\n      <td>7</td>\n      <td>No Scaler</td>\n      <td>0.756757</td>\n      <td>0.754275</td>\n    </tr>\n    <tr>\n      <th>36</th>\n      <td>13</td>\n      <td>No Scaler</td>\n      <td>0.756757</td>\n      <td>0.747711</td>\n    </tr>\n    <tr>\n      <th>42</th>\n      <td>15</td>\n      <td>No Scaler</td>\n      <td>0.756757</td>\n      <td>0.747711</td>\n    </tr>\n    <tr>\n      <th>27</th>\n      <td>10</td>\n      <td>No Scaler</td>\n      <td>0.756757</td>\n      <td>0.744410</td>\n    </tr>\n    <tr>\n      <th>48</th>\n      <td>17</td>\n      <td>No Scaler</td>\n      <td>0.745946</td>\n      <td>0.734829</td>\n    </tr>\n    <tr>\n      <th>15</th>\n      <td>6</td>\n      <td>No Scaler</td>\n      <td>0.740541</td>\n      <td>0.731703</td>\n    </tr>\n    <tr>\n      <th>39</th>\n      <td>14</td>\n      <td>No Scaler</td>\n      <td>0.740541</td>\n      <td>0.724426</td>\n    </tr>\n  </tbody>\n</table>\n</div>"
          },
          "metadata": {},
          "execution_count": 15
        }
      ]
    },
    {
      "source": [
        "#### Escolhendo os parâmetros do modelo sem escalonamento que conseguiu o melhor f1-score"
      ],
      "cell_type": "markdown",
      "metadata": {}
    },
    {
      "cell_type": "code",
      "metadata": {
        "colab": {
          "base_uri": "https://localhost:8080/"
        },
        "id": "4Lw130M2xJHG",
        "outputId": "32f35e37-7c0b-43bf-d6d9-472925142037"
      },
      "source": [
        "best_params = df_noScaler.sort_values(by='F1-Score', ascending=False).iloc[0, :]\n",
        "best_params"
      ],
      "execution_count": 16,
      "outputs": [
        {
          "output_type": "execute_result",
          "data": {
            "text/plain": [
              "Value of k           11\n",
              "Scaler        No Scaler\n",
              "Accuracy       0.772973\n",
              "F1-Score        0.76524\n",
              "Name: 30, dtype: object"
            ]
          },
          "metadata": {},
          "execution_count": 16
        }
      ]
    },
    {
      "source": [
        "#### Criando o modelo com os melhores parâmetros. Treinando o modelo agora com todo o conjunto de treino e validando-o com o conjunto de teste. Analisando as métricas f1-score e acurácia pra esse novo modelo de kNN."
      ],
      "cell_type": "markdown",
      "metadata": {}
    },
    {
      "cell_type": "code",
      "metadata": {
        "colab": {
          "base_uri": "https://localhost:8080/"
        },
        "id": "6QJZwZPSxY0n",
        "outputId": "a64e7c33-38bf-4efa-8aae-bf6259ae3f5c"
      },
      "source": [
        "\n",
        "value_k = best_params['Value of k']\n",
        "scaler = best_params['Scaler']\n",
        "\n",
        "\n",
        "knn_melhor = KNeighborsClassifier(n_neighbors=value_k)\n",
        "knn_melhor.fit(X_train, y_train)\n",
        "\n",
        "\n",
        "y_pred = knn_melhor.predict(X_test)\n",
        "accuracy = metrics.accuracy_score(y_test, y_pred)\n",
        "f1score = metrics.f1_score(y_test, y_pred, average='weighted', zero_division=0)\n",
        "\n",
        "print(f'Escalonamento: {scaler}')\n",
        "print(f'kNN: k = {value_k}')\n",
        "print('Acurácia: {:.5f}'.format(accuracy))\n",
        "print('F1-Score: {:.5f}'.format(f1score))    "
      ],
      "execution_count": 17,
      "outputs": [
        {
          "output_type": "stream",
          "name": "stdout",
          "text": [
            "Escalonamento: No Scaler\nkNN: k = 11\nAcurácia: 0.71429\nF1-Score: 0.70451\n"
          ]
        }
      ]
    },
    {
      "cell_type": "markdown",
      "metadata": {
        "id": "l76UCSDjp9BT"
      },
      "source": [
        "### 2. Use validação cruzada com k-Fold=5 para obter o melhor valor de k para o kNN com e sem escalonamento de features. Use a métrica F1-Score para obtenção do melhor resultado. Armazene os resultados e faça um ranking deles (Grid Search manual). Mostre os resultados do melhor até o pior valor para o conjunto de validação. Agora treine um modelo com o melhor valor de k com todos os dados de treino (80%). Avalie o modelo final com os dados de teste (20%).\n",
        "\n",
        "* Dicas: (1) use a função cross_val_score do scikit learn com cv=5. (2) use o Pipeline do scikit learn para realizar o escalonamento de features. (3) Não use nessa questão o GridSearchCV do scikit learn."
      ]
    },
    {
      "source": [
        "#### Treinando modelos de KNN, para k variando de 1 a 20, utilizando validação cruzada com o cross_val_score com 5 divisões diferentes para cada modelo e analisando a métrica f1-score"
      ],
      "cell_type": "markdown",
      "metadata": {}
    },
    {
      "cell_type": "code",
      "metadata": {
        "colab": {
          "base_uri": "https://localhost:8080/"
        },
        "id": "R5yK-OSUlxQK",
        "outputId": "c2798094-3d28-474b-94b2-2dd8c00bef84"
      },
      "source": [
        "array_k = np.arange(1, 21)\n",
        "\n",
        "std = preprocessing.StandardScaler()\n",
        "norm = preprocessing.MinMaxScaler()\n",
        "\n",
        "scalers = ['no scaler', std, norm]\n",
        "results = []\n",
        "\n",
        "for k in array_k:\n",
        "    for scaler in scalers:\n",
        "        knn = KNeighborsClassifier(n_neighbors=k)\n",
        "        if scaler == 'no scaler':\n",
        "            pipe = Pipeline([('estimator', knn)])\n",
        "            scl = 'No Scaler'\n",
        "        else:\n",
        "            pipe = Pipeline([('transformer', scaler), ('estimator', knn)])\n",
        "            s = str(scaler)\n",
        "            ind_parenteses = s.find('(')\n",
        "            scl = s[:ind_parenteses]\n",
        "            \n",
        "\n",
        "        f1score = model_selection.cross_val_score(pipe, X_train, y_train, cv=5, scoring='f1_weighted')\n",
        "        \n",
        "        print(f'Escalonamento: {scl}')\n",
        "        print(f'kNN: k = {k}')\n",
        "        print(f'F1-Score: {f1score}')        \n",
        "        print(\"\\n---------------------------------------------------------------------------------\\n\")\n",
        "\n",
        "        \n",
        "        resultado = {'Value of k':k, 'Scaler':scl, 'F1-Score':f1score.mean()}\n",
        "        results.append(resultado)"
      ],
      "execution_count": 18,
      "outputs": [
        {
          "output_type": "stream",
          "name": "stdout",
          "text": [
            "Escalonamento: No Scaler\n",
            "kNN: k = 1\n",
            "F1-Score: [0.66493902 0.6939615  0.72357724 0.70163091 0.60856421]\n",
            "\n",
            "---------------------------------------------------------------------------------\n",
            "\n",
            "Escalonamento: StandardScaler\n",
            "kNN: k = 1\n",
            "F1-Score: [0.69684959 0.73666468 0.71292322 0.7375914  0.73742167]\n",
            "\n",
            "---------------------------------------------------------------------------------\n",
            "\n",
            "Escalonamento: MinMaxScaler\n",
            "kNN: k = 1\n",
            "F1-Score: [0.70513956 0.72749172 0.75469953 0.74722495 0.69049584]\n",
            "\n",
            "---------------------------------------------------------------------------------\n",
            "\n",
            "Escalonamento: No Scaler\n",
            "kNN: k = 2\n",
            "F1-Score: [0.70790481 0.68598813 0.69405851 0.69705182 0.64048092]\n",
            "\n",
            "---------------------------------------------------------------------------------\n",
            "\n",
            "Escalonamento: StandardScaler\n",
            "kNN: k = 2\n",
            "F1-Score: [0.66660744 0.67636369 0.7148648  0.69069014 0.70011774]\n",
            "\n",
            "---------------------------------------------------------------------------------\n",
            "\n",
            "Escalonamento: MinMaxScaler\n",
            "kNN: k = 2\n",
            "F1-Score: [0.65977322 0.70645047 0.74650562 0.67135827 0.68555268]\n",
            "\n",
            "---------------------------------------------------------------------------------\n",
            "\n",
            "Escalonamento: No Scaler\n",
            "kNN: k = 3\n",
            "F1-Score: [0.6939615  0.70880407 0.7219928  0.76213638 0.65570201]\n",
            "\n",
            "---------------------------------------------------------------------------------\n",
            "\n",
            "Escalonamento: StandardScaler\n",
            "kNN: k = 3\n",
            "F1-Score: [0.69261229 0.72317176 0.73478303 0.76670756 0.74701097]\n",
            "\n",
            "---------------------------------------------------------------------------------\n",
            "\n",
            "Escalonamento: MinMaxScaler\n",
            "kNN: k = 3\n",
            "F1-Score: [0.66909993 0.75452099 0.76793516 0.77145058 0.73967713]\n",
            "\n",
            "---------------------------------------------------------------------------------\n",
            "\n",
            "Escalonamento: No Scaler\n",
            "kNN: k = 4\n",
            "F1-Score: [0.72317176 0.69405851 0.72501012 0.74650562 0.63088454]\n",
            "\n",
            "---------------------------------------------------------------------------------\n",
            "\n",
            "Escalonamento: StandardScaler\n",
            "kNN: k = 4\n",
            "F1-Score: [0.7178986  0.66318023 0.75209271 0.7133507  0.73646711]\n",
            "\n",
            "---------------------------------------------------------------------------------\n",
            "\n",
            "Escalonamento: MinMaxScaler\n",
            "kNN: k = 4\n",
            "F1-Score: [0.74219699 0.74331029 0.77657073 0.70645047 0.73299955]\n",
            "\n",
            "---------------------------------------------------------------------------------\n",
            "\n",
            "Escalonamento: No Scaler\n",
            "kNN: k = 5\n",
            "F1-Score: [0.67643399 0.67283936 0.72749172 0.78628682 0.65839134]\n",
            "\n",
            "---------------------------------------------------------------------------------\n",
            "\n",
            "Escalonamento: StandardScaler\n",
            "kNN: k = 5\n",
            "F1-Score: [0.72357724 0.68680264 0.72932761 0.77657073 0.76913258]\n",
            "\n",
            "---------------------------------------------------------------------------------\n",
            "\n",
            "Escalonamento: MinMaxScaler\n",
            "kNN: k = 5\n",
            "F1-Score: [0.73240554 0.74722495 0.74400737 0.78147036 0.73742167]\n",
            "\n",
            "---------------------------------------------------------------------------------\n",
            "\n",
            "Escalonamento: No Scaler\n",
            "kNN: k = 6\n",
            "F1-Score: [0.70639429 0.67657614 0.7375914  0.76398799 0.65512394]\n",
            "\n",
            "---------------------------------------------------------------------------------\n",
            "\n",
            "Escalonamento: StandardScaler\n",
            "kNN: k = 6\n",
            "F1-Score: [0.75209271 0.7148723  0.74219699 0.76149101 0.71519952]\n",
            "\n",
            "---------------------------------------------------------------------------------\n",
            "\n",
            "Escalonamento: MinMaxScaler\n",
            "kNN: k = 6\n",
            "F1-Score: [0.77350417 0.7148723  0.73499566 0.72029898 0.7363461 ]\n",
            "\n",
            "---------------------------------------------------------------------------------\n",
            "\n",
            "Escalonamento: No Scaler\n",
            "kNN: k = 7\n",
            "F1-Score: [0.72496889 0.71820697 0.73666468 0.80338388 0.73434626]\n",
            "\n",
            "---------------------------------------------------------------------------------\n",
            "\n",
            "Escalonamento: StandardScaler\n",
            "kNN: k = 7\n",
            "F1-Score: [0.77987827 0.74939694 0.7695816  0.83583125 0.77655992]\n",
            "\n",
            "---------------------------------------------------------------------------------\n",
            "\n",
            "Escalonamento: MinMaxScaler\n",
            "kNN: k = 7\n",
            "F1-Score: [0.77350379 0.75452099 0.73096233 0.75452099 0.76173473]\n",
            "\n",
            "---------------------------------------------------------------------------------\n",
            "\n",
            "Escalonamento: No Scaler\n",
            "kNN: k = 8\n",
            "F1-Score: [0.76610381 0.68680264 0.73499566 0.76398799 0.72048113]\n",
            "\n",
            "---------------------------------------------------------------------------------\n",
            "\n",
            "Escalonamento: StandardScaler\n",
            "kNN: k = 8\n",
            "F1-Score: [0.78451122 0.7185584  0.7375914  0.76506243 0.74016922]\n",
            "\n",
            "---------------------------------------------------------------------------------\n",
            "\n",
            "Escalonamento: MinMaxScaler\n",
            "kNN: k = 8\n",
            "F1-Score: [0.77536314 0.74331029 0.7375914  0.72479732 0.71829243]\n",
            "\n",
            "---------------------------------------------------------------------------------\n",
            "\n",
            "Escalonamento: No Scaler\n",
            "kNN: k = 9\n",
            "F1-Score: [0.75469953 0.70880407 0.74939694 0.79586393 0.71562923]\n",
            "\n",
            "---------------------------------------------------------------------------------\n",
            "\n",
            "Escalonamento: StandardScaler\n",
            "kNN: k = 9\n",
            "F1-Score: [0.77987827 0.73499566 0.73269007 0.77406821 0.78159047]\n",
            "\n",
            "---------------------------------------------------------------------------------\n",
            "\n",
            "Escalonamento: MinMaxScaler\n",
            "kNN: k = 9\n",
            "F1-Score: [0.7398374  0.74722495 0.72544383 0.72902325 0.74664494]\n",
            "\n",
            "---------------------------------------------------------------------------------\n",
            "\n",
            "Escalonamento: No Scaler\n",
            "kNN: k = 10\n",
            "F1-Score: [0.75135909 0.67657614 0.7375914  0.7713287  0.74946447]\n",
            "\n",
            "---------------------------------------------------------------------------------\n",
            "\n",
            "Escalonamento: StandardScaler\n",
            "kNN: k = 10\n",
            "F1-Score: [0.76052303 0.72902325 0.74482991 0.74331029 0.75079958]\n",
            "\n",
            "---------------------------------------------------------------------------------\n",
            "\n",
            "Escalonamento: MinMaxScaler\n",
            "kNN: k = 10\n",
            "F1-Score: [0.7420836  0.78147036 0.7375914  0.70393167 0.74016922]\n",
            "\n",
            "---------------------------------------------------------------------------------\n",
            "\n",
            "Escalonamento: No Scaler\n",
            "kNN: k = 11\n",
            "F1-Score: [0.70879059 0.69379589 0.71097607 0.80338388 0.73235692]\n",
            "\n",
            "---------------------------------------------------------------------------------\n",
            "\n",
            "Escalonamento: StandardScaler\n",
            "kNN: k = 11\n",
            "F1-Score: [0.75469953 0.7375914  0.76610381 0.75938386 0.74664494]\n",
            "\n",
            "---------------------------------------------------------------------------------\n",
            "\n",
            "Escalonamento: MinMaxScaler\n",
            "kNN: k = 11\n",
            "F1-Score: [0.7336658  0.77145058 0.74400737 0.75209271 0.76674279]\n",
            "\n",
            "---------------------------------------------------------------------------------\n",
            "\n",
            "Escalonamento: No Scaler\n",
            "kNN: k = 12\n",
            "F1-Score: [0.7420836  0.67657614 0.74482991 0.7889188  0.74946447]\n",
            "\n",
            "---------------------------------------------------------------------------------\n",
            "\n",
            "Escalonamento: StandardScaler\n",
            "kNN: k = 12\n",
            "F1-Score: [0.70639429 0.72902325 0.70455073 0.72560755 0.74664494]\n",
            "\n",
            "---------------------------------------------------------------------------------\n",
            "\n",
            "Escalonamento: MinMaxScaler\n",
            "kNN: k = 12\n",
            "F1-Score: [0.75872337 0.75668884 0.73037328 0.74699031 0.7363461 ]\n",
            "\n",
            "---------------------------------------------------------------------------------\n",
            "\n",
            "Escalonamento: No Scaler\n",
            "kNN: k = 13\n",
            "F1-Score: [0.73834617 0.67678456 0.75872337 0.81094446 0.76008061]\n",
            "\n",
            "---------------------------------------------------------------------------------\n",
            "\n",
            "Escalonamento: StandardScaler\n",
            "kNN: k = 13\n",
            "F1-Score: [0.72932761 0.72501012 0.7567267  0.75668884 0.74664494]\n",
            "\n",
            "---------------------------------------------------------------------------------\n",
            "\n",
            "Escalonamento: MinMaxScaler\n",
            "kNN: k = 13\n",
            "F1-Score: [0.76357296 0.77657073 0.76793516 0.78147036 0.73940079]\n",
            "\n",
            "---------------------------------------------------------------------------------\n",
            "\n",
            "Escalonamento: No Scaler\n",
            "kNN: k = 14\n",
            "F1-Score: [0.74400737 0.6657881  0.72781857 0.79641851 0.75203129]\n",
            "\n",
            "---------------------------------------------------------------------------------\n",
            "\n",
            "Escalonamento: StandardScaler\n",
            "kNN: k = 14\n",
            "F1-Score: [0.70639429 0.74650562 0.74482991 0.74331029 0.7435537 ]\n",
            "\n",
            "---------------------------------------------------------------------------------\n",
            "\n",
            "Escalonamento: MinMaxScaler\n",
            "kNN: k = 14\n",
            "F1-Score: [0.7567267  0.74650562 0.7148648  0.71779965 0.73299955]\n",
            "\n",
            "---------------------------------------------------------------------------------\n",
            "\n",
            "Escalonamento: No Scaler\n",
            "kNN: k = 15\n",
            "F1-Score: [0.7219928  0.67344952 0.74400737 0.80126941 0.71227748]\n",
            "\n",
            "---------------------------------------------------------------------------------\n",
            "\n",
            "Escalonamento: StandardScaler\n",
            "kNN: k = 15\n",
            "F1-Score: [0.70163091 0.74942664 0.7567267  0.76398799 0.74664494]\n",
            "\n",
            "---------------------------------------------------------------------------------\n",
            "\n",
            "Escalonamento: MinMaxScaler\n",
            "kNN: k = 15\n",
            "F1-Score: [0.7710529  0.75209271 0.75872337 0.74331029 0.72917218]\n",
            "\n",
            "---------------------------------------------------------------------------------\n",
            "\n",
            "Escalonamento: No Scaler\n",
            "kNN: k = 16\n",
            "F1-Score: [0.71097607 0.67470182 0.74722495 0.7713287  0.70072742]\n",
            "\n",
            "---------------------------------------------------------------------------------\n",
            "\n",
            "Escalonamento: StandardScaler\n",
            "kNN: k = 16\n",
            "F1-Score: [0.68370449 0.7713287  0.73499566 0.73981874 0.7435537 ]\n",
            "\n",
            "---------------------------------------------------------------------------------\n",
            "\n",
            "Escalonamento: MinMaxScaler\n",
            "kNN: k = 16\n",
            "F1-Score: [0.7375914  0.75668884 0.72501012 0.72479732 0.70011774]\n",
            "\n",
            "---------------------------------------------------------------------------------\n",
            "\n",
            "Escalonamento: No Scaler\n",
            "kNN: k = 17\n",
            "F1-Score: [0.70563944 0.6833782  0.75135909 0.77406821 0.73235692]\n",
            "\n",
            "---------------------------------------------------------------------------------\n",
            "\n",
            "Escalonamento: StandardScaler\n",
            "kNN: k = 17\n",
            "F1-Score: [0.68256946 0.77406821 0.76407662 0.73269278 0.75677407]\n",
            "\n",
            "---------------------------------------------------------------------------------\n",
            "\n",
            "Escalonamento: MinMaxScaler\n",
            "kNN: k = 17\n",
            "F1-Score: [0.73666468 0.74942664 0.76407662 0.74331029 0.71876918]\n",
            "\n",
            "---------------------------------------------------------------------------------\n",
            "\n",
            "Escalonamento: No Scaler\n",
            "kNN: k = 18\n",
            "F1-Score: [0.71097607 0.67470182 0.73214572 0.78147036 0.71782871]\n",
            "\n",
            "---------------------------------------------------------------------------------\n",
            "\n",
            "Escalonamento: StandardScaler\n",
            "kNN: k = 18\n",
            "F1-Score: [0.70373223 0.75776228 0.73214572 0.73981874 0.74664494]\n",
            "\n",
            "---------------------------------------------------------------------------------\n",
            "\n",
            "Escalonamento: MinMaxScaler\n",
            "kNN: k = 18\n",
            "F1-Score: [0.7159832  0.72891819 0.7219301  0.72187521 0.68871055]\n",
            "\n",
            "---------------------------------------------------------------------------------\n",
            "\n",
            "Escalonamento: No Scaler\n",
            "kNN: k = 19\n",
            "F1-Score: [0.69996985 0.67249934 0.75209271 0.78398848 0.70838285]\n",
            "\n",
            "---------------------------------------------------------------------------------\n",
            "\n",
            "Escalonamento: StandardScaler\n",
            "kNN: k = 19\n",
            "F1-Score: [0.73478303 0.74650562 0.73499566 0.75051326 0.74946447]\n",
            "\n",
            "---------------------------------------------------------------------------------\n",
            "\n",
            "Escalonamento: MinMaxScaler\n",
            "kNN: k = 19\n",
            "F1-Score: [0.71820697 0.74331029 0.74219699 0.72187521 0.68361532]\n",
            "\n",
            "---------------------------------------------------------------------------------\n",
            "\n",
            "Escalonamento: No Scaler\n",
            "kNN: k = 20\n",
            "F1-Score: [0.70374777 0.68598813 0.73214572 0.7889188  0.70072742]\n",
            "\n",
            "---------------------------------------------------------------------------------\n",
            "\n",
            "Escalonamento: StandardScaler\n",
            "kNN: k = 20\n",
            "F1-Score: [0.68680264 0.75051326 0.7219301  0.74699031 0.74664494]\n",
            "\n",
            "---------------------------------------------------------------------------------\n",
            "\n",
            "Escalonamento: MinMaxScaler\n",
            "kNN: k = 20\n",
            "F1-Score: [0.7159832  0.72891819 0.73214572 0.72891819 0.67520492]\n",
            "\n",
            "---------------------------------------------------------------------------------\n",
            "\n"
          ]
        }
      ]
    },
    {
      "source": [
        "#### Montando um dataframe com os resultados da métrica f1-score de cada modelo e ordenando os modelos de acordo com essa métrica."
      ],
      "cell_type": "markdown",
      "metadata": {}
    },
    {
      "cell_type": "code",
      "metadata": {
        "colab": {
          "base_uri": "https://localhost:8080/",
          "height": 419
        },
        "id": "gd-b_hLwrN5d",
        "outputId": "7a415b09-0762-4b65-c7e6-0bc82ce5e8d1"
      },
      "source": [
        "df_results = pd.DataFrame(results)\n",
        "df_results.sort_values(by='F1-Score', ascending=False)"
      ],
      "execution_count": 19,
      "outputs": [
        {
          "output_type": "execute_result",
          "data": {
            "text/plain": [
              "    Value of k          Scaler  F1-Score\n",
              "19           7  StandardScaler  0.782250\n",
              "38          13    MinMaxScaler  0.765790\n",
              "25           9  StandardScaler  0.760645\n",
              "20           7    MinMaxScaler  0.755049\n",
              "32          11    MinMaxScaler  0.753592\n",
              "31          11  StandardScaler  0.752885\n",
              "44          15    MinMaxScaler  0.750870\n",
              "22           8  StandardScaler  0.749179\n",
              "36          13       No Scaler  0.748976\n",
              "14           5    MinMaxScaler  0.748506\n",
              "35          12    MinMaxScaler  0.745824\n",
              "28          10  StandardScaler  0.745697\n",
              "24           9       No Scaler  0.744879\n",
              "43          15  StandardScaler  0.743683\n",
              "18           7       No Scaler  0.743514\n",
              "55          19  StandardScaler  0.743252\n",
              "37          13  StandardScaler  0.742880\n",
              "50          17    MinMaxScaler  0.742449\n",
              "49          17  StandardScaler  0.742036\n",
              "29          10    MinMaxScaler  0.741049\n",
              "8            3    MinMaxScaler  0.740537\n",
              "33          12       No Scaler  0.740375\n",
              "11           4    MinMaxScaler  0.740306\n",
              "23           8    MinMaxScaler  0.739871\n",
              "26           9    MinMaxScaler  0.737635\n",
              "27          10       No Scaler  0.737264\n",
              "39          14       No Scaler  0.737213\n",
              "16           6  StandardScaler  0.737171\n",
              "13           5  StandardScaler  0.737082\n",
              "40          14  StandardScaler  0.736919\n",
              "52          18  StandardScaler  0.736021\n",
              "17           6    MinMaxScaler  0.736003\n",
              "46          16  StandardScaler  0.734680\n",
              "21           8       No Scaler  0.734474\n",
              "41          14    MinMaxScaler  0.733779\n",
              "7            3  StandardScaler  0.732857\n",
              "42          15       No Scaler  0.730599\n",
              "58          20  StandardScaler  0.730576\n",
              "30          11       No Scaler  0.729861\n",
              "48          17       No Scaler  0.729360\n",
              "47          16    MinMaxScaler  0.728841\n",
              "2            1    MinMaxScaler  0.725010\n",
              "1            1  StandardScaler  0.724290\n",
              "51          18       No Scaler  0.723425\n",
              "54          19       No Scaler  0.723387\n",
              "34          12  StandardScaler  0.722444\n",
              "57          20       No Scaler  0.722306\n",
              "56          19    MinMaxScaler  0.721841\n",
              "45          16       No Scaler  0.720992\n",
              "10           4  StandardScaler  0.716598\n",
              "59          20    MinMaxScaler  0.716234\n",
              "53          18    MinMaxScaler  0.715483\n",
              "6            3       No Scaler  0.708519\n",
              "15           6       No Scaler  0.707935\n",
              "12           5       No Scaler  0.704289\n",
              "9            4       No Scaler  0.703926\n",
              "5            2    MinMaxScaler  0.693928\n",
              "4            2  StandardScaler  0.689729\n",
              "3            2       No Scaler  0.685097\n",
              "0            1       No Scaler  0.678535"
            ],
            "text/html": "<div>\n<style scoped>\n    .dataframe tbody tr th:only-of-type {\n        vertical-align: middle;\n    }\n\n    .dataframe tbody tr th {\n        vertical-align: top;\n    }\n\n    .dataframe thead th {\n        text-align: right;\n    }\n</style>\n<table border=\"1\" class=\"dataframe\">\n  <thead>\n    <tr style=\"text-align: right;\">\n      <th></th>\n      <th>Value of k</th>\n      <th>Scaler</th>\n      <th>F1-Score</th>\n    </tr>\n  </thead>\n  <tbody>\n    <tr>\n      <th>19</th>\n      <td>7</td>\n      <td>StandardScaler</td>\n      <td>0.782250</td>\n    </tr>\n    <tr>\n      <th>38</th>\n      <td>13</td>\n      <td>MinMaxScaler</td>\n      <td>0.765790</td>\n    </tr>\n    <tr>\n      <th>25</th>\n      <td>9</td>\n      <td>StandardScaler</td>\n      <td>0.760645</td>\n    </tr>\n    <tr>\n      <th>20</th>\n      <td>7</td>\n      <td>MinMaxScaler</td>\n      <td>0.755049</td>\n    </tr>\n    <tr>\n      <th>32</th>\n      <td>11</td>\n      <td>MinMaxScaler</td>\n      <td>0.753592</td>\n    </tr>\n    <tr>\n      <th>31</th>\n      <td>11</td>\n      <td>StandardScaler</td>\n      <td>0.752885</td>\n    </tr>\n    <tr>\n      <th>44</th>\n      <td>15</td>\n      <td>MinMaxScaler</td>\n      <td>0.750870</td>\n    </tr>\n    <tr>\n      <th>22</th>\n      <td>8</td>\n      <td>StandardScaler</td>\n      <td>0.749179</td>\n    </tr>\n    <tr>\n      <th>36</th>\n      <td>13</td>\n      <td>No Scaler</td>\n      <td>0.748976</td>\n    </tr>\n    <tr>\n      <th>14</th>\n      <td>5</td>\n      <td>MinMaxScaler</td>\n      <td>0.748506</td>\n    </tr>\n    <tr>\n      <th>35</th>\n      <td>12</td>\n      <td>MinMaxScaler</td>\n      <td>0.745824</td>\n    </tr>\n    <tr>\n      <th>28</th>\n      <td>10</td>\n      <td>StandardScaler</td>\n      <td>0.745697</td>\n    </tr>\n    <tr>\n      <th>24</th>\n      <td>9</td>\n      <td>No Scaler</td>\n      <td>0.744879</td>\n    </tr>\n    <tr>\n      <th>43</th>\n      <td>15</td>\n      <td>StandardScaler</td>\n      <td>0.743683</td>\n    </tr>\n    <tr>\n      <th>18</th>\n      <td>7</td>\n      <td>No Scaler</td>\n      <td>0.743514</td>\n    </tr>\n    <tr>\n      <th>55</th>\n      <td>19</td>\n      <td>StandardScaler</td>\n      <td>0.743252</td>\n    </tr>\n    <tr>\n      <th>37</th>\n      <td>13</td>\n      <td>StandardScaler</td>\n      <td>0.742880</td>\n    </tr>\n    <tr>\n      <th>50</th>\n      <td>17</td>\n      <td>MinMaxScaler</td>\n      <td>0.742449</td>\n    </tr>\n    <tr>\n      <th>49</th>\n      <td>17</td>\n      <td>StandardScaler</td>\n      <td>0.742036</td>\n    </tr>\n    <tr>\n      <th>29</th>\n      <td>10</td>\n      <td>MinMaxScaler</td>\n      <td>0.741049</td>\n    </tr>\n    <tr>\n      <th>8</th>\n      <td>3</td>\n      <td>MinMaxScaler</td>\n      <td>0.740537</td>\n    </tr>\n    <tr>\n      <th>33</th>\n      <td>12</td>\n      <td>No Scaler</td>\n      <td>0.740375</td>\n    </tr>\n    <tr>\n      <th>11</th>\n      <td>4</td>\n      <td>MinMaxScaler</td>\n      <td>0.740306</td>\n    </tr>\n    <tr>\n      <th>23</th>\n      <td>8</td>\n      <td>MinMaxScaler</td>\n      <td>0.739871</td>\n    </tr>\n    <tr>\n      <th>26</th>\n      <td>9</td>\n      <td>MinMaxScaler</td>\n      <td>0.737635</td>\n    </tr>\n    <tr>\n      <th>27</th>\n      <td>10</td>\n      <td>No Scaler</td>\n      <td>0.737264</td>\n    </tr>\n    <tr>\n      <th>39</th>\n      <td>14</td>\n      <td>No Scaler</td>\n      <td>0.737213</td>\n    </tr>\n    <tr>\n      <th>16</th>\n      <td>6</td>\n      <td>StandardScaler</td>\n      <td>0.737171</td>\n    </tr>\n    <tr>\n      <th>13</th>\n      <td>5</td>\n      <td>StandardScaler</td>\n      <td>0.737082</td>\n    </tr>\n    <tr>\n      <th>40</th>\n      <td>14</td>\n      <td>StandardScaler</td>\n      <td>0.736919</td>\n    </tr>\n    <tr>\n      <th>52</th>\n      <td>18</td>\n      <td>StandardScaler</td>\n      <td>0.736021</td>\n    </tr>\n    <tr>\n      <th>17</th>\n      <td>6</td>\n      <td>MinMaxScaler</td>\n      <td>0.736003</td>\n    </tr>\n    <tr>\n      <th>46</th>\n      <td>16</td>\n      <td>StandardScaler</td>\n      <td>0.734680</td>\n    </tr>\n    <tr>\n      <th>21</th>\n      <td>8</td>\n      <td>No Scaler</td>\n      <td>0.734474</td>\n    </tr>\n    <tr>\n      <th>41</th>\n      <td>14</td>\n      <td>MinMaxScaler</td>\n      <td>0.733779</td>\n    </tr>\n    <tr>\n      <th>7</th>\n      <td>3</td>\n      <td>StandardScaler</td>\n      <td>0.732857</td>\n    </tr>\n    <tr>\n      <th>42</th>\n      <td>15</td>\n      <td>No Scaler</td>\n      <td>0.730599</td>\n    </tr>\n    <tr>\n      <th>58</th>\n      <td>20</td>\n      <td>StandardScaler</td>\n      <td>0.730576</td>\n    </tr>\n    <tr>\n      <th>30</th>\n      <td>11</td>\n      <td>No Scaler</td>\n      <td>0.729861</td>\n    </tr>\n    <tr>\n      <th>48</th>\n      <td>17</td>\n      <td>No Scaler</td>\n      <td>0.729360</td>\n    </tr>\n    <tr>\n      <th>47</th>\n      <td>16</td>\n      <td>MinMaxScaler</td>\n      <td>0.728841</td>\n    </tr>\n    <tr>\n      <th>2</th>\n      <td>1</td>\n      <td>MinMaxScaler</td>\n      <td>0.725010</td>\n    </tr>\n    <tr>\n      <th>1</th>\n      <td>1</td>\n      <td>StandardScaler</td>\n      <td>0.724290</td>\n    </tr>\n    <tr>\n      <th>51</th>\n      <td>18</td>\n      <td>No Scaler</td>\n      <td>0.723425</td>\n    </tr>\n    <tr>\n      <th>54</th>\n      <td>19</td>\n      <td>No Scaler</td>\n      <td>0.723387</td>\n    </tr>\n    <tr>\n      <th>34</th>\n      <td>12</td>\n      <td>StandardScaler</td>\n      <td>0.722444</td>\n    </tr>\n    <tr>\n      <th>57</th>\n      <td>20</td>\n      <td>No Scaler</td>\n      <td>0.722306</td>\n    </tr>\n    <tr>\n      <th>56</th>\n      <td>19</td>\n      <td>MinMaxScaler</td>\n      <td>0.721841</td>\n    </tr>\n    <tr>\n      <th>45</th>\n      <td>16</td>\n      <td>No Scaler</td>\n      <td>0.720992</td>\n    </tr>\n    <tr>\n      <th>10</th>\n      <td>4</td>\n      <td>StandardScaler</td>\n      <td>0.716598</td>\n    </tr>\n    <tr>\n      <th>59</th>\n      <td>20</td>\n      <td>MinMaxScaler</td>\n      <td>0.716234</td>\n    </tr>\n    <tr>\n      <th>53</th>\n      <td>18</td>\n      <td>MinMaxScaler</td>\n      <td>0.715483</td>\n    </tr>\n    <tr>\n      <th>6</th>\n      <td>3</td>\n      <td>No Scaler</td>\n      <td>0.708519</td>\n    </tr>\n    <tr>\n      <th>15</th>\n      <td>6</td>\n      <td>No Scaler</td>\n      <td>0.707935</td>\n    </tr>\n    <tr>\n      <th>12</th>\n      <td>5</td>\n      <td>No Scaler</td>\n      <td>0.704289</td>\n    </tr>\n    <tr>\n      <th>9</th>\n      <td>4</td>\n      <td>No Scaler</td>\n      <td>0.703926</td>\n    </tr>\n    <tr>\n      <th>5</th>\n      <td>2</td>\n      <td>MinMaxScaler</td>\n      <td>0.693928</td>\n    </tr>\n    <tr>\n      <th>4</th>\n      <td>2</td>\n      <td>StandardScaler</td>\n      <td>0.689729</td>\n    </tr>\n    <tr>\n      <th>3</th>\n      <td>2</td>\n      <td>No Scaler</td>\n      <td>0.685097</td>\n    </tr>\n    <tr>\n      <th>0</th>\n      <td>1</td>\n      <td>No Scaler</td>\n      <td>0.678535</td>\n    </tr>\n  </tbody>\n</table>\n</div>"
          },
          "metadata": {},
          "execution_count": 19
        }
      ]
    },
    {
      "source": [
        "#### Escolhendo os parâmetros do modelo que conseguiu o melhor f1-score"
      ],
      "cell_type": "markdown",
      "metadata": {}
    },
    {
      "cell_type": "code",
      "execution_count": 20,
      "metadata": {},
      "outputs": [
        {
          "output_type": "execute_result",
          "data": {
            "text/plain": [
              "Value of k                 7\n",
              "Scaler        StandardScaler\n",
              "F1-Score             0.78225\n",
              "Name: 19, dtype: object"
            ]
          },
          "metadata": {},
          "execution_count": 20
        }
      ],
      "source": [
        "best_params = df_results.sort_values(by='F1-Score', ascending=False).iloc[0, :]\n",
        "best_params"
      ]
    },
    {
      "source": [
        "#### Criando o modelo com os melhores parâmetros. Treinando o modelo agora com todo o conjunto de treino e validando-o com o conjunto de teste. Analisando as métricas f1-score e acurácia pra esse novo modelo de kNN."
      ],
      "cell_type": "markdown",
      "metadata": {}
    },
    {
      "cell_type": "code",
      "execution_count": 21,
      "metadata": {},
      "outputs": [
        {
          "output_type": "stream",
          "name": "stdout",
          "text": [
            "Escalonamento: StandardScaler\nkNN: k = 7\nAcurácia: 0.71429\nF1-Score: 0.71159\n"
          ]
        }
      ],
      "source": [
        "std = preprocessing.StandardScaler()\n",
        "\n",
        "value_k = best_params['Value of k']\n",
        "scaler = best_params['Scaler']\n",
        "\n",
        "\n",
        "knn_melhor = KNeighborsClassifier(n_neighbors=value_k)\n",
        "pipe = Pipeline([('transformer', std), ('estimator', knn_melhor)])\n",
        "pipe.fit(X_train, y_train)\n",
        "\n",
        "\n",
        "y_pred = pipe.predict(X_test)\n",
        "accuracy = metrics.accuracy_score(y_test, y_pred)\n",
        "f1score = metrics.f1_score(y_test, y_pred, average='weighted', zero_division=0)\n",
        "\n",
        "print(f'Escalonamento: {scaler}')\n",
        "print(f'kNN: k = {value_k}')\n",
        "print('Acurácia: {:.5f}'.format(accuracy))\n",
        "print('F1-Score: {:.5f}'.format(f1score)) "
      ]
    },
    {
      "source": [
        "#### Montando um dataframe com apenas os modelos que não utilizaram escalonamento. Ordenando em ordem decrescente da métrica F1-Score"
      ],
      "cell_type": "markdown",
      "metadata": {}
    },
    {
      "cell_type": "code",
      "metadata": {
        "id": "iToV5Yupwzyx"
      },
      "source": [
        "df_noScaler = df_results[df_results['Scaler'] == 'No Scaler']\n",
        "df_noScaler.sort_values(by='F1-Score', ascending=False).head(10)"
      ],
      "execution_count": 22,
      "outputs": [
        {
          "output_type": "execute_result",
          "data": {
            "text/plain": [
              "    Value of k     Scaler  F1-Score\n",
              "36          13  No Scaler  0.748976\n",
              "24           9  No Scaler  0.744879\n",
              "18           7  No Scaler  0.743514\n",
              "33          12  No Scaler  0.740375\n",
              "27          10  No Scaler  0.737264\n",
              "39          14  No Scaler  0.737213\n",
              "21           8  No Scaler  0.734474\n",
              "42          15  No Scaler  0.730599\n",
              "30          11  No Scaler  0.729861\n",
              "48          17  No Scaler  0.729360"
            ],
            "text/html": "<div>\n<style scoped>\n    .dataframe tbody tr th:only-of-type {\n        vertical-align: middle;\n    }\n\n    .dataframe tbody tr th {\n        vertical-align: top;\n    }\n\n    .dataframe thead th {\n        text-align: right;\n    }\n</style>\n<table border=\"1\" class=\"dataframe\">\n  <thead>\n    <tr style=\"text-align: right;\">\n      <th></th>\n      <th>Value of k</th>\n      <th>Scaler</th>\n      <th>F1-Score</th>\n    </tr>\n  </thead>\n  <tbody>\n    <tr>\n      <th>36</th>\n      <td>13</td>\n      <td>No Scaler</td>\n      <td>0.748976</td>\n    </tr>\n    <tr>\n      <th>24</th>\n      <td>9</td>\n      <td>No Scaler</td>\n      <td>0.744879</td>\n    </tr>\n    <tr>\n      <th>18</th>\n      <td>7</td>\n      <td>No Scaler</td>\n      <td>0.743514</td>\n    </tr>\n    <tr>\n      <th>33</th>\n      <td>12</td>\n      <td>No Scaler</td>\n      <td>0.740375</td>\n    </tr>\n    <tr>\n      <th>27</th>\n      <td>10</td>\n      <td>No Scaler</td>\n      <td>0.737264</td>\n    </tr>\n    <tr>\n      <th>39</th>\n      <td>14</td>\n      <td>No Scaler</td>\n      <td>0.737213</td>\n    </tr>\n    <tr>\n      <th>21</th>\n      <td>8</td>\n      <td>No Scaler</td>\n      <td>0.734474</td>\n    </tr>\n    <tr>\n      <th>42</th>\n      <td>15</td>\n      <td>No Scaler</td>\n      <td>0.730599</td>\n    </tr>\n    <tr>\n      <th>30</th>\n      <td>11</td>\n      <td>No Scaler</td>\n      <td>0.729861</td>\n    </tr>\n    <tr>\n      <th>48</th>\n      <td>17</td>\n      <td>No Scaler</td>\n      <td>0.729360</td>\n    </tr>\n  </tbody>\n</table>\n</div>"
          },
          "metadata": {},
          "execution_count": 22
        }
      ]
    },
    {
      "source": [
        "#### Escolhendo os parâmetros do modelo sem escalonamento que conseguiu o melhor f1-score"
      ],
      "cell_type": "markdown",
      "metadata": {}
    },
    {
      "cell_type": "code",
      "execution_count": 23,
      "metadata": {},
      "outputs": [
        {
          "output_type": "execute_result",
          "data": {
            "text/plain": [
              "Value of k           13\n",
              "Scaler        No Scaler\n",
              "F1-Score       0.748976\n",
              "Name: 36, dtype: object"
            ]
          },
          "metadata": {},
          "execution_count": 23
        }
      ],
      "source": [
        "best_params = df_noScaler.sort_values(by='F1-Score', ascending=False).iloc[0, :]\n",
        "best_params"
      ]
    },
    {
      "source": [
        "#### Criando o modelo com os melhores parâmetros. Treinando o modelo agora com todo o conjunto de treino e validando-o com o conjunto de teste. Analisando as métricas f1-score e acurácia pra esse novo modelo de kNN."
      ],
      "cell_type": "markdown",
      "metadata": {}
    },
    {
      "cell_type": "code",
      "execution_count": 24,
      "metadata": {},
      "outputs": [
        {
          "output_type": "stream",
          "name": "stdout",
          "text": [
            "Escalonamento: No Scaler\nkNN: k = 13\nAcurácia: 0.70779\nF1-Score: 0.70080\n"
          ]
        }
      ],
      "source": [
        "\n",
        "value_k = best_params['Value of k']\n",
        "scaler = best_params['Scaler']\n",
        "\n",
        "\n",
        "knn_melhor = KNeighborsClassifier(n_neighbors=value_k)\n",
        "knn_melhor.fit(X_train, y_train)\n",
        "\n",
        "\n",
        "y_pred = knn_melhor.predict(X_test)\n",
        "accuracy = metrics.accuracy_score(y_test, y_pred)\n",
        "f1score = metrics.f1_score(y_test, y_pred, average='weighted', zero_division=0)\n",
        "\n",
        "print(f'Escalonamento: {scaler}')\n",
        "print(f'kNN: k = {value_k}')\n",
        "print('Acurácia: {:.5f}'.format(accuracy))\n",
        "print('F1-Score: {:.5f}'.format(f1score)) "
      ]
    },
    {
      "source": [
        "#### 3. Responda a questão 1 só que agora usando o GridSearchCV do scikit learn. Dica: Nesta questão você não deve usar o cross_val_score do scikit learn."
      ],
      "cell_type": "markdown",
      "metadata": {}
    },
    {
      "source": [
        "#### Dividindo os dados em 80% para o conjunto de treino e 20% para o conjunto de teste"
      ],
      "cell_type": "markdown",
      "metadata": {}
    },
    {
      "cell_type": "code",
      "execution_count": 25,
      "metadata": {},
      "outputs": [
        {
          "output_type": "stream",
          "name": "stdout",
          "text": [
            "Conjunto x de treino: 614\nConjunto x de teste: 154\nConjunto y de treino: 614\nConjunto y de teste: 154\n"
          ]
        }
      ],
      "source": [
        "X_train, X_test, y_train, y_test = model_selection.train_test_split(X_values, y_values, test_size=0.2, random_state=142, stratify=y_values)\n",
        "print(\"Conjunto x de treino:\", len(X_train))\n",
        "print(\"Conjunto x de teste:\", len(X_test))\n",
        "print(\"Conjunto y de treino:\", len(y_train))\n",
        "print(\"Conjunto y de teste:\", len(y_test))"
      ]
    },
    {
      "source": [
        "Verificando os parâmetros existentes no classificador KNeighborsClassifier"
      ],
      "cell_type": "markdown",
      "metadata": {}
    },
    {
      "cell_type": "code",
      "execution_count": 26,
      "metadata": {},
      "outputs": [
        {
          "output_type": "execute_result",
          "data": {
            "text/plain": [
              "dict_keys(['algorithm', 'leaf_size', 'metric', 'metric_params', 'n_jobs', 'n_neighbors', 'p', 'weights'])"
            ]
          },
          "metadata": {},
          "execution_count": 26
        }
      ],
      "source": [
        "model = KNeighborsClassifier()\n",
        "model.get_params().keys()"
      ]
    },
    {
      "source": [
        "#### Utilizando o GridSearchCV para encontrar os melhores modelos para cada escalonamento (No Scaler, Standard Scaler, MinMax Scaler), de acordo com a métrica f1-score, para os seguintes parâmetros: n_neighbors, weights, metric."
      ],
      "cell_type": "markdown",
      "metadata": {}
    },
    {
      "cell_type": "code",
      "execution_count": 27,
      "metadata": {},
      "outputs": [
        {
          "output_type": "stream",
          "name": "stdout",
          "text": [
            "Escalonamento: No Scaler\n",
            "Melhor F1-Score: 0.7572505826802554\n",
            "Melhores parâmetros: {'kneighborsclassifier__metric': 'manhattan', 'kneighborsclassifier__n_neighbors': 12, 'kneighborsclassifier__weights': 'distance'}\n",
            "\n",
            "---------------------------------------------------------------------------------\n",
            "\n",
            "Escalonamento: StandardScaler\n",
            "Melhor F1-Score: 0.7825835625547974\n",
            "Melhores parâmetros: {'kneighborsclassifier__metric': 'minkowski', 'kneighborsclassifier__n_neighbors': 7, 'kneighborsclassifier__weights': 'distance'}\n",
            "\n",
            "---------------------------------------------------------------------------------\n",
            "\n",
            "Escalonamento: MinMaxScaler\n",
            "Melhor F1-Score: 0.7657899989862841\n",
            "Melhores parâmetros: {'kneighborsclassifier__metric': 'minkowski', 'kneighborsclassifier__n_neighbors': 13, 'kneighborsclassifier__weights': 'uniform'}\n",
            "\n",
            "---------------------------------------------------------------------------------\n",
            "\n"
          ]
        }
      ],
      "source": [
        "std = preprocessing.StandardScaler()\n",
        "norm = preprocessing.MinMaxScaler()\n",
        "scalers = ['no scaler', std, norm]\n",
        "grid_results = []\n",
        "\n",
        "for scaler in scalers:\n",
        "    model = KNeighborsClassifier()\n",
        "    if scaler == 'no scaler':\n",
        "        pipe = pipeline.make_pipeline(model)\n",
        "        scl = 'No Scaler'\n",
        "    else:\n",
        "        pipe = pipeline.make_pipeline(scaler, model)\n",
        "        s = str(scaler)\n",
        "        ind_parenteses = s.find('(')\n",
        "        scl = s[:ind_parenteses]\n",
        "            \n",
        "    param_k = np.arange(1, 21)\n",
        "    param_grid = {'kneighborsclassifier__n_neighbors': param_k, \n",
        "                  'kneighborsclassifier__weights':['uniform', 'distance'],\n",
        "                  'kneighborsclassifier__metric':['manhattan', 'minkowski']}\n",
        "\n",
        "    gridSearch = model_selection.GridSearchCV(estimator=pipe, param_grid=param_grid, return_train_score=False, scoring='f1_weighted', cv=5)\n",
        "    gs = gridSearch.fit(X=X_train, y=y_train)\n",
        "    print(f'Escalonamento: {scl}')\n",
        "    print(f'Melhor F1-Score: {gs.best_score_}')        \n",
        "    print(f'Melhores parâmetros: {gs.best_params_}')\n",
        "    print(\"\\n---------------------------------------------------------------------------------\\n\")\n",
        "    \n",
        "    grid_results.append(gs)\n",
        "\n"
      ]
    },
    {
      "source": [
        "#### Analisando as chaves retornadas no dicionário com os resultados de um dos GridSearchs."
      ],
      "cell_type": "markdown",
      "metadata": {}
    },
    {
      "cell_type": "code",
      "execution_count": 28,
      "metadata": {},
      "outputs": [
        {
          "output_type": "execute_result",
          "data": {
            "text/plain": [
              "dict_keys(['mean_fit_time', 'std_fit_time', 'mean_score_time', 'std_score_time', 'param_kneighborsclassifier__metric', 'param_kneighborsclassifier__n_neighbors', 'param_kneighborsclassifier__weights', 'params', 'split0_test_score', 'split1_test_score', 'split2_test_score', 'split3_test_score', 'split4_test_score', 'mean_test_score', 'std_test_score', 'rank_test_score'])"
            ]
          },
          "metadata": {},
          "execution_count": 28
        }
      ],
      "source": [
        "keys = grid_results[0].cv_results_.keys()\n",
        "keys"
      ]
    },
    {
      "source": [
        "#### Gerando um dataframe para o resultado do primeiro GridSearch, referente aos modelos que não utilizaram escalonamento. Esse dataframe é ordenado de acordo com rank_test_score, que foi organizado de acordo com a métrica escolhida, que nesse caso foi o f1-score."
      ],
      "cell_type": "markdown",
      "metadata": {}
    },
    {
      "cell_type": "code",
      "execution_count": 29,
      "metadata": {},
      "outputs": [
        {
          "output_type": "execute_result",
          "data": {
            "text/plain": [
              "    mean_fit_time  std_fit_time  mean_score_time  std_score_time  \\\n",
              "23       0.001719      0.000468         0.004017        0.000859   \n",
              "20       0.001415      0.000283         0.009500        0.001552   \n",
              "24       0.001799      0.000229         0.011494        0.002424   \n",
              "27       0.001682      0.000311         0.004468        0.000790   \n",
              "39       0.001301      0.000079         0.003967        0.000696   \n",
              "\n",
              "   param_kneighborsclassifier__metric param_kneighborsclassifier__n_neighbors  \\\n",
              "23                          manhattan                                      12   \n",
              "20                          manhattan                                      11   \n",
              "24                          manhattan                                      13   \n",
              "27                          manhattan                                      14   \n",
              "39                          manhattan                                      20   \n",
              "\n",
              "   param_kneighborsclassifier__weights  \\\n",
              "23                            distance   \n",
              "20                             uniform   \n",
              "24                             uniform   \n",
              "27                            distance   \n",
              "39                            distance   \n",
              "\n",
              "                                               params  split0_test_score  \\\n",
              "23  {'kneighborsclassifier__metric': 'manhattan', ...           0.749807   \n",
              "20  {'kneighborsclassifier__metric': 'manhattan', ...           0.758391   \n",
              "24  {'kneighborsclassifier__metric': 'manhattan', ...           0.739837   \n",
              "27  {'kneighborsclassifier__metric': 'manhattan', ...           0.724969   \n",
              "39  {'kneighborsclassifier__metric': 'manhattan', ...           0.716188   \n",
              "\n",
              "    split1_test_score  split2_test_score  split3_test_score  \\\n",
              "23           0.706394           0.792003           0.795864   \n",
              "20           0.710807           0.749397           0.812875   \n",
              "24           0.700802           0.756727           0.820481   \n",
              "27           0.710807           0.784511           0.795864   \n",
              "39           0.744830           0.780928           0.798953   \n",
              "\n",
              "    split4_test_score  mean_test_score  std_test_score  rank_test_score  \n",
              "23           0.742185         0.757251        0.033369                1  \n",
              "20           0.747011         0.755696        0.032884                2  \n",
              "24           0.756472         0.754864        0.038627                3  \n",
              "27           0.752031         0.753637        0.032849                4  \n",
              "39           0.717829         0.751745        0.033295                5  "
            ],
            "text/html": "<div>\n<style scoped>\n    .dataframe tbody tr th:only-of-type {\n        vertical-align: middle;\n    }\n\n    .dataframe tbody tr th {\n        vertical-align: top;\n    }\n\n    .dataframe thead th {\n        text-align: right;\n    }\n</style>\n<table border=\"1\" class=\"dataframe\">\n  <thead>\n    <tr style=\"text-align: right;\">\n      <th></th>\n      <th>mean_fit_time</th>\n      <th>std_fit_time</th>\n      <th>mean_score_time</th>\n      <th>std_score_time</th>\n      <th>param_kneighborsclassifier__metric</th>\n      <th>param_kneighborsclassifier__n_neighbors</th>\n      <th>param_kneighborsclassifier__weights</th>\n      <th>params</th>\n      <th>split0_test_score</th>\n      <th>split1_test_score</th>\n      <th>split2_test_score</th>\n      <th>split3_test_score</th>\n      <th>split4_test_score</th>\n      <th>mean_test_score</th>\n      <th>std_test_score</th>\n      <th>rank_test_score</th>\n    </tr>\n  </thead>\n  <tbody>\n    <tr>\n      <th>23</th>\n      <td>0.001719</td>\n      <td>0.000468</td>\n      <td>0.004017</td>\n      <td>0.000859</td>\n      <td>manhattan</td>\n      <td>12</td>\n      <td>distance</td>\n      <td>{'kneighborsclassifier__metric': 'manhattan', ...</td>\n      <td>0.749807</td>\n      <td>0.706394</td>\n      <td>0.792003</td>\n      <td>0.795864</td>\n      <td>0.742185</td>\n      <td>0.757251</td>\n      <td>0.033369</td>\n      <td>1</td>\n    </tr>\n    <tr>\n      <th>20</th>\n      <td>0.001415</td>\n      <td>0.000283</td>\n      <td>0.009500</td>\n      <td>0.001552</td>\n      <td>manhattan</td>\n      <td>11</td>\n      <td>uniform</td>\n      <td>{'kneighborsclassifier__metric': 'manhattan', ...</td>\n      <td>0.758391</td>\n      <td>0.710807</td>\n      <td>0.749397</td>\n      <td>0.812875</td>\n      <td>0.747011</td>\n      <td>0.755696</td>\n      <td>0.032884</td>\n      <td>2</td>\n    </tr>\n    <tr>\n      <th>24</th>\n      <td>0.001799</td>\n      <td>0.000229</td>\n      <td>0.011494</td>\n      <td>0.002424</td>\n      <td>manhattan</td>\n      <td>13</td>\n      <td>uniform</td>\n      <td>{'kneighborsclassifier__metric': 'manhattan', ...</td>\n      <td>0.739837</td>\n      <td>0.700802</td>\n      <td>0.756727</td>\n      <td>0.820481</td>\n      <td>0.756472</td>\n      <td>0.754864</td>\n      <td>0.038627</td>\n      <td>3</td>\n    </tr>\n    <tr>\n      <th>27</th>\n      <td>0.001682</td>\n      <td>0.000311</td>\n      <td>0.004468</td>\n      <td>0.000790</td>\n      <td>manhattan</td>\n      <td>14</td>\n      <td>distance</td>\n      <td>{'kneighborsclassifier__metric': 'manhattan', ...</td>\n      <td>0.724969</td>\n      <td>0.710807</td>\n      <td>0.784511</td>\n      <td>0.795864</td>\n      <td>0.752031</td>\n      <td>0.753637</td>\n      <td>0.032849</td>\n      <td>4</td>\n    </tr>\n    <tr>\n      <th>39</th>\n      <td>0.001301</td>\n      <td>0.000079</td>\n      <td>0.003967</td>\n      <td>0.000696</td>\n      <td>manhattan</td>\n      <td>20</td>\n      <td>distance</td>\n      <td>{'kneighborsclassifier__metric': 'manhattan', ...</td>\n      <td>0.716188</td>\n      <td>0.744830</td>\n      <td>0.780928</td>\n      <td>0.798953</td>\n      <td>0.717829</td>\n      <td>0.751745</td>\n      <td>0.033295</td>\n      <td>5</td>\n    </tr>\n  </tbody>\n</table>\n</div>"
          },
          "metadata": {},
          "execution_count": 29
        }
      ],
      "source": [
        "df_results_noScaler = pd.DataFrame(grid_results[0].cv_results_)\n",
        "df_results_noScaler_ordered = df_results_noScaler.sort_values(by='rank_test_score')\n",
        "df_results_noScaler_ordered.head()"
      ]
    },
    {
      "source": [
        "#### Gerando um dataframe para o resultado do segundo GridSearch, referente aos modelos que utilizaram o escalonamento Standard Scaler. Esse dataframe é ordenado de acordo com rank_test_score, que foi organizado de acordo com a métrica escolhida, que nesse caso foi o f1-score."
      ],
      "cell_type": "markdown",
      "metadata": {}
    },
    {
      "cell_type": "code",
      "execution_count": 30,
      "metadata": {},
      "outputs": [
        {
          "output_type": "execute_result",
          "data": {
            "text/plain": [
              "    mean_fit_time  std_fit_time  mean_score_time  std_score_time  \\\n",
              "53       0.002581      0.000375         0.005003        0.001075   \n",
              "52       0.002494      0.000567         0.010214        0.000909   \n",
              "55       0.002431      0.000438         0.004602        0.000528   \n",
              "31       0.002726      0.000388         0.006434        0.000931   \n",
              "59       0.002670      0.000558         0.004351        0.000141   \n",
              "\n",
              "   param_kneighborsclassifier__metric param_kneighborsclassifier__n_neighbors  \\\n",
              "53                          minkowski                                       7   \n",
              "52                          minkowski                                       7   \n",
              "55                          minkowski                                       8   \n",
              "31                          manhattan                                      16   \n",
              "59                          minkowski                                      10   \n",
              "\n",
              "   param_kneighborsclassifier__weights  \\\n",
              "53                            distance   \n",
              "52                             uniform   \n",
              "55                            distance   \n",
              "31                            distance   \n",
              "59                            distance   \n",
              "\n",
              "                                               params  split0_test_score  \\\n",
              "53  {'kneighborsclassifier__metric': 'minkowski', ...           0.764841   \n",
              "52  {'kneighborsclassifier__metric': 'minkowski', ...           0.779878   \n",
              "55  {'kneighborsclassifier__metric': 'minkowski', ...           0.757325   \n",
              "31  {'kneighborsclassifier__metric': 'manhattan', ...           0.736665   \n",
              "59  {'kneighborsclassifier__metric': 'minkowski', ...           0.778541   \n",
              "\n",
              "    split1_test_score  split2_test_score  split3_test_score  \\\n",
              "53           0.766104           0.769582           0.835831   \n",
              "52           0.749397           0.769582           0.835831   \n",
              "55           0.766104           0.767935           0.793758   \n",
              "31           0.769190           0.784511           0.771329   \n",
              "59           0.764077           0.749397           0.766708   \n",
              "\n",
              "    split4_test_score  mean_test_score  std_test_score  rank_test_score  \n",
              "53           0.776560         0.782584        0.026933                1  \n",
              "52           0.776560         0.782250        0.028805                2  \n",
              "55           0.776560         0.772336        0.012331                3  \n",
              "31           0.784021         0.769143        0.017419                4  \n",
              "59           0.781590         0.768062        0.011480                5  "
            ],
            "text/html": "<div>\n<style scoped>\n    .dataframe tbody tr th:only-of-type {\n        vertical-align: middle;\n    }\n\n    .dataframe tbody tr th {\n        vertical-align: top;\n    }\n\n    .dataframe thead th {\n        text-align: right;\n    }\n</style>\n<table border=\"1\" class=\"dataframe\">\n  <thead>\n    <tr style=\"text-align: right;\">\n      <th></th>\n      <th>mean_fit_time</th>\n      <th>std_fit_time</th>\n      <th>mean_score_time</th>\n      <th>std_score_time</th>\n      <th>param_kneighborsclassifier__metric</th>\n      <th>param_kneighborsclassifier__n_neighbors</th>\n      <th>param_kneighborsclassifier__weights</th>\n      <th>params</th>\n      <th>split0_test_score</th>\n      <th>split1_test_score</th>\n      <th>split2_test_score</th>\n      <th>split3_test_score</th>\n      <th>split4_test_score</th>\n      <th>mean_test_score</th>\n      <th>std_test_score</th>\n      <th>rank_test_score</th>\n    </tr>\n  </thead>\n  <tbody>\n    <tr>\n      <th>53</th>\n      <td>0.002581</td>\n      <td>0.000375</td>\n      <td>0.005003</td>\n      <td>0.001075</td>\n      <td>minkowski</td>\n      <td>7</td>\n      <td>distance</td>\n      <td>{'kneighborsclassifier__metric': 'minkowski', ...</td>\n      <td>0.764841</td>\n      <td>0.766104</td>\n      <td>0.769582</td>\n      <td>0.835831</td>\n      <td>0.776560</td>\n      <td>0.782584</td>\n      <td>0.026933</td>\n      <td>1</td>\n    </tr>\n    <tr>\n      <th>52</th>\n      <td>0.002494</td>\n      <td>0.000567</td>\n      <td>0.010214</td>\n      <td>0.000909</td>\n      <td>minkowski</td>\n      <td>7</td>\n      <td>uniform</td>\n      <td>{'kneighborsclassifier__metric': 'minkowski', ...</td>\n      <td>0.779878</td>\n      <td>0.749397</td>\n      <td>0.769582</td>\n      <td>0.835831</td>\n      <td>0.776560</td>\n      <td>0.782250</td>\n      <td>0.028805</td>\n      <td>2</td>\n    </tr>\n    <tr>\n      <th>55</th>\n      <td>0.002431</td>\n      <td>0.000438</td>\n      <td>0.004602</td>\n      <td>0.000528</td>\n      <td>minkowski</td>\n      <td>8</td>\n      <td>distance</td>\n      <td>{'kneighborsclassifier__metric': 'minkowski', ...</td>\n      <td>0.757325</td>\n      <td>0.766104</td>\n      <td>0.767935</td>\n      <td>0.793758</td>\n      <td>0.776560</td>\n      <td>0.772336</td>\n      <td>0.012331</td>\n      <td>3</td>\n    </tr>\n    <tr>\n      <th>31</th>\n      <td>0.002726</td>\n      <td>0.000388</td>\n      <td>0.006434</td>\n      <td>0.000931</td>\n      <td>manhattan</td>\n      <td>16</td>\n      <td>distance</td>\n      <td>{'kneighborsclassifier__metric': 'manhattan', ...</td>\n      <td>0.736665</td>\n      <td>0.769190</td>\n      <td>0.784511</td>\n      <td>0.771329</td>\n      <td>0.784021</td>\n      <td>0.769143</td>\n      <td>0.017419</td>\n      <td>4</td>\n    </tr>\n    <tr>\n      <th>59</th>\n      <td>0.002670</td>\n      <td>0.000558</td>\n      <td>0.004351</td>\n      <td>0.000141</td>\n      <td>minkowski</td>\n      <td>10</td>\n      <td>distance</td>\n      <td>{'kneighborsclassifier__metric': 'minkowski', ...</td>\n      <td>0.778541</td>\n      <td>0.764077</td>\n      <td>0.749397</td>\n      <td>0.766708</td>\n      <td>0.781590</td>\n      <td>0.768062</td>\n      <td>0.011480</td>\n      <td>5</td>\n    </tr>\n  </tbody>\n</table>\n</div>"
          },
          "metadata": {},
          "execution_count": 30
        }
      ],
      "source": [
        "df_results_std = pd.DataFrame(grid_results[1].cv_results_)\n",
        "df_results_std_ordered = df_results_std.sort_values(by='rank_test_score')\n",
        "df_results_std_ordered.head()"
      ]
    },
    {
      "source": [
        "#### Gerando um dataframe para o resultado do terceiro GridSearch, referente aos modelos que utilizaram o escalonamento MinMax Scaler. Esse dataframe é ordenado de acordo com rank_test_score, que foi organizado de acordo com a métrica escolhida, que nesse caso foi o f1-score."
      ],
      "cell_type": "markdown",
      "metadata": {}
    },
    {
      "cell_type": "code",
      "execution_count": 31,
      "metadata": {},
      "outputs": [
        {
          "output_type": "execute_result",
          "data": {
            "text/plain": [
              "    mean_fit_time  std_fit_time  mean_score_time  std_score_time  \\\n",
              "64       0.001823      0.000156         0.010989        0.001280   \n",
              "23       0.002070      0.000309         0.005982        0.001085   \n",
              "65       0.002145      0.000300         0.005503        0.000762   \n",
              "35       0.002249      0.000331         0.006124        0.001029   \n",
              "21       0.001954      0.000342         0.005862        0.000708   \n",
              "\n",
              "   param_kneighborsclassifier__metric param_kneighborsclassifier__n_neighbors  \\\n",
              "64                          minkowski                                      13   \n",
              "23                          manhattan                                      12   \n",
              "65                          minkowski                                      13   \n",
              "35                          manhattan                                      18   \n",
              "21                          manhattan                                      11   \n",
              "\n",
              "   param_kneighborsclassifier__weights  \\\n",
              "64                             uniform   \n",
              "23                            distance   \n",
              "65                            distance   \n",
              "35                            distance   \n",
              "21                            distance   \n",
              "\n",
              "                                               params  split0_test_score  \\\n",
              "64  {'kneighborsclassifier__metric': 'minkowski', ...           0.763573   \n",
              "23  {'kneighborsclassifier__metric': 'manhattan', ...           0.754700   \n",
              "65  {'kneighborsclassifier__metric': 'minkowski', ...           0.763573   \n",
              "35  {'kneighborsclassifier__metric': 'manhattan', ...           0.699276   \n",
              "21  {'kneighborsclassifier__metric': 'manhattan', ...           0.760523   \n",
              "\n",
              "    split1_test_score  split2_test_score  split3_test_score  \\\n",
              "64           0.776571           0.767935           0.781470   \n",
              "23           0.771451           0.780928           0.763988   \n",
              "65           0.759384           0.758723           0.781470   \n",
              "35           0.764077           0.792003           0.775706   \n",
              "21           0.764077           0.764077           0.752093   \n",
              "\n",
              "    split4_test_score  mean_test_score  std_test_score  rank_test_score  \n",
              "64           0.739401         0.765790        0.014615                1  \n",
              "23           0.743554         0.762924        0.012968                2  \n",
              "65           0.746645         0.761959        0.011269                3  \n",
              "35           0.761240         0.758460        0.031510                4  \n",
              "21           0.746645         0.757483        0.006967                5  "
            ],
            "text/html": "<div>\n<style scoped>\n    .dataframe tbody tr th:only-of-type {\n        vertical-align: middle;\n    }\n\n    .dataframe tbody tr th {\n        vertical-align: top;\n    }\n\n    .dataframe thead th {\n        text-align: right;\n    }\n</style>\n<table border=\"1\" class=\"dataframe\">\n  <thead>\n    <tr style=\"text-align: right;\">\n      <th></th>\n      <th>mean_fit_time</th>\n      <th>std_fit_time</th>\n      <th>mean_score_time</th>\n      <th>std_score_time</th>\n      <th>param_kneighborsclassifier__metric</th>\n      <th>param_kneighborsclassifier__n_neighbors</th>\n      <th>param_kneighborsclassifier__weights</th>\n      <th>params</th>\n      <th>split0_test_score</th>\n      <th>split1_test_score</th>\n      <th>split2_test_score</th>\n      <th>split3_test_score</th>\n      <th>split4_test_score</th>\n      <th>mean_test_score</th>\n      <th>std_test_score</th>\n      <th>rank_test_score</th>\n    </tr>\n  </thead>\n  <tbody>\n    <tr>\n      <th>64</th>\n      <td>0.001823</td>\n      <td>0.000156</td>\n      <td>0.010989</td>\n      <td>0.001280</td>\n      <td>minkowski</td>\n      <td>13</td>\n      <td>uniform</td>\n      <td>{'kneighborsclassifier__metric': 'minkowski', ...</td>\n      <td>0.763573</td>\n      <td>0.776571</td>\n      <td>0.767935</td>\n      <td>0.781470</td>\n      <td>0.739401</td>\n      <td>0.765790</td>\n      <td>0.014615</td>\n      <td>1</td>\n    </tr>\n    <tr>\n      <th>23</th>\n      <td>0.002070</td>\n      <td>0.000309</td>\n      <td>0.005982</td>\n      <td>0.001085</td>\n      <td>manhattan</td>\n      <td>12</td>\n      <td>distance</td>\n      <td>{'kneighborsclassifier__metric': 'manhattan', ...</td>\n      <td>0.754700</td>\n      <td>0.771451</td>\n      <td>0.780928</td>\n      <td>0.763988</td>\n      <td>0.743554</td>\n      <td>0.762924</td>\n      <td>0.012968</td>\n      <td>2</td>\n    </tr>\n    <tr>\n      <th>65</th>\n      <td>0.002145</td>\n      <td>0.000300</td>\n      <td>0.005503</td>\n      <td>0.000762</td>\n      <td>minkowski</td>\n      <td>13</td>\n      <td>distance</td>\n      <td>{'kneighborsclassifier__metric': 'minkowski', ...</td>\n      <td>0.763573</td>\n      <td>0.759384</td>\n      <td>0.758723</td>\n      <td>0.781470</td>\n      <td>0.746645</td>\n      <td>0.761959</td>\n      <td>0.011269</td>\n      <td>3</td>\n    </tr>\n    <tr>\n      <th>35</th>\n      <td>0.002249</td>\n      <td>0.000331</td>\n      <td>0.006124</td>\n      <td>0.001029</td>\n      <td>manhattan</td>\n      <td>18</td>\n      <td>distance</td>\n      <td>{'kneighborsclassifier__metric': 'manhattan', ...</td>\n      <td>0.699276</td>\n      <td>0.764077</td>\n      <td>0.792003</td>\n      <td>0.775706</td>\n      <td>0.761240</td>\n      <td>0.758460</td>\n      <td>0.031510</td>\n      <td>4</td>\n    </tr>\n    <tr>\n      <th>21</th>\n      <td>0.001954</td>\n      <td>0.000342</td>\n      <td>0.005862</td>\n      <td>0.000708</td>\n      <td>manhattan</td>\n      <td>11</td>\n      <td>distance</td>\n      <td>{'kneighborsclassifier__metric': 'manhattan', ...</td>\n      <td>0.760523</td>\n      <td>0.764077</td>\n      <td>0.764077</td>\n      <td>0.752093</td>\n      <td>0.746645</td>\n      <td>0.757483</td>\n      <td>0.006967</td>\n      <td>5</td>\n    </tr>\n  </tbody>\n</table>\n</div>"
          },
          "metadata": {},
          "execution_count": 31
        }
      ],
      "source": [
        "df_results_norm = pd.DataFrame(grid_results[2].cv_results_)\n",
        "df_results_norm_ordered = df_results_norm.sort_values(by='rank_test_score')\n",
        "df_results_norm_ordered.head()"
      ]
    },
    {
      "source": [
        "#### Montando um dataframe apenas com o melhor resultado de cada um dos GridSearchs."
      ],
      "cell_type": "markdown",
      "metadata": {}
    },
    {
      "cell_type": "code",
      "execution_count": 32,
      "metadata": {},
      "outputs": [
        {
          "output_type": "execute_result",
          "data": {
            "text/plain": [
              "    mean_fit_time  std_fit_time  mean_score_time  std_score_time  \\\n",
              "23       0.001719      0.000468         0.004017        0.000859   \n",
              "53       0.002581      0.000375         0.005003        0.001075   \n",
              "64       0.001823      0.000156         0.010989        0.001280   \n",
              "\n",
              "   param_kneighborsclassifier__metric  \\\n",
              "23                          manhattan   \n",
              "53                          minkowski   \n",
              "64                          minkowski   \n",
              "\n",
              "    param_kneighborsclassifier__n_neighbors  \\\n",
              "23                                       12   \n",
              "53                                        7   \n",
              "64                                       13   \n",
              "\n",
              "   param_kneighborsclassifier__weights  \\\n",
              "23                            distance   \n",
              "53                            distance   \n",
              "64                             uniform   \n",
              "\n",
              "                                               params  split0_test_score  \\\n",
              "23  {'kneighborsclassifier__metric': 'manhattan', ...           0.749807   \n",
              "53  {'kneighborsclassifier__metric': 'minkowski', ...           0.764841   \n",
              "64  {'kneighborsclassifier__metric': 'minkowski', ...           0.763573   \n",
              "\n",
              "    split1_test_score  split2_test_score  split3_test_score  \\\n",
              "23           0.706394           0.792003           0.795864   \n",
              "53           0.766104           0.769582           0.835831   \n",
              "64           0.776571           0.767935           0.781470   \n",
              "\n",
              "    split4_test_score  mean_test_score  std_test_score  rank_test_score  \\\n",
              "23           0.742185         0.757251        0.033369                1   \n",
              "53           0.776560         0.782584        0.026933                1   \n",
              "64           0.739401         0.765790        0.014615                1   \n",
              "\n",
              "            scaler  \n",
              "23       No Scaler  \n",
              "53  StandardScaler  \n",
              "64    MinMaxScaler  "
            ],
            "text/html": "<div>\n<style scoped>\n    .dataframe tbody tr th:only-of-type {\n        vertical-align: middle;\n    }\n\n    .dataframe tbody tr th {\n        vertical-align: top;\n    }\n\n    .dataframe thead th {\n        text-align: right;\n    }\n</style>\n<table border=\"1\" class=\"dataframe\">\n  <thead>\n    <tr style=\"text-align: right;\">\n      <th></th>\n      <th>mean_fit_time</th>\n      <th>std_fit_time</th>\n      <th>mean_score_time</th>\n      <th>std_score_time</th>\n      <th>param_kneighborsclassifier__metric</th>\n      <th>param_kneighborsclassifier__n_neighbors</th>\n      <th>param_kneighborsclassifier__weights</th>\n      <th>params</th>\n      <th>split0_test_score</th>\n      <th>split1_test_score</th>\n      <th>split2_test_score</th>\n      <th>split3_test_score</th>\n      <th>split4_test_score</th>\n      <th>mean_test_score</th>\n      <th>std_test_score</th>\n      <th>rank_test_score</th>\n      <th>scaler</th>\n    </tr>\n  </thead>\n  <tbody>\n    <tr>\n      <th>23</th>\n      <td>0.001719</td>\n      <td>0.000468</td>\n      <td>0.004017</td>\n      <td>0.000859</td>\n      <td>manhattan</td>\n      <td>12</td>\n      <td>distance</td>\n      <td>{'kneighborsclassifier__metric': 'manhattan', ...</td>\n      <td>0.749807</td>\n      <td>0.706394</td>\n      <td>0.792003</td>\n      <td>0.795864</td>\n      <td>0.742185</td>\n      <td>0.757251</td>\n      <td>0.033369</td>\n      <td>1</td>\n      <td>No Scaler</td>\n    </tr>\n    <tr>\n      <th>53</th>\n      <td>0.002581</td>\n      <td>0.000375</td>\n      <td>0.005003</td>\n      <td>0.001075</td>\n      <td>minkowski</td>\n      <td>7</td>\n      <td>distance</td>\n      <td>{'kneighborsclassifier__metric': 'minkowski', ...</td>\n      <td>0.764841</td>\n      <td>0.766104</td>\n      <td>0.769582</td>\n      <td>0.835831</td>\n      <td>0.776560</td>\n      <td>0.782584</td>\n      <td>0.026933</td>\n      <td>1</td>\n      <td>StandardScaler</td>\n    </tr>\n    <tr>\n      <th>64</th>\n      <td>0.001823</td>\n      <td>0.000156</td>\n      <td>0.010989</td>\n      <td>0.001280</td>\n      <td>minkowski</td>\n      <td>13</td>\n      <td>uniform</td>\n      <td>{'kneighborsclassifier__metric': 'minkowski', ...</td>\n      <td>0.763573</td>\n      <td>0.776571</td>\n      <td>0.767935</td>\n      <td>0.781470</td>\n      <td>0.739401</td>\n      <td>0.765790</td>\n      <td>0.014615</td>\n      <td>1</td>\n      <td>MinMaxScaler</td>\n    </tr>\n  </tbody>\n</table>\n</div>"
          },
          "metadata": {},
          "execution_count": 32
        }
      ],
      "source": [
        "best_results = []\n",
        "scalers = ['No Scaler', 'StandardScaler', 'MinMaxScaler']\n",
        "for i in range(0, len(grid_results)):\n",
        "    results = pd.DataFrame(grid_results[i].cv_results_)\n",
        "    results_ordered = results.sort_values(by='rank_test_score')\n",
        "    results_ordered['scaler'] = scalers[i]\n",
        "    best_results.append(results_ordered.iloc[0, :])\n",
        "\n",
        "df_results = pd.DataFrame(best_results)\n",
        "df_results"
      ]
    },
    {
      "source": [
        "#### Treinando os modelos com os melhores parâmetros encontrados pelo GridSearch para cada tipo de escalonamento. O modelo é avaliado no conjunto de teste e as métricas f1-score e acurácia são observadas."
      ],
      "cell_type": "markdown",
      "metadata": {}
    },
    {
      "cell_type": "code",
      "execution_count": 33,
      "metadata": {},
      "outputs": [
        {
          "output_type": "stream",
          "name": "stdout",
          "text": [
            "Escalonamento: No Scaler\nkNN: k = 12\nAcurácia: 0.69481\nF1-Score: 0.69112\n\n---------------------------------------------------------------------------------\n\nEscalonamento: StandardScaler\nkNN: k = 7\nAcurácia: 0.74026\nF1-Score: 0.72941\n\n---------------------------------------------------------------------------------\n\nEscalonamento: MinMaxScaler\nkNN: k = 13\nAcurácia: 0.72078\nF1-Score: 0.71020\n\n---------------------------------------------------------------------------------\n\n"
          ]
        }
      ],
      "source": [
        "std = preprocessing.StandardScaler()\n",
        "norm = preprocessing.MinMaxScaler()\n",
        "scalers = ['no scaler', std, norm]\n",
        "for i in range(0, len(df_results)):\n",
        "    row = df_results.iloc[i, :]\n",
        "    n_neighbors = row['param_kneighborsclassifier__n_neighbors']\n",
        "    metric = row['param_kneighborsclassifier__metric']\n",
        "    weights = row['param_kneighborsclassifier__weights']\n",
        "    scaler = row['scaler'] \n",
        "    \n",
        "    model = KNeighborsClassifier(n_neighbors=n_neighbors, metric=metric, weights=weights)\n",
        "    \n",
        "    if i == 0:\n",
        "        pipe = Pipeline([('estimator', model)])\n",
        "    else:\n",
        "        pipe = Pipeline([('transformer', scalers[i]), ('estimator', knn)])\n",
        "    \n",
        "\n",
        "    pipe.fit(X_train, y_train)\n",
        "    y_pred = pipe.predict(X_test)\n",
        "    accuracy = metrics.accuracy_score(y_test, y_pred)\n",
        "    f1score = metrics.f1_score(y_test, y_pred, average='weighted', zero_division=0)\n",
        "\n",
        "    print(f'Escalonamento: {scaler}')\n",
        "    print(f'kNN: k = {n_neighbors}')\n",
        "    print('Acurácia: {:.5f}'.format(accuracy))\n",
        "    print('F1-Score: {:.5f}'.format(f1score))\n",
        "    print(\"\\n---------------------------------------------------------------------------------\\n\")"
      ]
    }
  ]
}