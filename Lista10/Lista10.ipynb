{
  "nbformat": 4,
  "nbformat_minor": 2,
  "metadata": {
    "orig_nbformat": 4,
    "language_info": {
      "name": "python",
      "version": "3.8.5",
      "mimetype": "text/x-python",
      "codemirror_mode": {
        "name": "ipython",
        "version": 3
      },
      "pygments_lexer": "ipython3",
      "nbconvert_exporter": "python",
      "file_extension": ".py"
    },
    "kernelspec": {
      "name": "python3",
      "display_name": "Python 3.8.5 64-bit ('base': conda)"
    },
    "interpreter": {
      "hash": "524d636d59c6b2112627e6c30b816bd1b3aeade150146fdc441a08affc9a3198"
    },
    "colab": {
      "name": "Lista10.ipynb",
      "provenance": [],
      "collapsed_sections": []
    }
  },
  "cells": [
    {
      "cell_type": "markdown",
      "source": [
        "# Lista 10 - Aprendizado de Máquina\n",
        "\n",
        "## Aluno: Ruan Felipe de Almeida Silva - 397048"
      ],
      "metadata": {
        "id": "fGYbZAKV-NUP"
      }
    },
    {
      "cell_type": "code",
      "execution_count": 87,
      "source": [
        "from google.colab import drive\n",
        "drive.mount('/content/drive')"
      ],
      "outputs": [
        {
          "output_type": "stream",
          "name": "stdout",
          "text": [
            "Drive already mounted at /content/drive; to attempt to forcibly remount, call drive.mount(\"/content/drive\", force_remount=True).\n"
          ]
        }
      ],
      "metadata": {
        "colab": {
          "base_uri": "https://localhost:8080/"
        },
        "id": "g4nenDGQ0hkd",
        "outputId": "4e53317c-0084-44fe-a990-e46aa2936ef5"
      }
    },
    {
      "cell_type": "code",
      "execution_count": 88,
      "source": [
        "import pandas as pd\n",
        "import numpy as np\n",
        "from sklearn import metrics\n",
        "import matplotlib.pyplot as plt\n",
        "from sklearn import model_selection\n",
        "\n",
        "from sklearn.neighbors import KNeighborsClassifier\n",
        "from sklearn.linear_model import LogisticRegression\n",
        "from sklearn import svm\n",
        "from sklearn import naive_bayes\n",
        "from sklearn import tree\n",
        "from sklearn import ensemble\n",
        "\n",
        "\n",
        "import warnings\n",
        "warnings.filterwarnings('ignore')"
      ],
      "outputs": [],
      "metadata": {
        "id": "cerjO3P0-NUU"
      }
    },
    {
      "cell_type": "markdown",
      "source": [
        "### Resolva o problema de classificação binária sobre o dataset \"Pima Indians Diabetes Database\". \n"
      ],
      "metadata": {
        "id": "rur7UOng-NUX"
      }
    },
    {
      "cell_type": "markdown",
      "source": [
        "#### Importação dos dados."
      ],
      "metadata": {
        "id": "UWhZD8Ps-NUY"
      }
    },
    {
      "cell_type": "code",
      "execution_count": 89,
      "source": [
        "# dataframe = pd.read_csv('diabetes.csv', delimiter=',')\n",
        "dataframe = pd.read_csv('/content/drive/MyDrive/ufc - ec/Aprend_Maquina/datasets/diabetes.csv', delimiter=',')\n",
        "dataframe"
      ],
      "outputs": [
        {
          "output_type": "execute_result",
          "data": {
            "text/plain": [
              "     Pregnancies  Glucose  ...  Age  Outcome\n",
              "0              6      148  ...   50        1\n",
              "1              1       85  ...   31        0\n",
              "2              8      183  ...   32        1\n",
              "3              1       89  ...   21        0\n",
              "4              0      137  ...   33        1\n",
              "..           ...      ...  ...  ...      ...\n",
              "763           10      101  ...   63        0\n",
              "764            2      122  ...   27        0\n",
              "765            5      121  ...   30        0\n",
              "766            1      126  ...   47        1\n",
              "767            1       93  ...   23        0\n",
              "\n",
              "[768 rows x 9 columns]"
            ],
            "text/html": [
              "<div>\n",
              "<style scoped>\n",
              "    .dataframe tbody tr th:only-of-type {\n",
              "        vertical-align: middle;\n",
              "    }\n",
              "\n",
              "    .dataframe tbody tr th {\n",
              "        vertical-align: top;\n",
              "    }\n",
              "\n",
              "    .dataframe thead th {\n",
              "        text-align: right;\n",
              "    }\n",
              "</style>\n",
              "<table border=\"1\" class=\"dataframe\">\n",
              "  <thead>\n",
              "    <tr style=\"text-align: right;\">\n",
              "      <th></th>\n",
              "      <th>Pregnancies</th>\n",
              "      <th>Glucose</th>\n",
              "      <th>BloodPressure</th>\n",
              "      <th>SkinThickness</th>\n",
              "      <th>Insulin</th>\n",
              "      <th>BMI</th>\n",
              "      <th>DiabetesPedigreeFunction</th>\n",
              "      <th>Age</th>\n",
              "      <th>Outcome</th>\n",
              "    </tr>\n",
              "  </thead>\n",
              "  <tbody>\n",
              "    <tr>\n",
              "      <th>0</th>\n",
              "      <td>6</td>\n",
              "      <td>148</td>\n",
              "      <td>72</td>\n",
              "      <td>35</td>\n",
              "      <td>0</td>\n",
              "      <td>33.6</td>\n",
              "      <td>0.627</td>\n",
              "      <td>50</td>\n",
              "      <td>1</td>\n",
              "    </tr>\n",
              "    <tr>\n",
              "      <th>1</th>\n",
              "      <td>1</td>\n",
              "      <td>85</td>\n",
              "      <td>66</td>\n",
              "      <td>29</td>\n",
              "      <td>0</td>\n",
              "      <td>26.6</td>\n",
              "      <td>0.351</td>\n",
              "      <td>31</td>\n",
              "      <td>0</td>\n",
              "    </tr>\n",
              "    <tr>\n",
              "      <th>2</th>\n",
              "      <td>8</td>\n",
              "      <td>183</td>\n",
              "      <td>64</td>\n",
              "      <td>0</td>\n",
              "      <td>0</td>\n",
              "      <td>23.3</td>\n",
              "      <td>0.672</td>\n",
              "      <td>32</td>\n",
              "      <td>1</td>\n",
              "    </tr>\n",
              "    <tr>\n",
              "      <th>3</th>\n",
              "      <td>1</td>\n",
              "      <td>89</td>\n",
              "      <td>66</td>\n",
              "      <td>23</td>\n",
              "      <td>94</td>\n",
              "      <td>28.1</td>\n",
              "      <td>0.167</td>\n",
              "      <td>21</td>\n",
              "      <td>0</td>\n",
              "    </tr>\n",
              "    <tr>\n",
              "      <th>4</th>\n",
              "      <td>0</td>\n",
              "      <td>137</td>\n",
              "      <td>40</td>\n",
              "      <td>35</td>\n",
              "      <td>168</td>\n",
              "      <td>43.1</td>\n",
              "      <td>2.288</td>\n",
              "      <td>33</td>\n",
              "      <td>1</td>\n",
              "    </tr>\n",
              "    <tr>\n",
              "      <th>...</th>\n",
              "      <td>...</td>\n",
              "      <td>...</td>\n",
              "      <td>...</td>\n",
              "      <td>...</td>\n",
              "      <td>...</td>\n",
              "      <td>...</td>\n",
              "      <td>...</td>\n",
              "      <td>...</td>\n",
              "      <td>...</td>\n",
              "    </tr>\n",
              "    <tr>\n",
              "      <th>763</th>\n",
              "      <td>10</td>\n",
              "      <td>101</td>\n",
              "      <td>76</td>\n",
              "      <td>48</td>\n",
              "      <td>180</td>\n",
              "      <td>32.9</td>\n",
              "      <td>0.171</td>\n",
              "      <td>63</td>\n",
              "      <td>0</td>\n",
              "    </tr>\n",
              "    <tr>\n",
              "      <th>764</th>\n",
              "      <td>2</td>\n",
              "      <td>122</td>\n",
              "      <td>70</td>\n",
              "      <td>27</td>\n",
              "      <td>0</td>\n",
              "      <td>36.8</td>\n",
              "      <td>0.340</td>\n",
              "      <td>27</td>\n",
              "      <td>0</td>\n",
              "    </tr>\n",
              "    <tr>\n",
              "      <th>765</th>\n",
              "      <td>5</td>\n",
              "      <td>121</td>\n",
              "      <td>72</td>\n",
              "      <td>23</td>\n",
              "      <td>112</td>\n",
              "      <td>26.2</td>\n",
              "      <td>0.245</td>\n",
              "      <td>30</td>\n",
              "      <td>0</td>\n",
              "    </tr>\n",
              "    <tr>\n",
              "      <th>766</th>\n",
              "      <td>1</td>\n",
              "      <td>126</td>\n",
              "      <td>60</td>\n",
              "      <td>0</td>\n",
              "      <td>0</td>\n",
              "      <td>30.1</td>\n",
              "      <td>0.349</td>\n",
              "      <td>47</td>\n",
              "      <td>1</td>\n",
              "    </tr>\n",
              "    <tr>\n",
              "      <th>767</th>\n",
              "      <td>1</td>\n",
              "      <td>93</td>\n",
              "      <td>70</td>\n",
              "      <td>31</td>\n",
              "      <td>0</td>\n",
              "      <td>30.4</td>\n",
              "      <td>0.315</td>\n",
              "      <td>23</td>\n",
              "      <td>0</td>\n",
              "    </tr>\n",
              "  </tbody>\n",
              "</table>\n",
              "<p>768 rows × 9 columns</p>\n",
              "</div>"
            ]
          },
          "metadata": {
            "tags": []
          },
          "execution_count": 89
        }
      ],
      "metadata": {
        "id": "no11vPzZ-NUZ",
        "colab": {
          "base_uri": "https://localhost:8080/",
          "height": 419
        },
        "outputId": "6003c9e5-7d0a-450f-ad57-f2feea033b10"
      }
    },
    {
      "cell_type": "markdown",
      "source": [
        "#### Verificando os tipos de dados do dataset.\n",
        "\n"
      ],
      "metadata": {
        "id": "srWOq5-D-NUa"
      }
    },
    {
      "cell_type": "code",
      "execution_count": 90,
      "source": [
        "dataframe.dtypes"
      ],
      "outputs": [
        {
          "output_type": "execute_result",
          "data": {
            "text/plain": [
              "Pregnancies                   int64\n",
              "Glucose                       int64\n",
              "BloodPressure                 int64\n",
              "SkinThickness                 int64\n",
              "Insulin                       int64\n",
              "BMI                         float64\n",
              "DiabetesPedigreeFunction    float64\n",
              "Age                           int64\n",
              "Outcome                       int64\n",
              "dtype: object"
            ]
          },
          "metadata": {
            "tags": []
          },
          "execution_count": 90
        }
      ],
      "metadata": {
        "id": "7FVIUcr9-NUb",
        "colab": {
          "base_uri": "https://localhost:8080/"
        },
        "outputId": "c04535b9-7b85-48b3-e7e4-e2b38959e916"
      }
    },
    {
      "cell_type": "markdown",
      "source": [
        "#### Verificando se existem valores faltantes no conjunto de dados."
      ],
      "metadata": {
        "id": "s0utzUN6-NUc"
      }
    },
    {
      "cell_type": "code",
      "execution_count": 91,
      "source": [
        "dataframe.isna().sum()"
      ],
      "outputs": [
        {
          "output_type": "execute_result",
          "data": {
            "text/plain": [
              "Pregnancies                 0\n",
              "Glucose                     0\n",
              "BloodPressure               0\n",
              "SkinThickness               0\n",
              "Insulin                     0\n",
              "BMI                         0\n",
              "DiabetesPedigreeFunction    0\n",
              "Age                         0\n",
              "Outcome                     0\n",
              "dtype: int64"
            ]
          },
          "metadata": {
            "tags": []
          },
          "execution_count": 91
        }
      ],
      "metadata": {
        "id": "FuVl0WT_-NUd",
        "colab": {
          "base_uri": "https://localhost:8080/"
        },
        "outputId": "10292e98-1bdc-4498-e0ee-7d9b41dd5e93"
      }
    },
    {
      "cell_type": "markdown",
      "source": [
        "#### Dividindo o dataset nas features e no target e verificando os valores de target desse dataset."
      ],
      "metadata": {
        "id": "aD2wu9yv-NUf"
      }
    },
    {
      "cell_type": "code",
      "execution_count": 92,
      "source": [
        "X = dataframe.drop('Outcome', axis=1)\n",
        "y = dataframe['Outcome']\n",
        "np.unique(y)"
      ],
      "outputs": [
        {
          "output_type": "execute_result",
          "data": {
            "text/plain": [
              "array([0, 1])"
            ]
          },
          "metadata": {
            "tags": []
          },
          "execution_count": 92
        }
      ],
      "metadata": {
        "id": "etbbQaID-NUf",
        "colab": {
          "base_uri": "https://localhost:8080/"
        },
        "outputId": "f7886964-7617-4c2f-ec5a-495740a415e1"
      }
    },
    {
      "cell_type": "markdown",
      "source": [
        "#### Exibindo a quantidade de amostras existente em cada classe."
      ],
      "metadata": {
        "id": "7tzaRJsc-NUg"
      }
    },
    {
      "cell_type": "code",
      "execution_count": 93,
      "source": [
        "y.value_counts()"
      ],
      "outputs": [
        {
          "output_type": "execute_result",
          "data": {
            "text/plain": [
              "0    500\n",
              "1    268\n",
              "Name: Outcome, dtype: int64"
            ]
          },
          "metadata": {
            "tags": []
          },
          "execution_count": 93
        }
      ],
      "metadata": {
        "id": "AWw0ZNFB-NUh",
        "colab": {
          "base_uri": "https://localhost:8080/"
        },
        "outputId": "19732992-1fc1-476b-ec1e-4c89422f76b5"
      }
    },
    {
      "cell_type": "markdown",
      "source": [
        "### 1. Separe os dados em treino (80%) e teste (20%)."
      ],
      "metadata": {
        "id": "QInutcVX-NUi"
      }
    },
    {
      "cell_type": "code",
      "execution_count": 94,
      "source": [
        "X_values = X.values\n",
        "y_values = y.values\n",
        "X_train, X_test, y_train, y_test = model_selection.train_test_split(X_values, y_values, test_size=0.2, random_state=742, stratify=y_values)\n",
        "print(\"Conjunto x de treino:\", X_train.shape[0])\n",
        "print(\"Conjunto x de teste:\", X_test.shape[0])\n",
        "print(\"Conjunto y de treino:\", y_train.shape[0])\n",
        "print(\"Conjunto y de teste:\", y_test.shape[0])"
      ],
      "outputs": [
        {
          "output_type": "stream",
          "name": "stdout",
          "text": [
            "Conjunto x de treino: 614\n",
            "Conjunto x de teste: 154\n",
            "Conjunto y de treino: 614\n",
            "Conjunto y de teste: 154\n"
          ]
        }
      ],
      "metadata": {
        "id": "ptWjuy3w-NUi",
        "colab": {
          "base_uri": "https://localhost:8080/"
        },
        "outputId": "c9ddbd24-7c07-4e4a-d39c-acb45f0d3851"
      }
    },
    {
      "cell_type": "markdown",
      "source": [
        "### 2. Crie um modelo de árvore de decisão sobre o conjunto de treino e faça o que se pede:"
      ],
      "metadata": {
        "id": "rAHTPPFK-NUj"
      }
    },
    {
      "cell_type": "code",
      "execution_count": 95,
      "source": [
        "dt = tree.DecisionTreeClassifier(random_state=42)\n",
        "dt.fit(X_train, y_train) "
      ],
      "outputs": [
        {
          "output_type": "execute_result",
          "data": {
            "text/plain": [
              "DecisionTreeClassifier(ccp_alpha=0.0, class_weight=None, criterion='gini',\n",
              "                       max_depth=None, max_features=None, max_leaf_nodes=None,\n",
              "                       min_impurity_decrease=0.0, min_impurity_split=None,\n",
              "                       min_samples_leaf=1, min_samples_split=2,\n",
              "                       min_weight_fraction_leaf=0.0, presort='deprecated',\n",
              "                       random_state=42, splitter='best')"
            ]
          },
          "metadata": {
            "tags": []
          },
          "execution_count": 95
        }
      ],
      "metadata": {
        "id": "68WWuv4R-NUk",
        "colab": {
          "base_uri": "https://localhost:8080/"
        },
        "outputId": "e271ba4a-f3e6-4dd4-cc84-9e76556ec107"
      }
    },
    {
      "cell_type": "markdown",
      "source": [
        "#### 1. Mostre a importância das features."
      ],
      "metadata": {
        "id": "poVa8gak-NUk"
      }
    },
    {
      "cell_type": "code",
      "execution_count": 96,
      "source": [
        "importances = dt.feature_importances_\n",
        "importances"
      ],
      "outputs": [
        {
          "output_type": "execute_result",
          "data": {
            "text/plain": [
              "array([0.09177047, 0.27047085, 0.08006235, 0.04229144, 0.06500305,\n",
              "       0.17720561, 0.12129161, 0.15190462])"
            ]
          },
          "metadata": {
            "tags": []
          },
          "execution_count": 96
        }
      ],
      "metadata": {
        "id": "XiM2H22R-NUl",
        "colab": {
          "base_uri": "https://localhost:8080/"
        },
        "outputId": "0c5aa342-c805-4b07-84b1-0c82638322bd"
      }
    },
    {
      "cell_type": "code",
      "execution_count": 97,
      "source": [
        "columns = X.columns\n",
        "columns"
      ],
      "outputs": [
        {
          "output_type": "execute_result",
          "data": {
            "text/plain": [
              "Index(['Pregnancies', 'Glucose', 'BloodPressure', 'SkinThickness', 'Insulin',\n",
              "       'BMI', 'DiabetesPedigreeFunction', 'Age'],\n",
              "      dtype='object')"
            ]
          },
          "metadata": {
            "tags": []
          },
          "execution_count": 97
        }
      ],
      "metadata": {
        "id": "zSWXAqNR-NUm",
        "colab": {
          "base_uri": "https://localhost:8080/"
        },
        "outputId": "8ed05817-4f9f-4ea5-f92b-f57689b2fe1e"
      }
    },
    {
      "cell_type": "markdown",
      "source": [
        "#### Montando um dataframe com as importâncias das features nesse modelo."
      ],
      "metadata": {
        "id": "q10nWjGzXYnh"
      }
    },
    {
      "cell_type": "code",
      "execution_count": 98,
      "source": [
        "df_importances = pd.DataFrame({\n",
        "    'Importances': importances \n",
        "})\n",
        "df_importances.index = columns\n",
        "df_importances.sort_values(by='Importances', ascending=False)"
      ],
      "outputs": [
        {
          "output_type": "execute_result",
          "data": {
            "text/plain": [
              "                          Importances\n",
              "Glucose                      0.270471\n",
              "BMI                          0.177206\n",
              "Age                          0.151905\n",
              "DiabetesPedigreeFunction     0.121292\n",
              "Pregnancies                  0.091770\n",
              "BloodPressure                0.080062\n",
              "Insulin                      0.065003\n",
              "SkinThickness                0.042291"
            ],
            "text/html": [
              "<div>\n",
              "<style scoped>\n",
              "    .dataframe tbody tr th:only-of-type {\n",
              "        vertical-align: middle;\n",
              "    }\n",
              "\n",
              "    .dataframe tbody tr th {\n",
              "        vertical-align: top;\n",
              "    }\n",
              "\n",
              "    .dataframe thead th {\n",
              "        text-align: right;\n",
              "    }\n",
              "</style>\n",
              "<table border=\"1\" class=\"dataframe\">\n",
              "  <thead>\n",
              "    <tr style=\"text-align: right;\">\n",
              "      <th></th>\n",
              "      <th>Importances</th>\n",
              "    </tr>\n",
              "  </thead>\n",
              "  <tbody>\n",
              "    <tr>\n",
              "      <th>Glucose</th>\n",
              "      <td>0.270471</td>\n",
              "    </tr>\n",
              "    <tr>\n",
              "      <th>BMI</th>\n",
              "      <td>0.177206</td>\n",
              "    </tr>\n",
              "    <tr>\n",
              "      <th>Age</th>\n",
              "      <td>0.151905</td>\n",
              "    </tr>\n",
              "    <tr>\n",
              "      <th>DiabetesPedigreeFunction</th>\n",
              "      <td>0.121292</td>\n",
              "    </tr>\n",
              "    <tr>\n",
              "      <th>Pregnancies</th>\n",
              "      <td>0.091770</td>\n",
              "    </tr>\n",
              "    <tr>\n",
              "      <th>BloodPressure</th>\n",
              "      <td>0.080062</td>\n",
              "    </tr>\n",
              "    <tr>\n",
              "      <th>Insulin</th>\n",
              "      <td>0.065003</td>\n",
              "    </tr>\n",
              "    <tr>\n",
              "      <th>SkinThickness</th>\n",
              "      <td>0.042291</td>\n",
              "    </tr>\n",
              "  </tbody>\n",
              "</table>\n",
              "</div>"
            ]
          },
          "metadata": {
            "tags": []
          },
          "execution_count": 98
        }
      ],
      "metadata": {
        "id": "gcfxra1R-NUm",
        "colab": {
          "base_uri": "https://localhost:8080/",
          "height": 297
        },
        "outputId": "b5adde6c-cf54-4c21-b917-0f76ffe26593"
      }
    },
    {
      "cell_type": "markdown",
      "source": [
        "#### Apresentando a importância das features em um gráfico de barras."
      ],
      "metadata": {
        "id": "PTJDF49GXfvh"
      }
    },
    {
      "cell_type": "code",
      "execution_count": 99,
      "source": [
        "df_importances.sort_values(by='Importances').plot(kind='barh');"
      ],
      "outputs": [
        {
          "output_type": "display_data",
          "data": {
            "text/plain": [
              "<Figure size 432x288 with 1 Axes>"
            ],
            "image/png": "[encoded data removed]"
          },
          "metadata": {
            "tags": [],
            "needs_background": "light"
          }
        }
      ],
      "metadata": {
        "colab": {
          "base_uri": "https://localhost:8080/",
          "height": 265
        },
        "id": "-8REtmpQ1tGV",
        "outputId": "369e42e6-4895-4fea-c222-71a7948cd659"
      }
    },
    {
      "cell_type": "markdown",
      "source": [
        "#### 2. Desenhe a árvore de decisão."
      ],
      "metadata": {
        "id": "iuriITPp-NUn"
      }
    },
    {
      "cell_type": "code",
      "execution_count": 100,
      "source": [
        "tree.plot_tree(dt, filled=True)"
      ],
      "outputs": [
        {
          "output_type": "execute_result",
          "data": {
            "text/plain": [
              "[Text(151.5721153846154, 211.04470588235293, 'X[1] <= 127.5\\ngini = 0.454\\nsamples = 614\\nvalue = [400, 214]'),\n",
              " Text(67.2014423076923, 198.25411764705882, 'X[7] <= 28.5\\ngini = 0.321\\nsamples = 394\\nvalue = [315, 79]'),\n",
              " Text(28.43653846153846, 185.4635294117647, 'X[5] <= 30.95\\ngini = 0.153\\nsamples = 216\\nvalue = [198, 18]'),\n",
              " Text(12.876923076923077, 172.6729411764706, 'X[0] <= 7.5\\ngini = 0.032\\nsamples = 123\\nvalue = [121, 2]'),\n",
              " Text(8.584615384615384, 159.88235294117646, 'X[6] <= 0.672\\ngini = 0.016\\nsamples = 122\\nvalue = [121, 1]'),\n",
              " Text(4.292307692307692, 147.09176470588235, 'gini = 0.0\\nsamples = 106\\nvalue = [106, 0]'),\n",
              " Text(12.876923076923077, 147.09176470588235, 'X[6] <= 0.686\\ngini = 0.117\\nsamples = 16\\nvalue = [15, 1]'),\n",
              " Text(8.584615384615384, 134.30117647058825, 'gini = 0.0\\nsamples = 1\\nvalue = [0, 1]'),\n",
              " Text(17.16923076923077, 134.30117647058825, 'gini = 0.0\\nsamples = 15\\nvalue = [15, 0]'),\n",
              " Text(17.16923076923077, 159.88235294117646, 'gini = 0.0\\nsamples = 1\\nvalue = [0, 1]'),\n",
              " Text(43.996153846153845, 172.6729411764706, 'X[2] <= 37.0\\ngini = 0.285\\nsamples = 93\\nvalue = [77, 16]'),\n",
              " Text(39.70384615384615, 159.88235294117646, 'gini = 0.0\\nsamples = 2\\nvalue = [0, 2]'),\n",
              " Text(48.28846153846154, 159.88235294117646, 'X[6] <= 0.895\\ngini = 0.26\\nsamples = 91\\nvalue = [77, 14]'),\n",
              " Text(36.48461538461538, 147.09176470588235, 'X[4] <= 38.0\\ngini = 0.236\\nsamples = 88\\nvalue = [76, 12]'),\n",
              " Text(25.753846153846155, 134.30117647058825, 'X[1] <= 111.5\\ngini = 0.366\\nsamples = 29\\nvalue = [22, 7]'),\n",
              " Text(17.16923076923077, 121.51058823529411, 'X[4] <= 34.0\\ngini = 0.188\\nsamples = 19\\nvalue = [17, 2]'),\n",
              " Text(12.876923076923077, 108.72, 'X[3] <= 40.5\\ngini = 0.105\\nsamples = 18\\nvalue = [17, 1]'),\n",
              " Text(8.584615384615384, 95.92941176470588, 'gini = 0.0\\nsamples = 17\\nvalue = [17, 0]'),\n",
              " Text(17.16923076923077, 95.92941176470588, 'gini = 0.0\\nsamples = 1\\nvalue = [0, 1]'),\n",
              " Text(21.46153846153846, 108.72, 'gini = 0.0\\nsamples = 1\\nvalue = [0, 1]'),\n",
              " Text(34.33846153846154, 121.51058823529411, 'X[1] <= 121.5\\ngini = 0.5\\nsamples = 10\\nvalue = [5, 5]'),\n",
              " Text(30.046153846153846, 108.72, 'X[3] <= 8.0\\ngini = 0.469\\nsamples = 8\\nvalue = [3, 5]'),\n",
              " Text(25.753846153846155, 95.92941176470588, 'gini = 0.0\\nsamples = 3\\nvalue = [0, 3]'),\n",
              " Text(34.33846153846154, 95.92941176470588, 'X[5] <= 34.65\\ngini = 0.48\\nsamples = 5\\nvalue = [3, 2]'),\n",
              " Text(30.046153846153846, 83.13882352941175, 'X[2] <= 77.0\\ngini = 0.444\\nsamples = 3\\nvalue = [1, 2]'),\n",
              " Text(25.753846153846155, 70.34823529411764, 'gini = 0.0\\nsamples = 2\\nvalue = [0, 2]'),\n",
              " Text(34.33846153846154, 70.34823529411764, 'gini = 0.0\\nsamples = 1\\nvalue = [1, 0]'),\n",
              " Text(38.63076923076923, 83.13882352941175, 'gini = 0.0\\nsamples = 2\\nvalue = [2, 0]'),\n",
              " Text(38.63076923076923, 108.72, 'gini = 0.0\\nsamples = 2\\nvalue = [2, 0]'),\n",
              " Text(47.215384615384615, 134.30117647058825, 'X[5] <= 31.3\\ngini = 0.155\\nsamples = 59\\nvalue = [54, 5]'),\n",
              " Text(42.92307692307692, 121.51058823529411, 'gini = 0.0\\nsamples = 1\\nvalue = [0, 1]'),\n",
              " Text(51.50769230769231, 121.51058823529411, 'X[6] <= 0.509\\ngini = 0.128\\nsamples = 58\\nvalue = [54, 4]'),\n",
              " Text(47.215384615384615, 108.72, 'gini = 0.0\\nsamples = 37\\nvalue = [37, 0]'),\n",
              " Text(55.8, 108.72, 'X[6] <= 0.517\\ngini = 0.308\\nsamples = 21\\nvalue = [17, 4]'),\n",
              " Text(51.50769230769231, 95.92941176470588, 'gini = 0.0\\nsamples = 2\\nvalue = [0, 2]'),\n",
              " Text(60.09230769230769, 95.92941176470588, 'X[2] <= 67.0\\ngini = 0.188\\nsamples = 19\\nvalue = [17, 2]'),\n",
              " Text(55.8, 83.13882352941175, 'X[6] <= 0.841\\ngini = 0.346\\nsamples = 9\\nvalue = [7, 2]'),\n",
              " Text(51.50769230769231, 70.34823529411764, 'X[4] <= 159.0\\ngini = 0.219\\nsamples = 8\\nvalue = [7, 1]'),\n",
              " Text(47.215384615384615, 57.557647058823534, 'gini = 0.0\\nsamples = 6\\nvalue = [6, 0]'),\n",
              " Text(55.8, 57.557647058823534, 'X[2] <= 56.0\\ngini = 0.5\\nsamples = 2\\nvalue = [1, 1]'),\n",
              " Text(51.50769230769231, 44.767058823529396, 'gini = 0.0\\nsamples = 1\\nvalue = [1, 0]'),\n",
              " Text(60.09230769230769, 44.767058823529396, 'gini = 0.0\\nsamples = 1\\nvalue = [0, 1]'),\n",
              " Text(60.09230769230769, 70.34823529411764, 'gini = 0.0\\nsamples = 1\\nvalue = [0, 1]'),\n",
              " Text(64.38461538461539, 83.13882352941175, 'gini = 0.0\\nsamples = 10\\nvalue = [10, 0]'),\n",
              " Text(60.09230769230769, 147.09176470588235, 'X[5] <= 37.2\\ngini = 0.444\\nsamples = 3\\nvalue = [1, 2]'),\n",
              " Text(55.8, 134.30117647058825, 'gini = 0.0\\nsamples = 2\\nvalue = [0, 2]'),\n",
              " Text(64.38461538461539, 134.30117647058825, 'gini = 0.0\\nsamples = 1\\nvalue = [1, 0]'),\n",
              " Text(105.96634615384615, 185.4635294117647, 'X[5] <= 26.35\\ngini = 0.451\\nsamples = 178\\nvalue = [117, 61]'),\n",
              " Text(86.91923076923077, 172.6729411764706, 'X[5] <= 9.65\\ngini = 0.061\\nsamples = 32\\nvalue = [31, 1]'),\n",
              " Text(82.62692307692308, 159.88235294117646, 'gini = 0.0\\nsamples = 1\\nvalue = [0, 1]'),\n",
              " Text(91.21153846153845, 159.88235294117646, 'gini = 0.0\\nsamples = 31\\nvalue = [31, 0]'),\n",
              " Text(125.01346153846153, 172.6729411764706, 'X[6] <= 0.625\\ngini = 0.484\\nsamples = 146\\nvalue = [86, 60]'),\n",
              " Text(99.79615384615384, 159.88235294117646, 'X[1] <= 111.5\\ngini = 0.427\\nsamples = 107\\nvalue = [74, 33]'),\n",
              " Text(81.55384615384615, 147.09176470588235, 'X[5] <= 27.55\\ngini = 0.294\\nsamples = 67\\nvalue = [55, 12]'),\n",
              " Text(72.96923076923076, 134.30117647058825, 'X[1] <= 102.5\\ngini = 0.48\\nsamples = 5\\nvalue = [2, 3]'),\n",
              " Text(68.67692307692307, 121.51058823529411, 'gini = 0.0\\nsamples = 2\\nvalue = [2, 0]'),\n",
              " Text(77.26153846153846, 121.51058823529411, 'gini = 0.0\\nsamples = 3\\nvalue = [0, 3]'),\n",
              " Text(90.13846153846154, 134.30117647058825, 'X[0] <= 13.5\\ngini = 0.248\\nsamples = 62\\nvalue = [53, 9]'),\n",
              " Text(85.84615384615384, 121.51058823529411, 'X[1] <= 28.5\\ngini = 0.228\\nsamples = 61\\nvalue = [53, 8]'),\n",
              " Text(81.55384615384615, 108.72, 'gini = 0.0\\nsamples = 1\\nvalue = [0, 1]'),\n",
              " Text(90.13846153846154, 108.72, 'X[4] <= 21.0\\ngini = 0.206\\nsamples = 60\\nvalue = [53, 7]'),\n",
              " Text(85.84615384615384, 95.92941176470588, 'X[1] <= 93.5\\ngini = 0.273\\nsamples = 43\\nvalue = [36, 7]'),\n",
              " Text(77.26153846153846, 83.13882352941175, 'X[0] <= 11.5\\ngini = 0.1\\nsamples = 19\\nvalue = [18, 1]'),\n",
              " Text(72.96923076923076, 70.34823529411764, 'gini = 0.0\\nsamples = 17\\nvalue = [17, 0]'),\n",
              " Text(81.55384615384615, 70.34823529411764, 'X[1] <= 80.0\\ngini = 0.5\\nsamples = 2\\nvalue = [1, 1]'),\n",
              " Text(77.26153846153846, 57.557647058823534, 'gini = 0.0\\nsamples = 1\\nvalue = [1, 0]'),\n",
              " Text(85.84615384615384, 57.557647058823534, 'gini = 0.0\\nsamples = 1\\nvalue = [0, 1]'),\n",
              " Text(94.43076923076923, 83.13882352941175, 'X[2] <= 25.0\\ngini = 0.375\\nsamples = 24\\nvalue = [18, 6]'),\n",
              " Text(90.13846153846154, 70.34823529411764, 'gini = 0.0\\nsamples = 1\\nvalue = [0, 1]'),\n",
              " Text(98.72307692307692, 70.34823529411764, 'X[3] <= 28.5\\ngini = 0.34\\nsamples = 23\\nvalue = [18, 5]'),\n",
              " Text(94.43076923076923, 57.557647058823534, 'X[5] <= 29.55\\ngini = 0.415\\nsamples = 17\\nvalue = [12, 5]'),\n",
              " Text(90.13846153846154, 44.767058823529396, 'gini = 0.0\\nsamples = 5\\nvalue = [5, 0]'),\n",
              " Text(98.72307692307692, 44.767058823529396, 'X[6] <= 0.379\\ngini = 0.486\\nsamples = 12\\nvalue = [7, 5]'),\n",
              " Text(94.43076923076923, 31.976470588235287, 'X[2] <= 86.0\\ngini = 0.469\\nsamples = 8\\nvalue = [3, 5]'),\n",
              " Text(90.13846153846154, 19.185882352941178, 'X[0] <= 7.5\\ngini = 0.278\\nsamples = 6\\nvalue = [1, 5]'),\n",
              " Text(85.84615384615384, 6.39529411764704, 'gini = 0.0\\nsamples = 5\\nvalue = [0, 5]'),\n",
              " Text(94.43076923076923, 6.39529411764704, 'gini = 0.0\\nsamples = 1\\nvalue = [1, 0]'),\n",
              " Text(98.72307692307692, 19.185882352941178, 'gini = 0.0\\nsamples = 2\\nvalue = [2, 0]'),\n",
              " Text(103.01538461538462, 31.976470588235287, 'gini = 0.0\\nsamples = 4\\nvalue = [4, 0]'),\n",
              " Text(103.01538461538462, 57.557647058823534, 'gini = 0.0\\nsamples = 6\\nvalue = [6, 0]'),\n",
              " Text(94.43076923076923, 95.92941176470588, 'gini = 0.0\\nsamples = 17\\nvalue = [17, 0]'),\n",
              " Text(94.43076923076923, 121.51058823529411, 'gini = 0.0\\nsamples = 1\\nvalue = [0, 1]'),\n",
              " Text(118.03846153846153, 147.09176470588235, 'X[0] <= 1.5\\ngini = 0.499\\nsamples = 40\\nvalue = [19, 21]'),\n",
              " Text(107.3076923076923, 134.30117647058825, 'X[6] <= 0.151\\ngini = 0.219\\nsamples = 8\\nvalue = [1, 7]'),\n",
              " Text(103.01538461538462, 121.51058823529411, 'gini = 0.0\\nsamples = 1\\nvalue = [1, 0]'),\n",
              " Text(111.6, 121.51058823529411, 'gini = 0.0\\nsamples = 7\\nvalue = [0, 7]'),\n",
              " Text(128.76923076923077, 134.30117647058825, 'X[2] <= 77.0\\ngini = 0.492\\nsamples = 32\\nvalue = [18, 14]'),\n",
              " Text(120.18461538461538, 121.51058823529411, 'X[4] <= 117.5\\ngini = 0.465\\nsamples = 19\\nvalue = [7, 12]'),\n",
              " Text(115.89230769230768, 108.72, 'X[0] <= 8.5\\ngini = 0.32\\nsamples = 15\\nvalue = [3, 12]'),\n",
              " Text(111.6, 95.92941176470588, 'gini = 0.0\\nsamples = 11\\nvalue = [0, 11]'),\n",
              " Text(120.18461538461538, 95.92941176470588, 'X[4] <= 104.5\\ngini = 0.375\\nsamples = 4\\nvalue = [3, 1]'),\n",
              " Text(115.89230769230768, 83.13882352941175, 'gini = 0.0\\nsamples = 3\\nvalue = [3, 0]'),\n",
              " Text(124.47692307692307, 83.13882352941175, 'gini = 0.0\\nsamples = 1\\nvalue = [0, 1]'),\n",
              " Text(124.47692307692307, 108.72, 'gini = 0.0\\nsamples = 4\\nvalue = [4, 0]'),\n",
              " Text(137.35384615384615, 121.51058823529411, 'X[5] <= 41.4\\ngini = 0.26\\nsamples = 13\\nvalue = [11, 2]'),\n",
              " Text(133.06153846153845, 108.72, 'X[7] <= 29.5\\ngini = 0.153\\nsamples = 12\\nvalue = [11, 1]'),\n",
              " Text(128.76923076923077, 95.92941176470588, 'gini = 0.0\\nsamples = 1\\nvalue = [0, 1]'),\n",
              " Text(137.35384615384615, 95.92941176470588, 'gini = 0.0\\nsamples = 11\\nvalue = [11, 0]'),\n",
              " Text(141.64615384615385, 108.72, 'gini = 0.0\\nsamples = 1\\nvalue = [0, 1]'),\n",
              " Text(150.23076923076923, 159.88235294117646, 'X[5] <= 33.1\\ngini = 0.426\\nsamples = 39\\nvalue = [12, 27]'),\n",
              " Text(141.64615384615385, 147.09176470588235, 'X[1] <= 84.0\\ngini = 0.117\\nsamples = 16\\nvalue = [1, 15]'),\n",
              " Text(137.35384615384615, 134.30117647058825, 'gini = 0.0\\nsamples = 1\\nvalue = [1, 0]'),\n",
              " Text(145.93846153846152, 134.30117647058825, 'gini = 0.0\\nsamples = 15\\nvalue = [0, 15]'),\n",
              " Text(158.8153846153846, 147.09176470588235, 'X[0] <= 8.5\\ngini = 0.499\\nsamples = 23\\nvalue = [11, 12]'),\n",
              " Text(154.52307692307693, 134.30117647058825, 'X[3] <= 28.0\\ngini = 0.475\\nsamples = 18\\nvalue = [11, 7]'),\n",
              " Text(150.23076923076923, 121.51058823529411, 'gini = 0.0\\nsamples = 5\\nvalue = [5, 0]'),\n",
              " Text(158.8153846153846, 121.51058823529411, 'X[3] <= 47.5\\ngini = 0.497\\nsamples = 13\\nvalue = [6, 7]'),\n",
              " Text(154.52307692307693, 108.72, 'X[7] <= 33.0\\ngini = 0.42\\nsamples = 10\\nvalue = [3, 7]'),\n",
              " Text(150.23076923076923, 95.92941176470588, 'gini = 0.0\\nsamples = 4\\nvalue = [0, 4]'),\n",
              " Text(158.8153846153846, 95.92941176470588, 'X[7] <= 40.0\\ngini = 0.5\\nsamples = 6\\nvalue = [3, 3]'),\n",
              " Text(154.52307692307693, 83.13882352941175, 'gini = 0.0\\nsamples = 3\\nvalue = [3, 0]'),\n",
              " Text(163.1076923076923, 83.13882352941175, 'gini = 0.0\\nsamples = 3\\nvalue = [0, 3]'),\n",
              " Text(163.1076923076923, 108.72, 'gini = 0.0\\nsamples = 3\\nvalue = [3, 0]'),\n",
              " Text(163.1076923076923, 134.30117647058825, 'gini = 0.0\\nsamples = 5\\nvalue = [0, 5]'),\n",
              " Text(235.94278846153844, 198.25411764705882, 'X[5] <= 29.95\\ngini = 0.474\\nsamples = 220\\nvalue = [85, 135]'),\n",
              " Text(193.15384615384616, 185.4635294117647, 'X[7] <= 27.5\\ngini = 0.429\\nsamples = 61\\nvalue = [42, 19]'),\n",
              " Text(188.86153846153846, 172.6729411764706, 'gini = 0.0\\nsamples = 18\\nvalue = [18, 0]'),\n",
              " Text(197.44615384615383, 172.6729411764706, 'X[7] <= 61.0\\ngini = 0.493\\nsamples = 43\\nvalue = [24, 19]'),\n",
              " Text(193.15384615384616, 159.88235294117646, 'X[1] <= 160.0\\ngini = 0.498\\nsamples = 36\\nvalue = [17, 19]'),\n",
              " Text(184.56923076923076, 147.09176470588235, 'X[6] <= 0.391\\ngini = 0.461\\nsamples = 25\\nvalue = [16, 9]'),\n",
              " Text(180.27692307692308, 134.30117647058825, 'X[4] <= 112.5\\ngini = 0.499\\nsamples = 19\\nvalue = [10, 9]'),\n",
              " Text(175.98461538461538, 121.51058823529411, 'X[7] <= 28.5\\ngini = 0.444\\nsamples = 15\\nvalue = [10, 5]'),\n",
              " Text(171.69230769230768, 108.72, 'gini = 0.0\\nsamples = 1\\nvalue = [0, 1]'),\n",
              " Text(180.27692307692308, 108.72, 'X[6] <= 0.309\\ngini = 0.408\\nsamples = 14\\nvalue = [10, 4]'),\n",
              " Text(175.98461538461538, 95.92941176470588, 'X[7] <= 59.5\\ngini = 0.355\\nsamples = 13\\nvalue = [10, 3]'),\n",
              " Text(171.69230769230768, 83.13882352941175, 'X[6] <= 0.231\\ngini = 0.278\\nsamples = 12\\nvalue = [10, 2]'),\n",
              " Text(167.4, 70.34823529411764, 'X[0] <= 4.5\\ngini = 0.48\\nsamples = 5\\nvalue = [3, 2]'),\n",
              " Text(163.1076923076923, 57.557647058823534, 'gini = 0.0\\nsamples = 2\\nvalue = [2, 0]'),\n",
              " Text(171.69230769230768, 57.557647058823534, 'X[5] <= 29.7\\ngini = 0.444\\nsamples = 3\\nvalue = [1, 2]'),\n",
              " Text(167.4, 44.767058823529396, 'gini = 0.0\\nsamples = 2\\nvalue = [0, 2]'),\n",
              " Text(175.98461538461538, 44.767058823529396, 'gini = 0.0\\nsamples = 1\\nvalue = [1, 0]'),\n",
              " Text(175.98461538461538, 70.34823529411764, 'gini = 0.0\\nsamples = 7\\nvalue = [7, 0]'),\n",
              " Text(180.27692307692308, 83.13882352941175, 'gini = 0.0\\nsamples = 1\\nvalue = [0, 1]'),\n",
              " Text(184.56923076923076, 95.92941176470588, 'gini = 0.0\\nsamples = 1\\nvalue = [0, 1]'),\n",
              " Text(184.56923076923076, 121.51058823529411, 'gini = 0.0\\nsamples = 4\\nvalue = [0, 4]'),\n",
              " Text(188.86153846153846, 134.30117647058825, 'gini = 0.0\\nsamples = 6\\nvalue = [6, 0]'),\n",
              " Text(201.73846153846154, 147.09176470588235, 'X[2] <= 94.0\\ngini = 0.165\\nsamples = 11\\nvalue = [1, 10]'),\n",
              " Text(197.44615384615383, 134.30117647058825, 'gini = 0.0\\nsamples = 10\\nvalue = [0, 10]'),\n",
              " Text(206.03076923076924, 134.30117647058825, 'gini = 0.0\\nsamples = 1\\nvalue = [1, 0]'),\n",
              " Text(201.73846153846154, 159.88235294117646, 'gini = 0.0\\nsamples = 7\\nvalue = [7, 0]'),\n",
              " Text(278.73173076923075, 185.4635294117647, 'X[1] <= 157.5\\ngini = 0.395\\nsamples = 159\\nvalue = [43, 116]'),\n",
              " Text(239.8326923076923, 172.6729411764706, 'X[2] <= 89.0\\ngini = 0.468\\nsamples = 91\\nvalue = [34, 57]'),\n",
              " Text(235.5403846153846, 159.88235294117646, 'X[2] <= 61.0\\ngini = 0.489\\nsamples = 80\\nvalue = [34, 46]'),\n",
              " Text(218.9076923076923, 147.09176470588235, 'X[7] <= 40.5\\ngini = 0.142\\nsamples = 13\\nvalue = [1, 12]'),\n",
              " Text(214.6153846153846, 134.30117647058825, 'gini = 0.0\\nsamples = 11\\nvalue = [0, 11]'),\n",
              " Text(223.2, 134.30117647058825, 'X[3] <= 15.0\\ngini = 0.5\\nsamples = 2\\nvalue = [1, 1]'),\n",
              " Text(218.9076923076923, 121.51058823529411, 'gini = 0.0\\nsamples = 1\\nvalue = [1, 0]'),\n",
              " Text(227.4923076923077, 121.51058823529411, 'gini = 0.0\\nsamples = 1\\nvalue = [0, 1]'),\n",
              " Text(252.1730769230769, 147.09176470588235, 'X[7] <= 30.5\\ngini = 0.5\\nsamples = 67\\nvalue = [33, 34]'),\n",
              " Text(240.36923076923077, 134.30117647058825, 'X[6] <= 1.141\\ngini = 0.42\\nsamples = 30\\nvalue = [21, 9]'),\n",
              " Text(236.07692307692307, 121.51058823529411, 'X[1] <= 146.5\\ngini = 0.375\\nsamples = 28\\nvalue = [21, 7]'),\n",
              " Text(231.78461538461536, 108.72, 'X[0] <= 4.5\\ngini = 0.444\\nsamples = 21\\nvalue = [14, 7]'),\n",
              " Text(227.4923076923077, 95.92941176470588, 'X[5] <= 42.5\\ngini = 0.388\\nsamples = 19\\nvalue = [14, 5]'),\n",
              " Text(223.2, 83.13882352941175, 'X[0] <= 0.5\\ngini = 0.291\\nsamples = 17\\nvalue = [14, 3]'),\n",
              " Text(218.9076923076923, 70.34823529411764, 'X[5] <= 33.75\\ngini = 0.5\\nsamples = 6\\nvalue = [3, 3]'),\n",
              " Text(214.6153846153846, 57.557647058823534, 'gini = 0.0\\nsamples = 3\\nvalue = [3, 0]'),\n",
              " Text(223.2, 57.557647058823534, 'gini = 0.0\\nsamples = 3\\nvalue = [0, 3]'),\n",
              " Text(227.4923076923077, 70.34823529411764, 'gini = 0.0\\nsamples = 11\\nvalue = [11, 0]'),\n",
              " Text(231.78461538461536, 83.13882352941175, 'gini = 0.0\\nsamples = 2\\nvalue = [0, 2]'),\n",
              " Text(236.07692307692307, 95.92941176470588, 'gini = 0.0\\nsamples = 2\\nvalue = [0, 2]'),\n",
              " Text(240.36923076923077, 108.72, 'gini = 0.0\\nsamples = 7\\nvalue = [7, 0]'),\n",
              " Text(244.66153846153844, 121.51058823529411, 'gini = 0.0\\nsamples = 2\\nvalue = [0, 2]'),\n",
              " Text(263.9769230769231, 134.30117647058825, 'X[6] <= 0.429\\ngini = 0.438\\nsamples = 37\\nvalue = [12, 25]'),\n",
              " Text(253.24615384615385, 121.51058823529411, 'X[5] <= 45.55\\ngini = 0.498\\nsamples = 15\\nvalue = [8, 7]'),\n",
              " Text(248.95384615384614, 108.72, 'X[3] <= 7.5\\ngini = 0.397\\nsamples = 11\\nvalue = [8, 3]'),\n",
              " Text(244.66153846153844, 95.92941176470588, 'X[7] <= 45.5\\ngini = 0.5\\nsamples = 6\\nvalue = [3, 3]'),\n",
              " Text(240.36923076923077, 83.13882352941175, 'X[7] <= 37.0\\ngini = 0.375\\nsamples = 4\\nvalue = [1, 3]'),\n",
              " Text(236.07692307692307, 70.34823529411764, 'gini = 0.0\\nsamples = 1\\nvalue = [1, 0]'),\n",
              " Text(244.66153846153844, 70.34823529411764, 'gini = 0.0\\nsamples = 3\\nvalue = [0, 3]'),\n",
              " Text(248.95384615384614, 83.13882352941175, 'gini = 0.0\\nsamples = 2\\nvalue = [2, 0]'),\n",
              " Text(253.24615384615385, 95.92941176470588, 'gini = 0.0\\nsamples = 5\\nvalue = [5, 0]'),\n",
              " Text(257.53846153846155, 108.72, 'gini = 0.0\\nsamples = 4\\nvalue = [0, 4]'),\n",
              " Text(274.7076923076923, 121.51058823529411, 'X[4] <= 333.5\\ngini = 0.298\\nsamples = 22\\nvalue = [4, 18]'),\n",
              " Text(266.1230769230769, 108.72, 'X[6] <= 1.567\\ngini = 0.188\\nsamples = 19\\nvalue = [2, 17]'),\n",
              " Text(261.83076923076925, 95.92941176470588, 'X[0] <= 12.5\\ngini = 0.105\\nsamples = 18\\nvalue = [1, 17]'),\n",
              " Text(257.53846153846155, 83.13882352941175, 'gini = 0.0\\nsamples = 17\\nvalue = [0, 17]'),\n",
              " Text(266.1230769230769, 83.13882352941175, 'gini = 0.0\\nsamples = 1\\nvalue = [1, 0]'),\n",
              " Text(270.4153846153846, 95.92941176470588, 'gini = 0.0\\nsamples = 1\\nvalue = [1, 0]'),\n",
              " Text(283.2923076923077, 108.72, 'X[0] <= 7.5\\ngini = 0.444\\nsamples = 3\\nvalue = [2, 1]'),\n",
              " Text(279.0, 95.92941176470588, 'gini = 0.0\\nsamples = 2\\nvalue = [2, 0]'),\n",
              " Text(287.58461538461535, 95.92941176470588, 'gini = 0.0\\nsamples = 1\\nvalue = [0, 1]'),\n",
              " Text(244.125, 159.88235294117646, 'gini = 0.0\\nsamples = 11\\nvalue = [0, 11]'),\n",
              " Text(317.6307692307692, 172.6729411764706, 'X[4] <= 629.5\\ngini = 0.23\\nsamples = 68\\nvalue = [9, 59]'),\n",
              " Text(313.3384615384615, 159.88235294117646, 'X[7] <= 44.5\\ngini = 0.19\\nsamples = 66\\nvalue = [7, 59]'),\n",
              " Text(304.75384615384615, 147.09176470588235, 'X[6] <= 0.314\\ngini = 0.117\\nsamples = 48\\nvalue = [3, 45]'),\n",
              " Text(300.46153846153845, 134.30117647058825, 'X[7] <= 37.5\\ngini = 0.355\\nsamples = 13\\nvalue = [3, 10]'),\n",
              " Text(296.16923076923075, 121.51058823529411, 'X[3] <= 16.5\\ngini = 0.48\\nsamples = 5\\nvalue = [3, 2]'),\n",
              " Text(291.87692307692305, 108.72, 'gini = 0.0\\nsamples = 2\\nvalue = [2, 0]'),\n",
              " Text(300.46153846153845, 108.72, 'X[7] <= 27.0\\ngini = 0.444\\nsamples = 3\\nvalue = [1, 2]'),\n",
              " Text(296.16923076923075, 95.92941176470588, 'gini = 0.0\\nsamples = 1\\nvalue = [1, 0]'),\n",
              " Text(304.75384615384615, 95.92941176470588, 'gini = 0.0\\nsamples = 2\\nvalue = [0, 2]'),\n",
              " Text(304.75384615384615, 121.51058823529411, 'gini = 0.0\\nsamples = 8\\nvalue = [0, 8]'),\n",
              " Text(309.04615384615386, 134.30117647058825, 'gini = 0.0\\nsamples = 35\\nvalue = [0, 35]'),\n",
              " Text(321.9230769230769, 147.09176470588235, 'X[0] <= 1.5\\ngini = 0.346\\nsamples = 18\\nvalue = [4, 14]'),\n",
              " Text(317.6307692307692, 134.30117647058825, 'gini = 0.0\\nsamples = 2\\nvalue = [2, 0]'),\n",
              " Text(326.2153846153846, 134.30117647058825, 'X[6] <= 1.337\\ngini = 0.219\\nsamples = 16\\nvalue = [2, 14]'),\n",
              " Text(321.9230769230769, 121.51058823529411, 'X[2] <= 69.0\\ngini = 0.124\\nsamples = 15\\nvalue = [1, 14]'),\n",
              " Text(317.6307692307692, 108.72, 'X[4] <= 331.5\\ngini = 0.5\\nsamples = 2\\nvalue = [1, 1]'),\n",
              " Text(313.3384615384615, 95.92941176470588, 'gini = 0.0\\nsamples = 1\\nvalue = [1, 0]'),\n",
              " Text(321.9230769230769, 95.92941176470588, 'gini = 0.0\\nsamples = 1\\nvalue = [0, 1]'),\n",
              " Text(326.2153846153846, 108.72, 'gini = 0.0\\nsamples = 13\\nvalue = [0, 13]'),\n",
              " Text(330.5076923076923, 121.51058823529411, 'gini = 0.0\\nsamples = 1\\nvalue = [1, 0]'),\n",
              " Text(321.9230769230769, 159.88235294117646, 'gini = 0.0\\nsamples = 2\\nvalue = [2, 0]')]"
            ]
          },
          "metadata": {
            "tags": []
          },
          "execution_count": 100
        },
        {
          "output_type": "display_data",
          "data": {
            "text/plain": [
              "<Figure size 432x288 with 1 Axes>"
            ],
            "image/png": "[encoded data removed]"
          },
          "metadata": {
            "tags": [],
            "needs_background": "light"
          }
        }
      ],
      "metadata": {
        "id": "19wZzt8u-NUn",
        "colab": {
          "base_uri": "https://localhost:8080/",
          "height": 1000
        },
        "outputId": "a485a733-5296-437c-fb45-0757a85f636e"
      }
    },
    {
      "cell_type": "markdown",
      "source": [
        "#### 3. Calcule e mostre F1-Score sobre os dados de treino e sobre os dados de teste."
      ],
      "metadata": {
        "id": "kMdjkAV0-NUo"
      }
    },
    {
      "cell_type": "code",
      "execution_count": 101,
      "source": [
        "y_pred_train = dt.predict(X_train)\n",
        "f1score_train = metrics.f1_score(y_train, y_pred_train, average='weighted', zero_division=0)\n",
        "y_pred_test = dt.predict(X_test)\n",
        "f1score_test = metrics.f1_score(y_test, y_pred_test, average='weighted', zero_division=0)\n",
        "print(f'F1-Score dos dados de treino: {f1score_train}')\n",
        "print(f'F1-Score dos dados de teste: {f1score_test}')"
      ],
      "outputs": [
        {
          "output_type": "stream",
          "name": "stdout",
          "text": [
            "F1-Score dos dados de treino: 1.0\n",
            "F1-Score dos dados de teste: 0.7232230932973366\n"
          ]
        }
      ],
      "metadata": {
        "id": "oy-vT_-F-NUp",
        "colab": {
          "base_uri": "https://localhost:8080/"
        },
        "outputId": "57ad1b01-f9bd-46fb-b337-446989a371c4"
      }
    },
    {
      "cell_type": "markdown",
      "source": [
        "### 3. Crie um modelo ensemble de Votação (MajorityVoteClassifier) sobre o conjunto de treino usando pelo menos 3 algoritmos de aprendizado de máquina. Compare o resultado de usar os modelos isoladamente com o resultado usando o MajorityVoteClassifier sobre o conjunto de teste usando a métrica F1-Score. Pode se basear no seguinte documento, mas não precisa usar k-Fold Cross Validation."
      ],
      "metadata": {
        "id": "CwZqRbGE-NUp"
      }
    },
    {
      "cell_type": "markdown",
      "source": [
        "#### Criando os modelos: kNN, Logistic Regression, Decision Tree, SVC e Naive Bayes. Adicionando os modelos criados em uma lista."
      ],
      "metadata": {
        "id": "yGZYS02FXonY"
      }
    },
    {
      "cell_type": "code",
      "execution_count": 102,
      "source": [
        "knn = KNeighborsClassifier(n_neighbors=24, metric='manhattan');\n",
        "lr = LogisticRegression(penalty='l2', C=0.1, random_state=42)\n",
        "dt = tree.DecisionTreeClassifier(random_state=42)\n",
        "svc = svm.SVC(random_state=42, C=10, kernel='rbf')\n",
        "nb = naive_bayes.GaussianNB()\n",
        "\n",
        "clf_models = [knn, lr, dt, svc, nb]\n",
        "clf_labels = ['KNN', 'Logistic Regression', 'Decision Tree', 'SVC', 'Naive Bayes']"
      ],
      "outputs": [],
      "metadata": {
        "id": "l49jntPe-NUq"
      }
    },
    {
      "cell_type": "markdown",
      "source": [
        "#### Treinando os modelos criados e observando a métrica f1-score atingida por cada um ao aplicar os dados de teste."
      ],
      "metadata": {
        "id": "9VXOF90-X9yF"
      }
    },
    {
      "cell_type": "code",
      "execution_count": 103,
      "source": [
        "estimators = []\n",
        "results = []\n",
        "\n",
        "\n",
        "for model, label in zip(clf_models, clf_labels):\n",
        "    model.fit(X_train, y_train)\n",
        "    y_pred = model.predict(X_test)\n",
        "    f1score = metrics.f1_score(y_test, y_pred, average='weighted', zero_division=0)\n",
        "    print(f'F1-Score: {f1score} - Model: {label}')\n",
        "    print(\"--------------------------------------------------\\n\")\n",
        "\n",
        "    estimator = (label, model)\n",
        "    estimators.append(estimator)\n",
        "    results.append({'Model': label, 'F1-Score': f1score})"
      ],
      "outputs": [
        {
          "output_type": "stream",
          "name": "stdout",
          "text": [
            "F1-Score: 0.7387584892172047 - Model: KNN\n",
            "--------------------------------------------------\n",
            "\n",
            "F1-Score: 0.7878921078921078 - Model: Logistic Regression\n",
            "--------------------------------------------------\n",
            "\n",
            "F1-Score: 0.7232230932973366 - Model: Decision Tree\n",
            "--------------------------------------------------\n",
            "\n",
            "F1-Score: 0.762326945372707 - Model: SVC\n",
            "--------------------------------------------------\n",
            "\n",
            "F1-Score: 0.7852459996413127 - Model: Naive Bayes\n",
            "--------------------------------------------------\n",
            "\n"
          ]
        }
      ],
      "metadata": {
        "id": "RpW3yR0A-NUr",
        "colab": {
          "base_uri": "https://localhost:8080/"
        },
        "outputId": "23a6fa6c-ec80-4181-be22-bc75d6c5d82b"
      }
    },
    {
      "cell_type": "markdown",
      "source": [
        "#### Criando o modelo de ensemble Voting Classifier, utilizando os modelos anteriores. \n",
        "\n",
        "#### Treina-se o modelo criado e verifica-se o f1-score atingido por esse novo modelo. "
      ],
      "metadata": {
        "id": "PyGhj8kNYJGy"
      }
    },
    {
      "cell_type": "code",
      "execution_count": 104,
      "source": [
        "vc = ensemble.VotingClassifier(estimators=estimators)\n",
        "vc.fit(X_train, y_train)\n",
        "y_pred = vc.predict(X_test)\n",
        "f1score = metrics.f1_score(y_test, y_pred, average='weighted', zero_division=0)\n",
        "label = 'Voting Classifier' \n",
        "print(f'F1-Score: {f1score} - Model: {label}')\n",
        "print(\"--------------------------------------------------\\n\")\n",
        "\n",
        "results.append({'Model': label, 'F1-Score': f1score})"
      ],
      "outputs": [
        {
          "output_type": "stream",
          "name": "stdout",
          "text": [
            "F1-Score: 0.7910711477798209 - Model: Voting Classifier\n",
            "--------------------------------------------------\n",
            "\n"
          ]
        }
      ],
      "metadata": {
        "colab": {
          "base_uri": "https://localhost:8080/"
        },
        "id": "-6WhFl703sIL",
        "outputId": "086500be-8b3a-4e2e-d472-314dfcea5ff6"
      }
    },
    {
      "cell_type": "markdown",
      "source": [
        "#### Criando um dataframe para analisar o F1-Score alcançado por cada modelo empregado."
      ],
      "metadata": {
        "id": "De5XUKJZYiZi"
      }
    },
    {
      "cell_type": "code",
      "execution_count": 105,
      "source": [
        "df_models = pd.DataFrame(results)\n",
        "df_models_ord = df_models.sort_values(by='F1-Score', ascending=False)\n",
        "df_models_ord"
      ],
      "outputs": [
        {
          "output_type": "execute_result",
          "data": {
            "text/plain": [
              "                 Model  F1-Score\n",
              "5    Voting Classifier  0.791071\n",
              "1  Logistic Regression  0.787892\n",
              "4          Naive Bayes  0.785246\n",
              "3                  SVC  0.762327\n",
              "0                  KNN  0.738758\n",
              "2        Decision Tree  0.723223"
            ],
            "text/html": [
              "<div>\n",
              "<style scoped>\n",
              "    .dataframe tbody tr th:only-of-type {\n",
              "        vertical-align: middle;\n",
              "    }\n",
              "\n",
              "    .dataframe tbody tr th {\n",
              "        vertical-align: top;\n",
              "    }\n",
              "\n",
              "    .dataframe thead th {\n",
              "        text-align: right;\n",
              "    }\n",
              "</style>\n",
              "<table border=\"1\" class=\"dataframe\">\n",
              "  <thead>\n",
              "    <tr style=\"text-align: right;\">\n",
              "      <th></th>\n",
              "      <th>Model</th>\n",
              "      <th>F1-Score</th>\n",
              "    </tr>\n",
              "  </thead>\n",
              "  <tbody>\n",
              "    <tr>\n",
              "      <th>5</th>\n",
              "      <td>Voting Classifier</td>\n",
              "      <td>0.791071</td>\n",
              "    </tr>\n",
              "    <tr>\n",
              "      <th>1</th>\n",
              "      <td>Logistic Regression</td>\n",
              "      <td>0.787892</td>\n",
              "    </tr>\n",
              "    <tr>\n",
              "      <th>4</th>\n",
              "      <td>Naive Bayes</td>\n",
              "      <td>0.785246</td>\n",
              "    </tr>\n",
              "    <tr>\n",
              "      <th>3</th>\n",
              "      <td>SVC</td>\n",
              "      <td>0.762327</td>\n",
              "    </tr>\n",
              "    <tr>\n",
              "      <th>0</th>\n",
              "      <td>KNN</td>\n",
              "      <td>0.738758</td>\n",
              "    </tr>\n",
              "    <tr>\n",
              "      <th>2</th>\n",
              "      <td>Decision Tree</td>\n",
              "      <td>0.723223</td>\n",
              "    </tr>\n",
              "  </tbody>\n",
              "</table>\n",
              "</div>"
            ]
          },
          "metadata": {
            "tags": []
          },
          "execution_count": 105
        }
      ],
      "metadata": {
        "colab": {
          "base_uri": "https://localhost:8080/",
          "height": 235
        },
        "id": "4EWB97ZR3xWQ",
        "outputId": "42bf5fa3-e4d4-4ace-ef15-6d535469d384"
      }
    },
    {
      "cell_type": "markdown",
      "source": [
        "#### Montando um gráfico de barras para analisar a metrica F1-Score que foi conseguida em cada modelo."
      ],
      "metadata": {
        "id": "xHJD7r0PYqRO"
      }
    },
    {
      "cell_type": "code",
      "execution_count": 106,
      "source": [
        "plt.figure(figsize = (10, 5))\n",
        "\n",
        "barWidth = 0.5\n",
        "\n",
        "p1 = np.arange(df_models.shape[0])\n",
        "\n",
        "\n",
        "plt.bar(p1, df_models_ord['F1-Score'], color='red', width=barWidth, label='F1-Score')\n",
        "plt.legend()\n",
        "plt.xlabel('Models')\n",
        "plt.ylabel('F1-Score Value')\n",
        "plt.title('Métrica F1-Score dos modelos utilizados')\n",
        "plt.xticks(p1, df_models_ord['Model'])\n",
        "plt.show()"
      ],
      "outputs": [
        {
          "output_type": "display_data",
          "data": {
            "text/plain": [
              "<Figure size 720x360 with 1 Axes>"
            ],
            "image/png": "[encoded data removed]"
          },
          "metadata": {
            "tags": [],
            "needs_background": "light"
          }
        }
      ],
      "metadata": {
        "colab": {
          "base_uri": "https://localhost:8080/",
          "height": 350
        },
        "id": "IcETH3JC31Ur",
        "outputId": "8ed3806e-523e-4c14-8340-c4ab73f45f56"
      }
    },
    {
      "cell_type": "markdown",
      "source": [
        "### 4. Avalie agora as técnicas de Bagging (BaggingClassifier) usando árvores de decisão (DecisionTreeClassifier), RandomForest, AdaBoost e GradientBoosting sobre o conjunto de teste usando a métrica F1-Score. Mostre também a importância das features para cada uma das técnicas. Para usar o BaggingClassifier, você pode se basear no seguinte documento."
      ],
      "metadata": {
        "id": "ojaE7IL5-NUr"
      }
    },
    {
      "cell_type": "markdown",
      "source": [
        "#### Criando os modelos: Decision Tree, Random Forest, Ada Boost, Gradient Boosting e Bagging.\n",
        "\n",
        "#### Todos os modelos são adicionados a uma lista, para que possam ser percorridos posteriormente.\n"
      ],
      "metadata": {
        "id": "Dy3co208Y3KT"
      }
    },
    {
      "cell_type": "code",
      "execution_count": 107,
      "source": [
        "dt = tree.DecisionTreeClassifier(random_state=42, criterion='gini', max_depth=3,\n",
        "                                  min_samples_leaf=7)\n",
        "rf = ensemble.RandomForestClassifier(random_state=42, n_estimators=400, criterion='gini',\n",
        "                                    max_depth=4, min_samples_leaf=30)\n",
        "ab = ensemble.AdaBoostClassifier(random_state=42, n_estimators=400, learning_rate=0.01)\n",
        "gb = ensemble.GradientBoostingClassifier(random_state=42, n_estimators=100, learning_rate=0.01, \n",
        "                                         max_depth=4, min_samples_leaf=20)\n",
        "\n",
        "models = [dt, rf, ab, gb]\n",
        "labels = ['Decision Tree', 'Random Forest', 'Ada Boost', 'Gardient Boosting']"
      ],
      "outputs": [],
      "metadata": {
        "id": "mHbajuTu6P0h"
      }
    },
    {
      "cell_type": "markdown",
      "source": [
        "#### Treinando os modelos criados e observando a métrica f1-score atingida por cada um ao aplicar os dados de teste. "
      ],
      "metadata": {
        "id": "OhJI1TYrZVjZ"
      }
    },
    {
      "cell_type": "code",
      "execution_count": 108,
      "source": [
        "results = []\n",
        "features_importances = []\n",
        "\n",
        "for model, label in zip(models, labels):\n",
        "    bc = ensemble.BaggingClassifier(random_state=42, base_estimator=model, oob_score=True, bootstrap=True)\n",
        "    bc.fit(X_train, y_train)\n",
        "    y_pred = bc.predict(X_test)\n",
        "    f1score = metrics.f1_score(y_test, y_pred, average='weighted', zero_division=0)\n",
        "      \n",
        "    importances = np.mean([tree.feature_importances_ for tree in bc.estimators_], axis=0)\n",
        "    \n",
        "    print(f'Model: {label}')\n",
        "    print(f'F1-Score: {f1score}')\n",
        "    print(\"--------------------------------------------------\\n\")\n",
        "\n",
        "    results.append({'Model': label, 'F1-Score': f1score})\n",
        "    features_importances.append({'Model': label, 'Features Importances': importances})"
      ],
      "outputs": [
        {
          "output_type": "stream",
          "name": "stdout",
          "text": [
            "Model: Decision Tree\n",
            "F1-Score: 0.7759425040978439\n",
            "--------------------------------------------------\n",
            "\n",
            "Model: Random Forest\n",
            "F1-Score: 0.7818349122696949\n",
            "--------------------------------------------------\n",
            "\n",
            "Model: Ada Boost\n",
            "F1-Score: 0.798532835089439\n",
            "--------------------------------------------------\n",
            "\n",
            "Model: Gardient Boosting\n",
            "F1-Score: 0.795470230252839\n",
            "--------------------------------------------------\n",
            "\n"
          ]
        }
      ],
      "metadata": {
        "colab": {
          "base_uri": "https://localhost:8080/"
        },
        "id": "_ctvMj1e72Bp",
        "outputId": "b435dcef-e683-48d7-8f24-6e4a64effb65"
      }
    },
    {
      "cell_type": "markdown",
      "source": [
        "#### Criando um dataframe ordenado pela métrica F1-Score alcançada por cada modelo treinado."
      ],
      "metadata": {
        "id": "58eNeHl_ZmnI"
      }
    },
    {
      "cell_type": "code",
      "execution_count": 109,
      "source": [
        "df_results = pd.DataFrame(results)\n",
        "df_results_ord = df_results.sort_values(by='F1-Score', ascending=False)\n",
        "df_results_ord"
      ],
      "outputs": [
        {
          "output_type": "execute_result",
          "data": {
            "text/plain": [
              "               Model  F1-Score\n",
              "2          Ada Boost  0.798533\n",
              "3  Gardient Boosting  0.795470\n",
              "1      Random Forest  0.781835\n",
              "0      Decision Tree  0.775943"
            ],
            "text/html": [
              "<div>\n",
              "<style scoped>\n",
              "    .dataframe tbody tr th:only-of-type {\n",
              "        vertical-align: middle;\n",
              "    }\n",
              "\n",
              "    .dataframe tbody tr th {\n",
              "        vertical-align: top;\n",
              "    }\n",
              "\n",
              "    .dataframe thead th {\n",
              "        text-align: right;\n",
              "    }\n",
              "</style>\n",
              "<table border=\"1\" class=\"dataframe\">\n",
              "  <thead>\n",
              "    <tr style=\"text-align: right;\">\n",
              "      <th></th>\n",
              "      <th>Model</th>\n",
              "      <th>F1-Score</th>\n",
              "    </tr>\n",
              "  </thead>\n",
              "  <tbody>\n",
              "    <tr>\n",
              "      <th>2</th>\n",
              "      <td>Ada Boost</td>\n",
              "      <td>0.798533</td>\n",
              "    </tr>\n",
              "    <tr>\n",
              "      <th>3</th>\n",
              "      <td>Gardient Boosting</td>\n",
              "      <td>0.795470</td>\n",
              "    </tr>\n",
              "    <tr>\n",
              "      <th>1</th>\n",
              "      <td>Random Forest</td>\n",
              "      <td>0.781835</td>\n",
              "    </tr>\n",
              "    <tr>\n",
              "      <th>0</th>\n",
              "      <td>Decision Tree</td>\n",
              "      <td>0.775943</td>\n",
              "    </tr>\n",
              "  </tbody>\n",
              "</table>\n",
              "</div>"
            ]
          },
          "metadata": {
            "tags": []
          },
          "execution_count": 109
        }
      ],
      "metadata": {
        "colab": {
          "base_uri": "https://localhost:8080/",
          "height": 173
        },
        "id": "S4caV5tZ8YpX",
        "outputId": "6c65d4ac-89c9-46bb-dd03-cc27a3889047"
      }
    },
    {
      "cell_type": "markdown",
      "source": [
        "#### Formando um dataframe agora com os dados de importâncias de features gerados para cada modelo utilizado."
      ],
      "metadata": {
        "id": "T0eY1x11Zx3X"
      }
    },
    {
      "cell_type": "code",
      "execution_count": 110,
      "source": [
        "df_importances = pd.DataFrame(features_importances)\n",
        "df_importances"
      ],
      "outputs": [
        {
          "output_type": "execute_result",
          "data": {
            "text/plain": [
              "               Model                               Features Importances\n",
              "0      Decision Tree  [0.024729181312553607, 0.6483624800195595, 0.0...\n",
              "1      Random Forest  [0.07916058279437885, 0.3497945086661877, 0.02...\n",
              "2          Ada Boost  [0.052500000000000005, 0.42699999999999994, 0....\n",
              "3  Gardient Boosting  [0.037777680106981966, 0.530514094201605, 0.01..."
            ],
            "text/html": [
              "<div>\n",
              "<style scoped>\n",
              "    .dataframe tbody tr th:only-of-type {\n",
              "        vertical-align: middle;\n",
              "    }\n",
              "\n",
              "    .dataframe tbody tr th {\n",
              "        vertical-align: top;\n",
              "    }\n",
              "\n",
              "    .dataframe thead th {\n",
              "        text-align: right;\n",
              "    }\n",
              "</style>\n",
              "<table border=\"1\" class=\"dataframe\">\n",
              "  <thead>\n",
              "    <tr style=\"text-align: right;\">\n",
              "      <th></th>\n",
              "      <th>Model</th>\n",
              "      <th>Features Importances</th>\n",
              "    </tr>\n",
              "  </thead>\n",
              "  <tbody>\n",
              "    <tr>\n",
              "      <th>0</th>\n",
              "      <td>Decision Tree</td>\n",
              "      <td>[0.024729181312553607, 0.6483624800195595, 0.0...</td>\n",
              "    </tr>\n",
              "    <tr>\n",
              "      <th>1</th>\n",
              "      <td>Random Forest</td>\n",
              "      <td>[0.07916058279437885, 0.3497945086661877, 0.02...</td>\n",
              "    </tr>\n",
              "    <tr>\n",
              "      <th>2</th>\n",
              "      <td>Ada Boost</td>\n",
              "      <td>[0.052500000000000005, 0.42699999999999994, 0....</td>\n",
              "    </tr>\n",
              "    <tr>\n",
              "      <th>3</th>\n",
              "      <td>Gardient Boosting</td>\n",
              "      <td>[0.037777680106981966, 0.530514094201605, 0.01...</td>\n",
              "    </tr>\n",
              "  </tbody>\n",
              "</table>\n",
              "</div>"
            ]
          },
          "metadata": {
            "tags": []
          },
          "execution_count": 110
        }
      ],
      "metadata": {
        "colab": {
          "base_uri": "https://localhost:8080/",
          "height": 173
        },
        "id": "xbyyfHmpGidP",
        "outputId": "8d207063-cddb-4ddd-82c0-231f11c48816"
      }
    },
    {
      "cell_type": "markdown",
      "source": [
        "#### Montando dataframes para atribuir os valores de importâncias de features em cada modelo para a feature cujo valor está associado.\n",
        "\n",
        "#### Os dataframes gerados são exibidos e também armazenados em uma lista."
      ],
      "metadata": {
        "id": "aMSGFfTnaCcV"
      }
    },
    {
      "cell_type": "code",
      "execution_count": 111,
      "source": [
        "columns = X.columns\n",
        "dataframes = []\n",
        "for model, imp in zip(df_importances['Model'], df_importances['Features Importances']):\n",
        "    df = pd.DataFrame({'Importances': imp})\n",
        "    df.index = columns\n",
        "    print(f'Modelo: {model}')\n",
        "    print(\"*******************************************\\n\")\n",
        "    print(df.sort_values(by='Importances', ascending=False))\n",
        "    print(\"\\n*******************************************\\n\")\n",
        "\n",
        "    dataframes.append(df)"
      ],
      "outputs": [
        {
          "output_type": "stream",
          "name": "stdout",
          "text": [
            "Modelo: Decision Tree\n",
            "*******************************************\n",
            "\n",
            "                          Importances\n",
            "Glucose                      0.648362\n",
            "BMI                          0.204924\n",
            "Age                          0.063515\n",
            "DiabetesPedigreeFunction     0.040806\n",
            "Pregnancies                  0.024729\n",
            "Insulin                      0.007468\n",
            "SkinThickness                0.007346\n",
            "BloodPressure                0.002849\n",
            "\n",
            "*******************************************\n",
            "\n",
            "Modelo: Random Forest\n",
            "*******************************************\n",
            "\n",
            "                          Importances\n",
            "Glucose                      0.349795\n",
            "BMI                          0.178288\n",
            "Age                          0.168517\n",
            "DiabetesPedigreeFunction     0.095073\n",
            "Pregnancies                  0.079161\n",
            "Insulin                      0.054558\n",
            "SkinThickness                0.047096\n",
            "BloodPressure                0.027513\n",
            "\n",
            "*******************************************\n",
            "\n",
            "Modelo: Ada Boost\n",
            "*******************************************\n",
            "\n",
            "                          Importances\n",
            "Glucose                       0.42700\n",
            "BMI                           0.28625\n",
            "Age                           0.14600\n",
            "DiabetesPedigreeFunction      0.07850\n",
            "Pregnancies                   0.05250\n",
            "Insulin                       0.00625\n",
            "BloodPressure                 0.00250\n",
            "SkinThickness                 0.00100\n",
            "\n",
            "*******************************************\n",
            "\n",
            "Modelo: Gardient Boosting\n",
            "*******************************************\n",
            "\n",
            "                          Importances\n",
            "Glucose                      0.530514\n",
            "BMI                          0.202876\n",
            "Age                          0.086519\n",
            "DiabetesPedigreeFunction     0.085426\n",
            "Pregnancies                  0.037778\n",
            "Insulin                      0.021490\n",
            "SkinThickness                0.019508\n",
            "BloodPressure                0.015889\n",
            "\n",
            "*******************************************\n",
            "\n"
          ]
        }
      ],
      "metadata": {
        "colab": {
          "base_uri": "https://localhost:8080/"
        },
        "id": "61wyY3IlLe7L",
        "outputId": "09275179-2b69-4fad-e92a-59b3dd5e62d2"
      }
    },
    {
      "cell_type": "markdown",
      "source": [
        "#### Plotando os gráficos de barra com os valores de importâncias de features associados às suas respectivas features para cada modelo observado."
      ],
      "metadata": {
        "id": "_7roHw89ajK6"
      }
    },
    {
      "cell_type": "code",
      "execution_count": 112,
      "source": [
        "colors = ['green', 'red', 'blue', 'darkslategray']\n",
        "for i, label in zip(range(len(dataframes)), df_importances['Model']):\n",
        "  importances = dataframes[i].sort_values(by='Importances')['Importances']\n",
        "  columns = dataframes[i].sort_values(by='Importances').index\n",
        "  plt.figure(figsize=[10, 5])\n",
        "  plt.barh(columns, importances, align='center', color=colors[i])\n",
        "  plt.title(f'Feature Importances - {label}')\n",
        "  plt.show()\n"
      ],
      "outputs": [
        {
          "output_type": "display_data",
          "data": {
            "text/plain": [
              "<Figure size 720x360 with 1 Axes>"
            ],
            "image/png": "[encoded data removed]"
          },
          "metadata": {
            "tags": [],
            "needs_background": "light"
          }
        },
        {
          "output_type": "display_data",
          "data": {
            "text/plain": [
              "<Figure size 720x360 with 1 Axes>"
            ],
            "image/png": "[encoded data removed]"
          },
          "metadata": {
            "tags": [],
            "needs_background": "light"
          }
        },
        {
          "output_type": "display_data",
          "data": {
            "text/plain": [
              "<Figure size 720x360 with 1 Axes>"
            ],
            "image/png": "[encoded data removed]"
          },
          "metadata": {
            "tags": [],
            "needs_background": "light"
          }
        },
        {
          "output_type": "display_data",
          "data": {
            "text/plain": [
              "<Figure size 720x360 with 1 Axes>"
            ],
            "image/png": "[encoded data removed]"
          },
          "metadata": {
            "tags": [],
            "needs_background": "light"
          }
        }
      ],
      "metadata": {
        "colab": {
          "base_uri": "https://localhost:8080/",
          "height": 1000
        },
        "id": "NZc1bwRILnOs",
        "outputId": "7bbd8710-06cd-4c77-b75d-e303e161310d"
      }
    },
    {
      "cell_type": "code",
      "execution_count": 112,
      "source": [],
      "outputs": [],
      "metadata": {
        "id": "7Mg3_Xo0v6Hb"
      }
    }
  ]
}