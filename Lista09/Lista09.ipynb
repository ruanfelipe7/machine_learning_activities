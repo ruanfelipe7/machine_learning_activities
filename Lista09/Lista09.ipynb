{
 "cells": [
  {
   "cell_type": "markdown",
   "source": [
    "# Lista 09 - Aprendizado de Máquina\n",
    "\n",
    "## Aluno: Ruan Felipe de Almeida Silva - 397048"
   ],
   "metadata": {}
  },
  {
   "cell_type": "code",
   "execution_count": 117,
   "source": [
    "import pandas as pd\n",
    "import numpy as np\n",
    "from sklearn import metrics\n",
    "import matplotlib.pyplot as plt\n",
    "from sklearn import model_selection\n",
    "\n",
    "from sklearn.neighbors import KNeighborsClassifier\n",
    "from sklearn.linear_model import LogisticRegression\n",
    "from sklearn import svm\n",
    "from sklearn import naive_bayes\n",
    "\n",
    "from sklearn.decomposition import PCA\n",
    "import matplotlib.pyplot as plt\n",
    "from mlxtend.plotting import plot_decision_regions\n",
    "\n",
    "import warnings\n",
    "warnings.filterwarnings('ignore')"
   ],
   "outputs": [],
   "metadata": {}
  },
  {
   "cell_type": "markdown",
   "source": [
    "### Resolva o problema de classificação binária sobre o dataset \"Pima Indians Diabetes Database\". \n"
   ],
   "metadata": {}
  },
  {
   "cell_type": "markdown",
   "source": [
    "#### Importação dos dados"
   ],
   "metadata": {}
  },
  {
   "cell_type": "code",
   "execution_count": 118,
   "source": [
    "dataframe = pd.read_csv('diabetes.csv', delimiter=',')\n",
    "dataframe"
   ],
   "outputs": [
    {
     "output_type": "execute_result",
     "data": {
      "text/plain": [
       "     Pregnancies  Glucose  BloodPressure  SkinThickness  Insulin   BMI  \\\n",
       "0              6      148             72             35        0  33.6   \n",
       "1              1       85             66             29        0  26.6   \n",
       "2              8      183             64              0        0  23.3   \n",
       "3              1       89             66             23       94  28.1   \n",
       "4              0      137             40             35      168  43.1   \n",
       "..           ...      ...            ...            ...      ...   ...   \n",
       "763           10      101             76             48      180  32.9   \n",
       "764            2      122             70             27        0  36.8   \n",
       "765            5      121             72             23      112  26.2   \n",
       "766            1      126             60              0        0  30.1   \n",
       "767            1       93             70             31        0  30.4   \n",
       "\n",
       "     DiabetesPedigreeFunction  Age  Outcome  \n",
       "0                       0.627   50        1  \n",
       "1                       0.351   31        0  \n",
       "2                       0.672   32        1  \n",
       "3                       0.167   21        0  \n",
       "4                       2.288   33        1  \n",
       "..                        ...  ...      ...  \n",
       "763                     0.171   63        0  \n",
       "764                     0.340   27        0  \n",
       "765                     0.245   30        0  \n",
       "766                     0.349   47        1  \n",
       "767                     0.315   23        0  \n",
       "\n",
       "[768 rows x 9 columns]"
      ],
      "text/html": [
       "<div>\n",
       "<style scoped>\n",
       "    .dataframe tbody tr th:only-of-type {\n",
       "        vertical-align: middle;\n",
       "    }\n",
       "\n",
       "    .dataframe tbody tr th {\n",
       "        vertical-align: top;\n",
       "    }\n",
       "\n",
       "    .dataframe thead th {\n",
       "        text-align: right;\n",
       "    }\n",
       "</style>\n",
       "<table border=\"1\" class=\"dataframe\">\n",
       "  <thead>\n",
       "    <tr style=\"text-align: right;\">\n",
       "      <th></th>\n",
       "      <th>Pregnancies</th>\n",
       "      <th>Glucose</th>\n",
       "      <th>BloodPressure</th>\n",
       "      <th>SkinThickness</th>\n",
       "      <th>Insulin</th>\n",
       "      <th>BMI</th>\n",
       "      <th>DiabetesPedigreeFunction</th>\n",
       "      <th>Age</th>\n",
       "      <th>Outcome</th>\n",
       "    </tr>\n",
       "  </thead>\n",
       "  <tbody>\n",
       "    <tr>\n",
       "      <th>0</th>\n",
       "      <td>6</td>\n",
       "      <td>148</td>\n",
       "      <td>72</td>\n",
       "      <td>35</td>\n",
       "      <td>0</td>\n",
       "      <td>33.6</td>\n",
       "      <td>0.627</td>\n",
       "      <td>50</td>\n",
       "      <td>1</td>\n",
       "    </tr>\n",
       "    <tr>\n",
       "      <th>1</th>\n",
       "      <td>1</td>\n",
       "      <td>85</td>\n",
       "      <td>66</td>\n",
       "      <td>29</td>\n",
       "      <td>0</td>\n",
       "      <td>26.6</td>\n",
       "      <td>0.351</td>\n",
       "      <td>31</td>\n",
       "      <td>0</td>\n",
       "    </tr>\n",
       "    <tr>\n",
       "      <th>2</th>\n",
       "      <td>8</td>\n",
       "      <td>183</td>\n",
       "      <td>64</td>\n",
       "      <td>0</td>\n",
       "      <td>0</td>\n",
       "      <td>23.3</td>\n",
       "      <td>0.672</td>\n",
       "      <td>32</td>\n",
       "      <td>1</td>\n",
       "    </tr>\n",
       "    <tr>\n",
       "      <th>3</th>\n",
       "      <td>1</td>\n",
       "      <td>89</td>\n",
       "      <td>66</td>\n",
       "      <td>23</td>\n",
       "      <td>94</td>\n",
       "      <td>28.1</td>\n",
       "      <td>0.167</td>\n",
       "      <td>21</td>\n",
       "      <td>0</td>\n",
       "    </tr>\n",
       "    <tr>\n",
       "      <th>4</th>\n",
       "      <td>0</td>\n",
       "      <td>137</td>\n",
       "      <td>40</td>\n",
       "      <td>35</td>\n",
       "      <td>168</td>\n",
       "      <td>43.1</td>\n",
       "      <td>2.288</td>\n",
       "      <td>33</td>\n",
       "      <td>1</td>\n",
       "    </tr>\n",
       "    <tr>\n",
       "      <th>...</th>\n",
       "      <td>...</td>\n",
       "      <td>...</td>\n",
       "      <td>...</td>\n",
       "      <td>...</td>\n",
       "      <td>...</td>\n",
       "      <td>...</td>\n",
       "      <td>...</td>\n",
       "      <td>...</td>\n",
       "      <td>...</td>\n",
       "    </tr>\n",
       "    <tr>\n",
       "      <th>763</th>\n",
       "      <td>10</td>\n",
       "      <td>101</td>\n",
       "      <td>76</td>\n",
       "      <td>48</td>\n",
       "      <td>180</td>\n",
       "      <td>32.9</td>\n",
       "      <td>0.171</td>\n",
       "      <td>63</td>\n",
       "      <td>0</td>\n",
       "    </tr>\n",
       "    <tr>\n",
       "      <th>764</th>\n",
       "      <td>2</td>\n",
       "      <td>122</td>\n",
       "      <td>70</td>\n",
       "      <td>27</td>\n",
       "      <td>0</td>\n",
       "      <td>36.8</td>\n",
       "      <td>0.340</td>\n",
       "      <td>27</td>\n",
       "      <td>0</td>\n",
       "    </tr>\n",
       "    <tr>\n",
       "      <th>765</th>\n",
       "      <td>5</td>\n",
       "      <td>121</td>\n",
       "      <td>72</td>\n",
       "      <td>23</td>\n",
       "      <td>112</td>\n",
       "      <td>26.2</td>\n",
       "      <td>0.245</td>\n",
       "      <td>30</td>\n",
       "      <td>0</td>\n",
       "    </tr>\n",
       "    <tr>\n",
       "      <th>766</th>\n",
       "      <td>1</td>\n",
       "      <td>126</td>\n",
       "      <td>60</td>\n",
       "      <td>0</td>\n",
       "      <td>0</td>\n",
       "      <td>30.1</td>\n",
       "      <td>0.349</td>\n",
       "      <td>47</td>\n",
       "      <td>1</td>\n",
       "    </tr>\n",
       "    <tr>\n",
       "      <th>767</th>\n",
       "      <td>1</td>\n",
       "      <td>93</td>\n",
       "      <td>70</td>\n",
       "      <td>31</td>\n",
       "      <td>0</td>\n",
       "      <td>30.4</td>\n",
       "      <td>0.315</td>\n",
       "      <td>23</td>\n",
       "      <td>0</td>\n",
       "    </tr>\n",
       "  </tbody>\n",
       "</table>\n",
       "<p>768 rows × 9 columns</p>\n",
       "</div>"
      ]
     },
     "metadata": {},
     "execution_count": 118
    }
   ],
   "metadata": {}
  },
  {
   "cell_type": "markdown",
   "source": [
    "#### Verificando os tipos de dados do dataset"
   ],
   "metadata": {}
  },
  {
   "cell_type": "code",
   "execution_count": 119,
   "source": [
    "dataframe.dtypes"
   ],
   "outputs": [
    {
     "output_type": "execute_result",
     "data": {
      "text/plain": [
       "Pregnancies                   int64\n",
       "Glucose                       int64\n",
       "BloodPressure                 int64\n",
       "SkinThickness                 int64\n",
       "Insulin                       int64\n",
       "BMI                         float64\n",
       "DiabetesPedigreeFunction    float64\n",
       "Age                           int64\n",
       "Outcome                       int64\n",
       "dtype: object"
      ]
     },
     "metadata": {},
     "execution_count": 119
    }
   ],
   "metadata": {}
  },
  {
   "cell_type": "markdown",
   "source": [
    "#### Verificando se existem valores faltantes no conjunto de dados"
   ],
   "metadata": {}
  },
  {
   "cell_type": "code",
   "execution_count": 120,
   "source": [
    "dataframe.isna().sum()"
   ],
   "outputs": [
    {
     "output_type": "execute_result",
     "data": {
      "text/plain": [
       "Pregnancies                 0\n",
       "Glucose                     0\n",
       "BloodPressure               0\n",
       "SkinThickness               0\n",
       "Insulin                     0\n",
       "BMI                         0\n",
       "DiabetesPedigreeFunction    0\n",
       "Age                         0\n",
       "Outcome                     0\n",
       "dtype: int64"
      ]
     },
     "metadata": {},
     "execution_count": 120
    }
   ],
   "metadata": {}
  },
  {
   "cell_type": "markdown",
   "source": [
    "#### Dividindo o dataset nas features e no target e verificando os valores de target desse dataset"
   ],
   "metadata": {}
  },
  {
   "cell_type": "code",
   "execution_count": 121,
   "source": [
    "X = dataframe.drop('Outcome', axis=1)\n",
    "y = dataframe['Outcome']\n",
    "np.unique(y)"
   ],
   "outputs": [
    {
     "output_type": "execute_result",
     "data": {
      "text/plain": [
       "array([0, 1])"
      ]
     },
     "metadata": {},
     "execution_count": 121
    }
   ],
   "metadata": {}
  },
  {
   "cell_type": "markdown",
   "source": [
    "#### Exibindo a quantidade de amostras existente em cada classe."
   ],
   "metadata": {}
  },
  {
   "cell_type": "code",
   "execution_count": 122,
   "source": [
    "y.value_counts()"
   ],
   "outputs": [
    {
     "output_type": "execute_result",
     "data": {
      "text/plain": [
       "0    500\n",
       "1    268\n",
       "Name: Outcome, dtype: int64"
      ]
     },
     "metadata": {},
     "execution_count": 122
    }
   ],
   "metadata": {}
  },
  {
   "cell_type": "markdown",
   "source": [
    "### 1. Separe os dados em treino (80%) e teste (20%)."
   ],
   "metadata": {}
  },
  {
   "cell_type": "code",
   "execution_count": 123,
   "source": [
    "X_values = X.values\n",
    "y_values = y.values\n",
    "X_train, X_test, y_train, y_test = model_selection.train_test_split(X_values, y_values, test_size=0.2, random_state=742, stratify=y_values)\n",
    "print(\"Conjunto x de treino:\", X_train.shape[0])\n",
    "print(\"Conjunto x de teste:\", X_test.shape[0])\n",
    "print(\"Conjunto y de treino:\", y_train.shape[0])\n",
    "print(\"Conjunto y de teste:\", y_test.shape[0])"
   ],
   "outputs": [
    {
     "output_type": "stream",
     "name": "stdout",
     "text": [
      "Conjunto x de treino: 614\n",
      "Conjunto x de teste: 154\n",
      "Conjunto y de treino: 614\n",
      "Conjunto y de teste: 154\n"
     ]
    }
   ],
   "metadata": {}
  },
  {
   "cell_type": "code",
   "execution_count": 124,
   "source": [
    "idx = 0\n",
    "plt.hist(X_train[:, idx], bins=20);"
   ],
   "outputs": [
    {
     "output_type": "display_data",
     "data": {
      "text/plain": [
       "<Figure size 432x288 with 1 Axes>"
      ],
      "image/png": "[encoded data removed]"
     },
     "metadata": {
      "needs_background": "light"
     }
    }
   ],
   "metadata": {}
  },
  {
   "cell_type": "markdown",
   "source": [
    "### 2. Crie e avalie modelos usando kNN, Logistic Regression, SVM e Naive Bayes. Aplique um Grid Search com Validação Cruzada (CV) com k=5 no k-Fold sobre o conjunto de treino. A métrica de avaliação usada deve ser a métrica F1-Score. Teste diferentes hiperparâmetros. Escolha o melhor algoritmo e hiperparâmetros baseado no Grid Search."
   ],
   "metadata": {}
  },
  {
   "cell_type": "code",
   "execution_count": 125,
   "source": [
    "knn = KNeighborsClassifier()\n",
    "log = LogisticRegression(random_state=742)\n",
    "svc = svm.SVC(random_state=742)\n",
    "nb = naive_bayes.GaussianNB()"
   ],
   "outputs": [],
   "metadata": {}
  },
  {
   "cell_type": "code",
   "execution_count": 126,
   "source": [
    "ensemble_classifier = [knn, log, svc, nb]"
   ],
   "outputs": [],
   "metadata": {}
  },
  {
   "cell_type": "code",
   "execution_count": 127,
   "source": [
    "params_knn={\"n_neighbors\": range(1, 25), \n",
    "         \"weights\": ['uniform', 'distance'],\n",
    "         \"metric\":['manhattan', 'minkowski', 'euclidean']}\n",
    "\n",
    "params_log={\"penalty\":['none', 'l2'],\n",
    "         \"C\": np.logspace(-5, 5, 11), \n",
    "         \"solver\": ['newtong-cg', 'lbfgs', 'sag', 'saga', 'liblinear'],\n",
    "         \"max_iter\": [10, 50, 100, 200]}\n",
    "\n",
    "params_svc={\"C\": np.logspace(-4, 4, 9),\n",
    "            \"kernel\": ['rbf', 'sigmoid'],\n",
    "            \"gamma\": ['scale', 'auto'],\n",
    "            \"max_iter\":[-1, 10, 50, 100]}\n",
    "         \n",
    "params_nb={\"var_smoothing\":np. logspace(-9, 0, 10)}\n",
    "\n",
    "\n",
    "# params_knn={\"kneighborsclassifier__n_neighbors\": range(1, 25), \n",
    "#          \"kneighborsclassifier__weights\": ['uniform', 'distance'],\n",
    "#          \"kneighborsclassifier__metric\":['manhattan', 'minkowski', 'euclidean']}\n",
    "\n",
    "# params_log={\"logisticregression__penalty\":['none', 'l2'],\n",
    "#          \"logisticregression__C\": np.logspace(-5, 5, 11), \n",
    "#          \"logisticregression__solver\": ['newtong-cg', 'lbfgs', 'sag', 'saga', 'liblinear'],\n",
    "#          \"logisticregression__max_iter\": [10, 50, 100, 200]}\n",
    "\n",
    "# params_svc={\"svc__C\": np.logspace(-4, 4, 9),\n",
    "#             \"svc__kernel\": ['rbf', 'sigmoid'],\n",
    "#             \"svc__gamma\": ['scale', 'auto'],\n",
    "#             \"svc__max_iter\":[-1, 10, 50, 100]}\n",
    "         \n",
    "# params_nb={\"gaussiannb__var_smoothing\":np. logspace(-9, 0, 10)}"
   ],
   "outputs": [],
   "metadata": {}
  },
  {
   "cell_type": "code",
   "execution_count": 128,
   "source": [
    "params_list = [params_knn, params_log, params_svc, params_nb]"
   ],
   "outputs": [],
   "metadata": {}
  },
  {
   "cell_type": "code",
   "execution_count": 129,
   "source": [
    "results = []\n",
    "models = ['KNN', 'LR', 'SVC', 'NB']\n",
    "\n",
    "# std = preprocessing.StandardScaler()\n",
    "# norm = preprocessing.MinMaxScaler()\n",
    "# scalers = ['no scaler', std, norm]\n",
    "\n",
    "# for scaler in scalers:\n",
    "for classifier, params, model in zip(ensemble_classifier, params_list, models):\n",
    "    # if scaler == 'no scaler':\n",
    "    #     pipe = pipeline.make_pipeline(classifier)\n",
    "    #     scl = 'No Scaler'\n",
    "    # else:\n",
    "    #     pipe = pipeline.make_pipeline(scaler, classifier)\n",
    "    #     s = str(scaler)\n",
    "    #     ind_parenteses = s.find('(')\n",
    "    #     scl = s[:ind_parenteses]\n",
    "    \n",
    "    gridSearch = model_selection.GridSearchCV(estimator=classifier, param_grid=params, return_train_score=False, scoring='f1_weighted', cv=5)\n",
    "    gs = gridSearch.fit(X=X_train, y=y_train)\n",
    "    # print(f'Escalonamento: {scl}')\n",
    "    print(f'Modelo: {gs.best_estimator_}')\n",
    "    print(f'Melhor F1-Score: {gs.best_score_}')        \n",
    "    print(f'Melhores parâmetros: {gs.best_params_}')\n",
    "    print(\"\\n---------------------------------------------------------------------------------\\n\")\n",
    "\n",
    "    resultado = {'Model':model, \n",
    "                'Params':gs.best_params_, \n",
    "                'F1-Score':gs.best_score_,\n",
    "                # 'Scaler': scaler, \n",
    "                'Estimator':gs.best_estimator_}\n",
    "    \n",
    "    results.append(resultado)\n",
    "\n",
    "\n",
    "\n"
   ],
   "outputs": [
    {
     "output_type": "stream",
     "name": "stdout",
     "text": [
      "Modelo: KNeighborsClassifier(metric='manhattan', n_neighbors=24, weights='distance')\n",
      "Melhor F1-Score: 0.7392726459941139\n",
      "Melhores parâmetros: {'metric': 'manhattan', 'n_neighbors': 24, 'weights': 'distance'}\n",
      "\n",
      "---------------------------------------------------------------------------------\n",
      "\n",
      "Modelo: LogisticRegression(C=0.1, random_state=742)\n",
      "Melhor F1-Score: 0.7634171261503115\n",
      "Melhores parâmetros: {'C': 0.1, 'max_iter': 100, 'penalty': 'l2', 'solver': 'lbfgs'}\n",
      "\n",
      "---------------------------------------------------------------------------------\n",
      "\n",
      "Modelo: SVC(C=10.0, random_state=742)\n",
      "Melhor F1-Score: 0.7339023920922834\n",
      "Melhores parâmetros: {'C': 10.0, 'gamma': 'scale', 'kernel': 'rbf', 'max_iter': -1}\n",
      "\n",
      "---------------------------------------------------------------------------------\n",
      "\n",
      "Modelo: GaussianNB(var_smoothing=1e-06)\n",
      "Melhor F1-Score: 0.7436753334944008\n",
      "Melhores parâmetros: {'var_smoothing': 1e-06}\n",
      "\n",
      "---------------------------------------------------------------------------------\n",
      "\n"
     ]
    }
   ],
   "metadata": {}
  },
  {
   "cell_type": "code",
   "execution_count": 130,
   "source": [
    "df_results = pd.DataFrame(results)\n",
    "df_results"
   ],
   "outputs": [
    {
     "output_type": "execute_result",
     "data": {
      "text/plain": [
       "  Model                                             Params  F1-Score  \\\n",
       "0   KNN  {'metric': 'manhattan', 'n_neighbors': 24, 'we...  0.739273   \n",
       "1    LR  {'C': 0.1, 'max_iter': 100, 'penalty': 'l2', '...  0.763417   \n",
       "2   SVC  {'C': 10.0, 'gamma': 'scale', 'kernel': 'rbf',...  0.733902   \n",
       "3    NB                           {'var_smoothing': 1e-06}  0.743675   \n",
       "\n",
       "                                           Estimator  \n",
       "0  KNeighborsClassifier(metric='manhattan', n_nei...  \n",
       "1        LogisticRegression(C=0.1, random_state=742)  \n",
       "2                      SVC(C=10.0, random_state=742)  \n",
       "3                    GaussianNB(var_smoothing=1e-06)  "
      ],
      "text/html": [
       "<div>\n",
       "<style scoped>\n",
       "    .dataframe tbody tr th:only-of-type {\n",
       "        vertical-align: middle;\n",
       "    }\n",
       "\n",
       "    .dataframe tbody tr th {\n",
       "        vertical-align: top;\n",
       "    }\n",
       "\n",
       "    .dataframe thead th {\n",
       "        text-align: right;\n",
       "    }\n",
       "</style>\n",
       "<table border=\"1\" class=\"dataframe\">\n",
       "  <thead>\n",
       "    <tr style=\"text-align: right;\">\n",
       "      <th></th>\n",
       "      <th>Model</th>\n",
       "      <th>Params</th>\n",
       "      <th>F1-Score</th>\n",
       "      <th>Estimator</th>\n",
       "    </tr>\n",
       "  </thead>\n",
       "  <tbody>\n",
       "    <tr>\n",
       "      <th>0</th>\n",
       "      <td>KNN</td>\n",
       "      <td>{'metric': 'manhattan', 'n_neighbors': 24, 'we...</td>\n",
       "      <td>0.739273</td>\n",
       "      <td>KNeighborsClassifier(metric='manhattan', n_nei...</td>\n",
       "    </tr>\n",
       "    <tr>\n",
       "      <th>1</th>\n",
       "      <td>LR</td>\n",
       "      <td>{'C': 0.1, 'max_iter': 100, 'penalty': 'l2', '...</td>\n",
       "      <td>0.763417</td>\n",
       "      <td>LogisticRegression(C=0.1, random_state=742)</td>\n",
       "    </tr>\n",
       "    <tr>\n",
       "      <th>2</th>\n",
       "      <td>SVC</td>\n",
       "      <td>{'C': 10.0, 'gamma': 'scale', 'kernel': 'rbf',...</td>\n",
       "      <td>0.733902</td>\n",
       "      <td>SVC(C=10.0, random_state=742)</td>\n",
       "    </tr>\n",
       "    <tr>\n",
       "      <th>3</th>\n",
       "      <td>NB</td>\n",
       "      <td>{'var_smoothing': 1e-06}</td>\n",
       "      <td>0.743675</td>\n",
       "      <td>GaussianNB(var_smoothing=1e-06)</td>\n",
       "    </tr>\n",
       "  </tbody>\n",
       "</table>\n",
       "</div>"
      ]
     },
     "metadata": {},
     "execution_count": 130
    }
   ],
   "metadata": {}
  },
  {
   "cell_type": "code",
   "execution_count": 131,
   "source": [
    "df_sorted = df_results.sort_values(by='F1-Score', ascending=False)\n",
    "df_sorted"
   ],
   "outputs": [
    {
     "output_type": "execute_result",
     "data": {
      "text/plain": [
       "  Model                                             Params  F1-Score  \\\n",
       "1    LR  {'C': 0.1, 'max_iter': 100, 'penalty': 'l2', '...  0.763417   \n",
       "3    NB                           {'var_smoothing': 1e-06}  0.743675   \n",
       "0   KNN  {'metric': 'manhattan', 'n_neighbors': 24, 'we...  0.739273   \n",
       "2   SVC  {'C': 10.0, 'gamma': 'scale', 'kernel': 'rbf',...  0.733902   \n",
       "\n",
       "                                           Estimator  \n",
       "1        LogisticRegression(C=0.1, random_state=742)  \n",
       "3                    GaussianNB(var_smoothing=1e-06)  \n",
       "0  KNeighborsClassifier(metric='manhattan', n_nei...  \n",
       "2                      SVC(C=10.0, random_state=742)  "
      ],
      "text/html": [
       "<div>\n",
       "<style scoped>\n",
       "    .dataframe tbody tr th:only-of-type {\n",
       "        vertical-align: middle;\n",
       "    }\n",
       "\n",
       "    .dataframe tbody tr th {\n",
       "        vertical-align: top;\n",
       "    }\n",
       "\n",
       "    .dataframe thead th {\n",
       "        text-align: right;\n",
       "    }\n",
       "</style>\n",
       "<table border=\"1\" class=\"dataframe\">\n",
       "  <thead>\n",
       "    <tr style=\"text-align: right;\">\n",
       "      <th></th>\n",
       "      <th>Model</th>\n",
       "      <th>Params</th>\n",
       "      <th>F1-Score</th>\n",
       "      <th>Estimator</th>\n",
       "    </tr>\n",
       "  </thead>\n",
       "  <tbody>\n",
       "    <tr>\n",
       "      <th>1</th>\n",
       "      <td>LR</td>\n",
       "      <td>{'C': 0.1, 'max_iter': 100, 'penalty': 'l2', '...</td>\n",
       "      <td>0.763417</td>\n",
       "      <td>LogisticRegression(C=0.1, random_state=742)</td>\n",
       "    </tr>\n",
       "    <tr>\n",
       "      <th>3</th>\n",
       "      <td>NB</td>\n",
       "      <td>{'var_smoothing': 1e-06}</td>\n",
       "      <td>0.743675</td>\n",
       "      <td>GaussianNB(var_smoothing=1e-06)</td>\n",
       "    </tr>\n",
       "    <tr>\n",
       "      <th>0</th>\n",
       "      <td>KNN</td>\n",
       "      <td>{'metric': 'manhattan', 'n_neighbors': 24, 'we...</td>\n",
       "      <td>0.739273</td>\n",
       "      <td>KNeighborsClassifier(metric='manhattan', n_nei...</td>\n",
       "    </tr>\n",
       "    <tr>\n",
       "      <th>2</th>\n",
       "      <td>SVC</td>\n",
       "      <td>{'C': 10.0, 'gamma': 'scale', 'kernel': 'rbf',...</td>\n",
       "      <td>0.733902</td>\n",
       "      <td>SVC(C=10.0, random_state=742)</td>\n",
       "    </tr>\n",
       "  </tbody>\n",
       "</table>\n",
       "</div>"
      ]
     },
     "metadata": {},
     "execution_count": 131
    }
   ],
   "metadata": {}
  },
  {
   "cell_type": "markdown",
   "source": [
    "### 3. Treine um novo modelo usando o melhor resultado do Grid Search sobre todos os dados de treino (80% do dataset)."
   ],
   "metadata": {}
  },
  {
   "cell_type": "code",
   "execution_count": 132,
   "source": [
    "model = df_sorted.iloc[0, -1]\n",
    "model.fit(X_train, y_train)"
   ],
   "outputs": [
    {
     "output_type": "execute_result",
     "data": {
      "text/plain": [
       "LogisticRegression(C=0.1, random_state=742)"
      ]
     },
     "metadata": {},
     "execution_count": 132
    }
   ],
   "metadata": {}
  },
  {
   "cell_type": "markdown",
   "source": [
    "### 4. Avalie o modelo usando a métrica F1-Score sobre os dados de teste.\n"
   ],
   "metadata": {}
  },
  {
   "cell_type": "code",
   "execution_count": 133,
   "source": [
    "y_pred = model.predict(X_test)\n",
    "f1score = metrics.f1_score(y_test, y_pred, average='weighted', zero_division=0)\n",
    "print(f'Modelo: {model}')\n",
    "print(f'F1-Score: {f1score}')"
   ],
   "outputs": [
    {
     "output_type": "stream",
     "name": "stdout",
     "text": [
      "Modelo: LogisticRegression(C=0.1, random_state=742)\n",
      "F1-Score: 0.7878921078921078\n"
     ]
    }
   ],
   "metadata": {}
  },
  {
   "cell_type": "markdown",
   "source": [
    "### 5. Desenhe as regiões de decisão em 2D. As regiões devem se basear nos dados de treino (80% do dataset). O gráfico deve mostrar os dados de teste (20% do dataset). Dica: transforme as features em 2D usando a técnica PCA (Principal Component Analysis), conforme mostramos em aula e no Jupyter Notebook que disponibilizamos."
   ],
   "metadata": {}
  },
  {
   "cell_type": "code",
   "execution_count": 134,
   "source": [
    "X_values = X.values\n",
    "y_values = y.values\n",
    "pca = PCA(n_components=2)\n",
    "novoX = pca.fit_transform(X_values)"
   ],
   "outputs": [],
   "metadata": {}
  },
  {
   "cell_type": "code",
   "execution_count": 135,
   "source": [
    "X_train, X_test, y_train, y_test = model_selection.train_test_split(novoX, y_values, test_size=0.2, stratify=y_values, random_state=742)\n",
    "modelo = LogisticRegression(C=0.1, random_state=742, max_iter=100, penalty='l2')\n",
    "modelo.fit(X_train, y_train)\n",
    "plot_decision_regions(X_test, y_test, clf=modelo, legend=2)\n",
    "plt.show()"
   ],
   "outputs": [
    {
     "output_type": "display_data",
     "data": {
      "text/plain": [
       "<Figure size 432x288 with 1 Axes>"
      ],
      "image/png": "[encoded data removed]"
     },
     "metadata": {
      "needs_background": "light"
     }
    }
   ],
   "metadata": {}
  },
  {
   "cell_type": "code",
   "execution_count": null,
   "source": [],
   "outputs": [],
   "metadata": {}
  }
 ],
 "metadata": {
  "orig_nbformat": 4,
  "language_info": {
   "name": "python",
   "version": "3.8.5",
   "mimetype": "text/x-python",
   "codemirror_mode": {
    "name": "ipython",
    "version": 3
   },
   "pygments_lexer": "ipython3",
   "nbconvert_exporter": "python",
   "file_extension": ".py"
  },
  "kernelspec": {
   "name": "python3",
   "display_name": "Python 3.8.5 64-bit ('base': conda)"
  },
  "interpreter": {
   "hash": "524d636d59c6b2112627e6c30b816bd1b3aeade150146fdc441a08affc9a3198"
  }
 },
 "nbformat": 4,
 "nbformat_minor": 2
}