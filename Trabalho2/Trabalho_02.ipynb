{
  "nbformat": 4,
  "nbformat_minor": 0,
  "metadata": {
    "language_info": {
      "codemirror_mode": {
        "name": "ipython",
        "version": 3
      },
      "file_extension": ".py",
      "mimetype": "text/x-python",
      "name": "python",
      "nbconvert_exporter": "python",
      "pygments_lexer": "ipython3",
      "version": "3.8.5"
    },
    "orig_nbformat": 4,
    "kernelspec": {
      "name": "python3",
      "display_name": "Python 3.8.5 64-bit ('base': conda)"
    },
    "interpreter": {
      "hash": "524d636d59c6b2112627e6c30b816bd1b3aeade150146fdc441a08affc9a3198"
    },
    "colab": {
      "name": "Trabalho_02.ipynb",
      "provenance": [],
      "collapsed_sections": []
    }
  },
  "cells": [
    {
      "cell_type": "markdown",
      "metadata": {
        "id": "3cCqlvvGr9VR"
      },
      "source": [
        "# Trabalho 02 - Aprendizado de Máquina\n",
        "## Aluno: Ruan Felipe de Almeida Silva - 397048\n",
        "\n",
        "### Problema:\n",
        "\n",
        "Sete tipos diferentes de grãos secos foram utilizados nesta pesquisa, levando em consideração as características como forma, formato, tipo e estrutura pela situação de mercado. Um sistema de visão computacional foi desenvolvido para distinguir sete diferentes variedades registradas de feijão seco com características semelhantes, a fim de obter uma classificação uniforme dos grãos. Para o modelo de classificação, imagens de 13.611 grãos de 7 diferentes grãos secos registrados foram tiradas com uma câmera de alta resolução. As imagens de feijão obtidas por sistema de visão computacional foram submetidas às etapas de segmentação e extração de feições, totalizando 16 features; 12 dimensões e 4 formatos de forma, foram obtidas a partir dos grãos. \n",
        "\n",
        "Classes: Seker, Barbunya, Bombay, Cali, Dermosan, Horoz e Sira\n",
        "\n"
      ]
    },
    {
      "cell_type": "code",
      "metadata": {
        "colab": {
          "base_uri": "https://localhost:8080/"
        },
        "id": "BT1ollKMsG-h",
        "outputId": "4915eebe-eb5e-4263-fa9d-56110b66808b"
      },
      "source": [
        "from google.colab import drive\n",
        "drive.mount('/content/drive')"
      ],
      "execution_count": 1,
      "outputs": [
        {
          "output_type": "stream",
          "text": [
            "Mounted at /content/drive\n"
          ],
          "name": "stdout"
        }
      ]
    },
    {
      "cell_type": "markdown",
      "metadata": {
        "id": "p2lxp_wmSw-T"
      },
      "source": [
        "### Instalação da biblioteca PipelineHelper"
      ]
    },
    {
      "cell_type": "code",
      "metadata": {
        "colab": {
          "base_uri": "https://localhost:8080/"
        },
        "id": "pmAis03cohFm",
        "outputId": "5975f658-0f11-4c5b-f76b-579ab1cd403d"
      },
      "source": [
        "!pip install pipelinehelper"
      ],
      "execution_count": 2,
      "outputs": [
        {
          "output_type": "stream",
          "text": [
            "Collecting pipelinehelper\n",
            "  Downloading pipelinehelper-0.7.8-py3-none-any.whl (15 kB)\n",
            "Requirement already satisfied: sklearn in /usr/local/lib/python3.7/dist-packages (from pipelinehelper) (0.0)\n",
            "Requirement already satisfied: scikit-learn in /usr/local/lib/python3.7/dist-packages (from sklearn->pipelinehelper) (0.22.2.post1)\n",
            "Requirement already satisfied: joblib>=0.11 in /usr/local/lib/python3.7/dist-packages (from scikit-learn->sklearn->pipelinehelper) (1.0.1)\n",
            "Requirement already satisfied: scipy>=0.17.0 in /usr/local/lib/python3.7/dist-packages (from scikit-learn->sklearn->pipelinehelper) (1.4.1)\n",
            "Requirement already satisfied: numpy>=1.11.0 in /usr/local/lib/python3.7/dist-packages (from scikit-learn->sklearn->pipelinehelper) (1.19.5)\n",
            "Installing collected packages: pipelinehelper\n",
            "Successfully installed pipelinehelper-0.7.8\n"
          ],
          "name": "stdout"
        }
      ]
    },
    {
      "cell_type": "code",
      "metadata": {
        "id": "qLWTZYP8r9VW"
      },
      "source": [
        "import pandas as pd \n",
        "import numpy as np\n",
        "import matplotlib.pyplot as plt\n",
        "from sklearn import metrics\n",
        "from sklearn import model_selection\n",
        "from sklearn import preprocessing\n",
        "from sklearn import pipeline\n",
        "\n",
        "from sklearn import svm\n",
        "from sklearn import tree\n",
        "from sklearn import ensemble\n",
        "from sklearn import naive_bayes\n",
        "from sklearn import linear_model\n",
        "from sklearn import neighbors\n",
        "from sklearn import neural_network\n",
        "\n",
        "from pipelinehelper import PipelineHelper\n",
        "\n",
        "import warnings\n",
        "warnings.filterwarnings('ignore')"
      ],
      "execution_count": 3,
      "outputs": []
    },
    {
      "cell_type": "markdown",
      "metadata": {
        "id": "HlqwCajTr9VX"
      },
      "source": [
        "### Importando os dados do dataset."
      ]
    },
    {
      "cell_type": "code",
      "metadata": {
        "colab": {
          "base_uri": "https://localhost:8080/",
          "height": 439
        },
        "id": "6qwH-WVNr9VY",
        "outputId": "6ea42b3c-d9eb-475a-fd0b-1ea88494408c"
      },
      "source": [
        "dataframe = pd.read_csv('/content/drive/MyDrive/ufc - ec/Aprend_Maquina/datasets/beans.csv')\n",
        "#dataframe = pd.read_csv('beans.csv')\n",
        "dataframe"
      ],
      "execution_count": 4,
      "outputs": [
        {
          "output_type": "execute_result",
          "data": {
            "text/html": [
              "<div>\n",
              "<style scoped>\n",
              "    .dataframe tbody tr th:only-of-type {\n",
              "        vertical-align: middle;\n",
              "    }\n",
              "\n",
              "    .dataframe tbody tr th {\n",
              "        vertical-align: top;\n",
              "    }\n",
              "\n",
              "    .dataframe thead th {\n",
              "        text-align: right;\n",
              "    }\n",
              "</style>\n",
              "<table border=\"1\" class=\"dataframe\">\n",
              "  <thead>\n",
              "    <tr style=\"text-align: right;\">\n",
              "      <th></th>\n",
              "      <th>Area</th>\n",
              "      <th>Perimeter</th>\n",
              "      <th>MajorAxisLength</th>\n",
              "      <th>MinorAxisLength</th>\n",
              "      <th>AspectRation</th>\n",
              "      <th>Eccentricity</th>\n",
              "      <th>ConvexArea</th>\n",
              "      <th>EquivDiameter</th>\n",
              "      <th>Extent</th>\n",
              "      <th>Solidity</th>\n",
              "      <th>roundness</th>\n",
              "      <th>Compactness</th>\n",
              "      <th>ShapeFactor1</th>\n",
              "      <th>ShapeFactor2</th>\n",
              "      <th>ShapeFactor3</th>\n",
              "      <th>ShapeFactor4</th>\n",
              "      <th>Class</th>\n",
              "    </tr>\n",
              "  </thead>\n",
              "  <tbody>\n",
              "    <tr>\n",
              "      <th>0</th>\n",
              "      <td>28395</td>\n",
              "      <td>610.291</td>\n",
              "      <td>208.178117</td>\n",
              "      <td>173.888747</td>\n",
              "      <td>1.197191</td>\n",
              "      <td>0.549812</td>\n",
              "      <td>28715</td>\n",
              "      <td>190.141097</td>\n",
              "      <td>0.763923</td>\n",
              "      <td>0.988856</td>\n",
              "      <td>0.958027</td>\n",
              "      <td>0.913358</td>\n",
              "      <td>0.007332</td>\n",
              "      <td>0.003147</td>\n",
              "      <td>0.834222</td>\n",
              "      <td>0.998724</td>\n",
              "      <td>SEKER</td>\n",
              "    </tr>\n",
              "    <tr>\n",
              "      <th>1</th>\n",
              "      <td>28734</td>\n",
              "      <td>638.018</td>\n",
              "      <td>200.524796</td>\n",
              "      <td>182.734419</td>\n",
              "      <td>1.097356</td>\n",
              "      <td>0.411785</td>\n",
              "      <td>29172</td>\n",
              "      <td>191.272750</td>\n",
              "      <td>0.783968</td>\n",
              "      <td>0.984986</td>\n",
              "      <td>0.887034</td>\n",
              "      <td>0.953861</td>\n",
              "      <td>0.006979</td>\n",
              "      <td>0.003564</td>\n",
              "      <td>0.909851</td>\n",
              "      <td>0.998430</td>\n",
              "      <td>SEKER</td>\n",
              "    </tr>\n",
              "    <tr>\n",
              "      <th>2</th>\n",
              "      <td>29380</td>\n",
              "      <td>624.110</td>\n",
              "      <td>212.826130</td>\n",
              "      <td>175.931143</td>\n",
              "      <td>1.209713</td>\n",
              "      <td>0.562727</td>\n",
              "      <td>29690</td>\n",
              "      <td>193.410904</td>\n",
              "      <td>0.778113</td>\n",
              "      <td>0.989559</td>\n",
              "      <td>0.947849</td>\n",
              "      <td>0.908774</td>\n",
              "      <td>0.007244</td>\n",
              "      <td>0.003048</td>\n",
              "      <td>0.825871</td>\n",
              "      <td>0.999066</td>\n",
              "      <td>SEKER</td>\n",
              "    </tr>\n",
              "    <tr>\n",
              "      <th>3</th>\n",
              "      <td>30008</td>\n",
              "      <td>645.884</td>\n",
              "      <td>210.557999</td>\n",
              "      <td>182.516516</td>\n",
              "      <td>1.153638</td>\n",
              "      <td>0.498616</td>\n",
              "      <td>30724</td>\n",
              "      <td>195.467062</td>\n",
              "      <td>0.782681</td>\n",
              "      <td>0.976696</td>\n",
              "      <td>0.903936</td>\n",
              "      <td>0.928329</td>\n",
              "      <td>0.007017</td>\n",
              "      <td>0.003215</td>\n",
              "      <td>0.861794</td>\n",
              "      <td>0.994199</td>\n",
              "      <td>SEKER</td>\n",
              "    </tr>\n",
              "    <tr>\n",
              "      <th>4</th>\n",
              "      <td>30140</td>\n",
              "      <td>620.134</td>\n",
              "      <td>201.847882</td>\n",
              "      <td>190.279279</td>\n",
              "      <td>1.060798</td>\n",
              "      <td>0.333680</td>\n",
              "      <td>30417</td>\n",
              "      <td>195.896503</td>\n",
              "      <td>0.773098</td>\n",
              "      <td>0.990893</td>\n",
              "      <td>0.984877</td>\n",
              "      <td>0.970516</td>\n",
              "      <td>0.006697</td>\n",
              "      <td>0.003665</td>\n",
              "      <td>0.941900</td>\n",
              "      <td>0.999166</td>\n",
              "      <td>SEKER</td>\n",
              "    </tr>\n",
              "    <tr>\n",
              "      <th>...</th>\n",
              "      <td>...</td>\n",
              "      <td>...</td>\n",
              "      <td>...</td>\n",
              "      <td>...</td>\n",
              "      <td>...</td>\n",
              "      <td>...</td>\n",
              "      <td>...</td>\n",
              "      <td>...</td>\n",
              "      <td>...</td>\n",
              "      <td>...</td>\n",
              "      <td>...</td>\n",
              "      <td>...</td>\n",
              "      <td>...</td>\n",
              "      <td>...</td>\n",
              "      <td>...</td>\n",
              "      <td>...</td>\n",
              "      <td>...</td>\n",
              "    </tr>\n",
              "    <tr>\n",
              "      <th>13606</th>\n",
              "      <td>42097</td>\n",
              "      <td>759.696</td>\n",
              "      <td>288.721612</td>\n",
              "      <td>185.944705</td>\n",
              "      <td>1.552728</td>\n",
              "      <td>0.765002</td>\n",
              "      <td>42508</td>\n",
              "      <td>231.515799</td>\n",
              "      <td>0.714574</td>\n",
              "      <td>0.990331</td>\n",
              "      <td>0.916603</td>\n",
              "      <td>0.801865</td>\n",
              "      <td>0.006858</td>\n",
              "      <td>0.001749</td>\n",
              "      <td>0.642988</td>\n",
              "      <td>0.998385</td>\n",
              "      <td>DERMASON</td>\n",
              "    </tr>\n",
              "    <tr>\n",
              "      <th>13607</th>\n",
              "      <td>42101</td>\n",
              "      <td>757.499</td>\n",
              "      <td>281.576392</td>\n",
              "      <td>190.713136</td>\n",
              "      <td>1.476439</td>\n",
              "      <td>0.735702</td>\n",
              "      <td>42494</td>\n",
              "      <td>231.526798</td>\n",
              "      <td>0.799943</td>\n",
              "      <td>0.990752</td>\n",
              "      <td>0.922015</td>\n",
              "      <td>0.822252</td>\n",
              "      <td>0.006688</td>\n",
              "      <td>0.001886</td>\n",
              "      <td>0.676099</td>\n",
              "      <td>0.998219</td>\n",
              "      <td>DERMASON</td>\n",
              "    </tr>\n",
              "    <tr>\n",
              "      <th>13608</th>\n",
              "      <td>42139</td>\n",
              "      <td>759.321</td>\n",
              "      <td>281.539928</td>\n",
              "      <td>191.187979</td>\n",
              "      <td>1.472582</td>\n",
              "      <td>0.734065</td>\n",
              "      <td>42569</td>\n",
              "      <td>231.631261</td>\n",
              "      <td>0.729932</td>\n",
              "      <td>0.989899</td>\n",
              "      <td>0.918424</td>\n",
              "      <td>0.822730</td>\n",
              "      <td>0.006681</td>\n",
              "      <td>0.001888</td>\n",
              "      <td>0.676884</td>\n",
              "      <td>0.996767</td>\n",
              "      <td>DERMASON</td>\n",
              "    </tr>\n",
              "    <tr>\n",
              "      <th>13609</th>\n",
              "      <td>42147</td>\n",
              "      <td>763.779</td>\n",
              "      <td>283.382636</td>\n",
              "      <td>190.275731</td>\n",
              "      <td>1.489326</td>\n",
              "      <td>0.741055</td>\n",
              "      <td>42667</td>\n",
              "      <td>231.653248</td>\n",
              "      <td>0.705389</td>\n",
              "      <td>0.987813</td>\n",
              "      <td>0.907906</td>\n",
              "      <td>0.817457</td>\n",
              "      <td>0.006724</td>\n",
              "      <td>0.001852</td>\n",
              "      <td>0.668237</td>\n",
              "      <td>0.995222</td>\n",
              "      <td>DERMASON</td>\n",
              "    </tr>\n",
              "    <tr>\n",
              "      <th>13610</th>\n",
              "      <td>42159</td>\n",
              "      <td>772.237</td>\n",
              "      <td>295.142741</td>\n",
              "      <td>182.204716</td>\n",
              "      <td>1.619841</td>\n",
              "      <td>0.786693</td>\n",
              "      <td>42600</td>\n",
              "      <td>231.686223</td>\n",
              "      <td>0.788962</td>\n",
              "      <td>0.989648</td>\n",
              "      <td>0.888380</td>\n",
              "      <td>0.784997</td>\n",
              "      <td>0.007001</td>\n",
              "      <td>0.001640</td>\n",
              "      <td>0.616221</td>\n",
              "      <td>0.998180</td>\n",
              "      <td>DERMASON</td>\n",
              "    </tr>\n",
              "  </tbody>\n",
              "</table>\n",
              "<p>13611 rows × 17 columns</p>\n",
              "</div>"
            ],
            "text/plain": [
              "        Area  Perimeter  MajorAxisLength  ...  ShapeFactor3  ShapeFactor4     Class\n",
              "0      28395    610.291       208.178117  ...      0.834222      0.998724     SEKER\n",
              "1      28734    638.018       200.524796  ...      0.909851      0.998430     SEKER\n",
              "2      29380    624.110       212.826130  ...      0.825871      0.999066     SEKER\n",
              "3      30008    645.884       210.557999  ...      0.861794      0.994199     SEKER\n",
              "4      30140    620.134       201.847882  ...      0.941900      0.999166     SEKER\n",
              "...      ...        ...              ...  ...           ...           ...       ...\n",
              "13606  42097    759.696       288.721612  ...      0.642988      0.998385  DERMASON\n",
              "13607  42101    757.499       281.576392  ...      0.676099      0.998219  DERMASON\n",
              "13608  42139    759.321       281.539928  ...      0.676884      0.996767  DERMASON\n",
              "13609  42147    763.779       283.382636  ...      0.668237      0.995222  DERMASON\n",
              "13610  42159    772.237       295.142741  ...      0.616221      0.998180  DERMASON\n",
              "\n",
              "[13611 rows x 17 columns]"
            ]
          },
          "metadata": {},
          "execution_count": 4
        }
      ]
    },
    {
      "cell_type": "markdown",
      "metadata": {
        "id": "T-KgPkc0r9Va"
      },
      "source": [
        "### Analisando os tipos de dados do dataset.\n"
      ]
    },
    {
      "cell_type": "code",
      "metadata": {
        "colab": {
          "base_uri": "https://localhost:8080/"
        },
        "id": "SOcY0afJr9Vb",
        "outputId": "c0db090e-9e8f-4631-bf9f-fd52fd6ad4e9"
      },
      "source": [
        "dataframe.dtypes"
      ],
      "execution_count": 5,
      "outputs": [
        {
          "output_type": "execute_result",
          "data": {
            "text/plain": [
              "Area                 int64\n",
              "Perimeter          float64\n",
              "MajorAxisLength    float64\n",
              "MinorAxisLength    float64\n",
              "AspectRation       float64\n",
              "Eccentricity       float64\n",
              "ConvexArea           int64\n",
              "EquivDiameter      float64\n",
              "Extent             float64\n",
              "Solidity           float64\n",
              "roundness          float64\n",
              "Compactness        float64\n",
              "ShapeFactor1       float64\n",
              "ShapeFactor2       float64\n",
              "ShapeFactor3       float64\n",
              "ShapeFactor4       float64\n",
              "Class               object\n",
              "dtype: object"
            ]
          },
          "metadata": {},
          "execution_count": 5
        }
      ]
    },
    {
      "cell_type": "markdown",
      "metadata": {
        "id": "dg9ZzLfyr9Vc"
      },
      "source": [
        "### Verificando se existem dados nulos ou inválidos no dataset."
      ]
    },
    {
      "cell_type": "code",
      "metadata": {
        "colab": {
          "base_uri": "https://localhost:8080/"
        },
        "id": "yPIQD9x8r9Vd",
        "outputId": "087c1b5a-00ed-475e-8cda-c5d0d92d2965"
      },
      "source": [
        "dataframe.isna().sum()"
      ],
      "execution_count": 6,
      "outputs": [
        {
          "output_type": "execute_result",
          "data": {
            "text/plain": [
              "Area               0\n",
              "Perimeter          0\n",
              "MajorAxisLength    0\n",
              "MinorAxisLength    0\n",
              "AspectRation       0\n",
              "Eccentricity       0\n",
              "ConvexArea         0\n",
              "EquivDiameter      0\n",
              "Extent             0\n",
              "Solidity           0\n",
              "roundness          0\n",
              "Compactness        0\n",
              "ShapeFactor1       0\n",
              "ShapeFactor2       0\n",
              "ShapeFactor3       0\n",
              "ShapeFactor4       0\n",
              "Class              0\n",
              "dtype: int64"
            ]
          },
          "metadata": {},
          "execution_count": 6
        }
      ]
    },
    {
      "cell_type": "markdown",
      "metadata": {
        "id": "DDIlRS2vr9Vf"
      },
      "source": [
        "### Separando as features das classes e exibindo a quantidade desses conjuntos."
      ]
    },
    {
      "cell_type": "code",
      "metadata": {
        "colab": {
          "base_uri": "https://localhost:8080/"
        },
        "id": "rJKZWOkfr9Vg",
        "outputId": "6f501fc3-6151-4338-9729-6bc80e765434"
      },
      "source": [
        "X = dataframe.drop('Class', axis=1)\n",
        "y = dataframe['Class']\n",
        "print(X.shape)\n",
        "print(y.shape)"
      ],
      "execution_count": 7,
      "outputs": [
        {
          "output_type": "stream",
          "text": [
            "(13611, 16)\n",
            "(13611,)\n"
          ],
          "name": "stdout"
        }
      ]
    },
    {
      "cell_type": "markdown",
      "metadata": {
        "id": "55PjN1sPr9Vh"
      },
      "source": [
        "### Exibindo a quantidade de amostras de cada uma das classes de grãos."
      ]
    },
    {
      "cell_type": "code",
      "metadata": {
        "colab": {
          "base_uri": "https://localhost:8080/"
        },
        "id": "FvKen_var9Vi",
        "outputId": "2c9a6464-2dc1-48f1-8d73-8bfbb88a5b54"
      },
      "source": [
        "y.value_counts()"
      ],
      "execution_count": 8,
      "outputs": [
        {
          "output_type": "execute_result",
          "data": {
            "text/plain": [
              "DERMASON    3546\n",
              "SIRA        2636\n",
              "SEKER       2027\n",
              "HOROZ       1928\n",
              "CALI        1630\n",
              "BARBUNYA    1322\n",
              "BOMBAY       522\n",
              "Name: Class, dtype: int64"
            ]
          },
          "metadata": {},
          "execution_count": 8
        }
      ]
    },
    {
      "cell_type": "markdown",
      "metadata": {
        "id": "0m5RE8Tvr9Vj"
      },
      "source": [
        "### Exibindo a porcentagem de amostras de cada uma das classes de grãos."
      ]
    },
    {
      "cell_type": "code",
      "metadata": {
        "colab": {
          "base_uri": "https://localhost:8080/"
        },
        "id": "GA_e1JgUr9Vj",
        "outputId": "b2cf020c-b719-4ab6-97c8-93f113430b49"
      },
      "source": [
        "y.value_counts(normalize=True)"
      ],
      "execution_count": 9,
      "outputs": [
        {
          "output_type": "execute_result",
          "data": {
            "text/plain": [
              "DERMASON    0.260525\n",
              "SIRA        0.193667\n",
              "SEKER       0.148924\n",
              "HOROZ       0.141650\n",
              "CALI        0.119756\n",
              "BARBUNYA    0.097127\n",
              "BOMBAY      0.038351\n",
              "Name: Class, dtype: float64"
            ]
          },
          "metadata": {},
          "execution_count": 9
        }
      ]
    },
    {
      "cell_type": "markdown",
      "metadata": {
        "id": "qe3CnRBYr9Vk"
      },
      "source": [
        "### Separando os conjuntos em 80% para treino e 20% para teste.\n",
        "\n"
      ]
    },
    {
      "cell_type": "code",
      "metadata": {
        "colab": {
          "base_uri": "https://localhost:8080/"
        },
        "id": "POHyd3SQr9Vl",
        "outputId": "92a4431f-b77c-4eb3-cb3f-12ee17082aa4"
      },
      "source": [
        "X_values = X.values\n",
        "y_values = y.values\n",
        "X_train, X_test, y_train, y_test = model_selection.train_test_split(X_values, y_values, test_size=0.2, random_state=142, stratify=y)\n",
        "print(\"Conjunto x de treino:\", X_train.shape[0])\n",
        "print(\"Conjunto x de teste:\", X_test.shape[0])\n",
        "print(\"Conjunto y de treino:\", y_train.shape[0])\n",
        "print(\"Conjunto y de teste:\", y_test.shape[0])"
      ],
      "execution_count": 10,
      "outputs": [
        {
          "output_type": "stream",
          "text": [
            "Conjunto x de treino: 10888\n",
            "Conjunto x de teste: 2723\n",
            "Conjunto y de treino: 10888\n",
            "Conjunto y de teste: 2723\n"
          ],
          "name": "stdout"
        }
      ]
    },
    {
      "cell_type": "markdown",
      "metadata": {
        "id": "d82yBwOgr9Vm"
      },
      "source": [
        "### Normalizando os valores das features do conjunto de treino e do conjunto de teste utilizando o MinMaxScaler."
      ]
    },
    {
      "cell_type": "code",
      "metadata": {
        "id": "TB2fdw9-r9Vm"
      },
      "source": [
        "norm = preprocessing.MinMaxScaler()\n",
        "X_train_norm = norm.fit_transform(X_train)\n",
        "X_test_norm = norm.transform(X_test)"
      ],
      "execution_count": 11,
      "outputs": []
    },
    {
      "cell_type": "markdown",
      "metadata": {
        "id": "MhtqpWLSr9Vm"
      },
      "source": [
        "### Plotando o histograma do conjunto de treino sem escalonamento."
      ]
    },
    {
      "cell_type": "code",
      "metadata": {
        "colab": {
          "base_uri": "https://localhost:8080/",
          "height": 265
        },
        "id": "V1nV_2Fvr9Vn",
        "outputId": "ae41022c-ad45-4bb4-ed46-0512bd4852f5"
      },
      "source": [
        "idx = 0\n",
        "plt.hist(X_train[:, idx], bins=100);"
      ],
      "execution_count": 12,
      "outputs": [
        {
          "output_type": "display_data",
          "data": {
            "image/png": "[encoded data removed]",
            "text/plain": [
              "<Figure size 432x288 with 1 Axes>"
            ]
          },
          "metadata": {
            "needs_background": "light"
          }
        }
      ]
    },
    {
      "cell_type": "markdown",
      "metadata": {
        "id": "QuPLpEfSr9Vn"
      },
      "source": [
        "### Plotando o histograma do conjunto de treino normalizado."
      ]
    },
    {
      "cell_type": "code",
      "metadata": {
        "colab": {
          "base_uri": "https://localhost:8080/",
          "height": 265
        },
        "id": "D4WyEnwUr9Vo",
        "outputId": "797daf9b-345b-4aaf-f275-56fbef196030"
      },
      "source": [
        "idx = 0\n",
        "plt.hist(X_train_norm[:, idx], bins=100);"
      ],
      "execution_count": 13,
      "outputs": [
        {
          "output_type": "display_data",
          "data": {
            "image/png": "[encoded data removed]",
            "text/plain": [
              "<Figure size 432x288 with 1 Axes>"
            ]
          },
          "metadata": {
            "needs_background": "light"
          }
        }
      ]
    },
    {
      "cell_type": "markdown",
      "metadata": {
        "id": "GPQtQFydr9Vp"
      },
      "source": [
        "### Padronizando os valores das features do conjunto de treino e do conjunto de teste utilizando o StandardScaler."
      ]
    },
    {
      "cell_type": "code",
      "metadata": {
        "id": "BP68Aikgr9Vp"
      },
      "source": [
        "std = preprocessing.StandardScaler()\n",
        "X_train_std = std.fit_transform(X_train)\n",
        "X_test_std = std.transform(X_test)"
      ],
      "execution_count": 14,
      "outputs": []
    },
    {
      "cell_type": "markdown",
      "metadata": {
        "id": "zG2sDXTgr9Vq"
      },
      "source": [
        "### Plotando o histograma do conjunto de treino sem escalonamento."
      ]
    },
    {
      "cell_type": "code",
      "metadata": {
        "colab": {
          "base_uri": "https://localhost:8080/",
          "height": 265
        },
        "id": "jaXs1lyRr9Vq",
        "outputId": "15f217f5-8c29-4c44-cef7-0270c084b741"
      },
      "source": [
        "idx = 0\n",
        "plt.hist(X_train[:, idx], bins=50);"
      ],
      "execution_count": 15,
      "outputs": [
        {
          "output_type": "display_data",
          "data": {
            "image/png": "[encoded data removed]",
            "text/plain": [
              "<Figure size 432x288 with 1 Axes>"
            ]
          },
          "metadata": {
            "needs_background": "light"
          }
        }
      ]
    },
    {
      "cell_type": "markdown",
      "metadata": {
        "id": "MERf78_nr9Vr"
      },
      "source": [
        "### Plotando o histograma do conjunto de treino padronizado."
      ]
    },
    {
      "cell_type": "code",
      "metadata": {
        "colab": {
          "base_uri": "https://localhost:8080/",
          "height": 265
        },
        "id": "kJdsb9XEr9Vr",
        "outputId": "3981ef10-dcc3-4b19-bf14-4da8941c5624"
      },
      "source": [
        "idx = 0\n",
        "plt.hist(X_train_std[:, idx], bins=50);"
      ],
      "execution_count": 16,
      "outputs": [
        {
          "output_type": "display_data",
          "data": {
            "image/png": "[encoded data removed]",
            "text/plain": [
              "<Figure size 432x288 with 1 Axes>"
            ]
          },
          "metadata": {
            "needs_background": "light"
          }
        }
      ]
    },
    {
      "cell_type": "markdown",
      "metadata": {
        "id": "WvVPvR7dr9Vs"
      },
      "source": [
        "### Instanciando modelos de classificadores que serão utilizados abaixo nesse problema de classificação de grãos.\n",
        "\n",
        "#### Modelos Utilizados: \n",
        "* KNeighborsClassifier \n",
        "* SVC\n",
        "* DecisionTreeClassifier\n",
        "* Naive Bayes\n",
        "* Random Forest\n",
        "* Gradient Boosting\n",
        "* Perceptron\n",
        "* Multi Layer Perceptron \n",
        "\n"
      ]
    },
    {
      "cell_type": "code",
      "metadata": {
        "id": "BwJi1ZY8r9Vs"
      },
      "source": [
        "knn = neighbors.KNeighborsClassifier()\n",
        "svc = svm.SVC(random_state = 142)\n",
        "dt = tree.DecisionTreeClassifier(random_state = 142)\n",
        "nb = naive_bayes.GaussianNB()\n",
        "rf = ensemble.RandomForestClassifier(random_state = 142)\n",
        "gb = ensemble.GradientBoostingClassifier(random_state = 142)\n",
        "per = linear_model.Perceptron(random_state=142)\n",
        "mlp = neural_network.MLPClassifier(random_state=142)"
      ],
      "execution_count": 17,
      "outputs": []
    },
    {
      "cell_type": "markdown",
      "metadata": {
        "id": "PXob61BqTwXK"
      },
      "source": [
        "### Criando um vetor com os modelos instanciados e outro com as labels de cada modelo."
      ]
    },
    {
      "cell_type": "code",
      "metadata": {
        "id": "hQUjLpcF-DGY"
      },
      "source": [
        "modelos = [knn, svc, nb, per, mlp, dt, rf, gb]\n",
        "labels = ['KNN', 'SVC', 'NB', 'PER', 'MLP', 'DT', 'RF', 'GB']"
      ],
      "execution_count": 18,
      "outputs": []
    },
    {
      "cell_type": "markdown",
      "metadata": {
        "id": "10XsB2ycT76H"
      },
      "source": [
        "### Realizando o treinamento e o teste para cada modelo, utilizando Pipeline para inserir técnicas de escalonamento para todos os modelos, exceto Decision Tree, Random Forest e Gradient Boosting. As métricas de acurácia e f1-score são analisadas."
      ]
    },
    {
      "cell_type": "code",
      "metadata": {
        "colab": {
          "base_uri": "https://localhost:8080/"
        },
        "id": "DudibIiA435r",
        "outputId": "623c7a1c-6a96-4fb4-e9c4-6bf8c0bfc7ba"
      },
      "source": [
        "std = preprocessing.StandardScaler()\n",
        "norm = preprocessing.MinMaxScaler()\n",
        "\n",
        "scalers = ['no scaler', std, norm]\n",
        "results = []\n",
        "\n",
        "for model, label in zip(modelos, labels):\n",
        "\n",
        "  for scaler in scalers:\n",
        "\n",
        "      s = str(model)\n",
        "      ind_parenteses = s.find('(')\n",
        "      name_model = s[:ind_parenteses] \n",
        "\n",
        "      if scaler == 'no scaler':\n",
        "          pipe = pipeline.Pipeline([('estimator', model)])\n",
        "          scl = 'No Scaler'\n",
        "      else:\n",
        "          \n",
        "          if name_model == 'DecisionTreeClassifier' or  name_model == 'RandomForestClassifier' or name_model == 'GradientBoostingClassifier':\n",
        "              continue  \n",
        "          \n",
        "          pipe = pipeline.Pipeline([('transformer', scaler), ('estimator', model)])\n",
        "          s = str(scaler)\n",
        "          ind_parenteses = s.find('(')\n",
        "          scl = s[:ind_parenteses]\n",
        "          \n",
        "\n",
        "      pipe.fit(X_train, y_train)\n",
        "      y_pred = pipe.predict(X_test)\n",
        "      \n",
        "      accuracy = metrics.accuracy_score(y_test, y_pred)\n",
        "      f1score = metrics.f1_score(y_test, y_pred, average='weighted', zero_division=0)\n",
        "      \n",
        "      print(f'Escalonamento: {scl}')\n",
        "      print(f'Modelo: {name_model}')\n",
        "      print('Acurácia: {:.5f}'.format(accuracy))\n",
        "      print('F1-Score: {:.5f}'.format(f1score))        \n",
        "      print(\"\\n---------------------------------------------------------------------------------\\n\")\n",
        "\n",
        "      resultado = {'Model':name_model, 'Label':label, 'Scaler':scl, 'Accuracy':accuracy, 'F1-Score':f1score}\n",
        "      results.append(resultado)"
      ],
      "execution_count": 19,
      "outputs": [
        {
          "output_type": "stream",
          "text": [
            "Escalonamento: No Scaler\n",
            "Modelo: KNeighborsClassifier\n",
            "Acurácia: 0.73228\n",
            "F1-Score: 0.72972\n",
            "\n",
            "---------------------------------------------------------------------------------\n",
            "\n",
            "Escalonamento: StandardScaler\n",
            "Modelo: KNeighborsClassifier\n",
            "Acurácia: 0.92765\n",
            "F1-Score: 0.92758\n",
            "\n",
            "---------------------------------------------------------------------------------\n",
            "\n",
            "Escalonamento: MinMaxScaler\n",
            "Modelo: KNeighborsClassifier\n",
            "Acurácia: 0.92178\n",
            "F1-Score: 0.92178\n",
            "\n",
            "---------------------------------------------------------------------------------\n",
            "\n",
            "Escalonamento: No Scaler\n",
            "Modelo: SVC\n",
            "Acurácia: 0.64231\n",
            "F1-Score: 0.59976\n",
            "\n",
            "---------------------------------------------------------------------------------\n",
            "\n",
            "Escalonamento: StandardScaler\n",
            "Modelo: SVC\n",
            "Acurácia: 0.93243\n",
            "F1-Score: 0.93231\n",
            "\n",
            "---------------------------------------------------------------------------------\n",
            "\n",
            "Escalonamento: MinMaxScaler\n",
            "Modelo: SVC\n",
            "Acurácia: 0.92435\n",
            "F1-Score: 0.92438\n",
            "\n",
            "---------------------------------------------------------------------------------\n",
            "\n",
            "Escalonamento: No Scaler\n",
            "Modelo: GaussianNB\n",
            "Acurácia: 0.77268\n",
            "F1-Score: 0.76976\n",
            "\n",
            "---------------------------------------------------------------------------------\n",
            "\n",
            "Escalonamento: StandardScaler\n",
            "Modelo: GaussianNB\n",
            "Acurácia: 0.89680\n",
            "F1-Score: 0.89671\n",
            "\n",
            "---------------------------------------------------------------------------------\n",
            "\n",
            "Escalonamento: MinMaxScaler\n",
            "Modelo: GaussianNB\n",
            "Acurácia: 0.89680\n",
            "F1-Score: 0.89671\n",
            "\n",
            "---------------------------------------------------------------------------------\n",
            "\n",
            "Escalonamento: No Scaler\n",
            "Modelo: Perceptron\n",
            "Acurácia: 0.28278\n",
            "F1-Score: 0.21193\n",
            "\n",
            "---------------------------------------------------------------------------------\n",
            "\n",
            "Escalonamento: StandardScaler\n",
            "Modelo: Perceptron\n",
            "Acurácia: 0.89974\n",
            "F1-Score: 0.90023\n",
            "\n",
            "---------------------------------------------------------------------------------\n",
            "\n",
            "Escalonamento: MinMaxScaler\n",
            "Modelo: Perceptron\n",
            "Acurácia: 0.89277\n",
            "F1-Score: 0.89323\n",
            "\n",
            "---------------------------------------------------------------------------------\n",
            "\n",
            "Escalonamento: No Scaler\n",
            "Modelo: MLPClassifier\n",
            "Acurácia: 0.23503\n",
            "F1-Score: 0.18851\n",
            "\n",
            "---------------------------------------------------------------------------------\n",
            "\n",
            "Escalonamento: StandardScaler\n",
            "Modelo: MLPClassifier\n",
            "Acurácia: 0.93720\n",
            "F1-Score: 0.93704\n",
            "\n",
            "---------------------------------------------------------------------------------\n",
            "\n",
            "Escalonamento: MinMaxScaler\n",
            "Modelo: MLPClassifier\n",
            "Acurácia: 0.92472\n",
            "F1-Score: 0.92482\n",
            "\n",
            "---------------------------------------------------------------------------------\n",
            "\n",
            "Escalonamento: No Scaler\n",
            "Modelo: DecisionTreeClassifier\n",
            "Acurácia: 0.89644\n",
            "F1-Score: 0.89635\n",
            "\n",
            "---------------------------------------------------------------------------------\n",
            "\n",
            "Escalonamento: No Scaler\n",
            "Modelo: RandomForestClassifier\n",
            "Acurácia: 0.92435\n",
            "F1-Score: 0.92427\n",
            "\n",
            "---------------------------------------------------------------------------------\n",
            "\n",
            "Escalonamento: No Scaler\n",
            "Modelo: GradientBoostingClassifier\n",
            "Acurácia: 0.92545\n",
            "F1-Score: 0.92524\n",
            "\n",
            "---------------------------------------------------------------------------------\n",
            "\n"
          ],
          "name": "stdout"
        }
      ]
    },
    {
      "cell_type": "markdown",
      "metadata": {
        "id": "lGpN90hKVdN5"
      },
      "source": [
        "### Montando um dataframe com os resultados obtidos pelos modelos e ordenando este dataframe de forma decrescente em relação à coluna F1-Score."
      ]
    },
    {
      "cell_type": "code",
      "metadata": {
        "colab": {
          "base_uri": "https://localhost:8080/",
          "height": 607
        },
        "id": "UVk6Hq5cAnm6",
        "outputId": "232e2776-0ca8-4fe0-c538-74862431c774"
      },
      "source": [
        "df_results = pd.DataFrame(results)\n",
        "df_sorted = df_results.sort_values(by='F1-Score', ascending=False)\n",
        "df_sorted"
      ],
      "execution_count": 20,
      "outputs": [
        {
          "output_type": "execute_result",
          "data": {
            "text/html": [
              "<div>\n",
              "<style scoped>\n",
              "    .dataframe tbody tr th:only-of-type {\n",
              "        vertical-align: middle;\n",
              "    }\n",
              "\n",
              "    .dataframe tbody tr th {\n",
              "        vertical-align: top;\n",
              "    }\n",
              "\n",
              "    .dataframe thead th {\n",
              "        text-align: right;\n",
              "    }\n",
              "</style>\n",
              "<table border=\"1\" class=\"dataframe\">\n",
              "  <thead>\n",
              "    <tr style=\"text-align: right;\">\n",
              "      <th></th>\n",
              "      <th>Model</th>\n",
              "      <th>Label</th>\n",
              "      <th>Scaler</th>\n",
              "      <th>Accuracy</th>\n",
              "      <th>F1-Score</th>\n",
              "    </tr>\n",
              "  </thead>\n",
              "  <tbody>\n",
              "    <tr>\n",
              "      <th>13</th>\n",
              "      <td>MLPClassifier</td>\n",
              "      <td>MLP</td>\n",
              "      <td>StandardScaler</td>\n",
              "      <td>0.937202</td>\n",
              "      <td>0.937044</td>\n",
              "    </tr>\n",
              "    <tr>\n",
              "      <th>4</th>\n",
              "      <td>SVC</td>\n",
              "      <td>SVC</td>\n",
              "      <td>StandardScaler</td>\n",
              "      <td>0.932427</td>\n",
              "      <td>0.932310</td>\n",
              "    </tr>\n",
              "    <tr>\n",
              "      <th>1</th>\n",
              "      <td>KNeighborsClassifier</td>\n",
              "      <td>KNN</td>\n",
              "      <td>StandardScaler</td>\n",
              "      <td>0.927653</td>\n",
              "      <td>0.927577</td>\n",
              "    </tr>\n",
              "    <tr>\n",
              "      <th>17</th>\n",
              "      <td>GradientBoostingClassifier</td>\n",
              "      <td>GB</td>\n",
              "      <td>No Scaler</td>\n",
              "      <td>0.925450</td>\n",
              "      <td>0.925245</td>\n",
              "    </tr>\n",
              "    <tr>\n",
              "      <th>14</th>\n",
              "      <td>MLPClassifier</td>\n",
              "      <td>MLP</td>\n",
              "      <td>MinMaxScaler</td>\n",
              "      <td>0.924715</td>\n",
              "      <td>0.924825</td>\n",
              "    </tr>\n",
              "    <tr>\n",
              "      <th>5</th>\n",
              "      <td>SVC</td>\n",
              "      <td>SVC</td>\n",
              "      <td>MinMaxScaler</td>\n",
              "      <td>0.924348</td>\n",
              "      <td>0.924382</td>\n",
              "    </tr>\n",
              "    <tr>\n",
              "      <th>16</th>\n",
              "      <td>RandomForestClassifier</td>\n",
              "      <td>RF</td>\n",
              "      <td>No Scaler</td>\n",
              "      <td>0.924348</td>\n",
              "      <td>0.924269</td>\n",
              "    </tr>\n",
              "    <tr>\n",
              "      <th>2</th>\n",
              "      <td>KNeighborsClassifier</td>\n",
              "      <td>KNN</td>\n",
              "      <td>MinMaxScaler</td>\n",
              "      <td>0.921777</td>\n",
              "      <td>0.921781</td>\n",
              "    </tr>\n",
              "    <tr>\n",
              "      <th>10</th>\n",
              "      <td>Perceptron</td>\n",
              "      <td>PER</td>\n",
              "      <td>StandardScaler</td>\n",
              "      <td>0.899743</td>\n",
              "      <td>0.900228</td>\n",
              "    </tr>\n",
              "    <tr>\n",
              "      <th>7</th>\n",
              "      <td>GaussianNB</td>\n",
              "      <td>NB</td>\n",
              "      <td>StandardScaler</td>\n",
              "      <td>0.896805</td>\n",
              "      <td>0.896705</td>\n",
              "    </tr>\n",
              "    <tr>\n",
              "      <th>8</th>\n",
              "      <td>GaussianNB</td>\n",
              "      <td>NB</td>\n",
              "      <td>MinMaxScaler</td>\n",
              "      <td>0.896805</td>\n",
              "      <td>0.896705</td>\n",
              "    </tr>\n",
              "    <tr>\n",
              "      <th>15</th>\n",
              "      <td>DecisionTreeClassifier</td>\n",
              "      <td>DT</td>\n",
              "      <td>No Scaler</td>\n",
              "      <td>0.896438</td>\n",
              "      <td>0.896347</td>\n",
              "    </tr>\n",
              "    <tr>\n",
              "      <th>11</th>\n",
              "      <td>Perceptron</td>\n",
              "      <td>PER</td>\n",
              "      <td>MinMaxScaler</td>\n",
              "      <td>0.892765</td>\n",
              "      <td>0.893232</td>\n",
              "    </tr>\n",
              "    <tr>\n",
              "      <th>6</th>\n",
              "      <td>GaussianNB</td>\n",
              "      <td>NB</td>\n",
              "      <td>No Scaler</td>\n",
              "      <td>0.772677</td>\n",
              "      <td>0.769762</td>\n",
              "    </tr>\n",
              "    <tr>\n",
              "      <th>0</th>\n",
              "      <td>KNeighborsClassifier</td>\n",
              "      <td>KNN</td>\n",
              "      <td>No Scaler</td>\n",
              "      <td>0.732281</td>\n",
              "      <td>0.729719</td>\n",
              "    </tr>\n",
              "    <tr>\n",
              "      <th>3</th>\n",
              "      <td>SVC</td>\n",
              "      <td>SVC</td>\n",
              "      <td>No Scaler</td>\n",
              "      <td>0.642306</td>\n",
              "      <td>0.599759</td>\n",
              "    </tr>\n",
              "    <tr>\n",
              "      <th>9</th>\n",
              "      <td>Perceptron</td>\n",
              "      <td>PER</td>\n",
              "      <td>No Scaler</td>\n",
              "      <td>0.282776</td>\n",
              "      <td>0.211933</td>\n",
              "    </tr>\n",
              "    <tr>\n",
              "      <th>12</th>\n",
              "      <td>MLPClassifier</td>\n",
              "      <td>MLP</td>\n",
              "      <td>No Scaler</td>\n",
              "      <td>0.235035</td>\n",
              "      <td>0.188511</td>\n",
              "    </tr>\n",
              "  </tbody>\n",
              "</table>\n",
              "</div>"
            ],
            "text/plain": [
              "                         Model Label          Scaler  Accuracy  F1-Score\n",
              "13               MLPClassifier   MLP  StandardScaler  0.937202  0.937044\n",
              "4                          SVC   SVC  StandardScaler  0.932427  0.932310\n",
              "1         KNeighborsClassifier   KNN  StandardScaler  0.927653  0.927577\n",
              "17  GradientBoostingClassifier    GB       No Scaler  0.925450  0.925245\n",
              "14               MLPClassifier   MLP    MinMaxScaler  0.924715  0.924825\n",
              "5                          SVC   SVC    MinMaxScaler  0.924348  0.924382\n",
              "16      RandomForestClassifier    RF       No Scaler  0.924348  0.924269\n",
              "2         KNeighborsClassifier   KNN    MinMaxScaler  0.921777  0.921781\n",
              "10                  Perceptron   PER  StandardScaler  0.899743  0.900228\n",
              "7                   GaussianNB    NB  StandardScaler  0.896805  0.896705\n",
              "8                   GaussianNB    NB    MinMaxScaler  0.896805  0.896705\n",
              "15      DecisionTreeClassifier    DT       No Scaler  0.896438  0.896347\n",
              "11                  Perceptron   PER    MinMaxScaler  0.892765  0.893232\n",
              "6                   GaussianNB    NB       No Scaler  0.772677  0.769762\n",
              "0         KNeighborsClassifier   KNN       No Scaler  0.732281  0.729719\n",
              "3                          SVC   SVC       No Scaler  0.642306  0.599759\n",
              "9                   Perceptron   PER       No Scaler  0.282776  0.211933\n",
              "12               MLPClassifier   MLP       No Scaler  0.235035  0.188511"
            ]
          },
          "metadata": {},
          "execution_count": 20
        }
      ]
    },
    {
      "cell_type": "markdown",
      "metadata": {
        "id": "CTpR4qEFV66z"
      },
      "source": [
        "### Realizando a exclusão das linhas cujo escalonador é o MinMaxScaler, para que se possa plotar um gráfico de barras com as demais instâncias."
      ]
    },
    {
      "cell_type": "code",
      "metadata": {
        "colab": {
          "base_uri": "https://localhost:8080/",
          "height": 452
        },
        "id": "WV3oJAbMwNQf",
        "outputId": "d7393592-3d22-4a45-be9e-a72d01d1a6f5"
      },
      "source": [
        "df_sorted2 = df_sorted.where(df_sorted['Scaler'] != 'MinMaxScaler')\n",
        "df_plot = df_sorted2.dropna()\n",
        "df_plot"
      ],
      "execution_count": 21,
      "outputs": [
        {
          "output_type": "execute_result",
          "data": {
            "text/html": [
              "<div>\n",
              "<style scoped>\n",
              "    .dataframe tbody tr th:only-of-type {\n",
              "        vertical-align: middle;\n",
              "    }\n",
              "\n",
              "    .dataframe tbody tr th {\n",
              "        vertical-align: top;\n",
              "    }\n",
              "\n",
              "    .dataframe thead th {\n",
              "        text-align: right;\n",
              "    }\n",
              "</style>\n",
              "<table border=\"1\" class=\"dataframe\">\n",
              "  <thead>\n",
              "    <tr style=\"text-align: right;\">\n",
              "      <th></th>\n",
              "      <th>Model</th>\n",
              "      <th>Label</th>\n",
              "      <th>Scaler</th>\n",
              "      <th>Accuracy</th>\n",
              "      <th>F1-Score</th>\n",
              "    </tr>\n",
              "  </thead>\n",
              "  <tbody>\n",
              "    <tr>\n",
              "      <th>13</th>\n",
              "      <td>MLPClassifier</td>\n",
              "      <td>MLP</td>\n",
              "      <td>StandardScaler</td>\n",
              "      <td>0.937202</td>\n",
              "      <td>0.937044</td>\n",
              "    </tr>\n",
              "    <tr>\n",
              "      <th>4</th>\n",
              "      <td>SVC</td>\n",
              "      <td>SVC</td>\n",
              "      <td>StandardScaler</td>\n",
              "      <td>0.932427</td>\n",
              "      <td>0.932310</td>\n",
              "    </tr>\n",
              "    <tr>\n",
              "      <th>1</th>\n",
              "      <td>KNeighborsClassifier</td>\n",
              "      <td>KNN</td>\n",
              "      <td>StandardScaler</td>\n",
              "      <td>0.927653</td>\n",
              "      <td>0.927577</td>\n",
              "    </tr>\n",
              "    <tr>\n",
              "      <th>17</th>\n",
              "      <td>GradientBoostingClassifier</td>\n",
              "      <td>GB</td>\n",
              "      <td>No Scaler</td>\n",
              "      <td>0.925450</td>\n",
              "      <td>0.925245</td>\n",
              "    </tr>\n",
              "    <tr>\n",
              "      <th>16</th>\n",
              "      <td>RandomForestClassifier</td>\n",
              "      <td>RF</td>\n",
              "      <td>No Scaler</td>\n",
              "      <td>0.924348</td>\n",
              "      <td>0.924269</td>\n",
              "    </tr>\n",
              "    <tr>\n",
              "      <th>10</th>\n",
              "      <td>Perceptron</td>\n",
              "      <td>PER</td>\n",
              "      <td>StandardScaler</td>\n",
              "      <td>0.899743</td>\n",
              "      <td>0.900228</td>\n",
              "    </tr>\n",
              "    <tr>\n",
              "      <th>7</th>\n",
              "      <td>GaussianNB</td>\n",
              "      <td>NB</td>\n",
              "      <td>StandardScaler</td>\n",
              "      <td>0.896805</td>\n",
              "      <td>0.896705</td>\n",
              "    </tr>\n",
              "    <tr>\n",
              "      <th>15</th>\n",
              "      <td>DecisionTreeClassifier</td>\n",
              "      <td>DT</td>\n",
              "      <td>No Scaler</td>\n",
              "      <td>0.896438</td>\n",
              "      <td>0.896347</td>\n",
              "    </tr>\n",
              "    <tr>\n",
              "      <th>6</th>\n",
              "      <td>GaussianNB</td>\n",
              "      <td>NB</td>\n",
              "      <td>No Scaler</td>\n",
              "      <td>0.772677</td>\n",
              "      <td>0.769762</td>\n",
              "    </tr>\n",
              "    <tr>\n",
              "      <th>0</th>\n",
              "      <td>KNeighborsClassifier</td>\n",
              "      <td>KNN</td>\n",
              "      <td>No Scaler</td>\n",
              "      <td>0.732281</td>\n",
              "      <td>0.729719</td>\n",
              "    </tr>\n",
              "    <tr>\n",
              "      <th>3</th>\n",
              "      <td>SVC</td>\n",
              "      <td>SVC</td>\n",
              "      <td>No Scaler</td>\n",
              "      <td>0.642306</td>\n",
              "      <td>0.599759</td>\n",
              "    </tr>\n",
              "    <tr>\n",
              "      <th>9</th>\n",
              "      <td>Perceptron</td>\n",
              "      <td>PER</td>\n",
              "      <td>No Scaler</td>\n",
              "      <td>0.282776</td>\n",
              "      <td>0.211933</td>\n",
              "    </tr>\n",
              "    <tr>\n",
              "      <th>12</th>\n",
              "      <td>MLPClassifier</td>\n",
              "      <td>MLP</td>\n",
              "      <td>No Scaler</td>\n",
              "      <td>0.235035</td>\n",
              "      <td>0.188511</td>\n",
              "    </tr>\n",
              "  </tbody>\n",
              "</table>\n",
              "</div>"
            ],
            "text/plain": [
              "                         Model Label          Scaler  Accuracy  F1-Score\n",
              "13               MLPClassifier   MLP  StandardScaler  0.937202  0.937044\n",
              "4                          SVC   SVC  StandardScaler  0.932427  0.932310\n",
              "1         KNeighborsClassifier   KNN  StandardScaler  0.927653  0.927577\n",
              "17  GradientBoostingClassifier    GB       No Scaler  0.925450  0.925245\n",
              "16      RandomForestClassifier    RF       No Scaler  0.924348  0.924269\n",
              "10                  Perceptron   PER  StandardScaler  0.899743  0.900228\n",
              "7                   GaussianNB    NB  StandardScaler  0.896805  0.896705\n",
              "15      DecisionTreeClassifier    DT       No Scaler  0.896438  0.896347\n",
              "6                   GaussianNB    NB       No Scaler  0.772677  0.769762\n",
              "0         KNeighborsClassifier   KNN       No Scaler  0.732281  0.729719\n",
              "3                          SVC   SVC       No Scaler  0.642306  0.599759\n",
              "9                   Perceptron   PER       No Scaler  0.282776  0.211933\n",
              "12               MLPClassifier   MLP       No Scaler  0.235035  0.188511"
            ]
          },
          "metadata": {},
          "execution_count": 21
        }
      ]
    },
    {
      "cell_type": "markdown",
      "metadata": {
        "id": "SoArMrAkWWmC"
      },
      "source": [
        "### Plotando um gráfico de barras com os valores de acurácia e f1-score dos 8 melhores modelos analisados."
      ]
    },
    {
      "cell_type": "code",
      "metadata": {
        "colab": {
          "base_uri": "https://localhost:8080/",
          "height": 350
        },
        "id": "DboI0Wi6zm4b",
        "outputId": "c79d8685-4046-48be-fca7-d677d9468f12"
      },
      "source": [
        "plt.figure(figsize = (14, 5))\n",
        "\n",
        "barWidth = 0.4\n",
        "\n",
        "df_plot = df_plot.head(8)\n",
        "\n",
        "p1 = np.arange(df_plot.shape[0])\n",
        "p2 = [p + barWidth for p in p1]\n",
        "\n",
        "plt.bar(p1, df_plot['F1-Score'], color='blue', width=barWidth, label='F1-Score')\n",
        "plt.bar(p2, df_plot['Accuracy'], color='red', width=barWidth, label='Accuracy')\n",
        "\n",
        "for value, position in zip(df_plot['F1-Score'], p1):\n",
        "    plt.annotate(f'{round(value, 3)}', xy=(position, value), va='bottom', ha='center', color='blue')\n",
        "\n",
        "for value, position in zip(df_plot['Accuracy'], p2):\n",
        "    plt.annotate(f'{round(value, 3)}', xy=(position, value), va='bottom', ha='center', color='red')\n",
        "\n",
        "plt.legend()\n",
        "plt.xlabel('Models')\n",
        "plt.ylabel('Accuracy and F1-Score Values')\n",
        "plt.title('Valores de Acurácia e F1-Score dos Modelos')\n",
        "plt.xticks((p1+p2)/2, df_plot['Label'])\n",
        "plt.show()"
      ],
      "execution_count": 22,
      "outputs": [
        {
          "output_type": "display_data",
          "data": {
            "image/png": "[encoded data removed]",
            "text/plain": [
              "<Figure size 1008x360 with 1 Axes>"
            ]
          },
          "metadata": {
            "needs_background": "light"
          }
        }
      ]
    },
    {
      "cell_type": "markdown",
      "metadata": {
        "id": "5V2SKF2DWtpz"
      },
      "source": [
        "### Função auxiliar que verifica se uma label está na lista de labels."
      ]
    },
    {
      "cell_type": "code",
      "metadata": {
        "id": "G9-6DI6fqdgW"
      },
      "source": [
        "def isInList(lista, label):\n",
        "    for el in lista:\n",
        "        if label == el:\n",
        "            return True    \n",
        "    return False"
      ],
      "execution_count": 23,
      "outputs": []
    },
    {
      "cell_type": "markdown",
      "metadata": {
        "id": "Gr_8OqGibNGG"
      },
      "source": [
        "### Instanciando novamente os modelos utilizados."
      ]
    },
    {
      "cell_type": "code",
      "metadata": {
        "id": "Mi9v0gR7RzOe"
      },
      "source": [
        "knn = neighbors.KNeighborsClassifier()\n",
        "svc = svm.SVC(random_state = 142)\n",
        "nb = naive_bayes.GaussianNB()\n",
        "per = linear_model.Perceptron(random_state=142)\n",
        "mlp = neural_network.MLPClassifier(random_state=142)\n",
        "dt = tree.DecisionTreeClassifier(random_state = 142)\n",
        "rf = ensemble.RandomForestClassifier(random_state = 142)\n",
        "gb = ensemble.GradientBoostingClassifier(random_state = 142)\n",
        "\n",
        "modelos = [knn, svc, nb, per, mlp, dt, rf, gb]"
      ],
      "execution_count": 24,
      "outputs": []
    },
    {
      "cell_type": "markdown",
      "metadata": {
        "id": "Jz8f3wMpbZ0d"
      },
      "source": [
        "### Definindo os parâmetros que serão testados no GridSeacrh para cada modelo."
      ]
    },
    {
      "cell_type": "code",
      "metadata": {
        "id": "fq3Or3ElecJW"
      },
      "source": [
        "param_knn = {'kneighborsclassifier__n_neighbors': np.arange(1, 16), \n",
        "              'kneighborsclassifier__weights':['uniform', 'distance'],\n",
        "              'kneighborsclassifier__metric':['manhattan', 'minkowski']}\n",
        "param_svc = {'svc__C': np.logspace(-3, 3, 7),\n",
        "             'svc__kernel': ['rbf', 'sigmoid'],\n",
        "             'svc__gamma': ['scale', 'auto'] }\n",
        "param_nb = {'gaussiannb__var_smoothing': [1e-12, 1e-11, 1e-10, 1e-09, 1e-08]}\n",
        "\n",
        "param_per = {'perceptron__max_iter': [1000, 1500, 2000],\n",
        "             'perceptron__tol': np.logspace(-5, 0, 6),\n",
        "             'perceptron__eta0': [0.5, 0.75, 1]}\n",
        "\n",
        "param_mlp = {'mlpclassifier__hidden_layer_sizes': [100, 150, 175, 200],\n",
        "             'mlpclassifier__activation': ['tanh', 'relu']}\n",
        "\n",
        "param_dt = {'decisiontreeclassifier__max_depth': [3, 4, 5, 6, 8, 10, 12],\n",
        "            'decisiontreeclassifier__min_samples_leaf': [7, 10, 12, 15, 20]}\n",
        "\n",
        "param_rf = {'randomforestclassifier__n_estimators': [100, 150, 200],\n",
        "            'randomforestclassifier__max_depth': [4, 5, 6, 7],\n",
        "            'randomforestclassifier__min_samples_leaf': [8, 10, 11, 12]}\n",
        "\n",
        "param_gb = {'gradientboostingclassifier__learning_rate': [0.01, 0.1, 0.25, 0.5]}\n",
        "\n",
        "params_classifiers = [param_knn, param_svc, param_nb, param_per, param_mlp, param_dt, param_rf, param_gb]\n"
      ],
      "execution_count": 25,
      "outputs": []
    },
    {
      "cell_type": "markdown",
      "metadata": {
        "id": "tesmyzSYcNp-"
      },
      "source": [
        "### Criando um GridSearch para cada modelo e observando os melhores estimadores e parâmetros para cada classificador, utilizando a métrica f1-score para escolha destes parâmetros.\n",
        "\n",
        "### Os modelos KNN, SVC, Naive Bayes, Perceptron e Multi Layer Perceptron utilizam o escalonador Standard Scaler. Os demais não usam escalonamento."
      ]
    },
    {
      "cell_type": "code",
      "metadata": {
        "colab": {
          "base_uri": "https://localhost:8080/"
        },
        "id": "Fg9ELwvwBLG3",
        "outputId": "2f14ed2a-8774-4bf1-c3dd-ded98c0b7469"
      },
      "source": [
        "std = preprocessing.StandardScaler()\n",
        "\n",
        "scalers = ['no scaler', std]\n",
        "grid_results = []\n",
        "\n",
        "labels_scaler = ['KNN', 'SVC', 'NB', 'PER', 'MLP']\n",
        "labels_no_scaler = ['DT', 'RF', 'GB']\n",
        "\n",
        "labels = labels_scaler + labels_no_scaler\n",
        "\n",
        "for model, params, label in zip(modelos, params_classifiers, labels):\n",
        "    for scaler in scalers:\n",
        "\n",
        "        s = str(model)\n",
        "        ind_parenteses = s.find('(')\n",
        "        name_model = s[:ind_parenteses]\n",
        "\n",
        "        if scaler == 'no scaler':\n",
        "\n",
        "            if isInList(labels_scaler, label):\n",
        "                continue\n",
        "\n",
        "            pipe = pipeline.make_pipeline(model)\n",
        "            scl = 'No Scaler'\n",
        "        else:\n",
        "\n",
        "            if isInList(labels_no_scaler, label):\n",
        "                continue\n",
        "\n",
        "            pipe = pipeline.make_pipeline(scaler, model)\n",
        "            s = str(scaler)\n",
        "            ind_parenteses = s.find('(')\n",
        "            scl = s[:ind_parenteses]\n",
        "                 \n",
        "        gridSearch = model_selection.GridSearchCV(estimator=pipe, param_grid=params, n_jobs=-1, return_train_score=False, scoring='f1_weighted', cv=5)\n",
        "        gs = gridSearch.fit(X=X_train, y=y_train)\n",
        "        print(f'Escalonamento: {scl}')\n",
        "        print(f'Modelo: {name_model}')\n",
        "        print(f'Melhor F1-Score: {gs.best_score_}')        \n",
        "        print(f'Melhores parâmetros: {gs.best_params_}')\n",
        "        print(\"\\n---------------------------------------------------------------------------------\\n\")\n",
        "        \n",
        "        grid_resultado = {'Model':name_model, 'Scaler':scl, 'Label': label, 'Params':gs.best_params_, 'F1-Score':gs.best_score_}\n",
        "        grid_results.append(grid_resultado)"
      ],
      "execution_count": 26,
      "outputs": [
        {
          "output_type": "stream",
          "text": [
            "Escalonamento: StandardScaler\n",
            "Modelo: KNeighborsClassifier\n",
            "Melhor F1-Score: 0.9237090990423222\n",
            "Melhores parâmetros: {'kneighborsclassifier__metric': 'minkowski', 'kneighborsclassifier__n_neighbors': 11, 'kneighborsclassifier__weights': 'distance'}\n",
            "\n",
            "---------------------------------------------------------------------------------\n",
            "\n",
            "Escalonamento: StandardScaler\n",
            "Modelo: SVC\n",
            "Melhor F1-Score: 0.9297380697072519\n",
            "Melhores parâmetros: {'svc__C': 10.0, 'svc__gamma': 'scale', 'svc__kernel': 'rbf'}\n",
            "\n",
            "---------------------------------------------------------------------------------\n",
            "\n",
            "Escalonamento: StandardScaler\n",
            "Modelo: GaussianNB\n",
            "Melhor F1-Score: 0.896324113635876\n",
            "Melhores parâmetros: {'gaussiannb__var_smoothing': 1e-12}\n",
            "\n",
            "---------------------------------------------------------------------------------\n",
            "\n",
            "Escalonamento: StandardScaler\n",
            "Modelo: Perceptron\n",
            "Melhor F1-Score: 0.8954008980002659\n",
            "Melhores parâmetros: {'perceptron__eta0': 0.75, 'perceptron__max_iter': 1000, 'perceptron__tol': 0.01}\n",
            "\n",
            "---------------------------------------------------------------------------------\n",
            "\n",
            "Escalonamento: StandardScaler\n",
            "Modelo: MLPClassifier\n",
            "Melhor F1-Score: 0.9321168430536229\n",
            "Melhores parâmetros: {'mlpclassifier__activation': 'relu', 'mlpclassifier__hidden_layer_sizes': 150}\n",
            "\n",
            "---------------------------------------------------------------------------------\n",
            "\n",
            "Escalonamento: No Scaler\n",
            "Modelo: DecisionTreeClassifier\n",
            "Melhor F1-Score: 0.9089127974799386\n",
            "Melhores parâmetros: {'decisiontreeclassifier__max_depth': 10, 'decisiontreeclassifier__min_samples_leaf': 10}\n",
            "\n",
            "---------------------------------------------------------------------------------\n",
            "\n",
            "Escalonamento: No Scaler\n",
            "Modelo: RandomForestClassifier\n",
            "Melhor F1-Score: 0.9093595603050446\n",
            "Melhores parâmetros: {'randomforestclassifier__max_depth': 7, 'randomforestclassifier__min_samples_leaf': 11, 'randomforestclassifier__n_estimators': 150}\n",
            "\n",
            "---------------------------------------------------------------------------------\n",
            "\n",
            "Escalonamento: No Scaler\n",
            "Modelo: GradientBoostingClassifier\n",
            "Melhor F1-Score: 0.923149888196247\n",
            "Melhores parâmetros: {'gradientboostingclassifier__learning_rate': 0.1}\n",
            "\n",
            "---------------------------------------------------------------------------------\n",
            "\n"
          ],
          "name": "stdout"
        }
      ]
    },
    {
      "cell_type": "markdown",
      "metadata": {
        "id": "X8fbFt4fdStf"
      },
      "source": [
        "### Montando um dataframe com os resultados dos gridsearches e ordenando decrescentemente pelo valor de F1-Score obtido."
      ]
    },
    {
      "cell_type": "code",
      "metadata": {
        "colab": {
          "base_uri": "https://localhost:8080/",
          "height": 297
        },
        "id": "W4FU8Q0TncGk",
        "outputId": "8c017102-f576-4a74-b1e3-17958ab257e6"
      },
      "source": [
        "df_grid_results = pd.DataFrame(grid_results)\n",
        "df_sorted_grid_results = df_grid_results.sort_values(by='F1-Score', ascending=False)\n",
        "df_sorted_grid_results"
      ],
      "execution_count": 27,
      "outputs": [
        {
          "output_type": "execute_result",
          "data": {
            "text/html": [
              "<div>\n",
              "<style scoped>\n",
              "    .dataframe tbody tr th:only-of-type {\n",
              "        vertical-align: middle;\n",
              "    }\n",
              "\n",
              "    .dataframe tbody tr th {\n",
              "        vertical-align: top;\n",
              "    }\n",
              "\n",
              "    .dataframe thead th {\n",
              "        text-align: right;\n",
              "    }\n",
              "</style>\n",
              "<table border=\"1\" class=\"dataframe\">\n",
              "  <thead>\n",
              "    <tr style=\"text-align: right;\">\n",
              "      <th></th>\n",
              "      <th>Model</th>\n",
              "      <th>Scaler</th>\n",
              "      <th>Label</th>\n",
              "      <th>Params</th>\n",
              "      <th>F1-Score</th>\n",
              "    </tr>\n",
              "  </thead>\n",
              "  <tbody>\n",
              "    <tr>\n",
              "      <th>4</th>\n",
              "      <td>MLPClassifier</td>\n",
              "      <td>StandardScaler</td>\n",
              "      <td>MLP</td>\n",
              "      <td>{'mlpclassifier__activation': 'relu', 'mlpclas...</td>\n",
              "      <td>0.932117</td>\n",
              "    </tr>\n",
              "    <tr>\n",
              "      <th>1</th>\n",
              "      <td>SVC</td>\n",
              "      <td>StandardScaler</td>\n",
              "      <td>SVC</td>\n",
              "      <td>{'svc__C': 10.0, 'svc__gamma': 'scale', 'svc__...</td>\n",
              "      <td>0.929738</td>\n",
              "    </tr>\n",
              "    <tr>\n",
              "      <th>0</th>\n",
              "      <td>KNeighborsClassifier</td>\n",
              "      <td>StandardScaler</td>\n",
              "      <td>KNN</td>\n",
              "      <td>{'kneighborsclassifier__metric': 'minkowski', ...</td>\n",
              "      <td>0.923709</td>\n",
              "    </tr>\n",
              "    <tr>\n",
              "      <th>7</th>\n",
              "      <td>GradientBoostingClassifier</td>\n",
              "      <td>No Scaler</td>\n",
              "      <td>GB</td>\n",
              "      <td>{'gradientboostingclassifier__learning_rate': ...</td>\n",
              "      <td>0.923150</td>\n",
              "    </tr>\n",
              "    <tr>\n",
              "      <th>6</th>\n",
              "      <td>RandomForestClassifier</td>\n",
              "      <td>No Scaler</td>\n",
              "      <td>RF</td>\n",
              "      <td>{'randomforestclassifier__max_depth': 7, 'rand...</td>\n",
              "      <td>0.909360</td>\n",
              "    </tr>\n",
              "    <tr>\n",
              "      <th>5</th>\n",
              "      <td>DecisionTreeClassifier</td>\n",
              "      <td>No Scaler</td>\n",
              "      <td>DT</td>\n",
              "      <td>{'decisiontreeclassifier__max_depth': 10, 'dec...</td>\n",
              "      <td>0.908913</td>\n",
              "    </tr>\n",
              "    <tr>\n",
              "      <th>2</th>\n",
              "      <td>GaussianNB</td>\n",
              "      <td>StandardScaler</td>\n",
              "      <td>NB</td>\n",
              "      <td>{'gaussiannb__var_smoothing': 1e-12}</td>\n",
              "      <td>0.896324</td>\n",
              "    </tr>\n",
              "    <tr>\n",
              "      <th>3</th>\n",
              "      <td>Perceptron</td>\n",
              "      <td>StandardScaler</td>\n",
              "      <td>PER</td>\n",
              "      <td>{'perceptron__eta0': 0.75, 'perceptron__max_it...</td>\n",
              "      <td>0.895401</td>\n",
              "    </tr>\n",
              "  </tbody>\n",
              "</table>\n",
              "</div>"
            ],
            "text/plain": [
              "                        Model  ...  F1-Score\n",
              "4               MLPClassifier  ...  0.932117\n",
              "1                         SVC  ...  0.929738\n",
              "0        KNeighborsClassifier  ...  0.923709\n",
              "7  GradientBoostingClassifier  ...  0.923150\n",
              "6      RandomForestClassifier  ...  0.909360\n",
              "5      DecisionTreeClassifier  ...  0.908913\n",
              "2                  GaussianNB  ...  0.896324\n",
              "3                  Perceptron  ...  0.895401\n",
              "\n",
              "[8 rows x 5 columns]"
            ]
          },
          "metadata": {},
          "execution_count": 27
        }
      ]
    },
    {
      "cell_type": "markdown",
      "metadata": {
        "id": "N1wJK7CBdm1M"
      },
      "source": [
        "### Definindo um GridSearch com o PipelineHelper para analisar todos os modelos para cada parâmetro analisado e retornar apenas o modelo que apresentar o melhor f1-score. "
      ]
    },
    {
      "cell_type": "code",
      "metadata": {
        "colab": {
          "base_uri": "https://localhost:8080/"
        },
        "id": "082_pXOir1Bf",
        "outputId": "309f833d-6787-4358-c0a5-d010e4837e2c"
      },
      "source": [
        "pipe = pipeline.Pipeline([\n",
        "    ('scaler', PipelineHelper([\n",
        "        ('std', std),\n",
        "    ])),\n",
        "    ('classifier', PipelineHelper([\n",
        "        ('knn', knn),\n",
        "        ('svc', svc),\n",
        "        ('nb', nb),\n",
        "        ('per', per),\n",
        "        ('mlp', mlp),\n",
        "        ('dt', dt),\n",
        "        ('rf', rf),\n",
        "        ('gb', gb),\n",
        "    ])),\n",
        "])\n",
        "\n",
        "params = {\n",
        "    'scaler__selected_model': pipe.named_steps['scaler'].generate({\n",
        "        'std__with_std': [True],\n",
        "    }),\n",
        "    'classifier__selected_model': pipe.named_steps['classifier'].generate({\n",
        "        'knn__n_neighbors': np.arange(1, 16), \n",
        "        'knn__weights':['uniform', 'distance'],\n",
        "        'knn__metric':['manhattan', 'minkowski'],\n",
        "        'svc__C': np.logspace(-3, 3, 7),\n",
        "        'svc__kernel': ['rbf', 'sigmoid'],\n",
        "        'svc__gamma': ['scale', 'auto'],\n",
        "        'nb__var_smoothing': [1e-12, 1e-11, 1e-10, 1e-09, 1e-08],\n",
        "        'per__max_iter': [1000, 1500, 2000],\n",
        "        'per__tol': np.logspace(-5, 0, 6),\n",
        "        'per__eta0': [0.5, 0.75, 1],\n",
        "        'mlp__hidden_layer_sizes': [100, 150, 175, 200],\n",
        "        'mlp__activation': ['tanh', 'relu'],\n",
        "        'dt__max_depth': [3, 4, 5, 6, 8, 10, 12],\n",
        "        'dt__min_samples_leaf': [7, 10, 12, 15, 20],\n",
        "        'rf__n_estimators': [100, 150, 200],\n",
        "        'rf__max_depth': [4, 5, 6, 7],\n",
        "        'rf__min_samples_leaf': [8, 10, 11, 12],\n",
        "        'gb__learning_rate': [0.01, 0.1, 0.25, 0.5]\n",
        "    })\n",
        "}\n",
        "grid = model_selection.GridSearchCV(pipe, params, return_train_score=False, scoring='f1_weighted', cv=5, n_jobs=-1)\n",
        "gs = grid.fit(X_train, y_train)\n",
        "print(\"\\n---------------------------------------------------------------------------------\\n\")\n",
        "print(gs.best_params_)\n",
        "print(gs.best_score_)\n",
        "print(\"\\n---------------------------------------------------------------------------------\\n\")"
      ],
      "execution_count": 28,
      "outputs": [
        {
          "output_type": "stream",
          "text": [
            "\n",
            "---------------------------------------------------------------------------------\n",
            "\n",
            "{'classifier__selected_model': ('mlp', {'activation': 'relu', 'hidden_layer_sizes': 150}), 'scaler__selected_model': ('std', {'with_std': True})}\n",
            "0.9321168430536229\n",
            "\n",
            "---------------------------------------------------------------------------------\n",
            "\n"
          ],
          "name": "stdout"
        }
      ]
    },
    {
      "cell_type": "markdown",
      "metadata": {
        "id": "bWiFP97bh1qh"
      },
      "source": [
        "### Plotando um gráfico de barras com os valores de f1-score obtidos pelos melhores modelos retornados pelos GridSearches."
      ]
    },
    {
      "cell_type": "code",
      "metadata": {
        "colab": {
          "base_uri": "https://localhost:8080/",
          "height": 350
        },
        "id": "kLWaQG7lu_BK",
        "outputId": "3db6608a-e651-4471-e1b7-79794cc1b759"
      },
      "source": [
        "plt.figure(figsize = (14, 5))\n",
        "\n",
        "barWidth = 0.5\n",
        "\n",
        "p1 = np.arange(df_sorted_grid_results.shape[0])\n",
        "\n",
        "plt.bar(p1, df_sorted_grid_results['F1-Score'], color='blue', width=barWidth, label='F1-Score')\n",
        "\n",
        "for value, position in zip(df_sorted_grid_results['F1-Score'], p1):\n",
        "    plt.annotate(f'{round(value, 5)}', xy=(position, value), va='bottom', ha='center', color='black')\n",
        "\n",
        "plt.legend()\n",
        "plt.xlabel('Models')\n",
        "plt.ylabel('F1-Score')\n",
        "plt.title('Valores de F1-Score dos Modelos')\n",
        "plt.xticks(p1, df_sorted_grid_results['Label'])\n",
        "plt.show()"
      ],
      "execution_count": 29,
      "outputs": [
        {
          "output_type": "display_data",
          "data": {
            "image/png": "[encoded data removed]",
            "text/plain": [
              "<Figure size 1008x360 with 1 Axes>"
            ]
          },
          "metadata": {
            "needs_background": "light"
          }
        }
      ]
    },
    {
      "cell_type": "markdown",
      "metadata": {
        "id": "rllEhwoRiszu"
      },
      "source": [
        "### Selecionando os melhores parâmetros do melhor modelo retornado pelo GridSearch."
      ]
    },
    {
      "cell_type": "code",
      "metadata": {
        "colab": {
          "base_uri": "https://localhost:8080/"
        },
        "id": "mF-XHCr_5Vgc",
        "outputId": "06b322ca-94dc-470d-c708-e5a323c68901"
      },
      "source": [
        "best_values = df_sorted_grid_results.iloc[0, :]\n",
        "best_values"
      ],
      "execution_count": 30,
      "outputs": [
        {
          "output_type": "execute_result",
          "data": {
            "text/plain": [
              "Model                                           MLPClassifier\n",
              "Scaler                                         StandardScaler\n",
              "Label                                                     MLP\n",
              "Params      {'mlpclassifier__activation': 'relu', 'mlpclas...\n",
              "F1-Score                                             0.932117\n",
              "Name: 4, dtype: object"
            ]
          },
          "metadata": {},
          "execution_count": 30
        }
      ]
    },
    {
      "cell_type": "markdown",
      "metadata": {
        "id": "L4YrTnS4kX8q"
      },
      "source": [
        "### Exibindo os melhores parâmetros para o melhor classificador e o escalonador utilizado."
      ]
    },
    {
      "cell_type": "code",
      "metadata": {
        "colab": {
          "base_uri": "https://localhost:8080/"
        },
        "id": "lJaWvyRo7xLN",
        "outputId": "cc043d17-7fe5-4322-8f1e-7ccb0c9bf94d"
      },
      "source": [
        "params = best_values.Params\n",
        "scaler = best_values.Scaler\n",
        "model = best_values.Model\n",
        "\n",
        "print(f'Classificador: {model}')\n",
        "print(f'Parâmetros: {params}')\n",
        "print(f'Escalonador: {scaler}')"
      ],
      "execution_count": 31,
      "outputs": [
        {
          "output_type": "stream",
          "text": [
            "Classificador: MLPClassifier\n",
            "Parâmetros: {'mlpclassifier__activation': 'relu', 'mlpclassifier__hidden_layer_sizes': 150}\n",
            "Escalonador: StandardScaler\n"
          ],
          "name": "stdout"
        }
      ]
    },
    {
      "cell_type": "markdown",
      "metadata": {
        "id": "a_7QlhNhkwbs"
      },
      "source": [
        "### Treinando o modelo com os parâmetros selecionados e observando as métricas de acurácia, precisão, recall e f1-score obtidos ao se aplicar os dados do conjunto de teste."
      ]
    },
    {
      "cell_type": "code",
      "metadata": {
        "colab": {
          "base_uri": "https://localhost:8080/"
        },
        "id": "rElVxcQN8MJj",
        "outputId": "4f238c5c-dda6-4bec-8556-24296950e6dd"
      },
      "source": [
        "best_model = neural_network.MLPClassifier(activation=params['mlpclassifier__activation'], \n",
        "                                          hidden_layer_sizes=params['mlpclassifier__hidden_layer_sizes'])\n",
        "best_scaler = preprocessing.StandardScaler()\n",
        "\n",
        "best_pipe = pipeline.Pipeline([('transformer', best_scaler), ('estimator', best_model)])\n",
        "\n",
        "best_pipe.fit(X_train, y_train)\n",
        "y_pred = best_pipe.predict(X_test)\n",
        "\n",
        "print(metrics.classification_report(y_test, y_pred))"
      ],
      "execution_count": 32,
      "outputs": [
        {
          "output_type": "stream",
          "text": [
            "              precision    recall  f1-score   support\n",
            "\n",
            "    BARBUNYA       0.93      0.95      0.94       265\n",
            "      BOMBAY       1.00      1.00      1.00       104\n",
            "        CALI       0.94      0.96      0.95       326\n",
            "    DERMASON       0.93      0.94      0.94       709\n",
            "       HOROZ       0.95      0.94      0.94       386\n",
            "       SEKER       0.95      0.96      0.95       406\n",
            "        SIRA       0.91      0.87      0.89       527\n",
            "\n",
            "    accuracy                           0.94      2723\n",
            "   macro avg       0.94      0.95      0.94      2723\n",
            "weighted avg       0.94      0.94      0.94      2723\n",
            "\n"
          ],
          "name": "stdout"
        }
      ]
    },
    {
      "cell_type": "markdown",
      "metadata": {
        "id": "Htqv9sqilUY_"
      },
      "source": [
        "### Calculando as métricas de acurácia, precisão, recall e f1-score para os dados do conjunto de treino e do conjunto de teste."
      ]
    },
    {
      "cell_type": "code",
      "metadata": {
        "id": "Je9MoXwF-bfR"
      },
      "source": [
        "y_pred_train = best_pipe.predict(X_train)\n",
        "y_pred_test = best_pipe.predict(X_test)\n",
        "\n",
        "accuracy_train = metrics.accuracy_score(y_train, y_pred_train)\n",
        "accuracy_test = metrics.accuracy_score(y_test, y_pred_test)\n",
        "\n",
        "precision_train = metrics.precision_score(y_train, y_pred_train, average='weighted', zero_division=0)\n",
        "precision_test = metrics.precision_score(y_test, y_pred_test, average='weighted', zero_division=0)\n",
        "\n",
        "recall_train = metrics.recall_score(y_train, y_pred_train, average='weighted', zero_division=0)\n",
        "recall_test = metrics.recall_score(y_test, y_pred_test, average='weighted', zero_division=0)\n",
        "\n",
        "f1score_train = metrics.f1_score(y_train, y_pred_train, average='weighted', zero_division=0)\n",
        "f1score_test = metrics.f1_score(y_test, y_pred_test, average='weighted', zero_division=0)\n",
        "\n",
        "scores_train = [accuracy_train, precision_train, recall_train, f1score_train]\n",
        "scores_test = [accuracy_test, precision_test, recall_test, f1score_test]\n",
        "scores_labels = ['Accuracy', 'Precision', 'Recall', 'F1-Score']"
      ],
      "execution_count": 33,
      "outputs": []
    },
    {
      "cell_type": "markdown",
      "metadata": {
        "id": "9r8iS1oUlnBT"
      },
      "source": [
        "### Plotando um gráfico de barras com os valores das métricas obtidas com a análise no conjunto de treino e teste realizada no melhor classificador encontrado para esse problema."
      ]
    },
    {
      "cell_type": "code",
      "metadata": {
        "colab": {
          "base_uri": "https://localhost:8080/",
          "height": 350
        },
        "id": "eNJXoKoxM_he",
        "outputId": "25220069-ce68-410f-d5c4-74962d4bde93"
      },
      "source": [
        "plt.figure(figsize = (14, 5))\n",
        "\n",
        "barWidth = 0.4\n",
        "\n",
        "p1 = np.arange(len(scores_train))\n",
        "p2 = [p + barWidth for p in p1]\n",
        "\n",
        "plt.bar(p1, scores_train, color='cyan', width=barWidth, label='Train Scores')\n",
        "plt.bar(p2, scores_test, color='orange', width=barWidth, label='Test Scores')\n",
        "\n",
        "for value, position in zip(scores_train, p1):\n",
        "    plt.annotate(f'{round(value, 5)}', xy=(position, value), va='bottom', ha='center', color='black')\n",
        "\n",
        "for value, position in zip(scores_test, p2):\n",
        "    plt.annotate(f'{round(value, 5)}', xy=(position, value), va='bottom', ha='center', color='black')\n",
        "\n",
        "plt.legend()\n",
        "plt.xlabel('Metrics')\n",
        "plt.ylabel('Scores Values')\n",
        "plt.title('Metrics Values of Best Model')\n",
        "plt.xticks((p1+p2)/2, scores_labels)\n",
        "plt.show()"
      ],
      "execution_count": 34,
      "outputs": [
        {
          "output_type": "display_data",
          "data": {
            "image/png": "[encoded data removed]",
            "text/plain": [
              "<Figure size 1008x360 with 1 Axes>"
            ]
          },
          "metadata": {
            "needs_background": "light"
          }
        }
      ]
    }
  ]
}