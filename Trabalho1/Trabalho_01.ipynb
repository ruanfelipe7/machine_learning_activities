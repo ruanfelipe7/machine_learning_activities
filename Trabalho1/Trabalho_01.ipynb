{
 "metadata": {
  "language_info": {
   "codemirror_mode": {
    "name": "ipython",
    "version": 3
   },
   "file_extension": ".py",
   "mimetype": "text/x-python",
   "name": "python",
   "nbconvert_exporter": "python",
   "pygments_lexer": "ipython3",
   "version": "3.8.5"
  },
  "orig_nbformat": 4,
  "kernelspec": {
   "name": "python3",
   "display_name": "Python 3.8.5 64-bit ('base': conda)"
  },
  "interpreter": {
   "hash": "524d636d59c6b2112627e6c30b816bd1b3aeade150146fdc441a08affc9a3198"
  }
 },
 "nbformat": 4,
 "nbformat_minor": 2,
 "cells": [
  {
   "source": [
    "# Trabalho 01 - Aprendizado de Máquina\n",
    "## Aluno: Ruan Felipe de Almeida Silva - 397048"
   ],
   "cell_type": "markdown",
   "metadata": {}
  },
  {
   "cell_type": "code",
   "execution_count": 25,
   "metadata": {},
   "outputs": [],
   "source": [
    "import pandas as pd \n",
    "import numpy as np\n",
    "from sklearn import metrics\n",
    "from sklearn.neighbors import KNeighborsClassifier\n",
    "from sklearn.model_selection import train_test_split"
   ]
  },
  {
   "source": [
    "### Importando os dados do dataset"
   ],
   "cell_type": "markdown",
   "metadata": {}
  },
  {
   "cell_type": "code",
   "execution_count": 26,
   "metadata": {},
   "outputs": [
    {
     "output_type": "execute_result",
     "data": {
      "text/plain": [
       "        Area  Perimeter  MajorAxisLength  MinorAxisLength  AspectRation  \\\n",
       "0      28395    610.291       208.178117       173.888747      1.197191   \n",
       "1      28734    638.018       200.524796       182.734419      1.097356   \n",
       "2      29380    624.110       212.826130       175.931143      1.209713   \n",
       "3      30008    645.884       210.557999       182.516516      1.153638   \n",
       "4      30140    620.134       201.847882       190.279279      1.060798   \n",
       "...      ...        ...              ...              ...           ...   \n",
       "13606  42097    759.696       288.721612       185.944705      1.552728   \n",
       "13607  42101    757.499       281.576392       190.713136      1.476439   \n",
       "13608  42139    759.321       281.539928       191.187979      1.472582   \n",
       "13609  42147    763.779       283.382636       190.275731      1.489326   \n",
       "13610  42159    772.237       295.142741       182.204716      1.619841   \n",
       "\n",
       "       Eccentricity  ConvexArea  EquivDiameter    Extent  Solidity  roundness  \\\n",
       "0          0.549812       28715     190.141097  0.763923  0.988856   0.958027   \n",
       "1          0.411785       29172     191.272750  0.783968  0.984986   0.887034   \n",
       "2          0.562727       29690     193.410904  0.778113  0.989559   0.947849   \n",
       "3          0.498616       30724     195.467062  0.782681  0.976696   0.903936   \n",
       "4          0.333680       30417     195.896503  0.773098  0.990893   0.984877   \n",
       "...             ...         ...            ...       ...       ...        ...   \n",
       "13606      0.765002       42508     231.515799  0.714574  0.990331   0.916603   \n",
       "13607      0.735702       42494     231.526798  0.799943  0.990752   0.922015   \n",
       "13608      0.734065       42569     231.631261  0.729932  0.989899   0.918424   \n",
       "13609      0.741055       42667     231.653248  0.705389  0.987813   0.907906   \n",
       "13610      0.786693       42600     231.686223  0.788962  0.989648   0.888380   \n",
       "\n",
       "       Compactness  ShapeFactor1  ShapeFactor2  ShapeFactor3  ShapeFactor4  \\\n",
       "0         0.913358      0.007332      0.003147      0.834222      0.998724   \n",
       "1         0.953861      0.006979      0.003564      0.909851      0.998430   \n",
       "2         0.908774      0.007244      0.003048      0.825871      0.999066   \n",
       "3         0.928329      0.007017      0.003215      0.861794      0.994199   \n",
       "4         0.970516      0.006697      0.003665      0.941900      0.999166   \n",
       "...            ...           ...           ...           ...           ...   \n",
       "13606     0.801865      0.006858      0.001749      0.642988      0.998385   \n",
       "13607     0.822252      0.006688      0.001886      0.676099      0.998219   \n",
       "13608     0.822730      0.006681      0.001888      0.676884      0.996767   \n",
       "13609     0.817457      0.006724      0.001852      0.668237      0.995222   \n",
       "13610     0.784997      0.007001      0.001640      0.616221      0.998180   \n",
       "\n",
       "          Class  \n",
       "0         SEKER  \n",
       "1         SEKER  \n",
       "2         SEKER  \n",
       "3         SEKER  \n",
       "4         SEKER  \n",
       "...         ...  \n",
       "13606  DERMASON  \n",
       "13607  DERMASON  \n",
       "13608  DERMASON  \n",
       "13609  DERMASON  \n",
       "13610  DERMASON  \n",
       "\n",
       "[13611 rows x 17 columns]"
      ],
      "text/html": "<div>\n<style scoped>\n    .dataframe tbody tr th:only-of-type {\n        vertical-align: middle;\n    }\n\n    .dataframe tbody tr th {\n        vertical-align: top;\n    }\n\n    .dataframe thead th {\n        text-align: right;\n    }\n</style>\n<table border=\"1\" class=\"dataframe\">\n  <thead>\n    <tr style=\"text-align: right;\">\n      <th></th>\n      <th>Area</th>\n      <th>Perimeter</th>\n      <th>MajorAxisLength</th>\n      <th>MinorAxisLength</th>\n      <th>AspectRation</th>\n      <th>Eccentricity</th>\n      <th>ConvexArea</th>\n      <th>EquivDiameter</th>\n      <th>Extent</th>\n      <th>Solidity</th>\n      <th>roundness</th>\n      <th>Compactness</th>\n      <th>ShapeFactor1</th>\n      <th>ShapeFactor2</th>\n      <th>ShapeFactor3</th>\n      <th>ShapeFactor4</th>\n      <th>Class</th>\n    </tr>\n  </thead>\n  <tbody>\n    <tr>\n      <th>0</th>\n      <td>28395</td>\n      <td>610.291</td>\n      <td>208.178117</td>\n      <td>173.888747</td>\n      <td>1.197191</td>\n      <td>0.549812</td>\n      <td>28715</td>\n      <td>190.141097</td>\n      <td>0.763923</td>\n      <td>0.988856</td>\n      <td>0.958027</td>\n      <td>0.913358</td>\n      <td>0.007332</td>\n      <td>0.003147</td>\n      <td>0.834222</td>\n      <td>0.998724</td>\n      <td>SEKER</td>\n    </tr>\n    <tr>\n      <th>1</th>\n      <td>28734</td>\n      <td>638.018</td>\n      <td>200.524796</td>\n      <td>182.734419</td>\n      <td>1.097356</td>\n      <td>0.411785</td>\n      <td>29172</td>\n      <td>191.272750</td>\n      <td>0.783968</td>\n      <td>0.984986</td>\n      <td>0.887034</td>\n      <td>0.953861</td>\n      <td>0.006979</td>\n      <td>0.003564</td>\n      <td>0.909851</td>\n      <td>0.998430</td>\n      <td>SEKER</td>\n    </tr>\n    <tr>\n      <th>2</th>\n      <td>29380</td>\n      <td>624.110</td>\n      <td>212.826130</td>\n      <td>175.931143</td>\n      <td>1.209713</td>\n      <td>0.562727</td>\n      <td>29690</td>\n      <td>193.410904</td>\n      <td>0.778113</td>\n      <td>0.989559</td>\n      <td>0.947849</td>\n      <td>0.908774</td>\n      <td>0.007244</td>\n      <td>0.003048</td>\n      <td>0.825871</td>\n      <td>0.999066</td>\n      <td>SEKER</td>\n    </tr>\n    <tr>\n      <th>3</th>\n      <td>30008</td>\n      <td>645.884</td>\n      <td>210.557999</td>\n      <td>182.516516</td>\n      <td>1.153638</td>\n      <td>0.498616</td>\n      <td>30724</td>\n      <td>195.467062</td>\n      <td>0.782681</td>\n      <td>0.976696</td>\n      <td>0.903936</td>\n      <td>0.928329</td>\n      <td>0.007017</td>\n      <td>0.003215</td>\n      <td>0.861794</td>\n      <td>0.994199</td>\n      <td>SEKER</td>\n    </tr>\n    <tr>\n      <th>4</th>\n      <td>30140</td>\n      <td>620.134</td>\n      <td>201.847882</td>\n      <td>190.279279</td>\n      <td>1.060798</td>\n      <td>0.333680</td>\n      <td>30417</td>\n      <td>195.896503</td>\n      <td>0.773098</td>\n      <td>0.990893</td>\n      <td>0.984877</td>\n      <td>0.970516</td>\n      <td>0.006697</td>\n      <td>0.003665</td>\n      <td>0.941900</td>\n      <td>0.999166</td>\n      <td>SEKER</td>\n    </tr>\n    <tr>\n      <th>...</th>\n      <td>...</td>\n      <td>...</td>\n      <td>...</td>\n      <td>...</td>\n      <td>...</td>\n      <td>...</td>\n      <td>...</td>\n      <td>...</td>\n      <td>...</td>\n      <td>...</td>\n      <td>...</td>\n      <td>...</td>\n      <td>...</td>\n      <td>...</td>\n      <td>...</td>\n      <td>...</td>\n      <td>...</td>\n    </tr>\n    <tr>\n      <th>13606</th>\n      <td>42097</td>\n      <td>759.696</td>\n      <td>288.721612</td>\n      <td>185.944705</td>\n      <td>1.552728</td>\n      <td>0.765002</td>\n      <td>42508</td>\n      <td>231.515799</td>\n      <td>0.714574</td>\n      <td>0.990331</td>\n      <td>0.916603</td>\n      <td>0.801865</td>\n      <td>0.006858</td>\n      <td>0.001749</td>\n      <td>0.642988</td>\n      <td>0.998385</td>\n      <td>DERMASON</td>\n    </tr>\n    <tr>\n      <th>13607</th>\n      <td>42101</td>\n      <td>757.499</td>\n      <td>281.576392</td>\n      <td>190.713136</td>\n      <td>1.476439</td>\n      <td>0.735702</td>\n      <td>42494</td>\n      <td>231.526798</td>\n      <td>0.799943</td>\n      <td>0.990752</td>\n      <td>0.922015</td>\n      <td>0.822252</td>\n      <td>0.006688</td>\n      <td>0.001886</td>\n      <td>0.676099</td>\n      <td>0.998219</td>\n      <td>DERMASON</td>\n    </tr>\n    <tr>\n      <th>13608</th>\n      <td>42139</td>\n      <td>759.321</td>\n      <td>281.539928</td>\n      <td>191.187979</td>\n      <td>1.472582</td>\n      <td>0.734065</td>\n      <td>42569</td>\n      <td>231.631261</td>\n      <td>0.729932</td>\n      <td>0.989899</td>\n      <td>0.918424</td>\n      <td>0.822730</td>\n      <td>0.006681</td>\n      <td>0.001888</td>\n      <td>0.676884</td>\n      <td>0.996767</td>\n      <td>DERMASON</td>\n    </tr>\n    <tr>\n      <th>13609</th>\n      <td>42147</td>\n      <td>763.779</td>\n      <td>283.382636</td>\n      <td>190.275731</td>\n      <td>1.489326</td>\n      <td>0.741055</td>\n      <td>42667</td>\n      <td>231.653248</td>\n      <td>0.705389</td>\n      <td>0.987813</td>\n      <td>0.907906</td>\n      <td>0.817457</td>\n      <td>0.006724</td>\n      <td>0.001852</td>\n      <td>0.668237</td>\n      <td>0.995222</td>\n      <td>DERMASON</td>\n    </tr>\n    <tr>\n      <th>13610</th>\n      <td>42159</td>\n      <td>772.237</td>\n      <td>295.142741</td>\n      <td>182.204716</td>\n      <td>1.619841</td>\n      <td>0.786693</td>\n      <td>42600</td>\n      <td>231.686223</td>\n      <td>0.788962</td>\n      <td>0.989648</td>\n      <td>0.888380</td>\n      <td>0.784997</td>\n      <td>0.007001</td>\n      <td>0.001640</td>\n      <td>0.616221</td>\n      <td>0.998180</td>\n      <td>DERMASON</td>\n    </tr>\n  </tbody>\n</table>\n<p>13611 rows × 17 columns</p>\n</div>"
     },
     "metadata": {},
     "execution_count": 26
    }
   ],
   "source": [
    "dataframe = pd.read_csv('beans.csv')\n",
    "dataframe"
   ]
  },
  {
   "cell_type": "code",
   "execution_count": 27,
   "metadata": {},
   "outputs": [
    {
     "output_type": "stream",
     "name": "stdout",
     "text": [
      "(13611, 16)\n(13611,)\n"
     ]
    }
   ],
   "source": [
    "X = dataframe.drop('Class', axis=1)\n",
    "y = dataframe['Class']\n",
    "print(X.shape)\n",
    "print(y.shape)"
   ]
  },
  {
   "cell_type": "code",
   "execution_count": 28,
   "metadata": {},
   "outputs": [
    {
     "output_type": "execute_result",
     "data": {
      "text/plain": [
       "DERMASON    3546\n",
       "SIRA        2636\n",
       "SEKER       2027\n",
       "HOROZ       1928\n",
       "CALI        1630\n",
       "BARBUNYA    1322\n",
       "BOMBAY       522\n",
       "Name: Class, dtype: int64"
      ]
     },
     "metadata": {},
     "execution_count": 28
    }
   ],
   "source": [
    "y.value_counts()"
   ]
  },
  {
   "cell_type": "code",
   "execution_count": 29,
   "metadata": {},
   "outputs": [
    {
     "output_type": "execute_result",
     "data": {
      "text/plain": [
       "DERMASON    0.260525\n",
       "SIRA        0.193667\n",
       "SEKER       0.148924\n",
       "HOROZ       0.141650\n",
       "CALI        0.119756\n",
       "BARBUNYA    0.097127\n",
       "BOMBAY      0.038351\n",
       "Name: Class, dtype: float64"
      ]
     },
     "metadata": {},
     "execution_count": 29
    }
   ],
   "source": [
    "y.value_counts(normalize=True)"
   ]
  },
  {
   "cell_type": "code",
   "execution_count": 30,
   "metadata": {},
   "outputs": [
    {
     "output_type": "stream",
     "name": "stdout",
     "text": [
      "Conjunto x de treino: 10888\nConjunto x de teste: 2723\nConjunto y de treino: 10888\nConjunto y de teste: 2723\n"
     ]
    }
   ],
   "source": [
    "X = X.values\n",
    "y = y.values\n",
    "X_train, X_test, y_train, y_test = train_test_split(X, y, test_size=0.2, random_state=142, stratify=y)\n",
    "print(\"Conjunto x de treino:\", len(X_train))\n",
    "print(\"Conjunto x de teste:\", len(X_test))\n",
    "print(\"Conjunto y de treino:\", len(y_train))\n",
    "print(\"Conjunto y de teste:\", len(y_test))"
   ]
  },
  {
   "cell_type": "code",
   "execution_count": 32,
   "metadata": {},
   "outputs": [
    {
     "output_type": "stream",
     "name": "stdout",
     "text": [
      "Predições para k = 1: ['HOROZ' 'DERMASON' 'HOROZ' ... 'SIRA' 'HOROZ' 'CALI']\n",
      "Acurácia: 0.74440\n",
      "\n",
      "***********************************************************************\n",
      "\n",
      "Predições para k = 2: ['HOROZ' 'DERMASON' 'HOROZ' ... 'SIRA' 'HOROZ' 'CALI']\n",
      "Acurácia: 0.72420\n",
      "\n",
      "***********************************************************************\n",
      "\n",
      "Predições para k = 3: ['HOROZ' 'DERMASON' 'HOROZ' ... 'SIRA' 'HOROZ' 'CALI']\n",
      "Acurácia: 0.73742\n",
      "\n",
      "***********************************************************************\n",
      "\n",
      "Predições para k = 4: ['HOROZ' 'DERMASON' 'HOROZ' ... 'SIRA' 'HOROZ' 'CALI']\n",
      "Acurácia: 0.73044\n",
      "\n",
      "***********************************************************************\n",
      "\n",
      "Predições para k = 5: ['HOROZ' 'DERMASON' 'HOROZ' ... 'SIRA' 'HOROZ' 'CALI']\n",
      "Acurácia: 0.73228\n",
      "\n",
      "***********************************************************************\n",
      "\n",
      "Predições para k = 6: ['HOROZ' 'DERMASON' 'HOROZ' ... 'SIRA' 'HOROZ' 'BARBUNYA']\n",
      "Acurácia: 0.72861\n",
      "\n",
      "***********************************************************************\n",
      "\n",
      "Predições para k = 7: ['HOROZ' 'DERMASON' 'HOROZ' ... 'SIRA' 'HOROZ' 'BARBUNYA']\n",
      "Acurácia: 0.73375\n",
      "\n",
      "***********************************************************************\n",
      "\n",
      "Predições para k = 8: ['HOROZ' 'DERMASON' 'HOROZ' ... 'SIRA' 'HOROZ' 'BARBUNYA']\n",
      "Acurácia: 0.73118\n",
      "\n",
      "***********************************************************************\n",
      "\n",
      "Predições para k = 9: ['HOROZ' 'DERMASON' 'HOROZ' ... 'SIRA' 'HOROZ' 'BARBUNYA']\n",
      "Acurácia: 0.72787\n",
      "\n",
      "***********************************************************************\n",
      "\n",
      "Predições para k = 10: ['HOROZ' 'DERMASON' 'HOROZ' ... 'SIRA' 'HOROZ' 'BARBUNYA']\n",
      "Acurácia: 0.72934\n",
      "\n",
      "***********************************************************************\n",
      "\n",
      "Predições para k = 11: ['HOROZ' 'DERMASON' 'HOROZ' ... 'SIRA' 'HOROZ' 'BARBUNYA']\n",
      "Acurácia: 0.72163\n",
      "\n",
      "***********************************************************************\n",
      "\n",
      "Predições para k = 12: ['HOROZ' 'DERMASON' 'HOROZ' ... 'SIRA' 'HOROZ' 'BARBUNYA']\n",
      "Acurácia: 0.72053\n",
      "\n",
      "***********************************************************************\n",
      "\n",
      "Predições para k = 13: ['HOROZ' 'DERMASON' 'HOROZ' ... 'SIRA' 'HOROZ' 'BARBUNYA']\n",
      "Acurácia: 0.71796\n",
      "\n",
      "***********************************************************************\n",
      "\n",
      "Predições para k = 14: ['HOROZ' 'DERMASON' 'HOROZ' ... 'SIRA' 'HOROZ' 'BARBUNYA']\n",
      "Acurácia: 0.71575\n",
      "\n",
      "***********************************************************************\n",
      "\n"
     ]
    }
   ],
   "source": [
    "array_k = range(1,15)\n",
    "for k in array_k:\n",
    "    knn = KNeighborsClassifier(n_neighbors=k)\n",
    "    knn.fit(X_train, y_train)\n",
    "    y_pred = knn.predict(X_test)\n",
    "    print(\"Predições para k = \" + str(k) + \":\", y_pred) \n",
    "    accuracy = accuracy = metrics.accuracy_score(y_test, y_pred)\n",
    "    print('Acurácia: {:.5f}'.format(accuracy))\n",
    "    print(\"\\n***********************************************************************\\n\")"
   ]
  }
 ]
}